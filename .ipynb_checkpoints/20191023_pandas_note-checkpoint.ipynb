{
 "cells": [
  {
   "cell_type": "code",
   "execution_count": 1,
   "metadata": {},
   "outputs": [],
   "source": [
    "import pandas as pd"
   ]
  },
  {
   "cell_type": "markdown",
   "metadata": {},
   "source": [
    "### Sacramento pandas\n",
    "1. Load the csv\n",
    "2. run some transformations\n",
    "    - Capitalize 'city'\n",
    "    - convert to int:\n",
    "        - 'zip'\n",
    "        - 'beds'\n",
    "        - 'baths'\n",
    "        - 'sq__ft'\n",
    "        - 'price'\n",
    "    - convert to float:\n",
    "        - 'latitude'\n",
    "        - 'longitude'\n",
    "    - rename 'sq__ft' to'sq_ft'\n",
    "    - convert 'sale_Date' into format: \"YYYY-MM-DD\""
   ]
  },
  {
   "cell_type": "code",
   "execution_count": 2,
   "metadata": {
    "scrolled": true
   },
   "outputs": [],
   "source": [
    "df = pd.read_csv(\"Sacramentorealestatetransactions.csv\")"
   ]
  },
  {
   "cell_type": "code",
   "execution_count": 3,
   "metadata": {},
   "outputs": [
    {
     "data": {
      "text/html": [
       "<div>\n",
       "<style scoped>\n",
       "    .dataframe tbody tr th:only-of-type {\n",
       "        vertical-align: middle;\n",
       "    }\n",
       "\n",
       "    .dataframe tbody tr th {\n",
       "        vertical-align: top;\n",
       "    }\n",
       "\n",
       "    .dataframe thead th {\n",
       "        text-align: right;\n",
       "    }\n",
       "</style>\n",
       "<table border=\"1\" class=\"dataframe\">\n",
       "  <thead>\n",
       "    <tr style=\"text-align: right;\">\n",
       "      <th></th>\n",
       "      <th>street</th>\n",
       "      <th>city</th>\n",
       "      <th>zip</th>\n",
       "      <th>state</th>\n",
       "      <th>beds</th>\n",
       "      <th>baths</th>\n",
       "      <th>sq__ft</th>\n",
       "      <th>type</th>\n",
       "      <th>sale_date</th>\n",
       "      <th>price</th>\n",
       "      <th>latitude</th>\n",
       "      <th>longitude</th>\n",
       "    </tr>\n",
       "  </thead>\n",
       "  <tbody>\n",
       "    <tr>\n",
       "      <th>0</th>\n",
       "      <td>3526 HIGH ST</td>\n",
       "      <td>SACRAMENTO</td>\n",
       "      <td>95838</td>\n",
       "      <td>CA</td>\n",
       "      <td>2</td>\n",
       "      <td>1</td>\n",
       "      <td>836</td>\n",
       "      <td>Residential</td>\n",
       "      <td>Wed May 21 00:00:00 EDT 2008</td>\n",
       "      <td>59222</td>\n",
       "      <td>38.631913</td>\n",
       "      <td>-121.434879</td>\n",
       "    </tr>\n",
       "    <tr>\n",
       "      <th>1</th>\n",
       "      <td>51 OMAHA CT</td>\n",
       "      <td>SACRAMENTO</td>\n",
       "      <td>95823</td>\n",
       "      <td>CA</td>\n",
       "      <td>3</td>\n",
       "      <td>1</td>\n",
       "      <td>1167</td>\n",
       "      <td>Residential</td>\n",
       "      <td>Wed May 21 00:00:00 EDT 2008</td>\n",
       "      <td>68212</td>\n",
       "      <td>38.478902</td>\n",
       "      <td>-121.431028</td>\n",
       "    </tr>\n",
       "    <tr>\n",
       "      <th>2</th>\n",
       "      <td>2796 BRANCH ST</td>\n",
       "      <td>SACRAMENTO</td>\n",
       "      <td>95815</td>\n",
       "      <td>CA</td>\n",
       "      <td>2</td>\n",
       "      <td>1</td>\n",
       "      <td>796</td>\n",
       "      <td>Residential</td>\n",
       "      <td>Wed May 21 00:00:00 EDT 2008</td>\n",
       "      <td>68880</td>\n",
       "      <td>38.618305</td>\n",
       "      <td>-121.443839</td>\n",
       "    </tr>\n",
       "    <tr>\n",
       "      <th>3</th>\n",
       "      <td>2805 JANETTE WAY</td>\n",
       "      <td>SACRAMENTO</td>\n",
       "      <td>95815</td>\n",
       "      <td>CA</td>\n",
       "      <td>2</td>\n",
       "      <td>1</td>\n",
       "      <td>852</td>\n",
       "      <td>Residential</td>\n",
       "      <td>Wed May 21 00:00:00 EDT 2008</td>\n",
       "      <td>69307</td>\n",
       "      <td>38.616835</td>\n",
       "      <td>-121.439146</td>\n",
       "    </tr>\n",
       "    <tr>\n",
       "      <th>4</th>\n",
       "      <td>6001 MCMAHON DR</td>\n",
       "      <td>SACRAMENTO</td>\n",
       "      <td>95824</td>\n",
       "      <td>CA</td>\n",
       "      <td>2</td>\n",
       "      <td>1</td>\n",
       "      <td>797</td>\n",
       "      <td>Residential</td>\n",
       "      <td>Wed May 21 00:00:00 EDT 2008</td>\n",
       "      <td>81900</td>\n",
       "      <td>38.519470</td>\n",
       "      <td>-121.435768</td>\n",
       "    </tr>\n",
       "  </tbody>\n",
       "</table>\n",
       "</div>"
      ],
      "text/plain": [
       "             street        city    zip state  beds  baths  sq__ft  \\\n",
       "0      3526 HIGH ST  SACRAMENTO  95838    CA     2      1     836   \n",
       "1       51 OMAHA CT  SACRAMENTO  95823    CA     3      1    1167   \n",
       "2    2796 BRANCH ST  SACRAMENTO  95815    CA     2      1     796   \n",
       "3  2805 JANETTE WAY  SACRAMENTO  95815    CA     2      1     852   \n",
       "4   6001 MCMAHON DR  SACRAMENTO  95824    CA     2      1     797   \n",
       "\n",
       "          type                     sale_date  price   latitude   longitude  \n",
       "0  Residential  Wed May 21 00:00:00 EDT 2008  59222  38.631913 -121.434879  \n",
       "1  Residential  Wed May 21 00:00:00 EDT 2008  68212  38.478902 -121.431028  \n",
       "2  Residential  Wed May 21 00:00:00 EDT 2008  68880  38.618305 -121.443839  \n",
       "3  Residential  Wed May 21 00:00:00 EDT 2008  69307  38.616835 -121.439146  \n",
       "4  Residential  Wed May 21 00:00:00 EDT 2008  81900  38.519470 -121.435768  "
      ]
     },
     "execution_count": 3,
     "metadata": {},
     "output_type": "execute_result"
    }
   ],
   "source": [
    "df.head(5)"
   ]
  },
  {
   "cell_type": "code",
   "execution_count": 6,
   "metadata": {},
   "outputs": [
    {
     "data": {
      "text/plain": [
       "pandas.core.series.Series"
      ]
     },
     "execution_count": 6,
     "metadata": {},
     "output_type": "execute_result"
    }
   ],
   "source": [
    "type(df['street'])"
   ]
  },
  {
   "cell_type": "markdown",
   "metadata": {},
   "source": [
    "I'm a Series!"
   ]
  },
  {
   "cell_type": "code",
   "execution_count": 7,
   "metadata": {},
   "outputs": [
    {
     "data": {
      "text/plain": [
       "0        3526 HIGH ST\n",
       "1         51 OMAHA CT\n",
       "2      2796 BRANCH ST\n",
       "3    2805 JANETTE WAY\n",
       "4     6001 MCMAHON DR\n",
       "Name: street, dtype: object"
      ]
     },
     "execution_count": 7,
     "metadata": {},
     "output_type": "execute_result"
    }
   ],
   "source": [
    "df['street'].head(5)"
   ]
  },
  {
   "cell_type": "code",
   "execution_count": 8,
   "metadata": {},
   "outputs": [
    {
     "data": {
      "text/plain": [
       "pandas.core.frame.DataFrame"
      ]
     },
     "execution_count": 8,
     "metadata": {},
     "output_type": "execute_result"
    }
   ],
   "source": [
    "type(df[['street']])"
   ]
  },
  {
   "cell_type": "code",
   "execution_count": 9,
   "metadata": {},
   "outputs": [
    {
     "data": {
      "text/html": [
       "<div>\n",
       "<style scoped>\n",
       "    .dataframe tbody tr th:only-of-type {\n",
       "        vertical-align: middle;\n",
       "    }\n",
       "\n",
       "    .dataframe tbody tr th {\n",
       "        vertical-align: top;\n",
       "    }\n",
       "\n",
       "    .dataframe thead th {\n",
       "        text-align: right;\n",
       "    }\n",
       "</style>\n",
       "<table border=\"1\" class=\"dataframe\">\n",
       "  <thead>\n",
       "    <tr style=\"text-align: right;\">\n",
       "      <th></th>\n",
       "      <th>street</th>\n",
       "    </tr>\n",
       "  </thead>\n",
       "  <tbody>\n",
       "    <tr>\n",
       "      <th>0</th>\n",
       "      <td>3526 HIGH ST</td>\n",
       "    </tr>\n",
       "    <tr>\n",
       "      <th>1</th>\n",
       "      <td>51 OMAHA CT</td>\n",
       "    </tr>\n",
       "    <tr>\n",
       "      <th>2</th>\n",
       "      <td>2796 BRANCH ST</td>\n",
       "    </tr>\n",
       "    <tr>\n",
       "      <th>3</th>\n",
       "      <td>2805 JANETTE WAY</td>\n",
       "    </tr>\n",
       "    <tr>\n",
       "      <th>4</th>\n",
       "      <td>6001 MCMAHON DR</td>\n",
       "    </tr>\n",
       "  </tbody>\n",
       "</table>\n",
       "</div>"
      ],
      "text/plain": [
       "             street\n",
       "0      3526 HIGH ST\n",
       "1       51 OMAHA CT\n",
       "2    2796 BRANCH ST\n",
       "3  2805 JANETTE WAY\n",
       "4   6001 MCMAHON DR"
      ]
     },
     "execution_count": 9,
     "metadata": {},
     "output_type": "execute_result"
    }
   ],
   "source": [
    "df[['street']].head(5)"
   ]
  },
  {
   "cell_type": "code",
   "execution_count": 10,
   "metadata": {},
   "outputs": [],
   "source": [
    "# Let me create a copy that I can mess up\n",
    "df_clean = df.copy()"
   ]
  },
  {
   "cell_type": "markdown",
   "metadata": {},
   "source": [
    "### 1: Replace \"\" in 'sqft' with \"_\""
   ]
  },
  {
   "cell_type": "code",
   "execution_count": 11,
   "metadata": {},
   "outputs": [
    {
     "data": {
      "text/plain": [
       "Index(['street', 'city', 'zip', 'state', 'beds', 'baths', 'sq__ft', 'type',\n",
       "       'sale_date', 'price', 'latitude', 'longitude'],\n",
       "      dtype='object')"
      ]
     },
     "execution_count": 11,
     "metadata": {},
     "output_type": "execute_result"
    }
   ],
   "source": [
    "df_clean.columns"
   ]
  },
  {
   "cell_type": "code",
   "execution_count": 12,
   "metadata": {},
   "outputs": [
    {
     "data": {
      "text/plain": [
       "['street',\n",
       " 'city',\n",
       " 'zip',\n",
       " 'state',\n",
       " 'beds',\n",
       " 'baths',\n",
       " 'sq__ft',\n",
       " 'type',\n",
       " 'sale_date',\n",
       " 'price',\n",
       " 'latitude',\n",
       " 'longitude']"
      ]
     },
     "execution_count": 12,
     "metadata": {},
     "output_type": "execute_result"
    }
   ],
   "source": [
    "list(df_clean.columns)"
   ]
  },
  {
   "cell_type": "code",
   "execution_count": 13,
   "metadata": {},
   "outputs": [
    {
     "data": {
      "text/plain": [
       "pandas.core.indexes.base.Index"
      ]
     },
     "execution_count": 13,
     "metadata": {},
     "output_type": "execute_result"
    }
   ],
   "source": [
    "type(df_clean.columns)"
   ]
  },
  {
   "cell_type": "code",
   "execution_count": 14,
   "metadata": {},
   "outputs": [
    {
     "name": "stdout",
     "output_type": "stream",
     "text": [
      "street\n",
      "city\n",
      "zip\n",
      "state\n",
      "beds\n",
      "baths\n",
      "sq__ft\n",
      "type\n",
      "sale_date\n",
      "price\n",
      "latitude\n",
      "longitude\n"
     ]
    }
   ],
   "source": [
    "for i in df_clean.columns:\n",
    "    print(i)"
   ]
  },
  {
   "cell_type": "code",
   "execution_count": 15,
   "metadata": {},
   "outputs": [],
   "source": [
    "df_clean.columns = [col.replace(\"__\", \"_\") for col in list(df_clean.columns)]"
   ]
  },
  {
   "cell_type": "code",
   "execution_count": 16,
   "metadata": {},
   "outputs": [
    {
     "data": {
      "text/html": [
       "<div>\n",
       "<style scoped>\n",
       "    .dataframe tbody tr th:only-of-type {\n",
       "        vertical-align: middle;\n",
       "    }\n",
       "\n",
       "    .dataframe tbody tr th {\n",
       "        vertical-align: top;\n",
       "    }\n",
       "\n",
       "    .dataframe thead th {\n",
       "        text-align: right;\n",
       "    }\n",
       "</style>\n",
       "<table border=\"1\" class=\"dataframe\">\n",
       "  <thead>\n",
       "    <tr style=\"text-align: right;\">\n",
       "      <th></th>\n",
       "      <th>street</th>\n",
       "      <th>city</th>\n",
       "      <th>zip</th>\n",
       "      <th>state</th>\n",
       "      <th>beds</th>\n",
       "      <th>baths</th>\n",
       "      <th>sq_ft</th>\n",
       "      <th>type</th>\n",
       "      <th>sale_date</th>\n",
       "      <th>price</th>\n",
       "      <th>latitude</th>\n",
       "      <th>longitude</th>\n",
       "    </tr>\n",
       "  </thead>\n",
       "  <tbody>\n",
       "    <tr>\n",
       "      <th>0</th>\n",
       "      <td>3526 HIGH ST</td>\n",
       "      <td>SACRAMENTO</td>\n",
       "      <td>95838</td>\n",
       "      <td>CA</td>\n",
       "      <td>2</td>\n",
       "      <td>1</td>\n",
       "      <td>836</td>\n",
       "      <td>Residential</td>\n",
       "      <td>Wed May 21 00:00:00 EDT 2008</td>\n",
       "      <td>59222</td>\n",
       "      <td>38.631913</td>\n",
       "      <td>-121.434879</td>\n",
       "    </tr>\n",
       "    <tr>\n",
       "      <th>1</th>\n",
       "      <td>51 OMAHA CT</td>\n",
       "      <td>SACRAMENTO</td>\n",
       "      <td>95823</td>\n",
       "      <td>CA</td>\n",
       "      <td>3</td>\n",
       "      <td>1</td>\n",
       "      <td>1167</td>\n",
       "      <td>Residential</td>\n",
       "      <td>Wed May 21 00:00:00 EDT 2008</td>\n",
       "      <td>68212</td>\n",
       "      <td>38.478902</td>\n",
       "      <td>-121.431028</td>\n",
       "    </tr>\n",
       "    <tr>\n",
       "      <th>2</th>\n",
       "      <td>2796 BRANCH ST</td>\n",
       "      <td>SACRAMENTO</td>\n",
       "      <td>95815</td>\n",
       "      <td>CA</td>\n",
       "      <td>2</td>\n",
       "      <td>1</td>\n",
       "      <td>796</td>\n",
       "      <td>Residential</td>\n",
       "      <td>Wed May 21 00:00:00 EDT 2008</td>\n",
       "      <td>68880</td>\n",
       "      <td>38.618305</td>\n",
       "      <td>-121.443839</td>\n",
       "    </tr>\n",
       "    <tr>\n",
       "      <th>3</th>\n",
       "      <td>2805 JANETTE WAY</td>\n",
       "      <td>SACRAMENTO</td>\n",
       "      <td>95815</td>\n",
       "      <td>CA</td>\n",
       "      <td>2</td>\n",
       "      <td>1</td>\n",
       "      <td>852</td>\n",
       "      <td>Residential</td>\n",
       "      <td>Wed May 21 00:00:00 EDT 2008</td>\n",
       "      <td>69307</td>\n",
       "      <td>38.616835</td>\n",
       "      <td>-121.439146</td>\n",
       "    </tr>\n",
       "    <tr>\n",
       "      <th>4</th>\n",
       "      <td>6001 MCMAHON DR</td>\n",
       "      <td>SACRAMENTO</td>\n",
       "      <td>95824</td>\n",
       "      <td>CA</td>\n",
       "      <td>2</td>\n",
       "      <td>1</td>\n",
       "      <td>797</td>\n",
       "      <td>Residential</td>\n",
       "      <td>Wed May 21 00:00:00 EDT 2008</td>\n",
       "      <td>81900</td>\n",
       "      <td>38.519470</td>\n",
       "      <td>-121.435768</td>\n",
       "    </tr>\n",
       "  </tbody>\n",
       "</table>\n",
       "</div>"
      ],
      "text/plain": [
       "             street        city    zip state  beds  baths  sq_ft         type  \\\n",
       "0      3526 HIGH ST  SACRAMENTO  95838    CA     2      1    836  Residential   \n",
       "1       51 OMAHA CT  SACRAMENTO  95823    CA     3      1   1167  Residential   \n",
       "2    2796 BRANCH ST  SACRAMENTO  95815    CA     2      1    796  Residential   \n",
       "3  2805 JANETTE WAY  SACRAMENTO  95815    CA     2      1    852  Residential   \n",
       "4   6001 MCMAHON DR  SACRAMENTO  95824    CA     2      1    797  Residential   \n",
       "\n",
       "                      sale_date  price   latitude   longitude  \n",
       "0  Wed May 21 00:00:00 EDT 2008  59222  38.631913 -121.434879  \n",
       "1  Wed May 21 00:00:00 EDT 2008  68212  38.478902 -121.431028  \n",
       "2  Wed May 21 00:00:00 EDT 2008  68880  38.618305 -121.443839  \n",
       "3  Wed May 21 00:00:00 EDT 2008  69307  38.616835 -121.439146  \n",
       "4  Wed May 21 00:00:00 EDT 2008  81900  38.519470 -121.435768  "
      ]
     },
     "execution_count": 16,
     "metadata": {},
     "output_type": "execute_result"
    }
   ],
   "source": [
    "df_clean.head(5)"
   ]
  },
  {
   "cell_type": "markdown",
   "metadata": {},
   "source": [
    "### 2. Capitalize the 'city' column"
   ]
  },
  {
   "cell_type": "code",
   "execution_count": 17,
   "metadata": {},
   "outputs": [],
   "source": [
    "df_clean['city'] = df['city'].str.capitalize()"
   ]
  },
  {
   "cell_type": "code",
   "execution_count": 18,
   "metadata": {},
   "outputs": [
    {
     "data": {
      "text/html": [
       "<div>\n",
       "<style scoped>\n",
       "    .dataframe tbody tr th:only-of-type {\n",
       "        vertical-align: middle;\n",
       "    }\n",
       "\n",
       "    .dataframe tbody tr th {\n",
       "        vertical-align: top;\n",
       "    }\n",
       "\n",
       "    .dataframe thead th {\n",
       "        text-align: right;\n",
       "    }\n",
       "</style>\n",
       "<table border=\"1\" class=\"dataframe\">\n",
       "  <thead>\n",
       "    <tr style=\"text-align: right;\">\n",
       "      <th></th>\n",
       "      <th>street</th>\n",
       "      <th>city</th>\n",
       "      <th>zip</th>\n",
       "      <th>state</th>\n",
       "      <th>beds</th>\n",
       "      <th>baths</th>\n",
       "      <th>sq_ft</th>\n",
       "      <th>type</th>\n",
       "      <th>sale_date</th>\n",
       "      <th>price</th>\n",
       "      <th>latitude</th>\n",
       "      <th>longitude</th>\n",
       "    </tr>\n",
       "  </thead>\n",
       "  <tbody>\n",
       "    <tr>\n",
       "      <th>0</th>\n",
       "      <td>3526 HIGH ST</td>\n",
       "      <td>Sacramento</td>\n",
       "      <td>95838</td>\n",
       "      <td>CA</td>\n",
       "      <td>2</td>\n",
       "      <td>1</td>\n",
       "      <td>836</td>\n",
       "      <td>Residential</td>\n",
       "      <td>Wed May 21 00:00:00 EDT 2008</td>\n",
       "      <td>59222</td>\n",
       "      <td>38.631913</td>\n",
       "      <td>-121.434879</td>\n",
       "    </tr>\n",
       "    <tr>\n",
       "      <th>1</th>\n",
       "      <td>51 OMAHA CT</td>\n",
       "      <td>Sacramento</td>\n",
       "      <td>95823</td>\n",
       "      <td>CA</td>\n",
       "      <td>3</td>\n",
       "      <td>1</td>\n",
       "      <td>1167</td>\n",
       "      <td>Residential</td>\n",
       "      <td>Wed May 21 00:00:00 EDT 2008</td>\n",
       "      <td>68212</td>\n",
       "      <td>38.478902</td>\n",
       "      <td>-121.431028</td>\n",
       "    </tr>\n",
       "    <tr>\n",
       "      <th>2</th>\n",
       "      <td>2796 BRANCH ST</td>\n",
       "      <td>Sacramento</td>\n",
       "      <td>95815</td>\n",
       "      <td>CA</td>\n",
       "      <td>2</td>\n",
       "      <td>1</td>\n",
       "      <td>796</td>\n",
       "      <td>Residential</td>\n",
       "      <td>Wed May 21 00:00:00 EDT 2008</td>\n",
       "      <td>68880</td>\n",
       "      <td>38.618305</td>\n",
       "      <td>-121.443839</td>\n",
       "    </tr>\n",
       "    <tr>\n",
       "      <th>3</th>\n",
       "      <td>2805 JANETTE WAY</td>\n",
       "      <td>Sacramento</td>\n",
       "      <td>95815</td>\n",
       "      <td>CA</td>\n",
       "      <td>2</td>\n",
       "      <td>1</td>\n",
       "      <td>852</td>\n",
       "      <td>Residential</td>\n",
       "      <td>Wed May 21 00:00:00 EDT 2008</td>\n",
       "      <td>69307</td>\n",
       "      <td>38.616835</td>\n",
       "      <td>-121.439146</td>\n",
       "    </tr>\n",
       "    <tr>\n",
       "      <th>4</th>\n",
       "      <td>6001 MCMAHON DR</td>\n",
       "      <td>Sacramento</td>\n",
       "      <td>95824</td>\n",
       "      <td>CA</td>\n",
       "      <td>2</td>\n",
       "      <td>1</td>\n",
       "      <td>797</td>\n",
       "      <td>Residential</td>\n",
       "      <td>Wed May 21 00:00:00 EDT 2008</td>\n",
       "      <td>81900</td>\n",
       "      <td>38.519470</td>\n",
       "      <td>-121.435768</td>\n",
       "    </tr>\n",
       "  </tbody>\n",
       "</table>\n",
       "</div>"
      ],
      "text/plain": [
       "             street        city    zip state  beds  baths  sq_ft         type  \\\n",
       "0      3526 HIGH ST  Sacramento  95838    CA     2      1    836  Residential   \n",
       "1       51 OMAHA CT  Sacramento  95823    CA     3      1   1167  Residential   \n",
       "2    2796 BRANCH ST  Sacramento  95815    CA     2      1    796  Residential   \n",
       "3  2805 JANETTE WAY  Sacramento  95815    CA     2      1    852  Residential   \n",
       "4   6001 MCMAHON DR  Sacramento  95824    CA     2      1    797  Residential   \n",
       "\n",
       "                      sale_date  price   latitude   longitude  \n",
       "0  Wed May 21 00:00:00 EDT 2008  59222  38.631913 -121.434879  \n",
       "1  Wed May 21 00:00:00 EDT 2008  68212  38.478902 -121.431028  \n",
       "2  Wed May 21 00:00:00 EDT 2008  68880  38.618305 -121.443839  \n",
       "3  Wed May 21 00:00:00 EDT 2008  69307  38.616835 -121.439146  \n",
       "4  Wed May 21 00:00:00 EDT 2008  81900  38.519470 -121.435768  "
      ]
     },
     "execution_count": 18,
     "metadata": {},
     "output_type": "execute_result"
    }
   ],
   "source": [
    "df_clean.head()"
   ]
  },
  {
   "cell_type": "markdown",
   "metadata": {},
   "source": [
    "### 3. Converts column types"
   ]
  },
  {
   "cell_type": "code",
   "execution_count": 19,
   "metadata": {},
   "outputs": [
    {
     "data": {
      "text/plain": [
       "street        object\n",
       "city          object\n",
       "zip            int64\n",
       "state         object\n",
       "beds           int64\n",
       "baths          int64\n",
       "sq_ft          int64\n",
       "type          object\n",
       "sale_date     object\n",
       "price          int64\n",
       "latitude     float64\n",
       "longitude    float64\n",
       "dtype: object"
      ]
     },
     "execution_count": 19,
     "metadata": {},
     "output_type": "execute_result"
    }
   ],
   "source": [
    "df_clean.dtypes"
   ]
  },
  {
   "cell_type": "markdown",
   "metadata": {},
   "source": [
    "##### Pandas already inferred the right types when using pd.read_csv().\n",
    "##### How would I change it if I wanted to?"
   ]
  },
  {
   "cell_type": "code",
   "execution_count": 20,
   "metadata": {
    "scrolled": true
   },
   "outputs": [
    {
     "data": {
      "text/plain": [
       "0      38\n",
       "1      38\n",
       "2      38\n",
       "3      38\n",
       "4      38\n",
       "       ..\n",
       "980    38\n",
       "981    38\n",
       "982    38\n",
       "983    38\n",
       "984    38\n",
       "Name: latitude, Length: 985, dtype: int64"
      ]
     },
     "execution_count": 20,
     "metadata": {},
     "output_type": "execute_result"
    }
   ],
   "source": [
    "df_clean['latitude'].astype(int)"
   ]
  },
  {
   "cell_type": "markdown",
   "metadata": {},
   "source": [
    "### 4. Convert weird date string into 'YYYY-MM-DD' representation"
   ]
  },
  {
   "cell_type": "code",
   "execution_count": 23,
   "metadata": {},
   "outputs": [],
   "source": [
    "df_clean[\"sale_date\"] = pd.to_datetime(df_clean[\"sale_date\"], infer_datetime_format = True)"
   ]
  },
  {
   "cell_type": "code",
   "execution_count": 24,
   "metadata": {},
   "outputs": [],
   "source": [
    "df_clean.to_pickle(\"clean_sacramento.pkl\")\n",
    "df_clean.to_csv(\"clean_sacramento.csv\")"
   ]
  },
  {
   "cell_type": "markdown",
   "metadata": {},
   "source": [
    "### General pandas stuff, plus a little bit a numpy"
   ]
  },
  {
   "cell_type": "code",
   "execution_count": 25,
   "metadata": {},
   "outputs": [],
   "source": [
    "import numpy as np"
   ]
  },
  {
   "cell_type": "code",
   "execution_count": 26,
   "metadata": {},
   "outputs": [
    {
     "data": {
      "text/plain": [
       "array([0.19631511, 0.16732279, 0.53471967, 0.81024961, 0.97323313])"
      ]
     },
     "execution_count": 26,
     "metadata": {},
     "output_type": "execute_result"
    }
   ],
   "source": [
    "np.random.random_sample((5,))"
   ]
  },
  {
   "cell_type": "code",
   "execution_count": 27,
   "metadata": {},
   "outputs": [
    {
     "data": {
      "text/plain": [
       "array([[0.51088162, 0.75615828],\n",
       "       [0.7265686 , 0.13379729],\n",
       "       [0.31584311, 0.71959571]])"
      ]
     },
     "execution_count": 27,
     "metadata": {},
     "output_type": "execute_result"
    }
   ],
   "source": [
    "np.random.random_sample((3, 2))"
   ]
  },
  {
   "cell_type": "code",
   "execution_count": 28,
   "metadata": {},
   "outputs": [],
   "source": [
    "col_names = [\"banana_density\", \"banana_mass\", \"apple_density\", \"apple_mass\"]\n",
    "df = pd.DataFrame(np.random.random_sample((10, 4)), columns = col_names)"
   ]
  },
  {
   "cell_type": "code",
   "execution_count": 29,
   "metadata": {},
   "outputs": [
    {
     "data": {
      "text/html": [
       "<div>\n",
       "<style scoped>\n",
       "    .dataframe tbody tr th:only-of-type {\n",
       "        vertical-align: middle;\n",
       "    }\n",
       "\n",
       "    .dataframe tbody tr th {\n",
       "        vertical-align: top;\n",
       "    }\n",
       "\n",
       "    .dataframe thead th {\n",
       "        text-align: right;\n",
       "    }\n",
       "</style>\n",
       "<table border=\"1\" class=\"dataframe\">\n",
       "  <thead>\n",
       "    <tr style=\"text-align: right;\">\n",
       "      <th></th>\n",
       "      <th>banana_density</th>\n",
       "      <th>banana_mass</th>\n",
       "      <th>apple_density</th>\n",
       "      <th>apple_mass</th>\n",
       "    </tr>\n",
       "  </thead>\n",
       "  <tbody>\n",
       "    <tr>\n",
       "      <th>0</th>\n",
       "      <td>0.785977</td>\n",
       "      <td>0.667365</td>\n",
       "      <td>0.746387</td>\n",
       "      <td>0.777638</td>\n",
       "    </tr>\n",
       "    <tr>\n",
       "      <th>1</th>\n",
       "      <td>0.232206</td>\n",
       "      <td>0.506532</td>\n",
       "      <td>0.064825</td>\n",
       "      <td>0.040395</td>\n",
       "    </tr>\n",
       "    <tr>\n",
       "      <th>2</th>\n",
       "      <td>0.889128</td>\n",
       "      <td>0.020756</td>\n",
       "      <td>0.635020</td>\n",
       "      <td>0.086881</td>\n",
       "    </tr>\n",
       "    <tr>\n",
       "      <th>3</th>\n",
       "      <td>0.633160</td>\n",
       "      <td>0.256072</td>\n",
       "      <td>0.556503</td>\n",
       "      <td>0.521870</td>\n",
       "    </tr>\n",
       "    <tr>\n",
       "      <th>4</th>\n",
       "      <td>0.738725</td>\n",
       "      <td>0.852042</td>\n",
       "      <td>0.946617</td>\n",
       "      <td>0.533175</td>\n",
       "    </tr>\n",
       "    <tr>\n",
       "      <th>5</th>\n",
       "      <td>0.524310</td>\n",
       "      <td>0.085193</td>\n",
       "      <td>0.071486</td>\n",
       "      <td>0.926304</td>\n",
       "    </tr>\n",
       "    <tr>\n",
       "      <th>6</th>\n",
       "      <td>0.454528</td>\n",
       "      <td>0.391825</td>\n",
       "      <td>0.358080</td>\n",
       "      <td>0.341557</td>\n",
       "    </tr>\n",
       "    <tr>\n",
       "      <th>7</th>\n",
       "      <td>0.507302</td>\n",
       "      <td>0.515186</td>\n",
       "      <td>0.838678</td>\n",
       "      <td>0.479325</td>\n",
       "    </tr>\n",
       "    <tr>\n",
       "      <th>8</th>\n",
       "      <td>0.927702</td>\n",
       "      <td>0.100503</td>\n",
       "      <td>0.519008</td>\n",
       "      <td>0.173575</td>\n",
       "    </tr>\n",
       "    <tr>\n",
       "      <th>9</th>\n",
       "      <td>0.860125</td>\n",
       "      <td>0.916740</td>\n",
       "      <td>0.688232</td>\n",
       "      <td>0.430108</td>\n",
       "    </tr>\n",
       "  </tbody>\n",
       "</table>\n",
       "</div>"
      ],
      "text/plain": [
       "   banana_density  banana_mass  apple_density  apple_mass\n",
       "0        0.785977     0.667365       0.746387    0.777638\n",
       "1        0.232206     0.506532       0.064825    0.040395\n",
       "2        0.889128     0.020756       0.635020    0.086881\n",
       "3        0.633160     0.256072       0.556503    0.521870\n",
       "4        0.738725     0.852042       0.946617    0.533175\n",
       "5        0.524310     0.085193       0.071486    0.926304\n",
       "6        0.454528     0.391825       0.358080    0.341557\n",
       "7        0.507302     0.515186       0.838678    0.479325\n",
       "8        0.927702     0.100503       0.519008    0.173575\n",
       "9        0.860125     0.916740       0.688232    0.430108"
      ]
     },
     "execution_count": 29,
     "metadata": {},
     "output_type": "execute_result"
    }
   ],
   "source": [
    "df"
   ]
  },
  {
   "cell_type": "markdown",
   "metadata": {},
   "source": [
    "### Subsetting\n",
    "##### 1. Columns"
   ]
  },
  {
   "cell_type": "code",
   "execution_count": 30,
   "metadata": {},
   "outputs": [
    {
     "data": {
      "text/html": [
       "<div>\n",
       "<style scoped>\n",
       "    .dataframe tbody tr th:only-of-type {\n",
       "        vertical-align: middle;\n",
       "    }\n",
       "\n",
       "    .dataframe tbody tr th {\n",
       "        vertical-align: top;\n",
       "    }\n",
       "\n",
       "    .dataframe thead th {\n",
       "        text-align: right;\n",
       "    }\n",
       "</style>\n",
       "<table border=\"1\" class=\"dataframe\">\n",
       "  <thead>\n",
       "    <tr style=\"text-align: right;\">\n",
       "      <th></th>\n",
       "      <th>apple_density</th>\n",
       "      <th>apple_mass</th>\n",
       "      <th>apple_mass</th>\n",
       "    </tr>\n",
       "  </thead>\n",
       "  <tbody>\n",
       "    <tr>\n",
       "      <th>0</th>\n",
       "      <td>0.746387</td>\n",
       "      <td>0.777638</td>\n",
       "      <td>0.777638</td>\n",
       "    </tr>\n",
       "    <tr>\n",
       "      <th>1</th>\n",
       "      <td>0.064825</td>\n",
       "      <td>0.040395</td>\n",
       "      <td>0.040395</td>\n",
       "    </tr>\n",
       "    <tr>\n",
       "      <th>2</th>\n",
       "      <td>0.635020</td>\n",
       "      <td>0.086881</td>\n",
       "      <td>0.086881</td>\n",
       "    </tr>\n",
       "    <tr>\n",
       "      <th>3</th>\n",
       "      <td>0.556503</td>\n",
       "      <td>0.521870</td>\n",
       "      <td>0.521870</td>\n",
       "    </tr>\n",
       "    <tr>\n",
       "      <th>4</th>\n",
       "      <td>0.946617</td>\n",
       "      <td>0.533175</td>\n",
       "      <td>0.533175</td>\n",
       "    </tr>\n",
       "    <tr>\n",
       "      <th>5</th>\n",
       "      <td>0.071486</td>\n",
       "      <td>0.926304</td>\n",
       "      <td>0.926304</td>\n",
       "    </tr>\n",
       "    <tr>\n",
       "      <th>6</th>\n",
       "      <td>0.358080</td>\n",
       "      <td>0.341557</td>\n",
       "      <td>0.341557</td>\n",
       "    </tr>\n",
       "    <tr>\n",
       "      <th>7</th>\n",
       "      <td>0.838678</td>\n",
       "      <td>0.479325</td>\n",
       "      <td>0.479325</td>\n",
       "    </tr>\n",
       "    <tr>\n",
       "      <th>8</th>\n",
       "      <td>0.519008</td>\n",
       "      <td>0.173575</td>\n",
       "      <td>0.173575</td>\n",
       "    </tr>\n",
       "    <tr>\n",
       "      <th>9</th>\n",
       "      <td>0.688232</td>\n",
       "      <td>0.430108</td>\n",
       "      <td>0.430108</td>\n",
       "    </tr>\n",
       "  </tbody>\n",
       "</table>\n",
       "</div>"
      ],
      "text/plain": [
       "   apple_density  apple_mass  apple_mass\n",
       "0       0.746387    0.777638    0.777638\n",
       "1       0.064825    0.040395    0.040395\n",
       "2       0.635020    0.086881    0.086881\n",
       "3       0.556503    0.521870    0.521870\n",
       "4       0.946617    0.533175    0.533175\n",
       "5       0.071486    0.926304    0.926304\n",
       "6       0.358080    0.341557    0.341557\n",
       "7       0.838678    0.479325    0.479325\n",
       "8       0.519008    0.173575    0.173575\n",
       "9       0.688232    0.430108    0.430108"
      ]
     },
     "execution_count": 30,
     "metadata": {},
     "output_type": "execute_result"
    }
   ],
   "source": [
    "apples = [\"apple_density\", \"apple_mass\", \"apple_mass\"]\n",
    "df[apples]"
   ]
  },
  {
   "cell_type": "code",
   "execution_count": 31,
   "metadata": {
    "scrolled": true
   },
   "outputs": [
    {
     "data": {
      "text/html": [
       "<div>\n",
       "<style scoped>\n",
       "    .dataframe tbody tr th:only-of-type {\n",
       "        vertical-align: middle;\n",
       "    }\n",
       "\n",
       "    .dataframe tbody tr th {\n",
       "        vertical-align: top;\n",
       "    }\n",
       "\n",
       "    .dataframe thead th {\n",
       "        text-align: right;\n",
       "    }\n",
       "</style>\n",
       "<table border=\"1\" class=\"dataframe\">\n",
       "  <thead>\n",
       "    <tr style=\"text-align: right;\">\n",
       "      <th></th>\n",
       "      <th>apple_density</th>\n",
       "      <th>apple_mass</th>\n",
       "      <th>apple_mass</th>\n",
       "    </tr>\n",
       "  </thead>\n",
       "  <tbody>\n",
       "    <tr>\n",
       "      <th>0</th>\n",
       "      <td>0.746387</td>\n",
       "      <td>0.777638</td>\n",
       "      <td>0.777638</td>\n",
       "    </tr>\n",
       "    <tr>\n",
       "      <th>1</th>\n",
       "      <td>0.064825</td>\n",
       "      <td>0.040395</td>\n",
       "      <td>0.040395</td>\n",
       "    </tr>\n",
       "    <tr>\n",
       "      <th>2</th>\n",
       "      <td>0.635020</td>\n",
       "      <td>0.086881</td>\n",
       "      <td>0.086881</td>\n",
       "    </tr>\n",
       "    <tr>\n",
       "      <th>3</th>\n",
       "      <td>0.556503</td>\n",
       "      <td>0.521870</td>\n",
       "      <td>0.521870</td>\n",
       "    </tr>\n",
       "    <tr>\n",
       "      <th>4</th>\n",
       "      <td>0.946617</td>\n",
       "      <td>0.533175</td>\n",
       "      <td>0.533175</td>\n",
       "    </tr>\n",
       "    <tr>\n",
       "      <th>5</th>\n",
       "      <td>0.071486</td>\n",
       "      <td>0.926304</td>\n",
       "      <td>0.926304</td>\n",
       "    </tr>\n",
       "    <tr>\n",
       "      <th>6</th>\n",
       "      <td>0.358080</td>\n",
       "      <td>0.341557</td>\n",
       "      <td>0.341557</td>\n",
       "    </tr>\n",
       "    <tr>\n",
       "      <th>7</th>\n",
       "      <td>0.838678</td>\n",
       "      <td>0.479325</td>\n",
       "      <td>0.479325</td>\n",
       "    </tr>\n",
       "    <tr>\n",
       "      <th>8</th>\n",
       "      <td>0.519008</td>\n",
       "      <td>0.173575</td>\n",
       "      <td>0.173575</td>\n",
       "    </tr>\n",
       "    <tr>\n",
       "      <th>9</th>\n",
       "      <td>0.688232</td>\n",
       "      <td>0.430108</td>\n",
       "      <td>0.430108</td>\n",
       "    </tr>\n",
       "  </tbody>\n",
       "</table>\n",
       "</div>"
      ],
      "text/plain": [
       "   apple_density  apple_mass  apple_mass\n",
       "0       0.746387    0.777638    0.777638\n",
       "1       0.064825    0.040395    0.040395\n",
       "2       0.635020    0.086881    0.086881\n",
       "3       0.556503    0.521870    0.521870\n",
       "4       0.946617    0.533175    0.533175\n",
       "5       0.071486    0.926304    0.926304\n",
       "6       0.358080    0.341557    0.341557\n",
       "7       0.838678    0.479325    0.479325\n",
       "8       0.519008    0.173575    0.173575\n",
       "9       0.688232    0.430108    0.430108"
      ]
     },
     "execution_count": 31,
     "metadata": {},
     "output_type": "execute_result"
    }
   ],
   "source": [
    "df[[\"apple_density\", \"apple_mass\", \"apple_mass\"]]"
   ]
  },
  {
   "cell_type": "code",
   "execution_count": 32,
   "metadata": {
    "scrolled": true
   },
   "outputs": [
    {
     "data": {
      "text/html": [
       "<div>\n",
       "<style scoped>\n",
       "    .dataframe tbody tr th:only-of-type {\n",
       "        vertical-align: middle;\n",
       "    }\n",
       "\n",
       "    .dataframe tbody tr th {\n",
       "        vertical-align: top;\n",
       "    }\n",
       "\n",
       "    .dataframe thead th {\n",
       "        text-align: right;\n",
       "    }\n",
       "</style>\n",
       "<table border=\"1\" class=\"dataframe\">\n",
       "  <thead>\n",
       "    <tr style=\"text-align: right;\">\n",
       "      <th></th>\n",
       "      <th>banana_density</th>\n",
       "      <th>banana_mass</th>\n",
       "      <th>apple_density</th>\n",
       "      <th>apple_mass</th>\n",
       "    </tr>\n",
       "  </thead>\n",
       "  <tbody>\n",
       "    <tr>\n",
       "      <th>8</th>\n",
       "      <td>0.927702</td>\n",
       "      <td>0.100503</td>\n",
       "      <td>0.519008</td>\n",
       "      <td>0.173575</td>\n",
       "    </tr>\n",
       "    <tr>\n",
       "      <th>2</th>\n",
       "      <td>0.889128</td>\n",
       "      <td>0.020756</td>\n",
       "      <td>0.635020</td>\n",
       "      <td>0.086881</td>\n",
       "    </tr>\n",
       "    <tr>\n",
       "      <th>9</th>\n",
       "      <td>0.860125</td>\n",
       "      <td>0.916740</td>\n",
       "      <td>0.688232</td>\n",
       "      <td>0.430108</td>\n",
       "    </tr>\n",
       "    <tr>\n",
       "      <th>0</th>\n",
       "      <td>0.785977</td>\n",
       "      <td>0.667365</td>\n",
       "      <td>0.746387</td>\n",
       "      <td>0.777638</td>\n",
       "    </tr>\n",
       "    <tr>\n",
       "      <th>4</th>\n",
       "      <td>0.738725</td>\n",
       "      <td>0.852042</td>\n",
       "      <td>0.946617</td>\n",
       "      <td>0.533175</td>\n",
       "    </tr>\n",
       "    <tr>\n",
       "      <th>3</th>\n",
       "      <td>0.633160</td>\n",
       "      <td>0.256072</td>\n",
       "      <td>0.556503</td>\n",
       "      <td>0.521870</td>\n",
       "    </tr>\n",
       "    <tr>\n",
       "      <th>5</th>\n",
       "      <td>0.524310</td>\n",
       "      <td>0.085193</td>\n",
       "      <td>0.071486</td>\n",
       "      <td>0.926304</td>\n",
       "    </tr>\n",
       "    <tr>\n",
       "      <th>7</th>\n",
       "      <td>0.507302</td>\n",
       "      <td>0.515186</td>\n",
       "      <td>0.838678</td>\n",
       "      <td>0.479325</td>\n",
       "    </tr>\n",
       "    <tr>\n",
       "      <th>6</th>\n",
       "      <td>0.454528</td>\n",
       "      <td>0.391825</td>\n",
       "      <td>0.358080</td>\n",
       "      <td>0.341557</td>\n",
       "    </tr>\n",
       "    <tr>\n",
       "      <th>1</th>\n",
       "      <td>0.232206</td>\n",
       "      <td>0.506532</td>\n",
       "      <td>0.064825</td>\n",
       "      <td>0.040395</td>\n",
       "    </tr>\n",
       "  </tbody>\n",
       "</table>\n",
       "</div>"
      ],
      "text/plain": [
       "   banana_density  banana_mass  apple_density  apple_mass\n",
       "8        0.927702     0.100503       0.519008    0.173575\n",
       "2        0.889128     0.020756       0.635020    0.086881\n",
       "9        0.860125     0.916740       0.688232    0.430108\n",
       "0        0.785977     0.667365       0.746387    0.777638\n",
       "4        0.738725     0.852042       0.946617    0.533175\n",
       "3        0.633160     0.256072       0.556503    0.521870\n",
       "5        0.524310     0.085193       0.071486    0.926304\n",
       "7        0.507302     0.515186       0.838678    0.479325\n",
       "6        0.454528     0.391825       0.358080    0.341557\n",
       "1        0.232206     0.506532       0.064825    0.040395"
      ]
     },
     "execution_count": 32,
     "metadata": {},
     "output_type": "execute_result"
    }
   ],
   "source": [
    "# Sorting\n",
    "\n",
    "df.sort_values(\"banana_density\", ascending = False)"
   ]
  },
  {
   "cell_type": "code",
   "execution_count": 34,
   "metadata": {},
   "outputs": [
    {
     "data": {
      "text/plain": [
       "array([0.77562064, 0.84419233, 0.55763352, 0.39798726, 0.46243954,\n",
       "       0.82707826, 0.54558493, 0.40242167, 0.05692707, 0.36291078])"
      ]
     },
     "execution_count": 34,
     "metadata": {},
     "output_type": "execute_result"
    }
   ],
   "source": [
    "some_new_column = np.random.random_sample((10,))\n",
    "some_new_column"
   ]
  },
  {
   "cell_type": "code",
   "execution_count": 35,
   "metadata": {},
   "outputs": [],
   "source": [
    "# Adding a column\n",
    "\n",
    "df[\"mango_mass\"] = some_new_column"
   ]
  },
  {
   "cell_type": "code",
   "execution_count": 36,
   "metadata": {},
   "outputs": [
    {
     "data": {
      "text/plain": [
       "0    0.775621\n",
       "1    0.844192\n",
       "2    0.557634\n",
       "3    0.397987\n",
       "4    0.462440\n",
       "5    0.827078\n",
       "6    0.545585\n",
       "7    0.402422\n",
       "8    0.056927\n",
       "9    0.362911\n",
       "dtype: float64"
      ]
     },
     "execution_count": 36,
     "metadata": {},
     "output_type": "execute_result"
    }
   ],
   "source": [
    "pd.Series(some_new_column)"
   ]
  },
  {
   "cell_type": "code",
   "execution_count": 37,
   "metadata": {},
   "outputs": [
    {
     "data": {
      "text/html": [
       "<div>\n",
       "<style scoped>\n",
       "    .dataframe tbody tr th:only-of-type {\n",
       "        vertical-align: middle;\n",
       "    }\n",
       "\n",
       "    .dataframe tbody tr th {\n",
       "        vertical-align: top;\n",
       "    }\n",
       "\n",
       "    .dataframe thead th {\n",
       "        text-align: right;\n",
       "    }\n",
       "</style>\n",
       "<table border=\"1\" class=\"dataframe\">\n",
       "  <thead>\n",
       "    <tr style=\"text-align: right;\">\n",
       "      <th></th>\n",
       "      <th>banana_density</th>\n",
       "      <th>banana_mass</th>\n",
       "      <th>apple_density</th>\n",
       "      <th>apple_mass</th>\n",
       "      <th>mango_mass</th>\n",
       "    </tr>\n",
       "  </thead>\n",
       "  <tbody>\n",
       "    <tr>\n",
       "      <th>0</th>\n",
       "      <td>0.785977</td>\n",
       "      <td>0.667365</td>\n",
       "      <td>0.746387</td>\n",
       "      <td>0.777638</td>\n",
       "      <td>0.775621</td>\n",
       "    </tr>\n",
       "    <tr>\n",
       "      <th>1</th>\n",
       "      <td>0.232206</td>\n",
       "      <td>0.506532</td>\n",
       "      <td>0.064825</td>\n",
       "      <td>0.040395</td>\n",
       "      <td>0.844192</td>\n",
       "    </tr>\n",
       "    <tr>\n",
       "      <th>2</th>\n",
       "      <td>0.889128</td>\n",
       "      <td>0.020756</td>\n",
       "      <td>0.635020</td>\n",
       "      <td>0.086881</td>\n",
       "      <td>0.557634</td>\n",
       "    </tr>\n",
       "    <tr>\n",
       "      <th>3</th>\n",
       "      <td>0.633160</td>\n",
       "      <td>0.256072</td>\n",
       "      <td>0.556503</td>\n",
       "      <td>0.521870</td>\n",
       "      <td>0.397987</td>\n",
       "    </tr>\n",
       "    <tr>\n",
       "      <th>4</th>\n",
       "      <td>0.738725</td>\n",
       "      <td>0.852042</td>\n",
       "      <td>0.946617</td>\n",
       "      <td>0.533175</td>\n",
       "      <td>0.462440</td>\n",
       "    </tr>\n",
       "    <tr>\n",
       "      <th>5</th>\n",
       "      <td>0.524310</td>\n",
       "      <td>0.085193</td>\n",
       "      <td>0.071486</td>\n",
       "      <td>0.926304</td>\n",
       "      <td>0.827078</td>\n",
       "    </tr>\n",
       "    <tr>\n",
       "      <th>6</th>\n",
       "      <td>0.454528</td>\n",
       "      <td>0.391825</td>\n",
       "      <td>0.358080</td>\n",
       "      <td>0.341557</td>\n",
       "      <td>0.545585</td>\n",
       "    </tr>\n",
       "    <tr>\n",
       "      <th>7</th>\n",
       "      <td>0.507302</td>\n",
       "      <td>0.515186</td>\n",
       "      <td>0.838678</td>\n",
       "      <td>0.479325</td>\n",
       "      <td>0.402422</td>\n",
       "    </tr>\n",
       "    <tr>\n",
       "      <th>8</th>\n",
       "      <td>0.927702</td>\n",
       "      <td>0.100503</td>\n",
       "      <td>0.519008</td>\n",
       "      <td>0.173575</td>\n",
       "      <td>0.056927</td>\n",
       "    </tr>\n",
       "    <tr>\n",
       "      <th>9</th>\n",
       "      <td>0.860125</td>\n",
       "      <td>0.916740</td>\n",
       "      <td>0.688232</td>\n",
       "      <td>0.430108</td>\n",
       "      <td>0.362911</td>\n",
       "    </tr>\n",
       "  </tbody>\n",
       "</table>\n",
       "</div>"
      ],
      "text/plain": [
       "   banana_density  banana_mass  apple_density  apple_mass  mango_mass\n",
       "0        0.785977     0.667365       0.746387    0.777638    0.775621\n",
       "1        0.232206     0.506532       0.064825    0.040395    0.844192\n",
       "2        0.889128     0.020756       0.635020    0.086881    0.557634\n",
       "3        0.633160     0.256072       0.556503    0.521870    0.397987\n",
       "4        0.738725     0.852042       0.946617    0.533175    0.462440\n",
       "5        0.524310     0.085193       0.071486    0.926304    0.827078\n",
       "6        0.454528     0.391825       0.358080    0.341557    0.545585\n",
       "7        0.507302     0.515186       0.838678    0.479325    0.402422\n",
       "8        0.927702     0.100503       0.519008    0.173575    0.056927\n",
       "9        0.860125     0.916740       0.688232    0.430108    0.362911"
      ]
     },
     "execution_count": 37,
     "metadata": {},
     "output_type": "execute_result"
    }
   ],
   "source": [
    "df"
   ]
  },
  {
   "cell_type": "code",
   "execution_count": 39,
   "metadata": {},
   "outputs": [],
   "source": [
    "df_new = df.sort_values(\"banana_density\", ascending = False)"
   ]
  },
  {
   "cell_type": "code",
   "execution_count": 40,
   "metadata": {},
   "outputs": [],
   "source": [
    "df_new[\"mango_mass\"] = pd.Series(some_new_column)"
   ]
  },
  {
   "cell_type": "code",
   "execution_count": 41,
   "metadata": {},
   "outputs": [
    {
     "data": {
      "text/html": [
       "<div>\n",
       "<style scoped>\n",
       "    .dataframe tbody tr th:only-of-type {\n",
       "        vertical-align: middle;\n",
       "    }\n",
       "\n",
       "    .dataframe tbody tr th {\n",
       "        vertical-align: top;\n",
       "    }\n",
       "\n",
       "    .dataframe thead th {\n",
       "        text-align: right;\n",
       "    }\n",
       "</style>\n",
       "<table border=\"1\" class=\"dataframe\">\n",
       "  <thead>\n",
       "    <tr style=\"text-align: right;\">\n",
       "      <th></th>\n",
       "      <th>banana_density</th>\n",
       "      <th>banana_mass</th>\n",
       "      <th>apple_density</th>\n",
       "      <th>apple_mass</th>\n",
       "      <th>mango_mass</th>\n",
       "    </tr>\n",
       "  </thead>\n",
       "  <tbody>\n",
       "    <tr>\n",
       "      <th>8</th>\n",
       "      <td>0.927702</td>\n",
       "      <td>0.100503</td>\n",
       "      <td>0.519008</td>\n",
       "      <td>0.173575</td>\n",
       "      <td>0.056927</td>\n",
       "    </tr>\n",
       "    <tr>\n",
       "      <th>2</th>\n",
       "      <td>0.889128</td>\n",
       "      <td>0.020756</td>\n",
       "      <td>0.635020</td>\n",
       "      <td>0.086881</td>\n",
       "      <td>0.557634</td>\n",
       "    </tr>\n",
       "    <tr>\n",
       "      <th>9</th>\n",
       "      <td>0.860125</td>\n",
       "      <td>0.916740</td>\n",
       "      <td>0.688232</td>\n",
       "      <td>0.430108</td>\n",
       "      <td>0.362911</td>\n",
       "    </tr>\n",
       "    <tr>\n",
       "      <th>0</th>\n",
       "      <td>0.785977</td>\n",
       "      <td>0.667365</td>\n",
       "      <td>0.746387</td>\n",
       "      <td>0.777638</td>\n",
       "      <td>0.775621</td>\n",
       "    </tr>\n",
       "    <tr>\n",
       "      <th>4</th>\n",
       "      <td>0.738725</td>\n",
       "      <td>0.852042</td>\n",
       "      <td>0.946617</td>\n",
       "      <td>0.533175</td>\n",
       "      <td>0.462440</td>\n",
       "    </tr>\n",
       "    <tr>\n",
       "      <th>3</th>\n",
       "      <td>0.633160</td>\n",
       "      <td>0.256072</td>\n",
       "      <td>0.556503</td>\n",
       "      <td>0.521870</td>\n",
       "      <td>0.397987</td>\n",
       "    </tr>\n",
       "    <tr>\n",
       "      <th>5</th>\n",
       "      <td>0.524310</td>\n",
       "      <td>0.085193</td>\n",
       "      <td>0.071486</td>\n",
       "      <td>0.926304</td>\n",
       "      <td>0.827078</td>\n",
       "    </tr>\n",
       "    <tr>\n",
       "      <th>7</th>\n",
       "      <td>0.507302</td>\n",
       "      <td>0.515186</td>\n",
       "      <td>0.838678</td>\n",
       "      <td>0.479325</td>\n",
       "      <td>0.402422</td>\n",
       "    </tr>\n",
       "    <tr>\n",
       "      <th>6</th>\n",
       "      <td>0.454528</td>\n",
       "      <td>0.391825</td>\n",
       "      <td>0.358080</td>\n",
       "      <td>0.341557</td>\n",
       "      <td>0.545585</td>\n",
       "    </tr>\n",
       "    <tr>\n",
       "      <th>1</th>\n",
       "      <td>0.232206</td>\n",
       "      <td>0.506532</td>\n",
       "      <td>0.064825</td>\n",
       "      <td>0.040395</td>\n",
       "      <td>0.844192</td>\n",
       "    </tr>\n",
       "  </tbody>\n",
       "</table>\n",
       "</div>"
      ],
      "text/plain": [
       "   banana_density  banana_mass  apple_density  apple_mass  mango_mass\n",
       "8        0.927702     0.100503       0.519008    0.173575    0.056927\n",
       "2        0.889128     0.020756       0.635020    0.086881    0.557634\n",
       "9        0.860125     0.916740       0.688232    0.430108    0.362911\n",
       "0        0.785977     0.667365       0.746387    0.777638    0.775621\n",
       "4        0.738725     0.852042       0.946617    0.533175    0.462440\n",
       "3        0.633160     0.256072       0.556503    0.521870    0.397987\n",
       "5        0.524310     0.085193       0.071486    0.926304    0.827078\n",
       "7        0.507302     0.515186       0.838678    0.479325    0.402422\n",
       "6        0.454528     0.391825       0.358080    0.341557    0.545585\n",
       "1        0.232206     0.506532       0.064825    0.040395    0.844192"
      ]
     },
     "execution_count": 41,
     "metadata": {},
     "output_type": "execute_result"
    }
   ],
   "source": [
    "df_new"
   ]
  },
  {
   "cell_type": "code",
   "execution_count": 44,
   "metadata": {},
   "outputs": [],
   "source": [
    "df_new = df_new.reset_index(drop = True)"
   ]
  },
  {
   "cell_type": "code",
   "execution_count": 45,
   "metadata": {},
   "outputs": [
    {
     "data": {
      "text/html": [
       "<div>\n",
       "<style scoped>\n",
       "    .dataframe tbody tr th:only-of-type {\n",
       "        vertical-align: middle;\n",
       "    }\n",
       "\n",
       "    .dataframe tbody tr th {\n",
       "        vertical-align: top;\n",
       "    }\n",
       "\n",
       "    .dataframe thead th {\n",
       "        text-align: right;\n",
       "    }\n",
       "</style>\n",
       "<table border=\"1\" class=\"dataframe\">\n",
       "  <thead>\n",
       "    <tr style=\"text-align: right;\">\n",
       "      <th></th>\n",
       "      <th>banana_density</th>\n",
       "      <th>banana_mass</th>\n",
       "      <th>apple_density</th>\n",
       "      <th>apple_mass</th>\n",
       "      <th>mango_mass</th>\n",
       "    </tr>\n",
       "  </thead>\n",
       "  <tbody>\n",
       "    <tr>\n",
       "      <th>0</th>\n",
       "      <td>0.927702</td>\n",
       "      <td>0.100503</td>\n",
       "      <td>0.519008</td>\n",
       "      <td>0.173575</td>\n",
       "      <td>0.056927</td>\n",
       "    </tr>\n",
       "    <tr>\n",
       "      <th>1</th>\n",
       "      <td>0.889128</td>\n",
       "      <td>0.020756</td>\n",
       "      <td>0.635020</td>\n",
       "      <td>0.086881</td>\n",
       "      <td>0.557634</td>\n",
       "    </tr>\n",
       "    <tr>\n",
       "      <th>2</th>\n",
       "      <td>0.860125</td>\n",
       "      <td>0.916740</td>\n",
       "      <td>0.688232</td>\n",
       "      <td>0.430108</td>\n",
       "      <td>0.362911</td>\n",
       "    </tr>\n",
       "    <tr>\n",
       "      <th>3</th>\n",
       "      <td>0.785977</td>\n",
       "      <td>0.667365</td>\n",
       "      <td>0.746387</td>\n",
       "      <td>0.777638</td>\n",
       "      <td>0.775621</td>\n",
       "    </tr>\n",
       "    <tr>\n",
       "      <th>4</th>\n",
       "      <td>0.738725</td>\n",
       "      <td>0.852042</td>\n",
       "      <td>0.946617</td>\n",
       "      <td>0.533175</td>\n",
       "      <td>0.462440</td>\n",
       "    </tr>\n",
       "    <tr>\n",
       "      <th>5</th>\n",
       "      <td>0.633160</td>\n",
       "      <td>0.256072</td>\n",
       "      <td>0.556503</td>\n",
       "      <td>0.521870</td>\n",
       "      <td>0.397987</td>\n",
       "    </tr>\n",
       "    <tr>\n",
       "      <th>6</th>\n",
       "      <td>0.524310</td>\n",
       "      <td>0.085193</td>\n",
       "      <td>0.071486</td>\n",
       "      <td>0.926304</td>\n",
       "      <td>0.827078</td>\n",
       "    </tr>\n",
       "    <tr>\n",
       "      <th>7</th>\n",
       "      <td>0.507302</td>\n",
       "      <td>0.515186</td>\n",
       "      <td>0.838678</td>\n",
       "      <td>0.479325</td>\n",
       "      <td>0.402422</td>\n",
       "    </tr>\n",
       "    <tr>\n",
       "      <th>8</th>\n",
       "      <td>0.454528</td>\n",
       "      <td>0.391825</td>\n",
       "      <td>0.358080</td>\n",
       "      <td>0.341557</td>\n",
       "      <td>0.545585</td>\n",
       "    </tr>\n",
       "    <tr>\n",
       "      <th>9</th>\n",
       "      <td>0.232206</td>\n",
       "      <td>0.506532</td>\n",
       "      <td>0.064825</td>\n",
       "      <td>0.040395</td>\n",
       "      <td>0.844192</td>\n",
       "    </tr>\n",
       "  </tbody>\n",
       "</table>\n",
       "</div>"
      ],
      "text/plain": [
       "   banana_density  banana_mass  apple_density  apple_mass  mango_mass\n",
       "0        0.927702     0.100503       0.519008    0.173575    0.056927\n",
       "1        0.889128     0.020756       0.635020    0.086881    0.557634\n",
       "2        0.860125     0.916740       0.688232    0.430108    0.362911\n",
       "3        0.785977     0.667365       0.746387    0.777638    0.775621\n",
       "4        0.738725     0.852042       0.946617    0.533175    0.462440\n",
       "5        0.633160     0.256072       0.556503    0.521870    0.397987\n",
       "6        0.524310     0.085193       0.071486    0.926304    0.827078\n",
       "7        0.507302     0.515186       0.838678    0.479325    0.402422\n",
       "8        0.454528     0.391825       0.358080    0.341557    0.545585\n",
       "9        0.232206     0.506532       0.064825    0.040395    0.844192"
      ]
     },
     "execution_count": 45,
     "metadata": {},
     "output_type": "execute_result"
    }
   ],
   "source": [
    "df_new"
   ]
  },
  {
   "cell_type": "code",
   "execution_count": 46,
   "metadata": {},
   "outputs": [],
   "source": [
    "df_super_new = (df_new\n",
    "                .sort_values(\"mango_mass\")\n",
    "                .reset_index(drop = True))"
   ]
  },
  {
   "cell_type": "code",
   "execution_count": 47,
   "metadata": {},
   "outputs": [
    {
     "data": {
      "text/html": [
       "<div>\n",
       "<style scoped>\n",
       "    .dataframe tbody tr th:only-of-type {\n",
       "        vertical-align: middle;\n",
       "    }\n",
       "\n",
       "    .dataframe tbody tr th {\n",
       "        vertical-align: top;\n",
       "    }\n",
       "\n",
       "    .dataframe thead th {\n",
       "        text-align: right;\n",
       "    }\n",
       "</style>\n",
       "<table border=\"1\" class=\"dataframe\">\n",
       "  <thead>\n",
       "    <tr style=\"text-align: right;\">\n",
       "      <th></th>\n",
       "      <th>banana_density</th>\n",
       "      <th>banana_mass</th>\n",
       "      <th>apple_density</th>\n",
       "      <th>apple_mass</th>\n",
       "      <th>mango_mass</th>\n",
       "    </tr>\n",
       "  </thead>\n",
       "  <tbody>\n",
       "    <tr>\n",
       "      <th>0</th>\n",
       "      <td>0.927702</td>\n",
       "      <td>0.100503</td>\n",
       "      <td>0.519008</td>\n",
       "      <td>0.173575</td>\n",
       "      <td>0.056927</td>\n",
       "    </tr>\n",
       "    <tr>\n",
       "      <th>1</th>\n",
       "      <td>0.860125</td>\n",
       "      <td>0.916740</td>\n",
       "      <td>0.688232</td>\n",
       "      <td>0.430108</td>\n",
       "      <td>0.362911</td>\n",
       "    </tr>\n",
       "    <tr>\n",
       "      <th>2</th>\n",
       "      <td>0.633160</td>\n",
       "      <td>0.256072</td>\n",
       "      <td>0.556503</td>\n",
       "      <td>0.521870</td>\n",
       "      <td>0.397987</td>\n",
       "    </tr>\n",
       "    <tr>\n",
       "      <th>3</th>\n",
       "      <td>0.507302</td>\n",
       "      <td>0.515186</td>\n",
       "      <td>0.838678</td>\n",
       "      <td>0.479325</td>\n",
       "      <td>0.402422</td>\n",
       "    </tr>\n",
       "    <tr>\n",
       "      <th>4</th>\n",
       "      <td>0.738725</td>\n",
       "      <td>0.852042</td>\n",
       "      <td>0.946617</td>\n",
       "      <td>0.533175</td>\n",
       "      <td>0.462440</td>\n",
       "    </tr>\n",
       "    <tr>\n",
       "      <th>5</th>\n",
       "      <td>0.454528</td>\n",
       "      <td>0.391825</td>\n",
       "      <td>0.358080</td>\n",
       "      <td>0.341557</td>\n",
       "      <td>0.545585</td>\n",
       "    </tr>\n",
       "    <tr>\n",
       "      <th>6</th>\n",
       "      <td>0.889128</td>\n",
       "      <td>0.020756</td>\n",
       "      <td>0.635020</td>\n",
       "      <td>0.086881</td>\n",
       "      <td>0.557634</td>\n",
       "    </tr>\n",
       "    <tr>\n",
       "      <th>7</th>\n",
       "      <td>0.785977</td>\n",
       "      <td>0.667365</td>\n",
       "      <td>0.746387</td>\n",
       "      <td>0.777638</td>\n",
       "      <td>0.775621</td>\n",
       "    </tr>\n",
       "    <tr>\n",
       "      <th>8</th>\n",
       "      <td>0.524310</td>\n",
       "      <td>0.085193</td>\n",
       "      <td>0.071486</td>\n",
       "      <td>0.926304</td>\n",
       "      <td>0.827078</td>\n",
       "    </tr>\n",
       "    <tr>\n",
       "      <th>9</th>\n",
       "      <td>0.232206</td>\n",
       "      <td>0.506532</td>\n",
       "      <td>0.064825</td>\n",
       "      <td>0.040395</td>\n",
       "      <td>0.844192</td>\n",
       "    </tr>\n",
       "  </tbody>\n",
       "</table>\n",
       "</div>"
      ],
      "text/plain": [
       "   banana_density  banana_mass  apple_density  apple_mass  mango_mass\n",
       "0        0.927702     0.100503       0.519008    0.173575    0.056927\n",
       "1        0.860125     0.916740       0.688232    0.430108    0.362911\n",
       "2        0.633160     0.256072       0.556503    0.521870    0.397987\n",
       "3        0.507302     0.515186       0.838678    0.479325    0.402422\n",
       "4        0.738725     0.852042       0.946617    0.533175    0.462440\n",
       "5        0.454528     0.391825       0.358080    0.341557    0.545585\n",
       "6        0.889128     0.020756       0.635020    0.086881    0.557634\n",
       "7        0.785977     0.667365       0.746387    0.777638    0.775621\n",
       "8        0.524310     0.085193       0.071486    0.926304    0.827078\n",
       "9        0.232206     0.506532       0.064825    0.040395    0.844192"
      ]
     },
     "execution_count": 47,
     "metadata": {},
     "output_type": "execute_result"
    }
   ],
   "source": [
    "df_super_new"
   ]
  },
  {
   "cell_type": "code",
   "execution_count": 48,
   "metadata": {},
   "outputs": [
    {
     "data": {
      "text/plain": [
       "0     True\n",
       "1    False\n",
       "2     True\n",
       "3    False\n",
       "4    False\n",
       "5     True\n",
       "6     True\n",
       "7    False\n",
       "8     True\n",
       "9    False\n",
       "Name: banana_mass, dtype: bool"
      ]
     },
     "execution_count": 48,
     "metadata": {},
     "output_type": "execute_result"
    }
   ],
   "source": [
    "df_super_new[\"banana_mass\"] < 0.5"
   ]
  },
  {
   "cell_type": "code",
   "execution_count": 49,
   "metadata": {},
   "outputs": [
    {
     "data": {
      "text/html": [
       "<div>\n",
       "<style scoped>\n",
       "    .dataframe tbody tr th:only-of-type {\n",
       "        vertical-align: middle;\n",
       "    }\n",
       "\n",
       "    .dataframe tbody tr th {\n",
       "        vertical-align: top;\n",
       "    }\n",
       "\n",
       "    .dataframe thead th {\n",
       "        text-align: right;\n",
       "    }\n",
       "</style>\n",
       "<table border=\"1\" class=\"dataframe\">\n",
       "  <thead>\n",
       "    <tr style=\"text-align: right;\">\n",
       "      <th></th>\n",
       "      <th>banana_density</th>\n",
       "      <th>banana_mass</th>\n",
       "      <th>apple_density</th>\n",
       "      <th>apple_mass</th>\n",
       "      <th>mango_mass</th>\n",
       "    </tr>\n",
       "  </thead>\n",
       "  <tbody>\n",
       "    <tr>\n",
       "      <th>0</th>\n",
       "      <td>0.927702</td>\n",
       "      <td>0.100503</td>\n",
       "      <td>0.519008</td>\n",
       "      <td>0.173575</td>\n",
       "      <td>0.056927</td>\n",
       "    </tr>\n",
       "    <tr>\n",
       "      <th>2</th>\n",
       "      <td>0.633160</td>\n",
       "      <td>0.256072</td>\n",
       "      <td>0.556503</td>\n",
       "      <td>0.521870</td>\n",
       "      <td>0.397987</td>\n",
       "    </tr>\n",
       "    <tr>\n",
       "      <th>5</th>\n",
       "      <td>0.454528</td>\n",
       "      <td>0.391825</td>\n",
       "      <td>0.358080</td>\n",
       "      <td>0.341557</td>\n",
       "      <td>0.545585</td>\n",
       "    </tr>\n",
       "    <tr>\n",
       "      <th>6</th>\n",
       "      <td>0.889128</td>\n",
       "      <td>0.020756</td>\n",
       "      <td>0.635020</td>\n",
       "      <td>0.086881</td>\n",
       "      <td>0.557634</td>\n",
       "    </tr>\n",
       "    <tr>\n",
       "      <th>8</th>\n",
       "      <td>0.524310</td>\n",
       "      <td>0.085193</td>\n",
       "      <td>0.071486</td>\n",
       "      <td>0.926304</td>\n",
       "      <td>0.827078</td>\n",
       "    </tr>\n",
       "  </tbody>\n",
       "</table>\n",
       "</div>"
      ],
      "text/plain": [
       "   banana_density  banana_mass  apple_density  apple_mass  mango_mass\n",
       "0        0.927702     0.100503       0.519008    0.173575    0.056927\n",
       "2        0.633160     0.256072       0.556503    0.521870    0.397987\n",
       "5        0.454528     0.391825       0.358080    0.341557    0.545585\n",
       "6        0.889128     0.020756       0.635020    0.086881    0.557634\n",
       "8        0.524310     0.085193       0.071486    0.926304    0.827078"
      ]
     },
     "execution_count": 49,
     "metadata": {},
     "output_type": "execute_result"
    }
   ],
   "source": [
    "df_super_new[df_super_new[\"banana_mass\"] < 0.5]"
   ]
  },
  {
   "cell_type": "code",
   "execution_count": 50,
   "metadata": {
    "scrolled": true
   },
   "outputs": [
    {
     "data": {
      "text/html": [
       "<div>\n",
       "<style scoped>\n",
       "    .dataframe tbody tr th:only-of-type {\n",
       "        vertical-align: middle;\n",
       "    }\n",
       "\n",
       "    .dataframe tbody tr th {\n",
       "        vertical-align: top;\n",
       "    }\n",
       "\n",
       "    .dataframe thead th {\n",
       "        text-align: right;\n",
       "    }\n",
       "</style>\n",
       "<table border=\"1\" class=\"dataframe\">\n",
       "  <thead>\n",
       "    <tr style=\"text-align: right;\">\n",
       "      <th></th>\n",
       "      <th>banana_density</th>\n",
       "      <th>banana_mass</th>\n",
       "      <th>apple_density</th>\n",
       "      <th>apple_mass</th>\n",
       "      <th>mango_mass</th>\n",
       "    </tr>\n",
       "  </thead>\n",
       "  <tbody>\n",
       "    <tr>\n",
       "      <th>0</th>\n",
       "      <td>0.927702</td>\n",
       "      <td>0.100503</td>\n",
       "      <td>0.519008</td>\n",
       "      <td>0.173575</td>\n",
       "      <td>0.056927</td>\n",
       "    </tr>\n",
       "    <tr>\n",
       "      <th>3</th>\n",
       "      <td>0.507302</td>\n",
       "      <td>0.515186</td>\n",
       "      <td>0.838678</td>\n",
       "      <td>0.479325</td>\n",
       "      <td>0.402422</td>\n",
       "    </tr>\n",
       "    <tr>\n",
       "      <th>6</th>\n",
       "      <td>0.889128</td>\n",
       "      <td>0.020756</td>\n",
       "      <td>0.635020</td>\n",
       "      <td>0.086881</td>\n",
       "      <td>0.557634</td>\n",
       "    </tr>\n",
       "    <tr>\n",
       "      <th>9</th>\n",
       "      <td>0.232206</td>\n",
       "      <td>0.506532</td>\n",
       "      <td>0.064825</td>\n",
       "      <td>0.040395</td>\n",
       "      <td>0.844192</td>\n",
       "    </tr>\n",
       "  </tbody>\n",
       "</table>\n",
       "</div>"
      ],
      "text/plain": [
       "   banana_density  banana_mass  apple_density  apple_mass  mango_mass\n",
       "0        0.927702     0.100503       0.519008    0.173575    0.056927\n",
       "3        0.507302     0.515186       0.838678    0.479325    0.402422\n",
       "6        0.889128     0.020756       0.635020    0.086881    0.557634\n",
       "9        0.232206     0.506532       0.064825    0.040395    0.844192"
      ]
     },
     "execution_count": 50,
     "metadata": {},
     "output_type": "execute_result"
    }
   ],
   "source": [
    "df_super_new[[True, False, False, True, False, False, True, False, False, True]]"
   ]
  },
  {
   "cell_type": "code",
   "execution_count": 53,
   "metadata": {
    "scrolled": true
   },
   "outputs": [
    {
     "data": {
      "text/html": [
       "<div>\n",
       "<style scoped>\n",
       "    .dataframe tbody tr th:only-of-type {\n",
       "        vertical-align: middle;\n",
       "    }\n",
       "\n",
       "    .dataframe tbody tr th {\n",
       "        vertical-align: top;\n",
       "    }\n",
       "\n",
       "    .dataframe thead th {\n",
       "        text-align: right;\n",
       "    }\n",
       "</style>\n",
       "<table border=\"1\" class=\"dataframe\">\n",
       "  <thead>\n",
       "    <tr style=\"text-align: right;\">\n",
       "      <th></th>\n",
       "      <th>banana_mass</th>\n",
       "      <th>apple_density</th>\n",
       "    </tr>\n",
       "  </thead>\n",
       "  <tbody>\n",
       "    <tr>\n",
       "      <th>1</th>\n",
       "      <td>0.916740</td>\n",
       "      <td>0.688232</td>\n",
       "    </tr>\n",
       "    <tr>\n",
       "      <th>2</th>\n",
       "      <td>0.256072</td>\n",
       "      <td>0.556503</td>\n",
       "    </tr>\n",
       "    <tr>\n",
       "      <th>3</th>\n",
       "      <td>0.515186</td>\n",
       "      <td>0.838678</td>\n",
       "    </tr>\n",
       "    <tr>\n",
       "      <th>5</th>\n",
       "      <td>0.391825</td>\n",
       "      <td>0.358080</td>\n",
       "    </tr>\n",
       "    <tr>\n",
       "      <th>6</th>\n",
       "      <td>0.020756</td>\n",
       "      <td>0.635020</td>\n",
       "    </tr>\n",
       "    <tr>\n",
       "      <th>7</th>\n",
       "      <td>0.667365</td>\n",
       "      <td>0.746387</td>\n",
       "    </tr>\n",
       "    <tr>\n",
       "      <th>8</th>\n",
       "      <td>0.085193</td>\n",
       "      <td>0.071486</td>\n",
       "    </tr>\n",
       "    <tr>\n",
       "      <th>9</th>\n",
       "      <td>0.506532</td>\n",
       "      <td>0.064825</td>\n",
       "    </tr>\n",
       "  </tbody>\n",
       "</table>\n",
       "</div>"
      ],
      "text/plain": [
       "   banana_mass  apple_density\n",
       "1     0.916740       0.688232\n",
       "2     0.256072       0.556503\n",
       "3     0.515186       0.838678\n",
       "5     0.391825       0.358080\n",
       "6     0.020756       0.635020\n",
       "7     0.667365       0.746387\n",
       "8     0.085193       0.071486\n",
       "9     0.506532       0.064825"
      ]
     },
     "execution_count": 53,
     "metadata": {},
     "output_type": "execute_result"
    }
   ],
   "source": [
    "df_super_new[(df_super_new[\"mango_mass\"] > .1) & (df_super_new[\"apple_density\"] < .9)][[\"banana_mass\", \"apple_density\"]]"
   ]
  }
 ],
 "metadata": {
  "kernelspec": {
   "display_name": "Python 3",
   "language": "python",
   "name": "python3"
  },
  "language_info": {
   "codemirror_mode": {
    "name": "ipython",
    "version": 3
   },
   "file_extension": ".py",
   "mimetype": "text/x-python",
   "name": "python",
   "nbconvert_exporter": "python",
   "pygments_lexer": "ipython3",
   "version": "3.7.4"
  }
 },
 "nbformat": 4,
 "nbformat_minor": 2
}
