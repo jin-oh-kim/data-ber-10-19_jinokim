{
 "cells": [
  {
   "cell_type": "code",
   "execution_count": 5,
   "metadata": {},
   "outputs": [
    {
     "name": "stdout",
     "output_type": "stream",
     "text": [
      "5\n",
      "HELLO\n"
     ]
    }
   ],
   "source": [
    "print(int(\"5\"))\n",
    "print(\"hello\".upper())"
   ]
  },
  {
   "cell_type": "code",
   "execution_count": 7,
   "metadata": {},
   "outputs": [
    {
     "data": {
      "text/plain": [
       "'HELLO'"
      ]
     },
     "execution_count": 7,
     "metadata": {},
     "output_type": "execute_result"
    }
   ],
   "source": [
    "\"Hello\".upper()"
   ]
  },
  {
   "cell_type": "code",
   "execution_count": 21,
   "metadata": {},
   "outputs": [
    {
     "data": {
      "text/plain": [
       "<map at 0x1051813d0>"
      ]
     },
     "execution_count": 21,
     "metadata": {},
     "output_type": "execute_result"
    }
   ],
   "source": [
    "a = [1, 2, 3]\n",
    "map(lambda x: x+10, a)"
   ]
  },
  {
   "cell_type": "code",
   "execution_count": 22,
   "metadata": {},
   "outputs": [
    {
     "data": {
      "text/plain": [
       "map"
      ]
     },
     "execution_count": 22,
     "metadata": {},
     "output_type": "execute_result"
    }
   ],
   "source": [
    "type(map(lambda x: x+10, a))"
   ]
  },
  {
   "cell_type": "code",
   "execution_count": null,
   "metadata": {},
   "outputs": [],
   "source": [
    "data = []\n",
    "with open (\"fjdsflka.csv\", \"r\") as csvfile:\n",
    "    real_estate_data = csv.DictReader(csvfile, delimiter = \",\")\n",
    "    for row in real_estate_Data:\n",
    "        data.append(dict(row))"
   ]
  },
  {
   "cell_type": "code",
   "execution_count": null,
   "metadata": {},
   "outputs": [],
   "source": [
    "data[0]"
   ]
  },
  {
   "cell_type": "code",
   "execution_count": null,
   "metadata": {},
   "outputs": [],
   "source": [
    "def to_int(real_estate_row: dict, column_names: str) -> int:\n",
    "    return"
   ]
  },
  {
   "cell_type": "markdown",
   "metadata": {},
   "source": [
    "rename key \"sq__ft\" to \"sq_"
   ]
  },
  {
   "cell_type": "markdown",
   "metadata": {},
   "source": []
  },
  {
   "cell_type": "markdown",
   "metadata": {},
   "source": [
    "Reformat 'sale_dat' to 'YYYY-MM-DD'"
   ]
  },
  {
   "cell_type": "code",
   "execution_count": null,
   "metadata": {},
   "outputs": [],
   "source": [
    "sample[\"sale_date\"]"
   ]
  },
  {
   "cell_type": "code",
   "execution_count": null,
   "metadata": {},
   "outputs": [],
   "source": []
  },
  {
   "cell_type": "code",
   "execution_count": 24,
   "metadata": {},
   "outputs": [],
   "source": [
    "import re"
   ]
  },
  {
   "cell_type": "code",
   "execution_count": null,
   "metadata": {},
   "outputs": [],
   "source": [
    "[row[\"sale_date\"] for row in data]\n",
    "\n",
    "set([row[\"sale_date\"] for row in data])"
   ]
  },
  {
   "cell_type": "code",
   "execution_count": null,
   "metadata": {},
   "outputs": [],
   "source": [
    "len(data)"
   ]
  },
  {
   "cell_type": "code",
   "execution_count": null,
   "metadata": {},
   "outputs": [],
   "source": [
    "sample.keys()"
   ]
  },
  {
   "cell_type": "markdown",
   "metadata": {},
   "source": []
  },
  {
   "cell_type": "code",
   "execution_count": null,
   "metadata": {},
   "outputs": [],
   "source": [
    "year_pattern = r\"\\d{4}$\"\n",
    "re.findall(year_pattern, sample[\"sale_date\"])[0]"
   ]
  },
  {
   "cell_type": "code",
   "execution_count": null,
   "metadata": {},
   "outputs": [],
   "source": []
  },
  {
   "cell_type": "code",
   "execution_count": null,
   "metadata": {},
   "outputs": [],
   "source": [
    "day_pattern = r\"\\sI (\\d{1,2})\\s\"\n",
    "re.findall(year_pattern, sample[\"sale_date\"])"
   ]
  },
  {
   "cell_type": "code",
   "execution_count": null,
   "metadata": {},
   "outputs": [],
   "source": [
    "[re.findall(day_pattern, r) for r in set([row[\"sale_date\"] for row in data])]"
   ]
  },
  {
   "cell_type": "code",
   "execution_count": null,
   "metadata": {},
   "outputs": [],
   "source": [
    "month_pattern = r\"\\s(\\w{3})\\s\"\n",
    "re.findall(onth_pattern, sample[\"sale_date\"])[0]"
   ]
  },
  {
   "cell_type": "code",
   "execution_count": null,
   "metadata": {},
   "outputs": [],
   "source": [
    "month_pattern = r\"\".{3}\\s(\\w{3})\\s\"\n",
    "re.findall(onth_pattern, sample[\"sale_date\"])[0]"
   ]
  },
  {
   "cell_type": "code",
   "execution_count": 28,
   "metadata": {},
   "outputs": [
    {
     "data": {
      "text/plain": [
       "5"
      ]
     },
     "execution_count": 28,
     "metadata": {},
     "output_type": "execute_result"
    }
   ],
   "source": [
    "MONTHS = [\"Jan\", \"Feb\", \"Mar\", \"Apr\", \"May\", \"Jun\", \"Jul\", \"Aug\", \"Sep\", \"Oct\", \"Nov\", \"Dec\"]\n",
    "\n",
    "MONTHS_dict = {\"Jan\": \"01\",\n",
    "               \"Feb\": \"02\"}\n",
    "\n",
    "# MONTH_list = [z+1 for z in range(len(MONTHS))]\n",
    "\n",
    "MONTHS.index(\"May\") + 1"
   ]
  },
  {
   "cell_type": "code",
   "execution_count": null,
   "metadata": {
    "scrolled": true
   },
   "outputs": [],
   "source": [
    "\"0\" + str(MONTHS.index(\"May\") + 1) if len(str(MONTHS.index(\"May\") + 1 else MONTHS.index))"
   ]
  },
  {
   "cell_type": "code",
   "execution_count": null,
   "metadata": {},
   "outputs": [],
   "source": [
    "def parse_month(date):\n",
    "    MONTHS = [\"Jan\", \"Feb\", \"Mar\", \"Apr\", \"May\", \"Jun\", \"Jul\", \"Aug\", \"Sep\", \"Oct\", \"Nov\", \"Dec\"]\n",
    "    month_pattern = r\"^.{3}\\s(\\w{3})\\s\"\n",
    "    string_month = re.findall(month_pattern, date)[0]\n",
    "    month_number = str(MONTHS.index(string_month) + 1)\n",
    "    return \"0\" + month_number if len(month_number) == 1 else month_number"
   ]
  },
  {
   "cell_type": "code",
   "execution_count": null,
   "metadata": {},
   "outputs": [],
   "source": [
    "def parse_date(date):\n",
    "    year = parse_year(date)\n",
    "    month = parse_month(date)\n",
    "    day = parse_day(date)\n",
    "    return year + \"-\" + month + \"-\" + day"
   ]
  },
  {
   "cell_type": "markdown",
   "metadata": {},
   "source": [
    "now that we figured out all necessary transfomations, we can simply it a little"
   ]
  },
  {
   "cell_type": "code",
   "execution_count": 29,
   "metadata": {},
   "outputs": [],
   "source": [
    "a = {\"h\": 1,\n",
    "     \"e\": 2,\n",
    "     \"l\": 3,\n",
    "     \"o\": \"world\"}"
   ]
  },
  {
   "cell_type": "code",
   "execution_count": 31,
   "metadata": {},
   "outputs": [],
   "source": [
    "b = {}\n",
    "for key in a:\n",
    "    b[key] = a[key]"
   ]
  },
  {
   "cell_type": "code",
   "execution_count": 32,
   "metadata": {},
   "outputs": [
    {
     "data": {
      "text/plain": [
       "{'h': 1, 'e': 2, 'l': 3, 'o': 'world'}"
      ]
     },
     "execution_count": 32,
     "metadata": {},
     "output_type": "execute_result"
    }
   ],
   "source": [
    "b"
   ]
  },
  {
   "cell_type": "code",
   "execution_count": null,
   "metadata": {},
   "outputs": [],
   "source": [
    "conversion = {\n",
    "    \"street\": lambda x:\n",
    "    \"city\": lambda x: x.title(),\n",
    "    \"zip\": lambda x: int(x),\n",
    "    \"state\": lambda x: \n",
    "    \"beds\": lambda x: int(x),\n",
    "    \"baths\": lambda x: int(x),\n",
    "    \"sq__ft\": lambda x: int(x),\n",
    "    \"type\": lambda x:\n",
    "    \"sale_date\": parse_date,\n",
    "    \"price\": lambda x: int(x),\n",
    "    \"latitude\": lambda x: float(x),\n",
    "    \"longitude\": lambda x float(x):}"
   ]
  },
  {
   "cell_type": "code",
   "execution_count": null,
   "metadata": {},
   "outputs": [],
   "source": [
    "sample.keys()"
   ]
  },
  {
   "cell_type": "code",
   "execution_count": null,
   "metadata": {},
   "outputs": [],
   "source": [
    "new_row = {}\n",
    "for key in sample.keys():\n",
    "    if key in CONVERSIONS.keys():\n",
    "        new_row[key.replace(\"__\", \"_\")] = CONVERSIONS[key](sample[key])\n",
    "    else:\n",
    "        new_row[key.replace(\"__\", \"_\")] = sample[key]"
   ]
  },
  {
   "cell_type": "code",
   "execution_count": null,
   "metadata": {},
   "outputs": [],
   "source": [
    "new_row"
   ]
  },
  {
   "cell_type": "code",
   "execution_count": null,
   "metadata": {},
   "outputs": [],
   "source": [
    "def process_row(row):\n",
    "    new_row = {}\n",
    "    for key in sample.keys():\n",
    "        if key in CONVERSIONS.keys():\n",
    "            new_row[key.replace(\"__\", \"_\")] = CONVERSIONS[key](row[key])\n",
    "        else:\n",
    "            new_row[key.replace(\"__\", \"_\")] = sample[key]"
   ]
  },
  {
   "cell_type": "code",
   "execution_count": null,
   "metadata": {},
   "outputs": [],
   "source": [
    "clean_data = [precess_row(sample) for sample in data]"
   ]
  },
  {
   "cell_type": "code",
   "execution_count": null,
   "metadata": {},
   "outputs": [],
   "source": [
    "with open('clean_data.csv', 'w') as csvfile:\n",
    "    fieldnames = list[(clean_data[0].keys())\n",
    "    writer = csv.DictWriter(csvfile, fieldnames=fieldnames)\n",
    "\n",
    "    writer.writeheader()\n",
    "\n",
    "\n",
    "\n",
    "#     writer.writerow({'first_name': 'Baked', 'last_name': 'Beans'})\n",
    "#     writer.writerow({'first_name': 'Lovely', 'last_name': 'Spam'})\n",
    "#     writer.writerow({'first_name': 'Wonderful', 'last_name': 'Spam'})"
   ]
  }
 ],
 "metadata": {
  "kernelspec": {
   "display_name": "Python 3",
   "language": "python",
   "name": "python3"
  },
  "language_info": {
   "codemirror_mode": {
    "name": "ipython",
    "version": 3
   },
   "file_extension": ".py",
   "mimetype": "text/x-python",
   "name": "python",
   "nbconvert_exporter": "python",
   "pygments_lexer": "ipython3",
   "version": "3.7.4"
  }
 },
 "nbformat": 4,
 "nbformat_minor": 2
}
