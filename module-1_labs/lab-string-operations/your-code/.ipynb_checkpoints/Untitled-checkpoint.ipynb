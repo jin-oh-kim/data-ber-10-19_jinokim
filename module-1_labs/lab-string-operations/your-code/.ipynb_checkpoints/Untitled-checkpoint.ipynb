{
 "cells": [
  {
   "cell_type": "code",
   "execution_count": 1,
   "metadata": {},
   "outputs": [],
   "source": [
    "text = \"\"\"Hello, World, What? Here!\"\"\""
   ]
  },
  {
   "cell_type": "code",
   "execution_count": 2,
   "metadata": {},
   "outputs": [
    {
     "data": {
      "text/plain": [
       "'Hello, World, What? Here!'"
      ]
     },
     "execution_count": 2,
     "metadata": {},
     "output_type": "execute_result"
    }
   ],
   "source": [
    "text"
   ]
  },
  {
   "cell_type": "code",
   "execution_count": 7,
   "metadata": {},
   "outputs": [
    {
     "name": "stdout",
     "output_type": "stream",
     "text": [
      "HelloWorldWhatHere\n"
     ]
    }
   ],
   "source": [
    "signs = \",.?! \"\n",
    "t = text\n",
    "for char in signs:\n",
    "    t = t.replace(char, \"\")\n",
    "\n",
    "print(t)"
   ]
  },
  {
   "cell_type": "code",
   "execution_count": 8,
   "metadata": {},
   "outputs": [
    {
     "data": {
      "text/plain": [
       "'Hello World What Here'"
      ]
     },
     "execution_count": 8,
     "metadata": {},
     "output_type": "execute_result"
    }
   ],
   "source": [
    "(text\n",
    ".replace(\",\", \"\")\n",
    ".replace(\".\", \"\")\n",
    ".replace(\"?\", \"\")\n",
    ".replace(\"!\", \"\"))"
   ]
  },
  {
   "cell_type": "code",
   "execution_count": 9,
   "metadata": {},
   "outputs": [
    {
     "data": {
      "text/plain": [
       "['Hello,', 'World,', 'What?', 'Here!']"
      ]
     },
     "execution_count": 9,
     "metadata": {},
     "output_type": "execute_result"
    }
   ],
   "source": [
    "text.split(\" \")"
   ]
  },
  {
   "cell_type": "code",
   "execution_count": 13,
   "metadata": {},
   "outputs": [
    {
     "data": {
      "text/plain": [
       "'Hell'"
      ]
     },
     "execution_count": 13,
     "metadata": {},
     "output_type": "execute_result"
    }
   ],
   "source": [
    "\"Hello\"[0:-1]"
   ]
  },
  {
   "cell_type": "code",
   "execution_count": 14,
   "metadata": {},
   "outputs": [
    {
     "data": {
      "text/plain": [
       "'Hello'"
      ]
     },
     "execution_count": 14,
     "metadata": {},
     "output_type": "execute_result"
    }
   ],
   "source": [
    "\"Hello\"[0:]"
   ]
  },
  {
   "cell_type": "code",
   "execution_count": 17,
   "metadata": {},
   "outputs": [
    {
     "data": {
      "text/plain": [
       "['Hello', 'World', 'What', 'Here']"
      ]
     },
     "execution_count": 17,
     "metadata": {},
     "output_type": "execute_result"
    }
   ],
   "source": [
    "words_only = []\n",
    "for word in text.split(\" \"):\n",
    "    words_only.append(word[0:-1])\n",
    "\n",
    "words_only"
   ]
  },
  {
   "cell_type": "code",
   "execution_count": 18,
   "metadata": {},
   "outputs": [],
   "source": [
    "import re"
   ]
  },
  {
   "cell_type": "code",
   "execution_count": 19,
   "metadata": {},
   "outputs": [
    {
     "data": {
      "text/plain": [
       "['Hello', 'World', 'What', 'Here']"
      ]
     },
     "execution_count": 19,
     "metadata": {},
     "output_type": "execute_result"
    }
   ],
   "source": [
    "re.findall(r\"\\w+\", text)"
   ]
  },
  {
   "cell_type": "code",
   "execution_count": 20,
   "metadata": {},
   "outputs": [
    {
     "name": "stdout",
     "output_type": "stream",
     "text": [
      "\"Hello\"\n"
     ]
    }
   ],
   "source": [
    "print(\"\\\"Hello\\\"\")"
   ]
  },
  {
   "cell_type": "code",
   "execution_count": 21,
   "metadata": {},
   "outputs": [
    {
     "name": "stdout",
     "output_type": "stream",
     "text": [
      "\"Hello\"\n"
     ]
    }
   ],
   "source": [
    "print('\"Hello\"')"
   ]
  },
  {
   "cell_type": "code",
   "execution_count": 23,
   "metadata": {
    "scrolled": true
   },
   "outputs": [
    {
     "name": "stdout",
     "output_type": "stream",
     "text": [
      "'Hello'\n"
     ]
    }
   ],
   "source": [
    "print(\"'Hello'\")"
   ]
  },
  {
   "cell_type": "code",
   "execution_count": 24,
   "metadata": {},
   "outputs": [],
   "source": [
    "e = \"'Is it real?'\""
   ]
  },
  {
   "cell_type": "code",
   "execution_count": 25,
   "metadata": {},
   "outputs": [
    {
     "name": "stdout",
     "output_type": "stream",
     "text": [
      "'Is it real?'\n"
     ]
    }
   ],
   "source": [
    "print(e)"
   ]
  },
  {
   "cell_type": "code",
   "execution_count": 26,
   "metadata": {},
   "outputs": [
    {
     "name": "stdout",
     "output_type": "stream",
     "text": [
      "\"Is it real?\"\n"
     ]
    }
   ],
   "source": [
    "print(e.replace(\"'\", '\"'))"
   ]
  },
  {
   "cell_type": "code",
   "execution_count": 27,
   "metadata": {},
   "outputs": [
    {
     "data": {
      "text/plain": [
       "\"'is it real?'\""
      ]
     },
     "execution_count": 27,
     "metadata": {},
     "output_type": "execute_result"
    }
   ],
   "source": [
    "e.lower()"
   ]
  },
  {
   "cell_type": "code",
   "execution_count": 29,
   "metadata": {},
   "outputs": [
    {
     "data": {
      "text/plain": [
       "['India', 'ice', 'iris']"
      ]
     },
     "execution_count": 29,
     "metadata": {},
     "output_type": "execute_result"
    }
   ],
   "source": [
    "i = [\"India\", \"ice\", \"Hund\", \"iris\", \"Vogel\"]\n",
    "\n",
    "words_with_i = []\n",
    "for word in i:\n",
    "    if word.lower().startswith(\"i\"):\n",
    "        words_with_i.append(word)\n",
    "\n",
    "words_with_i"
   ]
  },
  {
   "cell_type": "code",
   "execution_count": 2,
   "metadata": {},
   "outputs": [],
   "source": [
    "import re"
   ]
  },
  {
   "cell_type": "code",
   "execution_count": 3,
   "metadata": {},
   "outputs": [
    {
     "data": {
      "text/plain": [
       "['google', 'twitter.com/fdakfjalkwww.myspace', 'ironhack', 'spiegel']"
      ]
     },
     "execution_count": 3,
     "metadata": {},
     "output_type": "execute_result"
    }
   ],
   "source": [
    "urls = [\n",
    "    \"www.google.com/jfsldjfalsdf\",\n",
    "    \"www.twitter.com/fdakfjalk\"\n",
    "    \"www.myspace.com/owitj8je4t\",\n",
    "    \"www.ironhack.com/oiwengwiorg\",\n",
    "    \"www.spiegel.de/woeigjr\"\n",
    "]\n",
    "\n",
    "url_pattern = \"^www\\.(.+)\\.\"\n",
    "\n",
    "domains = []\n",
    "for url in urls:\n",
    "    domains.append(re.findall(url_pattern, url)[0])\n",
    "\n",
    "domains\n",
    "\n",
    "\n",
    "#     domain_list = re.findall[url_pattern, url]\n",
    "#     domain = domain_list[0]\n",
    "#     domain.append(re.findall[url_pattern, url]\n",
    "\n",
    "\n",
    "# Andy's materials\n",
    "# urls = [\n",
    "#     \"www.google.com/oseiughfwriuthaeiuzr\",\n",
    "#     \"www.twitter.com/esiughwriug\",\n",
    "#     \"www.myspace.com/owitj8je4t\",\n",
    "#     \"www.ironhack.com/oiwengwiorg\",\n",
    "#     \"www.spiegel.de/woeigjr\"\n",
    "# ]\n",
    "\n",
    "# url_pattern = \"^www\\.(.+)\\.\"\n",
    "\n",
    "# domains = []\n",
    "# for url in urls:\n",
    "#     domains.append(re.findall(url_pattern, url)[0])\n",
    "\n",
    "# domains"
   ]
  },
  {
   "cell_type": "code",
   "execution_count": 5,
   "metadata": {},
   "outputs": [
    {
     "name": "stdout",
     "output_type": "stream",
     "text": [
      "My name is AbcdeAbcdeAbcdeAbcdeAbcde\n"
     ]
    }
   ],
   "source": [
    "name = \"Abcde\"\n",
    "print(f\"My name is {name*5}\")"
   ]
  },
  {
   "cell_type": "code",
   "execution_count": 6,
   "metadata": {},
   "outputs": [
    {
     "name": "stdout",
     "output_type": "stream",
     "text": [
      "Mano has 10 Oranges\n",
      "Tessa has 3 Apples\n",
      "Isabell has 100 Grapefruits\n",
      "Lisa has 1 Banana\n"
     ]
    }
   ],
   "source": [
    "fruits = [\n",
    "    {\"name\": \"Mano\",\n",
    "    \"fruit\": \"Orange\",\n",
    "    \"quantity\": 10},\n",
    "    {\"name\": \"Tessa\",\n",
    "    \"fruit\": \"Apple\",\n",
    "    \"quantity\": 3},\n",
    "    {\"name\": \"Isabell\",\n",
    "    \"fruit\": \"Grapefruit\",\n",
    "    \"quantity\": 100},\n",
    "    {\"name\": \"Lisa\",\n",
    "    \"fruit\": \"Banana\",\n",
    "    \"quantity\": 1}\n",
    "]\n",
    "\n",
    "for person in fruits:\n",
    "    print(f\"{person['name']} has {person['quantity']} {person['fruit']}{'s' if person['quantity'] > 1 else ''}\")\n"
   ]
  },
  {
   "cell_type": "code",
   "execution_count": 7,
   "metadata": {
    "scrolled": true
   },
   "outputs": [
    {
     "name": "stdout",
     "output_type": "stream",
     "text": [
      "Mano has 10 Oranges\n",
      "Tessa has 3 Apples\n",
      "Isabell has 100 Grapefruits\n",
      "Lisa has 1 Banana\n"
     ]
    }
   ],
   "source": [
    "# Andy's note\n",
    "# for person in fruits:\n",
    "#     print(f\"\"\"{person['name']} has {person['quantity']} {person['fruit']}{'s' if person['quantity'] > 1 else ''}\"\"\")\n",
    "\n",
    "\n",
    "for person in fruits:\n",
    "    print(f\"\"\"{person['name']} has {person['quantity']} {person['fruit']}{'s' if person['quantity'] > 1 else ''}\"\"\")"
   ]
  },
  {
   "cell_type": "code",
   "execution_count": 8,
   "metadata": {},
   "outputs": [
    {
     "name": "stdout",
     "output_type": "stream",
     "text": [
      "Mano has 10 Oranges\n",
      "Tessa has 3 Apples\n",
      "Isabell has 100 Grapefruits\n",
      "Lisa has 1 Banana\n"
     ]
    }
   ],
   "source": [
    "for person in fruits:\n",
    "    print(\"{} has {} {}{}\".format(person[\"name\"],\n",
    "                                  person[\"quantity\"],\n",
    "                                  person[\"fruit\"],\n",
    "                                  \"s\" if person[\"quantity\"] > 1 else \"\"))"
   ]
  },
  {
   "cell_type": "code",
   "execution_count": null,
   "metadata": {},
   "outputs": [],
   "source": []
  }
 ],
 "metadata": {
  "kernelspec": {
   "display_name": "Python 3",
   "language": "python",
   "name": "python3"
  },
  "language_info": {
   "codemirror_mode": {
    "name": "ipython",
    "version": 3
   },
   "file_extension": ".py",
   "mimetype": "text/x-python",
   "name": "python",
   "nbconvert_exporter": "python",
   "pygments_lexer": "ipython3",
   "version": "3.7.3"
  }
 },
 "nbformat": 4,
 "nbformat_minor": 2
}
