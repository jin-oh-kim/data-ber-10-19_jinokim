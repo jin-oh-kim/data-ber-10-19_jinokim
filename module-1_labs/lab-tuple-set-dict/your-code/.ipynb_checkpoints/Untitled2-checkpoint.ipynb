{
 "cells": [
  {
   "cell_type": "code",
   "execution_count": 2,
   "metadata": {},
   "outputs": [],
   "source": [
    "import random\n",
    "shoppers = random.sample(range(40), 20)"
   ]
  },
  {
   "cell_type": "code",
   "execution_count": 3,
   "metadata": {},
   "outputs": [
    {
     "data": {
      "text/plain": [
       "[11, 26, 27, 30, 14, 9, 4, 16, 10, 21, 24, 31, 33, 1, 32, 7, 35, 0, 22, 39]"
      ]
     },
     "execution_count": 3,
     "metadata": {},
     "output_type": "execute_result"
    }
   ],
   "source": [
    "shoppers"
   ]
  },
  {
   "cell_type": "code",
   "execution_count": 7,
   "metadata": {},
   "outputs": [
    {
     "data": {
      "text/plain": [
       "2"
      ]
     },
     "execution_count": 7,
     "metadata": {},
     "output_type": "execute_result"
    }
   ],
   "source": [
    "# int(shoppers[1] / 10)\n",
    "\n",
    "\n",
    "int(i / 10)"
   ]
  },
  {
   "cell_type": "code",
   "execution_count": 8,
   "metadata": {},
   "outputs": [
    {
     "name": "stdout",
     "output_type": "stream",
     "text": [
      "candybar\n",
      "cake\n",
      "cake\n",
      "steak\n",
      "candybar\n",
      "BUY MORE\n",
      "BUY MORE\n",
      "candybar\n",
      "candybar\n",
      "cake\n",
      "cake\n",
      "steak\n",
      "steak\n",
      "BUY MORE\n",
      "steak\n",
      "BUY MORE\n",
      "steak\n",
      "BUY MORE\n",
      "cake\n",
      "steak\n"
     ]
    }
   ],
   "source": [
    "# for purchase_price in shoppers:\n",
    "#     if purchase_price >= 30:\n",
    "#         print(\"steak\")\n",
    "#     elif purchase_price >= 20:\n",
    "#         print(\"cake\")\n",
    "#     elif purchase_price >= 10:\n",
    "#         print(\"candybar\")\n",
    "#     else:\n",
    "#         print(\"BUY MORE\")\n",
    "\n",
    "\n",
    "for purchase_price in shoppers:\n",
    "    if int(purchase_price /10) == 3:\n",
    "        print(\"steak\")\n",
    "    elif int(purchase_price /10) == 2:\n",
    "        print(\"cake\")\n",
    "    elif int(purchase_price / 10) == 1:\n",
    "        print(\"candybar\")\n",
    "    else:\n",
    "        print(\"BUY MORE\")"
   ]
  },
  {
   "cell_type": "code",
   "execution_count": 15,
   "metadata": {},
   "outputs": [],
   "source": [
    "rewards = {\n",
    "    0: \"BUY MORE\",\n",
    "    1: \"candybar\",\n",
    "    2: \"cake\",\n",
    "    3: \"steak\"\n",
    "}"
   ]
  },
  {
   "cell_type": "code",
   "execution_count": 16,
   "metadata": {},
   "outputs": [
    {
     "name": "stdout",
     "output_type": "stream",
     "text": [
      "candybar\n",
      "cake\n",
      "cake\n",
      "steak\n",
      "candybar\n",
      "BUY MORE\n",
      "BUY MORE\n",
      "candybar\n",
      "candybar\n",
      "cake\n",
      "cake\n",
      "steak\n",
      "steak\n",
      "BUY MORE\n",
      "steak\n",
      "BUY MORE\n",
      "steak\n",
      "BUY MORE\n",
      "cake\n",
      "steak\n"
     ]
    }
   ],
   "source": [
    "for purchase_price in shoppers:\n",
    "    truncated_price = int(purchase_price / 10)\n",
    "    print(rewards[truncated_price])\n"
   ]
  },
  {
   "cell_type": "code",
   "execution_count": 25,
   "metadata": {},
   "outputs": [],
   "source": [
    "text = \"Abc de fgijk lm nopqrst\"\n",
    "# letter_occurences = {}"
   ]
  },
  {
   "cell_type": "code",
   "execution_count": 26,
   "metadata": {},
   "outputs": [
    {
     "data": {
      "text/plain": [
       "'abc de fgijk lm nopqrst'"
      ]
     },
     "execution_count": 26,
     "metadata": {},
     "output_type": "execute_result"
    }
   ],
   "source": [
    "text.lower()"
   ]
  },
  {
   "cell_type": "code",
   "execution_count": 34,
   "metadata": {},
   "outputs": [
    {
     "data": {
      "text/plain": [
       "{'a': 1,\n",
       " 'b': 1,\n",
       " 'c': 1,\n",
       " ' ': 4,\n",
       " 'd': 1,\n",
       " 'e': 1,\n",
       " 'f': 1,\n",
       " 'g': 1,\n",
       " 'i': 1,\n",
       " 'j': 1,\n",
       " 'k': 1,\n",
       " 'l': 1,\n",
       " 'm': 1,\n",
       " 'n': 1,\n",
       " 'o': 1,\n",
       " 'p': 1,\n",
       " 'q': 1,\n",
       " 'r': 1,\n",
       " 's': 1,\n",
       " 't': 1}"
      ]
     },
     "execution_count": 34,
     "metadata": {},
     "output_type": "execute_result"
    }
   ],
   "source": [
    "letter_occurences = {}\n",
    "for letter in text.lower():\n",
    "    if letter in letter_occurences:\n",
    "        letter_occurences[letter] += 1\n",
    "    else:\n",
    "        letter_occurences[letter] = 1\n",
    "\n",
    "# print(letter_occurences)\n",
    "letter_occurences"
   ]
  },
  {
   "cell_type": "code",
   "execution_count": null,
   "metadata": {},
   "outputs": [],
   "source": []
  }
 ],
 "metadata": {
  "kernelspec": {
   "display_name": "Python 3",
   "language": "python",
   "name": "python3"
  },
  "language_info": {
   "codemirror_mode": {
    "name": "ipython",
    "version": 3
   },
   "file_extension": ".py",
   "mimetype": "text/x-python",
   "name": "python",
   "nbconvert_exporter": "python",
   "pygments_lexer": "ipython3",
   "version": "3.7.3"
  }
 },
 "nbformat": 4,
 "nbformat_minor": 2
}
