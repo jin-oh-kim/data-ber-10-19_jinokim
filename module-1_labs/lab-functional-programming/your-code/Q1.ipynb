{
 "cells": [
  {
   "cell_type": "markdown",
   "metadata": {},
   "source": [
    "In the cell below, create a Python function that wraps your previous solution for the Bag of Words lab.\n",
    "\n",
    "Requirements:\n",
    "\n",
    "1. Your function should accept the following parameters:\n",
    "    * `docs` [REQUIRED] - array of document paths.\n",
    "    * `stop_words` [OPTIONAL] - array of stop words. The default value is an empty array.\n",
    "\n",
    "1. Your function should return a Python object that contains the following:\n",
    "    * `bag_of_words` - array of strings of normalized unique words in the corpus.\n",
    "    * `term_freq` - array of the term-frequency vectors."
   ]
  },
  {
   "cell_type": "code",
   "execution_count": 1,
   "metadata": {},
   "outputs": [],
   "source": [
    "# Import required libraries\n",
    "from string import punctuation\n",
    "\n",
    "# Define function\n",
    "def get_bow_from_docs(docs, stop_words=[]):\n",
    "    \n",
    "    # In the function, first define the variables you will use such as `corpus`, `bag_of_words`, and `term_freq`.\n",
    "    corpus = []\n",
    "    bag_of_words = []\n",
    "    term_freq = []\n",
    "        \n",
    "    \"\"\"\n",
    "    Loop `docs` and read the content of each doc into a string in `corpus`.\n",
    "    Remember to convert the doc content to lowercases and remove punctuation.\n",
    "    \"\"\"\n",
    "    for doc in docs:\n",
    "        f = open(doc, 'r')\n",
    "        s = f.read()\n",
    "        s = ''.join(c for c in s if c not in punctuation)\n",
    "        corpus.append(s.lower())\n",
    "        f.close()\n",
    "        \n",
    "    \"\"\"\n",
    "    Loop `corpus`. Append the terms in each doc into the `bag_of_words` array. The terms in `bag_of_words` \n",
    "    should be unique which means before adding each term you need to check if it's already added to the array.\n",
    "    In addition, check if each term is in the `stop_words` array. Only append the term to `bag_of_words`\n",
    "    if it is not a stop word.\n",
    "    \"\"\"\n",
    "    for s in corpus:\n",
    "        s = ''.join(c for c in s if c not in punctuation)\n",
    "        terms = s.split()\n",
    "        for term in terms:\n",
    "            if not term in bag_of_words and not term in stop_words:\n",
    "                bag_of_words.append(term)\n",
    "        \n",
    "    \"\"\"\n",
    "    Loop `corpus` again. For each doc string, count the number of occurrences of each term in `bag_of_words`. \n",
    "    Create an array for each doc's term frequency and append it to `term_freq`.\n",
    "    \"\"\"\n",
    "    for s in corpus:\n",
    "        freq = []\n",
    "        terms = s.split()\n",
    "        for word in bag_of_words:\n",
    "            freq.append(terms.count(word))\n",
    "        term_freq.append(freq)\n",
    "        \n",
    "    # Now return your output as an object\n",
    "    return {\n",
    "        \"bag_of_words\": bag_of_words,\n",
    "        \"term_freq\": term_freq\n",
    "    }\n",
    "    "
   ]
  },
  {
   "cell_type": "markdown",
   "metadata": {},
   "source": [
    "Test your function without stop words. You should see the output like below:\n",
    "\n",
    "```{'bag_of_words': ['ironhack', 'is', 'cool', 'i', 'love', 'am', 'a', 'student', 'at'], 'term_freq': [[1, 1, 1, 0, 0, 0, 0, 0, 0], [1, 0, 0, 1, 1, 0, 0, 0, 0], [1, 0, 0, 1, 0, 1, 1, 1, 1]]}```"
   ]
  },
  {
   "cell_type": "code",
   "execution_count": 2,
   "metadata": {},
   "outputs": [
    {
     "name": "stdout",
     "output_type": "stream",
     "text": [
      "{'bag_of_words': ['ironhack', 'is', 'cool', 'i', 'love', 'am', 'a', 'student', 'at'], 'term_freq': [[1, 1, 1, 0, 0, 0, 0, 0, 0], [1, 0, 0, 1, 1, 0, 0, 0, 0], [1, 0, 0, 1, 0, 1, 1, 1, 1]]}\n"
     ]
    }
   ],
   "source": [
    "# Define doc paths array\n",
    "# docs = []\n",
    "\n",
    "# Obtain BoW from your function\n",
    "bow = get_bow_from_docs([\n",
    "    '../doc1.txt',\n",
    "    '../doc2.txt',\n",
    "    '../doc3.txt'])\n",
    "\n",
    "# Print BoW\n",
    "print(bow)"
   ]
  },
  {
   "cell_type": "markdown",
   "metadata": {},
   "source": [
    "If your attempt above is successful, nice work done!\n",
    "\n",
    "Now test your function again with the stop words. In the previous lab we defined the stop words in a large array. In this lab, we'll import the stop words from Scikit-Learn."
   ]
  },
  {
   "cell_type": "code",
   "execution_count": 3,
   "metadata": {},
   "outputs": [
    {
     "name": "stdout",
     "output_type": "stream",
     "text": [
      "frozenset({'thereby', 'hereupon', 'cry', 'another', 'herein', 'behind', 'again', 'should', 'then', 'whereby', 'over', 'side', 'ourselves', 'if', 'inc', 'detail', 'put', 'anyhow', 'although', 'hereby', 'one', 'not', 'could', 'mill', 'of', 'amongst', 'from', 'six', 'with', 'co', 'every', 'itself', 'among', 'still', 'nowhere', 'along', 'beyond', 'towards', 'much', 'alone', 'be', 'back', 'whole', 'our', 'therein', 'often', 'cannot', 'ie', 'whether', 'us', 'it', 'until', 'fifty', 'on', 'whereafter', 'becomes', 'etc', 'front', 'show', 'thin', 'latter', 'however', 'seemed', 'whatever', 'and', 'hereafter', 'she', 'becoming', 'noone', 'hundred', 'amoungst', 'fill', 'myself', 'forty', 'whoever', 'least', 'something', 'none', 'so', 'against', 'once', 'sixty', 'an', 'other', 'after', 'they', 'yourselves', 'throughout', 'would', 'system', 'bill', 'might', 'via', 'un', 'besides', 'above', 'without', 'for', 'whereupon', 'done', 'you', 'ever', 'more', 'her', 'ltd', 'also', 'hasnt', 'have', 'me', 'can', 'go', 'under', 'yours', 'perhaps', 'during', 'wherein', 'see', 'interest', 'whose', 'within', 'herself', 'get', 'otherwise', 'all', 'indeed', 'seems', 'only', 'thus', 'across', 'anywhere', 'sometimes', 'now', 'latterly', 'where', 'enough', 'eight', 'two', 'i', 'further', 'was', 'per', 'seeming', 'together', 'are', 'due', 'been', 'these', 'must', 'most', 'anyway', 'last', 'always', 'next', 'even', 'part', 'him', 'around', 'well', 'eleven', 'who', 'some', 'others', 'anyone', 'whenever', 'off', 'nine', 'top', 'twelve', 'through', 'became', 'several', 'already', 'nor', 'everywhere', 'a', 'whom', 'which', 'namely', 'formerly', 'between', 'bottom', 'am', 'while', 'find', 'them', 'never', 'neither', 'thence', 'each', 'de', 'cant', 'beside', 'mostly', 'own', 'we', 'what', 'at', 'elsewhere', 'full', 'moreover', 'but', 're', 'his', 'in', 'he', 'sometime', 'because', 'very', 'nevertheless', 'less', 'somehow', 'those', 'nothing', 'to', 'seem', 'how', 'five', 'yourself', 'couldnt', 'down', 'my', 'give', 'any', 'here', 'were', 'too', 'that', 'or', 'why', 'since', 'fire', 'serious', 'everyone', 'has', 'thick', 'con', 'few', 'same', 'sincere', 'out', 'made', 'somewhere', 'rather', 'everything', 'as', 'will', 'describe', 'someone', 'move', 'up', 'whereas', 'anything', 'himself', 'onto', 'had', 'this', 'call', 'yet', 'please', 'nobody', 'by', 'may', 'eg', 'except', 'keep', 'therefore', 'thereafter', 'found', 'into', 'become', 'third', 'such', 'ten', 'name', 'first', 'is', 'empty', 'meanwhile', 'do', 'fifteen', 'both', 'there', 'many', 'former', 'hence', 'below', 'beforehand', 'its', 'ours', 'your', 'afterwards', 'else', 'whither', 'themselves', 'toward', 'mine', 'either', 'no', 'when', 'twenty', 'hers', 'than', 'thru', 'amount', 'almost', 'before', 'their', 'four', 'about', 'though', 'take', 'whence', 'thereupon', 'three', 'being', 'wherever', 'the', 'upon'})\n"
     ]
    }
   ],
   "source": [
    "from sklearn.feature_extraction import stop_words\n",
    "print(stop_words.ENGLISH_STOP_WORDS)"
   ]
  },
  {
   "cell_type": "markdown",
   "metadata": {},
   "source": [
    "You should have seen a large list of words that looks like:\n",
    "\n",
    "```frozenset({'across', 'mine', 'cannot', ...})```\n",
    "\n",
    "`frozenset` is a type of Python object that is immutable. In this lab you can use it just like an array without conversion."
   ]
  },
  {
   "cell_type": "markdown",
   "metadata": {},
   "source": [
    "Next, test your function with supplying `stop_words.ENGLISH_STOP_WORDS` as the second parameter."
   ]
  },
  {
   "cell_type": "code",
   "execution_count": 4,
   "metadata": {},
   "outputs": [
    {
     "name": "stdout",
     "output_type": "stream",
     "text": [
      "{'bag_of_words': ['ironhack', 'cool', 'love', 'student'], 'term_freq': [[1, 1, 0, 0], [1, 0, 1, 0], [1, 0, 0, 1]]}\n"
     ]
    }
   ],
   "source": [
    "bow = get_bow_from_docs([\n",
    "    '../doc1.txt',\n",
    "    '../doc2.txt',\n",
    "    '../doc3.txt'],\n",
    "    stop_words.ENGLISH_STOP_WORDS\n",
    ")\n",
    "\n",
    "print(bow)"
   ]
  },
  {
   "cell_type": "markdown",
   "metadata": {},
   "source": [
    "You should have seen:\n",
    "\n",
    "```{'bag_of_words': ['ironhack', 'cool', 'love', 'student'], 'term_freq': [[1, 1, 0, 0], [1, 0, 1, 0], [1, 0, 0, 1]]}```"
   ]
  }
 ],
 "metadata": {
  "kernelspec": {
   "display_name": "Python 3",
   "language": "python",
   "name": "python3"
  },
  "language_info": {
   "codemirror_mode": {
    "name": "ipython",
    "version": 3
   },
   "file_extension": ".py",
   "mimetype": "text/x-python",
   "name": "python",
   "nbconvert_exporter": "python",
   "pygments_lexer": "ipython3",
   "version": "3.7.4"
  }
 },
 "nbformat": 4,
 "nbformat_minor": 2
}
