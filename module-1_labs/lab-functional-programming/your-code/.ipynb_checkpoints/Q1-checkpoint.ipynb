{
 "cells": [
  {
   "cell_type": "markdown",
   "metadata": {},
   "source": [
    "In the cell below, create a Python function that wraps your previous solution for the Bag of Words lab.\n",
    "\n",
    "Requirements:\n",
    "\n",
    "1. Your function should accept the following parameters:\n",
    "    * `docs` [REQUIRED] - array of document paths.\n",
    "    * `stop_words` [OPTIONAL] - array of stop words. The default value is an empty array.\n",
    "\n",
    "1. Your function should return a Python object that contains the following:\n",
    "    * `bag_of_words` - array of strings of normalized unique words in the corpus.\n",
    "    * `term_freq` - array of the term-frequency vectors."
   ]
  },
  {
   "cell_type": "code",
   "execution_count": 1,
   "metadata": {},
   "outputs": [],
   "source": [
    "# Import required libraries\n",
    "from string import punctuation\n",
    "\n",
    "# Define function\n",
    "def get_bow_from_docs(docs, stop_words=[]):\n",
    "    \n",
    "    # In the function, first define the variables you will use such as `corpus`, `bag_of_words`, and `term_freq`.\n",
    "    corpus = []\n",
    "    bag_of_words = []\n",
    "    term_freq = []\n",
    "        \n",
    "    \"\"\"\n",
    "    Loop `docs` and read the content of each doc into a string in `corpus`.\n",
    "    Remember to convert the doc content to lowercases and remove punctuation.\n",
    "    \"\"\"\n",
    "    for doc in docs:\n",
    "        f = open(doc, 'r')\n",
    "        s = f.read()\n",
    "        s = ''.join(c for c in s if c not in punctuation)\n",
    "        corpus.append(s.lower())\n",
    "        f.close()\n",
    "        \n",
    "    \"\"\"\n",
    "    Loop `corpus`. Append the terms in each doc into the `bag_of_words` array. The terms in `bag_of_words` \n",
    "    should be unique which means before adding each term you need to check if it's already added to the array.\n",
    "    In addition, check if each term is in the `stop_words` array. Only append the term to `bag_of_words`\n",
    "    if it is not a stop word.\n",
    "    \"\"\"\n",
    "    for s in corpus:\n",
    "        s = ''.join(c for c in s if c not in punctuation)\n",
    "        terms = s.split()\n",
    "        for term in terms:\n",
    "            if not term in bag_of_words and not term in stop_words:\n",
    "                bag_of_words.append(term)\n",
    "        \n",
    "    \"\"\"\n",
    "    Loop `corpus` again. For each doc string, count the number of occurrences of each term in `bag_of_words`. \n",
    "    Create an array for each doc's term frequency and append it to `term_freq`.\n",
    "    \"\"\"\n",
    "    for s in corpus:\n",
    "        freq = []\n",
    "        terms = s.split()\n",
    "        for word in bag_of_words:\n",
    "            freq.append(terms.count(word))\n",
    "        term_freq.append(freq)\n",
    "        \n",
    "    # Now return your output as an object\n",
    "    return {\n",
    "        \"bag_of_words\": bag_of_words,\n",
    "        \"term_freq\": term_freq\n",
    "    }\n",
    "    "
   ]
  },
  {
   "cell_type": "markdown",
   "metadata": {},
   "source": [
    "Test your function without stop words. You should see the output like below:\n",
    "\n",
    "```{'bag_of_words': ['ironhack', 'is', 'cool', 'i', 'love', 'am', 'a', 'student', 'at'], 'term_freq': [[1, 1, 1, 0, 0, 0, 0, 0, 0], [1, 0, 0, 1, 1, 0, 0, 0, 0], [1, 0, 0, 1, 0, 1, 1, 1, 1]]}```"
   ]
  },
  {
   "cell_type": "code",
   "execution_count": 2,
   "metadata": {},
   "outputs": [
    {
     "name": "stdout",
     "output_type": "stream",
     "text": [
      "{'bag_of_words': ['ironhack', 'is', 'cool', 'i', 'love', 'am', 'a', 'student', 'at'], 'term_freq': [[1, 1, 1, 0, 0, 0, 0, 0, 0], [1, 0, 0, 1, 1, 0, 0, 0, 0], [1, 0, 0, 1, 0, 1, 1, 1, 1]]}\n"
     ]
    }
   ],
   "source": [
    "# Define doc paths array\n",
    "# docs = []\n",
    "\n",
    "# Obtain BoW from your function\n",
    "bow = get_bow_from_docs([\n",
    "    '../doc1.txt',\n",
    "    '../doc2.txt',\n",
    "    '../doc3.txt'])\n",
    "\n",
    "# Print BoW\n",
    "print(bow)"
   ]
  },
  {
   "cell_type": "markdown",
   "metadata": {},
   "source": [
    "If your attempt above is successful, nice work done!\n",
    "\n",
    "Now test your function again with the stop words. In the previous lab we defined the stop words in a large array. In this lab, we'll import the stop words from Scikit-Learn."
   ]
  },
  {
   "cell_type": "code",
   "execution_count": 3,
   "metadata": {},
   "outputs": [
    {
     "name": "stdout",
     "output_type": "stream",
     "text": [
      "frozenset({'nine', 'a', 'anyway', 'front', 'first', 'hers', 'forty', 'because', 'un', 'how', 'meanwhile', 'until', 'two', 'here', 'nobody', 'own', 'same', 'hereby', 'nowhere', 'four', 'must', 'will', 'themselves', 'thick', 'except', 'eg', 'she', 'made', 'twelve', 'sometime', 'was', 'please', 'during', 'against', 'everywhere', 'it', 'bottom', 'ten', 'see', 'perhaps', 'its', 'between', 'am', 'should', 'mine', 'those', 'show', 'last', 'in', 'they', 'inc', 'thin', 'name', 'still', 'whole', 'con', 'describe', 'twenty', 'whether', 'on', 'their', 'wherein', 'alone', 'etc', 'former', 'towards', 'move', 'thus', 'ie', 'rather', 'onto', 'do', 'that', 'anyhow', 'beyond', 'is', 'give', 'further', 'indeed', 'everything', 'three', 'afterwards', 'he', 'others', 'part', 'where', 'therefore', 'formerly', 'thereafter', 'interest', 'full', 'whence', 'there', 'can', 'about', 'but', 'therein', 'by', 'us', 'always', 'sixty', 'above', 'noone', 'or', 'throughout', 'what', 'at', 'which', 'ever', 'hundred', 'my', 'eleven', 'although', 'among', 'namely', 'over', 'fire', 'very', 'least', 'else', 'wherever', 'me', 'back', 'upon', 'his', 'this', 'found', 'without', 'becoming', 'anyone', 'whoever', 'we', 'latterly', 'seems', 'has', 'might', 'go', 'hence', 'an', 'cant', 'most', 'seeming', 'once', 'amoungst', 'get', 'much', 'ltd', 'several', 'around', 'had', 'well', 'whose', 'seemed', 'when', 'somewhere', 'five', 'amount', 'cry', 'become', 'next', 'fifty', 'yourself', 'then', 'whenever', 'even', 'system', 'within', 'whatever', 'than', 'fifteen', 'her', 'itself', 'put', 'so', 'your', 'mill', 'under', 'be', 'also', 'of', 'both', 'seem', 'up', 'one', 'enough', 'any', 'herself', 'to', 'are', 'were', 'per', 'have', 'due', 'herein', 'someone', 'each', 'i', 'as', 'more', 'yourselves', 'bill', 'whereas', 'no', 'other', 'himself', 'keep', 'too', 'ours', 'hasnt', 'anything', 'another', 'take', 'yours', 'serious', 'every', 'whereupon', 'six', 'been', 'off', 'third', 'after', 'find', 'now', 'before', 'side', 'becomes', 'if', 'many', 'nevertheless', 'these', 'fill', 'toward', 'anywhere', 'down', 'de', 'thereupon', 'detail', 'often', 'everyone', 'the', 'latter', 'thru', 'sincere', 'none', 'nothing', 'hereafter', 'and', 'whereafter', 'top', 'mostly', 'across', 'through', 'beside', 'something', 'along', 'not', 'eight', 'for', 'into', 'whereby', 'such', 'beforehand', 'already', 'yet', 'being', 'via', 'however', 'moreover', 'less', 'few', 'may', 'done', 'sometimes', 're', 'whom', 'while', 'all', 'either', 'only', 'him', 'somehow', 'ourselves', 'them', 'never', 'from', 'since', 'myself', 'call', 'co', 'empty', 'again', 'cannot', 'could', 'some', 'our', 'besides', 'behind', 'would', 'otherwise', 'you', 'whither', 'who', 'almost', 'together', 'hereupon', 'with', 'below', 'became', 'thereby', 'amongst', 'nor', 'elsewhere', 'neither', 'out', 'couldnt', 'why', 'though', 'thence'})\n"
     ]
    }
   ],
   "source": [
    "from sklearn.feature_extraction import stop_words\n",
    "print(stop_words.ENGLISH_STOP_WORDS)"
   ]
  },
  {
   "cell_type": "markdown",
   "metadata": {},
   "source": [
    "You should have seen a large list of words that looks like:\n",
    "\n",
    "```frozenset({'across', 'mine', 'cannot', ...})```\n",
    "\n",
    "`frozenset` is a type of Python object that is immutable. In this lab you can use it just like an array without conversion."
   ]
  },
  {
   "cell_type": "markdown",
   "metadata": {},
   "source": [
    "Next, test your function with supplying `stop_words.ENGLISH_STOP_WORDS` as the second parameter."
   ]
  },
  {
   "cell_type": "code",
   "execution_count": 4,
   "metadata": {},
   "outputs": [
    {
     "name": "stdout",
     "output_type": "stream",
     "text": [
      "{'bag_of_words': ['ironhack', 'cool', 'love', 'student'], 'term_freq': [[1, 1, 0, 0], [1, 0, 1, 0], [1, 0, 0, 1]]}\n"
     ]
    }
   ],
   "source": [
    "bow = get_bow_from_docs([\n",
    "    '../doc1.txt',\n",
    "    '../doc2.txt',\n",
    "    '../doc3.txt'],\n",
    "    stop_words.ENGLISH_STOP_WORDS\n",
    ")\n",
    "\n",
    "print(bow)"
   ]
  },
  {
   "cell_type": "markdown",
   "metadata": {},
   "source": [
    "You should have seen:\n",
    "\n",
    "```{'bag_of_words': ['ironhack', 'cool', 'love', 'student'], 'term_freq': [[1, 1, 0, 0], [1, 0, 1, 0], [1, 0, 0, 1]]}```"
   ]
  }
 ],
 "metadata": {
  "kernelspec": {
   "display_name": "Python 3",
   "language": "python",
   "name": "python3"
  },
  "language_info": {
   "codemirror_mode": {
    "name": "ipython",
    "version": 3
   },
   "file_extension": ".py",
   "mimetype": "text/x-python",
   "name": "python",
   "nbconvert_exporter": "python",
   "pygments_lexer": "ipython3",
   "version": "3.7.4"
  }
 },
 "nbformat": 4,
 "nbformat_minor": 2
}
