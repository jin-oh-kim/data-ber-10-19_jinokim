{
 "cells": [
  {
   "cell_type": "code",
   "execution_count": 1,
   "metadata": {},
   "outputs": [],
   "source": [
    "import pandas as pd\n",
    "import numpy as np\n",
    "import re"
   ]
  },
  {
   "cell_type": "code",
   "execution_count": 2,
   "metadata": {},
   "outputs": [],
   "source": [
    "# pd.read_csv(\"GSAF5.csv\", encoding = 'utf-8', errors = 'ignore')\n",
    "# pd.read_csv(\"GSAF5.csv\", sep = \"\\t\", encoding = 'utf-8', errors = 'ignore')\n",
    "# df = pd.read_csv('GSAF5.csv', sep = \"\\t\", encoding = 'CP949', errors = 'ignore')\n",
    "# pd.read_csv('GSAF5.csv', sep = '\\t', encoding = 'utf-8')\n",
    "\n",
    "\n",
    "df = pd.read_csv(\"GSAF5.csv\", encoding = \"ISO-8859-1\")\n"
   ]
  },
  {
   "cell_type": "code",
   "execution_count": 3,
   "metadata": {
    "scrolled": true
   },
   "outputs": [
    {
     "data": {
      "text/plain": [
       "(5992, 24)"
      ]
     },
     "execution_count": 3,
     "metadata": {},
     "output_type": "execute_result"
    }
   ],
   "source": [
    "df.shape"
   ]
  },
  {
   "cell_type": "code",
   "execution_count": 4,
   "metadata": {},
   "outputs": [
    {
     "data": {
      "text/plain": [
       "Index(['Case Number', 'Date', 'Year', 'Type', 'Country', 'Area', 'Location',\n",
       "       'Activity', 'Name', 'Sex ', 'Age', 'Injury', 'Fatal (Y/N)', 'Time',\n",
       "       'Species ', 'Investigator or Source', 'pdf', 'href formula', 'href',\n",
       "       'Case Number.1', 'Case Number.2', 'original order', 'Unnamed: 22',\n",
       "       'Unnamed: 23'],\n",
       "      dtype='object')"
      ]
     },
     "execution_count": 4,
     "metadata": {},
     "output_type": "execute_result"
    }
   ],
   "source": [
    "df.columns"
   ]
  },
  {
   "cell_type": "code",
   "execution_count": 5,
   "metadata": {},
   "outputs": [
    {
     "data": {
      "text/html": [
       "<div>\n",
       "<style scoped>\n",
       "    .dataframe tbody tr th:only-of-type {\n",
       "        vertical-align: middle;\n",
       "    }\n",
       "\n",
       "    .dataframe tbody tr th {\n",
       "        vertical-align: top;\n",
       "    }\n",
       "\n",
       "    .dataframe thead th {\n",
       "        text-align: right;\n",
       "    }\n",
       "</style>\n",
       "<table border=\"1\" class=\"dataframe\">\n",
       "  <thead>\n",
       "    <tr style=\"text-align: right;\">\n",
       "      <th></th>\n",
       "      <th>Case Number</th>\n",
       "      <th>Date</th>\n",
       "      <th>Year</th>\n",
       "      <th>Type</th>\n",
       "      <th>Country</th>\n",
       "      <th>Area</th>\n",
       "      <th>Location</th>\n",
       "      <th>Activity</th>\n",
       "      <th>Name</th>\n",
       "      <th>Sex</th>\n",
       "      <th>...</th>\n",
       "      <th>Species</th>\n",
       "      <th>Investigator or Source</th>\n",
       "      <th>pdf</th>\n",
       "      <th>href formula</th>\n",
       "      <th>href</th>\n",
       "      <th>Case Number.1</th>\n",
       "      <th>Case Number.2</th>\n",
       "      <th>original order</th>\n",
       "      <th>Unnamed: 22</th>\n",
       "      <th>Unnamed: 23</th>\n",
       "    </tr>\n",
       "  </thead>\n",
       "  <tbody>\n",
       "    <tr>\n",
       "      <th>0</th>\n",
       "      <td>2016.09.18.c</td>\n",
       "      <td>18-Sep-16</td>\n",
       "      <td>2016</td>\n",
       "      <td>Unprovoked</td>\n",
       "      <td>USA</td>\n",
       "      <td>Florida</td>\n",
       "      <td>New Smyrna Beach, Volusia County</td>\n",
       "      <td>Surfing</td>\n",
       "      <td>male</td>\n",
       "      <td>M</td>\n",
       "      <td>...</td>\n",
       "      <td>NaN</td>\n",
       "      <td>Orlando Sentinel, 9/19/2016</td>\n",
       "      <td>2016.09.18.c-NSB.pdf</td>\n",
       "      <td>http://sharkattackfile.net/spreadsheets/pdf_di...</td>\n",
       "      <td>http://sharkattackfile.net/spreadsheets/pdf_di...</td>\n",
       "      <td>2016.09.18.c</td>\n",
       "      <td>2016.09.18.c</td>\n",
       "      <td>5993</td>\n",
       "      <td>NaN</td>\n",
       "      <td>NaN</td>\n",
       "    </tr>\n",
       "    <tr>\n",
       "      <th>1</th>\n",
       "      <td>2016.09.18.b</td>\n",
       "      <td>18-Sep-16</td>\n",
       "      <td>2016</td>\n",
       "      <td>Unprovoked</td>\n",
       "      <td>USA</td>\n",
       "      <td>Florida</td>\n",
       "      <td>New Smyrna Beach, Volusia County</td>\n",
       "      <td>Surfing</td>\n",
       "      <td>Chucky Luciano</td>\n",
       "      <td>M</td>\n",
       "      <td>...</td>\n",
       "      <td>NaN</td>\n",
       "      <td>Orlando Sentinel, 9/19/2016</td>\n",
       "      <td>2016.09.18.b-Luciano.pdf</td>\n",
       "      <td>http://sharkattackfile.net/spreadsheets/pdf_di...</td>\n",
       "      <td>http://sharkattackfile.net/spreadsheets/pdf_di...</td>\n",
       "      <td>2016.09.18.b</td>\n",
       "      <td>2016.09.18.b</td>\n",
       "      <td>5992</td>\n",
       "      <td>NaN</td>\n",
       "      <td>NaN</td>\n",
       "    </tr>\n",
       "    <tr>\n",
       "      <th>2</th>\n",
       "      <td>2016.09.18.a</td>\n",
       "      <td>18-Sep-16</td>\n",
       "      <td>2016</td>\n",
       "      <td>Unprovoked</td>\n",
       "      <td>USA</td>\n",
       "      <td>Florida</td>\n",
       "      <td>New Smyrna Beach, Volusia County</td>\n",
       "      <td>Surfing</td>\n",
       "      <td>male</td>\n",
       "      <td>M</td>\n",
       "      <td>...</td>\n",
       "      <td>NaN</td>\n",
       "      <td>Orlando Sentinel, 9/19/2016</td>\n",
       "      <td>2016.09.18.a-NSB.pdf</td>\n",
       "      <td>http://sharkattackfile.net/spreadsheets/pdf_di...</td>\n",
       "      <td>http://sharkattackfile.net/spreadsheets/pdf_di...</td>\n",
       "      <td>2016.09.18.a</td>\n",
       "      <td>2016.09.18.a</td>\n",
       "      <td>5991</td>\n",
       "      <td>NaN</td>\n",
       "      <td>NaN</td>\n",
       "    </tr>\n",
       "  </tbody>\n",
       "</table>\n",
       "<p>3 rows × 24 columns</p>\n",
       "</div>"
      ],
      "text/plain": [
       "    Case Number       Date  Year        Type Country     Area  \\\n",
       "0  2016.09.18.c  18-Sep-16  2016  Unprovoked     USA  Florida   \n",
       "1  2016.09.18.b  18-Sep-16  2016  Unprovoked     USA  Florida   \n",
       "2  2016.09.18.a  18-Sep-16  2016  Unprovoked     USA  Florida   \n",
       "\n",
       "                           Location Activity            Name Sex   ...  \\\n",
       "0  New Smyrna Beach, Volusia County  Surfing            male    M  ...   \n",
       "1  New Smyrna Beach, Volusia County  Surfing  Chucky Luciano    M  ...   \n",
       "2  New Smyrna Beach, Volusia County  Surfing            male    M  ...   \n",
       "\n",
       "  Species        Investigator or Source                       pdf  \\\n",
       "0      NaN  Orlando Sentinel, 9/19/2016      2016.09.18.c-NSB.pdf   \n",
       "1      NaN  Orlando Sentinel, 9/19/2016  2016.09.18.b-Luciano.pdf   \n",
       "2      NaN  Orlando Sentinel, 9/19/2016      2016.09.18.a-NSB.pdf   \n",
       "\n",
       "                                        href formula  \\\n",
       "0  http://sharkattackfile.net/spreadsheets/pdf_di...   \n",
       "1  http://sharkattackfile.net/spreadsheets/pdf_di...   \n",
       "2  http://sharkattackfile.net/spreadsheets/pdf_di...   \n",
       "\n",
       "                                                href Case Number.1  \\\n",
       "0  http://sharkattackfile.net/spreadsheets/pdf_di...  2016.09.18.c   \n",
       "1  http://sharkattackfile.net/spreadsheets/pdf_di...  2016.09.18.b   \n",
       "2  http://sharkattackfile.net/spreadsheets/pdf_di...  2016.09.18.a   \n",
       "\n",
       "  Case Number.2 original order Unnamed: 22 Unnamed: 23  \n",
       "0  2016.09.18.c           5993         NaN         NaN  \n",
       "1  2016.09.18.b           5992         NaN         NaN  \n",
       "2  2016.09.18.a           5991         NaN         NaN  \n",
       "\n",
       "[3 rows x 24 columns]"
      ]
     },
     "execution_count": 5,
     "metadata": {},
     "output_type": "execute_result"
    }
   ],
   "source": [
    "# df.head()\n",
    "df.head(3)"
   ]
  },
  {
   "cell_type": "code",
   "execution_count": null,
   "metadata": {},
   "outputs": [],
   "source": [
    "# df.head().transpose()"
   ]
  },
  {
   "cell_type": "code",
   "execution_count": null,
   "metadata": {
    "scrolled": false
   },
   "outputs": [],
   "source": [
    "# df.describe(include = 'all')\n",
    "# df.describe()"
   ]
  },
  {
   "cell_type": "code",
   "execution_count": null,
   "metadata": {
    "scrolled": false
   },
   "outputs": [],
   "source": [
    "# df.isnull()"
   ]
  },
  {
   "cell_type": "code",
   "execution_count": null,
   "metadata": {
    "scrolled": false
   },
   "outputs": [],
   "source": [
    "# df.dtypes"
   ]
  },
  {
   "cell_type": "code",
   "execution_count": 6,
   "metadata": {},
   "outputs": [
    {
     "name": "stdout",
     "output_type": "stream",
     "text": [
      "<class 'pandas.core.frame.DataFrame'>\n",
      "RangeIndex: 5992 entries, 0 to 5991\n",
      "Data columns (total 24 columns):\n",
      "Case Number               5992 non-null object\n",
      "Date                      5992 non-null object\n",
      "Year                      5992 non-null int64\n",
      "Type                      5992 non-null object\n",
      "Country                   5949 non-null object\n",
      "Area                      5590 non-null object\n",
      "Location                  5496 non-null object\n",
      "Activity                  5465 non-null object\n",
      "Name                      5792 non-null object\n",
      "Sex                       5425 non-null object\n",
      "Age                       3311 non-null object\n",
      "Injury                    5965 non-null object\n",
      "Fatal (Y/N)               5973 non-null object\n",
      "Time                      2779 non-null object\n",
      "Species                   3058 non-null object\n",
      "Investigator or Source    5977 non-null object\n",
      "pdf                       5992 non-null object\n",
      "href formula              5991 non-null object\n",
      "href                      5989 non-null object\n",
      "Case Number.1             5992 non-null object\n",
      "Case Number.2             5992 non-null object\n",
      "original order            5992 non-null int64\n",
      "Unnamed: 22               1 non-null object\n",
      "Unnamed: 23               2 non-null object\n",
      "dtypes: int64(2), object(22)\n",
      "memory usage: 1.1+ MB\n"
     ]
    }
   ],
   "source": [
    "df.info()"
   ]
  },
  {
   "cell_type": "code",
   "execution_count": null,
   "metadata": {
    "scrolled": false
   },
   "outputs": [],
   "source": [
    "# df.isnull().sum()"
   ]
  },
  {
   "cell_type": "code",
   "execution_count": 7,
   "metadata": {},
   "outputs": [],
   "source": [
    "null_cols = df.isnull().sum()"
   ]
  },
  {
   "cell_type": "code",
   "execution_count": 8,
   "metadata": {
    "scrolled": false
   },
   "outputs": [
    {
     "data": {
      "text/plain": [
       "Country                     43\n",
       "Area                       402\n",
       "Location                   496\n",
       "Activity                   527\n",
       "Name                       200\n",
       "Sex                        567\n",
       "Age                       2681\n",
       "Injury                      27\n",
       "Fatal (Y/N)                 19\n",
       "Time                      3213\n",
       "Species                   2934\n",
       "Investigator or Source      15\n",
       "href formula                 1\n",
       "href                         3\n",
       "Unnamed: 22               5991\n",
       "Unnamed: 23               5990\n",
       "dtype: int64"
      ]
     },
     "execution_count": 8,
     "metadata": {},
     "output_type": "execute_result"
    }
   ],
   "source": [
    "null_cols[null_cols > 0]"
   ]
  },
  {
   "cell_type": "code",
   "execution_count": 9,
   "metadata": {
    "scrolled": false
   },
   "outputs": [
    {
     "data": {
      "text/plain": [
       "change filename    1\n",
       "Teramo             1\n",
       "Name: Unnamed: 23, dtype: int64"
      ]
     },
     "execution_count": 9,
     "metadata": {},
     "output_type": "execute_result"
    }
   ],
   "source": [
    "# df[\"Case Number\"].value_counts()\n",
    "# df[\"Date\"].value_counts()\n",
    "# df[\"Year\"].value_counts()\n",
    "# df[\"Type\"].value_counts()\n",
    "# df[\"Country\"].value_counts()\n",
    "# df[\"Area\"].value_counts()\n",
    "# df[\"Location\"].value_counts()\n",
    "# df[\"Activity\"].value_counts()\n",
    "# df[\"Name\"].value_counts()\n",
    "# df[\"Sex \"].value_counts()\n",
    "# df[\"Age\"].value_counts()\n",
    "# df[\"Injury\"].value_counts()\n",
    "# df[\"Fatal (Y/N)\"].value_counts()\n",
    "# df[\"Time\"].value_counts()\n",
    "# df[\"Species \"].value_counts()\n",
    "# df[\"Investigator or Source\"].value_counts()\n",
    "# df[\"pdf\"].value_counts()\n",
    "# df[\"href formula\"].value_counts()\n",
    "# df[\"href\"].value_counts()\n",
    "# df[\"Case Number.1\"].value_counts()\n",
    "# df[\"Case Number.2\"].value_counts()\n",
    "# df[\"original order\"].value_counts()\n",
    "# df[\"Unnamed: 22\"].value_counts()\n",
    "df[\"Unnamed: 23\"].value_counts()"
   ]
  },
  {
   "cell_type": "code",
   "execution_count": 10,
   "metadata": {
    "scrolled": true
   },
   "outputs": [
    {
     "data": {
      "text/plain": [
       "Index(['Case Number', 'Date', 'Year', 'Type', 'Country', 'Area', 'Location',\n",
       "       'Activity', 'Name', 'Sex ', 'Age', 'Injury', 'Fatal (Y/N)', 'Time',\n",
       "       'Species ', 'Investigator or Source', 'pdf', 'href formula', 'href',\n",
       "       'Case Number.1', 'Case Number.2', 'original order', 'Unnamed: 22',\n",
       "       'Unnamed: 23'],\n",
       "      dtype='object')"
      ]
     },
     "execution_count": 10,
     "metadata": {},
     "output_type": "execute_result"
    }
   ],
   "source": [
    "df.columns"
   ]
  },
  {
   "cell_type": "code",
   "execution_count": 11,
   "metadata": {},
   "outputs": [],
   "source": [
    "df = df[['original order', 'Case Number', 'Location', 'Area', 'Country', 'Time', 'Name', 'Sex ', 'Age', 'Activity', 'Species ', 'Injury', 'Fatal (Y/N)', 'Investigator or Source', 'href', 'Date', 'Year', 'pdf', 'Type', 'href formula', 'Case Number.1', 'Case Number.2', 'Unnamed: 22', 'Unnamed: 23']]\n"
   ]
  },
  {
   "cell_type": "code",
   "execution_count": 12,
   "metadata": {},
   "outputs": [],
   "source": [
    "drop_cols = list(null_cols[null_cols > 5000].index)\n",
    "df = df.drop(drop_cols, axis = 1)"
   ]
  },
  {
   "cell_type": "code",
   "execution_count": 13,
   "metadata": {
    "scrolled": false
   },
   "outputs": [
    {
     "data": {
      "text/html": [
       "<div>\n",
       "<style scoped>\n",
       "    .dataframe tbody tr th:only-of-type {\n",
       "        vertical-align: middle;\n",
       "    }\n",
       "\n",
       "    .dataframe tbody tr th {\n",
       "        vertical-align: top;\n",
       "    }\n",
       "\n",
       "    .dataframe thead th {\n",
       "        text-align: right;\n",
       "    }\n",
       "</style>\n",
       "<table border=\"1\" class=\"dataframe\">\n",
       "  <thead>\n",
       "    <tr style=\"text-align: right;\">\n",
       "      <th></th>\n",
       "      <th>original order</th>\n",
       "      <th>Case Number</th>\n",
       "      <th>Location</th>\n",
       "      <th>Area</th>\n",
       "      <th>Country</th>\n",
       "      <th>Time</th>\n",
       "      <th>Name</th>\n",
       "      <th>Sex</th>\n",
       "      <th>Age</th>\n",
       "      <th>Activity</th>\n",
       "      <th>...</th>\n",
       "      <th>Fatal (Y/N)</th>\n",
       "      <th>Investigator or Source</th>\n",
       "      <th>href</th>\n",
       "      <th>Date</th>\n",
       "      <th>Year</th>\n",
       "      <th>pdf</th>\n",
       "      <th>Type</th>\n",
       "      <th>href formula</th>\n",
       "      <th>Case Number.1</th>\n",
       "      <th>Case Number.2</th>\n",
       "    </tr>\n",
       "  </thead>\n",
       "  <tbody>\n",
       "    <tr>\n",
       "      <th>0</th>\n",
       "      <td>5993</td>\n",
       "      <td>2016.09.18.c</td>\n",
       "      <td>New Smyrna Beach, Volusia County</td>\n",
       "      <td>Florida</td>\n",
       "      <td>USA</td>\n",
       "      <td>13h00</td>\n",
       "      <td>male</td>\n",
       "      <td>M</td>\n",
       "      <td>16</td>\n",
       "      <td>Surfing</td>\n",
       "      <td>...</td>\n",
       "      <td>N</td>\n",
       "      <td>Orlando Sentinel, 9/19/2016</td>\n",
       "      <td>http://sharkattackfile.net/spreadsheets/pdf_di...</td>\n",
       "      <td>18-Sep-16</td>\n",
       "      <td>2016</td>\n",
       "      <td>2016.09.18.c-NSB.pdf</td>\n",
       "      <td>Unprovoked</td>\n",
       "      <td>http://sharkattackfile.net/spreadsheets/pdf_di...</td>\n",
       "      <td>2016.09.18.c</td>\n",
       "      <td>2016.09.18.c</td>\n",
       "    </tr>\n",
       "    <tr>\n",
       "      <th>1</th>\n",
       "      <td>5992</td>\n",
       "      <td>2016.09.18.b</td>\n",
       "      <td>New Smyrna Beach, Volusia County</td>\n",
       "      <td>Florida</td>\n",
       "      <td>USA</td>\n",
       "      <td>11h00</td>\n",
       "      <td>Chucky Luciano</td>\n",
       "      <td>M</td>\n",
       "      <td>36</td>\n",
       "      <td>Surfing</td>\n",
       "      <td>...</td>\n",
       "      <td>N</td>\n",
       "      <td>Orlando Sentinel, 9/19/2016</td>\n",
       "      <td>http://sharkattackfile.net/spreadsheets/pdf_di...</td>\n",
       "      <td>18-Sep-16</td>\n",
       "      <td>2016</td>\n",
       "      <td>2016.09.18.b-Luciano.pdf</td>\n",
       "      <td>Unprovoked</td>\n",
       "      <td>http://sharkattackfile.net/spreadsheets/pdf_di...</td>\n",
       "      <td>2016.09.18.b</td>\n",
       "      <td>2016.09.18.b</td>\n",
       "    </tr>\n",
       "    <tr>\n",
       "      <th>2</th>\n",
       "      <td>5991</td>\n",
       "      <td>2016.09.18.a</td>\n",
       "      <td>New Smyrna Beach, Volusia County</td>\n",
       "      <td>Florida</td>\n",
       "      <td>USA</td>\n",
       "      <td>10h43</td>\n",
       "      <td>male</td>\n",
       "      <td>M</td>\n",
       "      <td>43</td>\n",
       "      <td>Surfing</td>\n",
       "      <td>...</td>\n",
       "      <td>N</td>\n",
       "      <td>Orlando Sentinel, 9/19/2016</td>\n",
       "      <td>http://sharkattackfile.net/spreadsheets/pdf_di...</td>\n",
       "      <td>18-Sep-16</td>\n",
       "      <td>2016</td>\n",
       "      <td>2016.09.18.a-NSB.pdf</td>\n",
       "      <td>Unprovoked</td>\n",
       "      <td>http://sharkattackfile.net/spreadsheets/pdf_di...</td>\n",
       "      <td>2016.09.18.a</td>\n",
       "      <td>2016.09.18.a</td>\n",
       "    </tr>\n",
       "  </tbody>\n",
       "</table>\n",
       "<p>3 rows × 22 columns</p>\n",
       "</div>"
      ],
      "text/plain": [
       "   original order   Case Number                          Location     Area  \\\n",
       "0            5993  2016.09.18.c  New Smyrna Beach, Volusia County  Florida   \n",
       "1            5992  2016.09.18.b  New Smyrna Beach, Volusia County  Florida   \n",
       "2            5991  2016.09.18.a  New Smyrna Beach, Volusia County  Florida   \n",
       "\n",
       "  Country   Time            Name Sex  Age Activity  ... Fatal (Y/N)  \\\n",
       "0     USA  13h00            male    M  16  Surfing  ...           N   \n",
       "1     USA  11h00  Chucky Luciano    M  36  Surfing  ...           N   \n",
       "2     USA  10h43            male    M  43  Surfing  ...           N   \n",
       "\n",
       "        Investigator or Source  \\\n",
       "0  Orlando Sentinel, 9/19/2016   \n",
       "1  Orlando Sentinel, 9/19/2016   \n",
       "2  Orlando Sentinel, 9/19/2016   \n",
       "\n",
       "                                                href       Date  Year  \\\n",
       "0  http://sharkattackfile.net/spreadsheets/pdf_di...  18-Sep-16  2016   \n",
       "1  http://sharkattackfile.net/spreadsheets/pdf_di...  18-Sep-16  2016   \n",
       "2  http://sharkattackfile.net/spreadsheets/pdf_di...  18-Sep-16  2016   \n",
       "\n",
       "                        pdf        Type  \\\n",
       "0      2016.09.18.c-NSB.pdf  Unprovoked   \n",
       "1  2016.09.18.b-Luciano.pdf  Unprovoked   \n",
       "2      2016.09.18.a-NSB.pdf  Unprovoked   \n",
       "\n",
       "                                        href formula Case Number.1  \\\n",
       "0  http://sharkattackfile.net/spreadsheets/pdf_di...  2016.09.18.c   \n",
       "1  http://sharkattackfile.net/spreadsheets/pdf_di...  2016.09.18.b   \n",
       "2  http://sharkattackfile.net/spreadsheets/pdf_di...  2016.09.18.a   \n",
       "\n",
       "  Case Number.2  \n",
       "0  2016.09.18.c  \n",
       "1  2016.09.18.b  \n",
       "2  2016.09.18.a  \n",
       "\n",
       "[3 rows x 22 columns]"
      ]
     },
     "execution_count": 13,
     "metadata": {},
     "output_type": "execute_result"
    }
   ],
   "source": [
    "df.head(3)"
   ]
  },
  {
   "cell_type": "code",
   "execution_count": null,
   "metadata": {},
   "outputs": [],
   "source": [
    "# df.fillna(\"unknown\")"
   ]
  },
  {
   "cell_type": "code",
   "execution_count": 14,
   "metadata": {},
   "outputs": [
    {
     "data": {
      "text/plain": [
       "0       False\n",
       "1       False\n",
       "2       False\n",
       "3       False\n",
       "4       False\n",
       "        ...  \n",
       "5987    False\n",
       "5988    False\n",
       "5989    False\n",
       "5990    False\n",
       "5991    False\n",
       "Name: Case Number, Length: 5992, dtype: bool"
      ]
     },
     "execution_count": 14,
     "metadata": {},
     "output_type": "execute_result"
    }
   ],
   "source": [
    "# df[\"Case Number\"].isin(df[\"Case Number.1\"])\n",
    "# df[\"Case Number\"].isin(df[\"Case Number.2\"])\n",
    "df[\"Case Number\"].isin(df[\"Date\"])\n",
    "# df[\"Case Number\"].isin(df[\"Year\"])"
   ]
  },
  {
   "cell_type": "code",
   "execution_count": 15,
   "metadata": {},
   "outputs": [
    {
     "data": {
      "text/html": [
       "<div>\n",
       "<style scoped>\n",
       "    .dataframe tbody tr th:only-of-type {\n",
       "        vertical-align: middle;\n",
       "    }\n",
       "\n",
       "    .dataframe tbody tr th {\n",
       "        vertical-align: top;\n",
       "    }\n",
       "\n",
       "    .dataframe thead th {\n",
       "        text-align: right;\n",
       "    }\n",
       "</style>\n",
       "<table border=\"1\" class=\"dataframe\">\n",
       "  <thead>\n",
       "    <tr style=\"text-align: right;\">\n",
       "      <th></th>\n",
       "      <th>Case Number</th>\n",
       "      <th>Date</th>\n",
       "    </tr>\n",
       "  </thead>\n",
       "  <tbody>\n",
       "    <tr>\n",
       "      <th>0</th>\n",
       "      <td>2016.09.18.c</td>\n",
       "      <td>18-Sep-16</td>\n",
       "    </tr>\n",
       "    <tr>\n",
       "      <th>1</th>\n",
       "      <td>2016.09.18.b</td>\n",
       "      <td>18-Sep-16</td>\n",
       "    </tr>\n",
       "    <tr>\n",
       "      <th>2</th>\n",
       "      <td>2016.09.18.a</td>\n",
       "      <td>18-Sep-16</td>\n",
       "    </tr>\n",
       "    <tr>\n",
       "      <th>3</th>\n",
       "      <td>2016.09.17</td>\n",
       "      <td>17-Sep-16</td>\n",
       "    </tr>\n",
       "    <tr>\n",
       "      <th>4</th>\n",
       "      <td>2016.09.15</td>\n",
       "      <td>16-Sep-16</td>\n",
       "    </tr>\n",
       "    <tr>\n",
       "      <th>...</th>\n",
       "      <td>...</td>\n",
       "      <td>...</td>\n",
       "    </tr>\n",
       "    <tr>\n",
       "      <th>5987</th>\n",
       "      <td>ND.0005</td>\n",
       "      <td>Before 1903</td>\n",
       "    </tr>\n",
       "    <tr>\n",
       "      <th>5988</th>\n",
       "      <td>ND.0004</td>\n",
       "      <td>Before 1903</td>\n",
       "    </tr>\n",
       "    <tr>\n",
       "      <th>5989</th>\n",
       "      <td>ND.0003</td>\n",
       "      <td>1900-1905</td>\n",
       "    </tr>\n",
       "    <tr>\n",
       "      <th>5990</th>\n",
       "      <td>ND.0002</td>\n",
       "      <td>1883-1889</td>\n",
       "    </tr>\n",
       "    <tr>\n",
       "      <th>5991</th>\n",
       "      <td>ND.0001</td>\n",
       "      <td>1845-1853</td>\n",
       "    </tr>\n",
       "  </tbody>\n",
       "</table>\n",
       "<p>5992 rows × 2 columns</p>\n",
       "</div>"
      ],
      "text/plain": [
       "       Case Number         Date\n",
       "0     2016.09.18.c    18-Sep-16\n",
       "1     2016.09.18.b    18-Sep-16\n",
       "2     2016.09.18.a    18-Sep-16\n",
       "3       2016.09.17    17-Sep-16\n",
       "4       2016.09.15    16-Sep-16\n",
       "...            ...          ...\n",
       "5987       ND.0005  Before 1903\n",
       "5988       ND.0004  Before 1903\n",
       "5989       ND.0003    1900-1905\n",
       "5990       ND.0002    1883-1889\n",
       "5991       ND.0001    1845-1853\n",
       "\n",
       "[5992 rows x 2 columns]"
      ]
     },
     "execution_count": 15,
     "metadata": {},
     "output_type": "execute_result"
    }
   ],
   "source": [
    "# Check the date with related columns\n",
    "\n",
    "# df[[\"Case Number\", \"Case Number.1\"]] # remove Case Number.1 column\n",
    "# df[[\"Case Number\", \"Case Number.2\"]] # remove Case Number.2 column\n",
    "df[[\"Case Number\", \"Date\"]] # get value for none date from Date column\n",
    "# df[[\"Case Number\", \"Year\"]] # remove year column"
   ]
  },
  {
   "cell_type": "code",
   "execution_count": 17,
   "metadata": {},
   "outputs": [],
   "source": [
    "# date_dict = df[\"Date\"].to_dict()"
   ]
  },
  {
   "cell_type": "code",
   "execution_count": 18,
   "metadata": {
    "scrolled": false
   },
   "outputs": [],
   "source": [
    "# df[\"Case Number\"](lambda x: x.str.replace(r'\\ND\\.\\d\\d\\d\\d', date_dict))\n",
    "# df[\"Case Number\"].replace(^\\ND\\.\\d\\d\\d\\d: date_list, regex = True)\n",
    "# df[\"Case Number\"].replace(to_replace = r^\\ND\\.\\d\\d\\d\\d, value = date_dict)\n",
    "\n",
    "df[\"Case Number\"] = df[\"Case Number\"].str.replace('ND\\.\\d\\d\\d\\d', \"replace\")\n",
    "\n",
    "# df.replace('N/A',np.NaN)"
   ]
  },
  {
   "cell_type": "code",
   "execution_count": 19,
   "metadata": {},
   "outputs": [
    {
     "data": {
      "text/plain": [
       "5972    replace\n",
       "5973    replace\n",
       "5974    replace\n",
       "5975    replace\n",
       "5976    replace\n",
       "5977    replace\n",
       "5978    replace\n",
       "5979    replace\n",
       "5980    replace\n",
       "5981    replace\n",
       "5982    replace\n",
       "5983    replace\n",
       "5984    replace\n",
       "5985    replace\n",
       "5986    replace\n",
       "5987    replace\n",
       "5988    replace\n",
       "5989    replace\n",
       "5990    replace\n",
       "5991    replace\n",
       "Name: Case Number, dtype: object"
      ]
     },
     "execution_count": 19,
     "metadata": {},
     "output_type": "execute_result"
    }
   ],
   "source": [
    "df[\"Case Number\"].tail(20)"
   ]
  },
  {
   "cell_type": "code",
   "execution_count": 20,
   "metadata": {},
   "outputs": [
    {
     "data": {
      "text/html": [
       "<div>\n",
       "<style scoped>\n",
       "    .dataframe tbody tr th:only-of-type {\n",
       "        vertical-align: middle;\n",
       "    }\n",
       "\n",
       "    .dataframe tbody tr th {\n",
       "        vertical-align: top;\n",
       "    }\n",
       "\n",
       "    .dataframe thead th {\n",
       "        text-align: right;\n",
       "    }\n",
       "</style>\n",
       "<table border=\"1\" class=\"dataframe\">\n",
       "  <thead>\n",
       "    <tr style=\"text-align: right;\">\n",
       "      <th></th>\n",
       "      <th>original order</th>\n",
       "      <th>Case Number</th>\n",
       "      <th>Location</th>\n",
       "      <th>Area</th>\n",
       "      <th>Country</th>\n",
       "      <th>Time</th>\n",
       "      <th>Name</th>\n",
       "      <th>Sex</th>\n",
       "      <th>Age</th>\n",
       "      <th>Activity</th>\n",
       "      <th>...</th>\n",
       "      <th>Fatal (Y/N)</th>\n",
       "      <th>Investigator or Source</th>\n",
       "      <th>href</th>\n",
       "      <th>Date</th>\n",
       "      <th>Year</th>\n",
       "      <th>pdf</th>\n",
       "      <th>Type</th>\n",
       "      <th>href formula</th>\n",
       "      <th>Case Number.1</th>\n",
       "      <th>Case Number.2</th>\n",
       "    </tr>\n",
       "  </thead>\n",
       "  <tbody>\n",
       "    <tr>\n",
       "      <th>5899</th>\n",
       "      <td>94</td>\n",
       "      <td>replace</td>\n",
       "      <td>NaN</td>\n",
       "      <td>Los Roques  Islands</td>\n",
       "      <td>VENEZUELA</td>\n",
       "      <td>NaN</td>\n",
       "      <td>4 French divers</td>\n",
       "      <td>M</td>\n",
       "      <td>NaN</td>\n",
       "      <td>Spearfishing</td>\n",
       "      <td>...</td>\n",
       "      <td>Y</td>\n",
       "      <td>http://waterco.com.br/ataque_tubarao.htm</td>\n",
       "      <td>http://sharkattackfile.net/spreadsheets/pdf_di...</td>\n",
       "      <td>No date, late 1960s</td>\n",
       "      <td>0</td>\n",
       "      <td>ND-0110-FrenchDivers.pdf</td>\n",
       "      <td>Unprovoked</td>\n",
       "      <td>http://sharkattackfile.net/spreadsheets/pdf_di...</td>\n",
       "      <td>ND.0110</td>\n",
       "      <td>ND.0110</td>\n",
       "    </tr>\n",
       "    <tr>\n",
       "      <th>5904</th>\n",
       "      <td>89</td>\n",
       "      <td>replace</td>\n",
       "      <td>NaN</td>\n",
       "      <td>Torres Strait</td>\n",
       "      <td>AUSTRALIA</td>\n",
       "      <td>NaN</td>\n",
       "      <td>male</td>\n",
       "      <td>M</td>\n",
       "      <td>NaN</td>\n",
       "      <td>Helmet diving</td>\n",
       "      <td>...</td>\n",
       "      <td>N</td>\n",
       "      <td>A. Seekee &amp; R. Callinan, Courier-Mail, 7/7/199...</td>\n",
       "      <td>http://sharkattackfile.net/spreadsheets/pdf_di...</td>\n",
       "      <td>1950s</td>\n",
       "      <td>0</td>\n",
       "      <td>ND-0104-HelmetDiver.pdf</td>\n",
       "      <td>Unprovoked</td>\n",
       "      <td>http://sharkattackfile.net/spreadsheets/pdf_di...</td>\n",
       "      <td>ND.0104</td>\n",
       "      <td>ND.0104</td>\n",
       "    </tr>\n",
       "    <tr>\n",
       "      <th>5905</th>\n",
       "      <td>88</td>\n",
       "      <td>replace</td>\n",
       "      <td>NaN</td>\n",
       "      <td>NaN</td>\n",
       "      <td>BAHREIN</td>\n",
       "      <td>NaN</td>\n",
       "      <td>male</td>\n",
       "      <td>M</td>\n",
       "      <td>NaN</td>\n",
       "      <td>Pearl diving</td>\n",
       "      <td>...</td>\n",
       "      <td>Y</td>\n",
       "      <td>A.C. Doyle</td>\n",
       "      <td>http://sharkattackfile.net/spreadsheets/pdf_di...</td>\n",
       "      <td>No date, Before 1963</td>\n",
       "      <td>0</td>\n",
       "      <td>ND-0102-Bahrein.pdf</td>\n",
       "      <td>Unprovoked</td>\n",
       "      <td>http://sharkattackfile.net/spreadsheets/pdf_di...</td>\n",
       "      <td>ND.0102</td>\n",
       "      <td>ND.0102</td>\n",
       "    </tr>\n",
       "    <tr>\n",
       "      <th>5906</th>\n",
       "      <td>87</td>\n",
       "      <td>replace</td>\n",
       "      <td>Great Guana Cay</td>\n",
       "      <td>Andros Islands</td>\n",
       "      <td>BAHAMAS</td>\n",
       "      <td>NaN</td>\n",
       "      <td>C.D. Dollar</td>\n",
       "      <td>M</td>\n",
       "      <td>NaN</td>\n",
       "      <td>Spearfishing</td>\n",
       "      <td>...</td>\n",
       "      <td>N</td>\n",
       "      <td>R.D. Weeks, GSAF</td>\n",
       "      <td>Q93http://sharkattackfile.net/spreadsheets/pdf...</td>\n",
       "      <td>2003?</td>\n",
       "      <td>0</td>\n",
       "      <td>ND-0100-CDDollar.pdf</td>\n",
       "      <td>Unprovoked</td>\n",
       "      <td>Q93http://sharkattackfile.net/spreadsheets/pdf...</td>\n",
       "      <td>ND.0100</td>\n",
       "      <td>ND.0100</td>\n",
       "    </tr>\n",
       "    <tr>\n",
       "      <th>5907</th>\n",
       "      <td>86</td>\n",
       "      <td>replace</td>\n",
       "      <td>Key West, Monroe County</td>\n",
       "      <td>Florida</td>\n",
       "      <td>USA</td>\n",
       "      <td>NaN</td>\n",
       "      <td>Paul Menta</td>\n",
       "      <td>M</td>\n",
       "      <td>NaN</td>\n",
       "      <td>Kitesurfing</td>\n",
       "      <td>...</td>\n",
       "      <td>N</td>\n",
       "      <td>Internet</td>\n",
       "      <td>http://sharkattackfile.net/spreadsheets/pdf_di...</td>\n",
       "      <td>No date</td>\n",
       "      <td>0</td>\n",
       "      <td>ND-0097-PaulMenta.pdf</td>\n",
       "      <td>Unprovoked</td>\n",
       "      <td>http://sharkattackfile.net/spreadsheets/pdf_di...</td>\n",
       "      <td>ND.0097</td>\n",
       "      <td>ND.0097</td>\n",
       "    </tr>\n",
       "    <tr>\n",
       "      <th>...</th>\n",
       "      <td>...</td>\n",
       "      <td>...</td>\n",
       "      <td>...</td>\n",
       "      <td>...</td>\n",
       "      <td>...</td>\n",
       "      <td>...</td>\n",
       "      <td>...</td>\n",
       "      <td>...</td>\n",
       "      <td>...</td>\n",
       "      <td>...</td>\n",
       "      <td>...</td>\n",
       "      <td>...</td>\n",
       "      <td>...</td>\n",
       "      <td>...</td>\n",
       "      <td>...</td>\n",
       "      <td>...</td>\n",
       "      <td>...</td>\n",
       "      <td>...</td>\n",
       "      <td>...</td>\n",
       "      <td>...</td>\n",
       "      <td>...</td>\n",
       "    </tr>\n",
       "    <tr>\n",
       "      <th>5987</th>\n",
       "      <td>6</td>\n",
       "      <td>replace</td>\n",
       "      <td>Roebuck Bay</td>\n",
       "      <td>Western Australia</td>\n",
       "      <td>AUSTRALIA</td>\n",
       "      <td>NaN</td>\n",
       "      <td>male</td>\n",
       "      <td>M</td>\n",
       "      <td>NaN</td>\n",
       "      <td>Diving</td>\n",
       "      <td>...</td>\n",
       "      <td>Y</td>\n",
       "      <td>H. Taunton; N. Bartlett,  p. 234</td>\n",
       "      <td>http://sharkattackfile.net/spreadsheets/pdf_di...</td>\n",
       "      <td>Before 1903</td>\n",
       "      <td>0</td>\n",
       "      <td>ND-0005-RoebuckBay.pdf</td>\n",
       "      <td>Unprovoked</td>\n",
       "      <td>http://sharkattackfile.net/spreadsheets/pdf_di...</td>\n",
       "      <td>ND.0005</td>\n",
       "      <td>ND.0005</td>\n",
       "    </tr>\n",
       "    <tr>\n",
       "      <th>5988</th>\n",
       "      <td>5</td>\n",
       "      <td>replace</td>\n",
       "      <td>NaN</td>\n",
       "      <td>Western Australia</td>\n",
       "      <td>AUSTRALIA</td>\n",
       "      <td>NaN</td>\n",
       "      <td>Ahmun</td>\n",
       "      <td>M</td>\n",
       "      <td>NaN</td>\n",
       "      <td>Pearl diving</td>\n",
       "      <td>...</td>\n",
       "      <td>Y</td>\n",
       "      <td>H. Taunton; N. Bartlett,  pp. 233-234</td>\n",
       "      <td>http://sharkattackfile.net/spreadsheets/pdf_di...</td>\n",
       "      <td>Before 1903</td>\n",
       "      <td>0</td>\n",
       "      <td>ND-0004-Ahmun.pdf</td>\n",
       "      <td>Unprovoked</td>\n",
       "      <td>http://sharkattackfile.net/spreadsheets/pdf_di...</td>\n",
       "      <td>ND.0004</td>\n",
       "      <td>ND.0004</td>\n",
       "    </tr>\n",
       "    <tr>\n",
       "      <th>5989</th>\n",
       "      <td>4</td>\n",
       "      <td>replace</td>\n",
       "      <td>Ocracoke Inlet</td>\n",
       "      <td>North Carolina</td>\n",
       "      <td>USA</td>\n",
       "      <td>NaN</td>\n",
       "      <td>Coast Guard personnel</td>\n",
       "      <td>M</td>\n",
       "      <td>NaN</td>\n",
       "      <td>Swimming</td>\n",
       "      <td>...</td>\n",
       "      <td>Y</td>\n",
       "      <td>F. Schwartz, p.23; C. Creswell, GSAF</td>\n",
       "      <td>http://sharkattackfile.net/spreadsheets/pdf_di...</td>\n",
       "      <td>1900-1905</td>\n",
       "      <td>0</td>\n",
       "      <td>ND-0003-Ocracoke_1900-1905.pdf</td>\n",
       "      <td>Unprovoked</td>\n",
       "      <td>http://sharkattackfile.net/spreadsheets/pdf_di...</td>\n",
       "      <td>ND.0003</td>\n",
       "      <td>ND.0003</td>\n",
       "    </tr>\n",
       "    <tr>\n",
       "      <th>5990</th>\n",
       "      <td>3</td>\n",
       "      <td>replace</td>\n",
       "      <td>Panama Bay 8ºN, 79ºW</td>\n",
       "      <td>NaN</td>\n",
       "      <td>PANAMA</td>\n",
       "      <td>NaN</td>\n",
       "      <td>Jules Patterson</td>\n",
       "      <td>M</td>\n",
       "      <td>NaN</td>\n",
       "      <td>NaN</td>\n",
       "      <td>...</td>\n",
       "      <td>Y</td>\n",
       "      <td>The Sun, 10/20/1938</td>\n",
       "      <td>http://sharkattackfile.net/spreadsheets/pdf_di...</td>\n",
       "      <td>1883-1889</td>\n",
       "      <td>0</td>\n",
       "      <td>ND-0002-JulesPatterson.pdf</td>\n",
       "      <td>Unprovoked</td>\n",
       "      <td>http://sharkattackfile.net/spreadsheets/pdf_di...</td>\n",
       "      <td>ND.0002</td>\n",
       "      <td>ND.0002</td>\n",
       "    </tr>\n",
       "    <tr>\n",
       "      <th>5991</th>\n",
       "      <td>2</td>\n",
       "      <td>replace</td>\n",
       "      <td>Below the English fort, Trincomalee</td>\n",
       "      <td>Eastern Province</td>\n",
       "      <td>CEYLON (SRI LANKA)</td>\n",
       "      <td>NaN</td>\n",
       "      <td>male</td>\n",
       "      <td>M</td>\n",
       "      <td>15</td>\n",
       "      <td>Swimming</td>\n",
       "      <td>...</td>\n",
       "      <td>Y</td>\n",
       "      <td>S.W. Baker</td>\n",
       "      <td>http://sharkattackfile.net/spreadsheets/pdf_di...</td>\n",
       "      <td>1845-1853</td>\n",
       "      <td>0</td>\n",
       "      <td>ND-0001-Ceylon.pdf</td>\n",
       "      <td>Unprovoked</td>\n",
       "      <td>http://sharkattackfile.net/spreadsheets/pdf_di...</td>\n",
       "      <td>ND.0001</td>\n",
       "      <td>ND.0001</td>\n",
       "    </tr>\n",
       "  </tbody>\n",
       "</table>\n",
       "<p>89 rows × 22 columns</p>\n",
       "</div>"
      ],
      "text/plain": [
       "      original order Case Number                             Location  \\\n",
       "5899              94     replace                                  NaN   \n",
       "5904              89     replace                                  NaN   \n",
       "5905              88     replace                                  NaN   \n",
       "5906              87     replace                      Great Guana Cay   \n",
       "5907              86     replace              Key West, Monroe County   \n",
       "...              ...         ...                                  ...   \n",
       "5987               6     replace                          Roebuck Bay   \n",
       "5988               5     replace                                  NaN   \n",
       "5989               4     replace                       Ocracoke Inlet   \n",
       "5990               3     replace                 Panama Bay 8ºN, 79ºW   \n",
       "5991               2     replace  Below the English fort, Trincomalee   \n",
       "\n",
       "                     Area             Country Time                   Name  \\\n",
       "5899  Los Roques  Islands           VENEZUELA  NaN        4 French divers   \n",
       "5904        Torres Strait           AUSTRALIA  NaN                   male   \n",
       "5905                  NaN             BAHREIN  NaN                   male   \n",
       "5906       Andros Islands             BAHAMAS  NaN            C.D. Dollar   \n",
       "5907              Florida                 USA  NaN             Paul Menta   \n",
       "...                   ...                 ...  ...                    ...   \n",
       "5987    Western Australia           AUSTRALIA  NaN                   male   \n",
       "5988    Western Australia           AUSTRALIA  NaN                  Ahmun   \n",
       "5989       North Carolina                 USA  NaN  Coast Guard personnel   \n",
       "5990                  NaN              PANAMA  NaN        Jules Patterson   \n",
       "5991     Eastern Province  CEYLON (SRI LANKA)  NaN                   male   \n",
       "\n",
       "     Sex   Age       Activity  ... Fatal (Y/N)  \\\n",
       "5899    M  NaN  Spearfishing   ...           Y   \n",
       "5904    M  NaN  Helmet diving  ...           N   \n",
       "5905    M  NaN   Pearl diving  ...           Y   \n",
       "5906    M  NaN  Spearfishing   ...           N   \n",
       "5907    M  NaN    Kitesurfing  ...           N   \n",
       "...   ...  ...            ...  ...         ...   \n",
       "5987    M  NaN         Diving  ...           Y   \n",
       "5988    M  NaN   Pearl diving  ...           Y   \n",
       "5989    M  NaN       Swimming  ...           Y   \n",
       "5990    M  NaN            NaN  ...           Y   \n",
       "5991    M   15       Swimming  ...           Y   \n",
       "\n",
       "                                 Investigator or Source  \\\n",
       "5899           http://waterco.com.br/ataque_tubarao.htm   \n",
       "5904  A. Seekee & R. Callinan, Courier-Mail, 7/7/199...   \n",
       "5905                                         A.C. Doyle   \n",
       "5906                                   R.D. Weeks, GSAF   \n",
       "5907                                           Internet   \n",
       "...                                                 ...   \n",
       "5987                   H. Taunton; N. Bartlett,  p. 234   \n",
       "5988              H. Taunton; N. Bartlett,  pp. 233-234   \n",
       "5989               F. Schwartz, p.23; C. Creswell, GSAF   \n",
       "5990                                The Sun, 10/20/1938   \n",
       "5991                                         S.W. Baker   \n",
       "\n",
       "                                                   href                  Date  \\\n",
       "5899  http://sharkattackfile.net/spreadsheets/pdf_di...   No date, late 1960s   \n",
       "5904  http://sharkattackfile.net/spreadsheets/pdf_di...                 1950s   \n",
       "5905  http://sharkattackfile.net/spreadsheets/pdf_di...  No date, Before 1963   \n",
       "5906  Q93http://sharkattackfile.net/spreadsheets/pdf...                 2003?   \n",
       "5907  http://sharkattackfile.net/spreadsheets/pdf_di...               No date   \n",
       "...                                                 ...                   ...   \n",
       "5987  http://sharkattackfile.net/spreadsheets/pdf_di...           Before 1903   \n",
       "5988  http://sharkattackfile.net/spreadsheets/pdf_di...           Before 1903   \n",
       "5989  http://sharkattackfile.net/spreadsheets/pdf_di...             1900-1905   \n",
       "5990  http://sharkattackfile.net/spreadsheets/pdf_di...             1883-1889   \n",
       "5991  http://sharkattackfile.net/spreadsheets/pdf_di...             1845-1853   \n",
       "\n",
       "     Year                             pdf        Type  \\\n",
       "5899    0        ND-0110-FrenchDivers.pdf  Unprovoked   \n",
       "5904    0         ND-0104-HelmetDiver.pdf  Unprovoked   \n",
       "5905    0             ND-0102-Bahrein.pdf  Unprovoked   \n",
       "5906    0            ND-0100-CDDollar.pdf  Unprovoked   \n",
       "5907    0           ND-0097-PaulMenta.pdf  Unprovoked   \n",
       "...   ...                             ...         ...   \n",
       "5987    0          ND-0005-RoebuckBay.pdf  Unprovoked   \n",
       "5988    0               ND-0004-Ahmun.pdf  Unprovoked   \n",
       "5989    0  ND-0003-Ocracoke_1900-1905.pdf  Unprovoked   \n",
       "5990    0      ND-0002-JulesPatterson.pdf  Unprovoked   \n",
       "5991    0              ND-0001-Ceylon.pdf  Unprovoked   \n",
       "\n",
       "                                           href formula Case Number.1  \\\n",
       "5899  http://sharkattackfile.net/spreadsheets/pdf_di...       ND.0110   \n",
       "5904  http://sharkattackfile.net/spreadsheets/pdf_di...       ND.0104   \n",
       "5905  http://sharkattackfile.net/spreadsheets/pdf_di...       ND.0102   \n",
       "5906  Q93http://sharkattackfile.net/spreadsheets/pdf...       ND.0100   \n",
       "5907  http://sharkattackfile.net/spreadsheets/pdf_di...       ND.0097   \n",
       "...                                                 ...           ...   \n",
       "5987  http://sharkattackfile.net/spreadsheets/pdf_di...       ND.0005   \n",
       "5988  http://sharkattackfile.net/spreadsheets/pdf_di...       ND.0004   \n",
       "5989  http://sharkattackfile.net/spreadsheets/pdf_di...       ND.0003   \n",
       "5990  http://sharkattackfile.net/spreadsheets/pdf_di...       ND.0002   \n",
       "5991  http://sharkattackfile.net/spreadsheets/pdf_di...       ND.0001   \n",
       "\n",
       "     Case Number.2  \n",
       "5899       ND.0110  \n",
       "5904       ND.0104  \n",
       "5905       ND.0102  \n",
       "5906       ND.0100  \n",
       "5907       ND.0097  \n",
       "...            ...  \n",
       "5987       ND.0005  \n",
       "5988       ND.0004  \n",
       "5989       ND.0003  \n",
       "5990       ND.0002  \n",
       "5991       ND.0001  \n",
       "\n",
       "[89 rows x 22 columns]"
      ]
     },
     "execution_count": 20,
     "metadata": {},
     "output_type": "execute_result"
    }
   ],
   "source": [
    "# np.where()\n",
    "# df[df['BoolCol']].index.tolist()\n",
    "# df[\"Case Number\"].str.find(\"replace\")\n",
    "# df[df['BoolCol'] == True].index.tolist()\n",
    "# df[df[\"repl_val\"] == True].index.tolist()\n",
    "# df[\"Case Number\"].index[df[\"replace\"]].tolist()\n",
    "# date_repl = df[df[\"Case Number\"] == \"replace\"].index[0]\n",
    "\n",
    "df[df[\"Case Number\"] == \"replace\"]"
   ]
  },
  {
   "cell_type": "code",
   "execution_count": 21,
   "metadata": {},
   "outputs": [],
   "source": [
    "df[\"Case Number\"] = np.where(df[\"Case Number\"].eq(\"replace\"), df[\"Date\"], df[\"Case Number\"])"
   ]
  },
  {
   "cell_type": "code",
   "execution_count": 22,
   "metadata": {},
   "outputs": [
    {
     "data": {
      "text/plain": [
       "5972                                           1920 -1923\n",
       "5973                                          Before 1921\n",
       "5974                                          Before 1911\n",
       "5975                                          Before 1921\n",
       "5976                                          Before 1921\n",
       "5977                                          Before 1917\n",
       "5978                          Before          17-Jul-1916\n",
       "5979    No date (3 days after preceding incident) & pr...\n",
       "5980                          Before          19-Jul-1913\n",
       "5981                                          Before 1911\n",
       "5982                                           Circa 1862\n",
       "5983                                          Before 1906\n",
       "5984                                          Before 1906\n",
       "5985                                          Before 1906\n",
       "5986                                          Before 1906\n",
       "5987                                          Before 1903\n",
       "5988                                          Before 1903\n",
       "5989                                            1900-1905\n",
       "5990                                            1883-1889\n",
       "5991                                            1845-1853\n",
       "Name: Case Number, dtype: object"
      ]
     },
     "execution_count": 22,
     "metadata": {},
     "output_type": "execute_result"
    }
   ],
   "source": [
    "df[\"Case Number\"].tail(20)"
   ]
  },
  {
   "cell_type": "code",
   "execution_count": 23,
   "metadata": {},
   "outputs": [],
   "source": [
    "df = df.drop([\"Date\", \"Year\", \"Case Number.1\", \"Case Number.2\"], 1)"
   ]
  },
  {
   "cell_type": "code",
   "execution_count": 24,
   "metadata": {},
   "outputs": [
    {
     "data": {
      "text/plain": [
       "Index(['original order', 'Case Number', 'Location', 'Area', 'Country', 'Time',\n",
       "       'Name', 'Sex ', 'Age', 'Activity', 'Species ', 'Injury', 'Fatal (Y/N)',\n",
       "       'Investigator or Source', 'href', 'pdf', 'Type', 'href formula'],\n",
       "      dtype='object')"
      ]
     },
     "execution_count": 24,
     "metadata": {},
     "output_type": "execute_result"
    }
   ],
   "source": [
    "df.columns"
   ]
  },
  {
   "cell_type": "code",
   "execution_count": null,
   "metadata": {
    "scrolled": true
   },
   "outputs": [],
   "source": [
    "# df[\"Time\"]"
   ]
  },
  {
   "cell_type": "code",
   "execution_count": 25,
   "metadata": {},
   "outputs": [
    {
     "data": {
      "text/html": [
       "<div>\n",
       "<style scoped>\n",
       "    .dataframe tbody tr th:only-of-type {\n",
       "        vertical-align: middle;\n",
       "    }\n",
       "\n",
       "    .dataframe tbody tr th {\n",
       "        vertical-align: top;\n",
       "    }\n",
       "\n",
       "    .dataframe thead th {\n",
       "        text-align: right;\n",
       "    }\n",
       "</style>\n",
       "<table border=\"1\" class=\"dataframe\">\n",
       "  <thead>\n",
       "    <tr style=\"text-align: right;\">\n",
       "      <th></th>\n",
       "      <th>Location</th>\n",
       "      <th>Country</th>\n",
       "      <th>Area</th>\n",
       "    </tr>\n",
       "  </thead>\n",
       "  <tbody>\n",
       "    <tr>\n",
       "      <th>0</th>\n",
       "      <td>New Smyrna Beach, Volusia County</td>\n",
       "      <td>USA</td>\n",
       "      <td>Florida</td>\n",
       "    </tr>\n",
       "    <tr>\n",
       "      <th>1</th>\n",
       "      <td>New Smyrna Beach, Volusia County</td>\n",
       "      <td>USA</td>\n",
       "      <td>Florida</td>\n",
       "    </tr>\n",
       "    <tr>\n",
       "      <th>2</th>\n",
       "      <td>New Smyrna Beach, Volusia County</td>\n",
       "      <td>USA</td>\n",
       "      <td>Florida</td>\n",
       "    </tr>\n",
       "    <tr>\n",
       "      <th>3</th>\n",
       "      <td>Thirteenth Beach</td>\n",
       "      <td>AUSTRALIA</td>\n",
       "      <td>Victoria</td>\n",
       "    </tr>\n",
       "    <tr>\n",
       "      <th>4</th>\n",
       "      <td>Bells Beach</td>\n",
       "      <td>AUSTRALIA</td>\n",
       "      <td>Victoria</td>\n",
       "    </tr>\n",
       "    <tr>\n",
       "      <th>...</th>\n",
       "      <td>...</td>\n",
       "      <td>...</td>\n",
       "      <td>...</td>\n",
       "    </tr>\n",
       "    <tr>\n",
       "      <th>5987</th>\n",
       "      <td>Roebuck Bay</td>\n",
       "      <td>AUSTRALIA</td>\n",
       "      <td>Western Australia</td>\n",
       "    </tr>\n",
       "    <tr>\n",
       "      <th>5988</th>\n",
       "      <td>NaN</td>\n",
       "      <td>AUSTRALIA</td>\n",
       "      <td>Western Australia</td>\n",
       "    </tr>\n",
       "    <tr>\n",
       "      <th>5989</th>\n",
       "      <td>Ocracoke Inlet</td>\n",
       "      <td>USA</td>\n",
       "      <td>North Carolina</td>\n",
       "    </tr>\n",
       "    <tr>\n",
       "      <th>5990</th>\n",
       "      <td>Panama Bay 8ºN, 79ºW</td>\n",
       "      <td>PANAMA</td>\n",
       "      <td>NaN</td>\n",
       "    </tr>\n",
       "    <tr>\n",
       "      <th>5991</th>\n",
       "      <td>Below the English fort, Trincomalee</td>\n",
       "      <td>CEYLON (SRI LANKA)</td>\n",
       "      <td>Eastern Province</td>\n",
       "    </tr>\n",
       "  </tbody>\n",
       "</table>\n",
       "<p>5992 rows × 3 columns</p>\n",
       "</div>"
      ],
      "text/plain": [
       "                                 Location             Country  \\\n",
       "0        New Smyrna Beach, Volusia County                 USA   \n",
       "1        New Smyrna Beach, Volusia County                 USA   \n",
       "2        New Smyrna Beach, Volusia County                 USA   \n",
       "3                        Thirteenth Beach           AUSTRALIA   \n",
       "4                             Bells Beach           AUSTRALIA   \n",
       "...                                   ...                 ...   \n",
       "5987                          Roebuck Bay           AUSTRALIA   \n",
       "5988                                  NaN           AUSTRALIA   \n",
       "5989                       Ocracoke Inlet                 USA   \n",
       "5990                 Panama Bay 8ºN, 79ºW              PANAMA   \n",
       "5991  Below the English fort, Trincomalee  CEYLON (SRI LANKA)   \n",
       "\n",
       "                   Area  \n",
       "0               Florida  \n",
       "1               Florida  \n",
       "2               Florida  \n",
       "3              Victoria  \n",
       "4              Victoria  \n",
       "...                 ...  \n",
       "5987  Western Australia  \n",
       "5988  Western Australia  \n",
       "5989     North Carolina  \n",
       "5990                NaN  \n",
       "5991   Eastern Province  \n",
       "\n",
       "[5992 rows x 3 columns]"
      ]
     },
     "execution_count": 25,
     "metadata": {},
     "output_type": "execute_result"
    }
   ],
   "source": [
    "# df[[\"Location\", \"Country\"]] # merge to Location\n",
    "# df[[\"Location\", \"Area\"]] # merge to Location\n",
    "df[[\"Location\", \"Country\", \"Area\"]]"
   ]
  },
  {
   "cell_type": "code",
   "execution_count": 26,
   "metadata": {},
   "outputs": [],
   "source": [
    "# df[\"Name\"]\n",
    "# df[\"Name\"].value_counts()\n",
    "\n",
    "df = df.drop([\"Name\"], 1)"
   ]
  },
  {
   "cell_type": "code",
   "execution_count": 27,
   "metadata": {},
   "outputs": [
    {
     "data": {
      "text/plain": [
       "Index(['original order', 'Case Number', 'Location', 'Area', 'Country', 'Time',\n",
       "       'Sex ', 'Age', 'Activity', 'Species ', 'Injury', 'Fatal (Y/N)',\n",
       "       'Investigator or Source', 'href', 'pdf', 'Type', 'href formula'],\n",
       "      dtype='object')"
      ]
     },
     "execution_count": 27,
     "metadata": {},
     "output_type": "execute_result"
    }
   ],
   "source": [
    "df.columns"
   ]
  },
  {
   "cell_type": "code",
   "execution_count": 28,
   "metadata": {},
   "outputs": [
    {
     "data": {
      "text/plain": [
       "M      4835\n",
       "F       585\n",
       "M         2\n",
       "N         1\n",
       ".         1\n",
       "lli       1\n",
       "Name: Sex , dtype: int64"
      ]
     },
     "execution_count": 28,
     "metadata": {},
     "output_type": "execute_result"
    }
   ],
   "source": [
    "df[\"Sex \"].value_counts()"
   ]
  },
  {
   "cell_type": "code",
   "execution_count": 29,
   "metadata": {},
   "outputs": [
    {
     "name": "stdout",
     "output_type": "stream",
     "text": [
      "['M', 'M', 'M', 'M', 'M', nan, 'M', 'F', 'M', 'F', 'M', 'M', 'M', 'M', 'M', 'M', 'M', 'M', 'M', 'M', 'M', 'M', 'M', 'M', 'M', 'M', 'M', 'M', 'M', nan, 'F', 'F', 'M', 'M', 'F', 'M', 'M', 'M', 'F', 'M', 'M', 'M', 'M', 'M', 'M', 'M', 'M', 'M', 'F', 'M', 'M', 'M', 'F', 'M', 'M', 'M', 'M', 'F', 'M', 'F', 'F', 'F', 'M', 'F', 'M', 'M', 'M', 'M', 'M', 'M', 'M', 'M', 'F', 'M', 'M', 'M', 'F', 'M', 'M', 'M', 'M', nan, 'M', 'M', 'M', 'M', 'M', 'M', 'M', 'F', 'M', 'M', 'F', 'M', 'M', 'M', 'F', 'M', 'M', 'M', 'M', 'M', 'M', 'M', 'F', 'M', 'M', 'M', 'M', nan, 'M', 'F', 'M', 'F', 'M', 'M', 'F', 'M', 'F', 'M', 'M', 'M', 'M', 'M', 'M', 'F', 'M', 'M', 'M', 'F', 'M', 'M', 'M', 'M', 'M', 'M', 'M', 'F', 'M', 'M', 'M', 'M', 'M', 'M', 'M', 'M', 'F', 'M', 'M', 'M', 'F', 'M', 'F', 'M', 'M', 'M', 'M', 'F', 'M', 'M', 'M', 'M', 'M', 'F', 'M', 'M', 'M', 'M', 'M', 'M', 'M', 'M', 'F', 'M', 'M', 'M', 'M', 'M', 'M', 'M', 'M', 'F', 'M', 'M', 'M', 'M', 'M', 'F', 'M', 'M', 'M', 'M', 'F', 'F', 'F', 'M', 'F', 'M', 'F', 'F', 'M', 'F', 'M', 'M', 'M', 'M', 'M', 'M', 'F', 'M', 'M', 'M', 'M', 'M', 'M', 'M', 'M', 'M', 'M', 'M', 'M', 'M', 'M', 'M', 'M', nan, 'F', 'M', 'M', 'M', 'M', 'M', 'M', 'M', 'F', 'M', 'M', 'M', 'F', 'M', 'M', nan, 'M', nan, nan, 'M', 'M', 'M', 'M', 'M', 'M', 'M', 'M', 'M', nan, 'M', 'M', 'M', 'F', 'M', 'F', 'M', 'F', 'M', 'F', 'F', 'F', 'F', 'M', 'M', 'M', 'M', 'M', 'M', 'M', 'M', 'F', 'M', 'M', 'M', 'F', 'M', 'M', 'F', 'M', nan, 'M', 'F', 'M', 'F', 'M', nan, 'M', 'M', 'M', 'M', 'F', 'M', 'M', 'F', 'M', 'M', 'M', 'M', 'M', 'M', 'M', nan, 'M', 'M', 'M', 'M', 'M', 'M', 'M', 'M', 'M', 'M', 'M', 'M', 'M', 'M', 'M', 'M', 'M', 'F', 'F', 'M', 'F', 'F', 'M', 'M', 'M', 'F', 'M', 'F', 'M', 'M', 'F', 'M', 'M', 'M ', 'M', nan, 'M', 'M', 'M', 'F', 'M', 'M', 'M', 'M', 'M', 'M', 'M', 'F', 'M', 'M', 'M', 'M', 'M', 'M', 'M', 'M', 'M', 'M', nan, 'M', 'M', 'M', 'M', 'M', 'M', 'M', 'M', 'F', 'M', 'M', 'M', 'M', 'M', 'M', 'M', 'F', 'M', 'M', 'M', 'M', 'M', 'M', 'M', 'M', 'M', 'M', 'M', 'M', 'M', 'M', 'M', 'M', 'F', 'F', 'M', 'M', 'M', 'M', 'M', 'M', 'M', 'M', 'F', 'M', 'F', 'M', 'M', 'F', 'F', 'F', 'M', 'M', 'M', 'F', 'M', 'M', 'F', 'M', 'M', 'M', 'F', 'F', 'M', 'F', 'M', 'F', 'M', 'M', 'M', 'M', 'M', 'M', 'M', 'M', 'M', 'M', 'F', 'F', 'M', 'M', 'M', 'M', 'M', 'M', 'M', 'M', 'M', 'M', 'M', 'F', 'M', 'M', 'M', 'M', 'M', 'M', 'M', 'M', 'M', 'M', 'M', 'F', 'M', 'M', 'M', 'M', 'M', 'M', 'M', 'M', nan, 'M', 'M', 'M', 'M', 'M', 'M', 'M', 'M', 'M', 'M', 'M', 'M', 'M', 'M', 'M', 'M', 'M', 'F', 'M', 'M', 'M', 'M', 'M', 'M', 'M', 'F', 'M', 'F', 'M', 'M', 'M', 'F', 'M', 'M', 'M', 'M', 'M', 'F', nan, 'M', 'M', 'M', 'M', 'M', 'F', nan, 'F', 'M', 'M', 'M', 'M', nan, 'M', 'M', 'M', 'M', 'M', 'M', 'M', 'M', 'M', 'M', 'F', 'M', 'F', 'M', 'F', 'M', 'M', nan, 'M', 'M', 'F', 'M', 'M', 'M', 'M', 'F', 'M', 'F', 'M', 'M', 'M', 'M', 'M', 'M', 'F', 'M', 'F', 'M', 'M', 'M', 'M', 'M', 'F', 'F', 'M', 'M', 'M', 'M', 'M', 'M', 'M', nan, 'M', 'M', 'F', 'M', 'M', 'F', 'M', 'M', 'M', 'M', 'M', 'M', nan, 'M', 'M', nan, 'M', 'M', 'M', 'M', 'M', 'M', 'M', 'M', 'M', 'M', 'M', 'M', 'M', 'M', 'M', 'M', 'F', nan, 'M', 'M', 'M', 'M', 'M', 'M', 'M', 'M', 'M', nan, 'M', 'M', 'M', 'M', 'M', 'M', 'M', 'M', 'M', 'M', 'M', 'M', 'M', 'M', 'M', 'M', 'M', 'M', 'M', 'M', nan, 'M', 'M', 'M', 'M', 'F', 'M', 'M', 'M', 'M', 'M', 'F', 'M', 'M', 'M', 'M', 'M', 'M', 'M', 'M', 'M', 'M', 'M', 'M', 'F', 'M', 'M', 'M', 'M', 'M', 'M', 'M', 'M', 'M', 'M', 'F', 'M', 'M', 'M', 'M', 'M', nan, 'M', 'M', 'M', 'M', 'F', 'F', 'M', 'F', 'F', 'M', 'M', 'M', 'M', 'M', 'M', 'M', 'M', 'M', 'M', 'M', 'M', 'M', 'M', 'F', 'M', 'M', 'M', 'F', 'F', 'M', 'M', 'M', 'M', 'M', 'M', 'M', 'M', 'M', 'F', 'M', 'M', 'F', 'M', 'M', nan, 'M', 'M', 'M', 'F', 'M', 'M', 'M', 'F', 'F', 'M', 'M', 'M', 'M', 'M', 'M', 'F', 'M', 'M', 'M', 'M', 'M', 'M', 'F', 'M', 'M', 'F', 'M', 'M', 'M', 'M', 'M', 'M', 'M', 'M', 'M', 'M', 'M', 'M', 'M', 'M', 'M', 'F', 'F', 'M', 'M', 'M', 'F', 'M', 'F', 'M', 'M', 'M', 'F', 'M', 'M', 'M', 'M', 'F', 'M', 'M', 'M', 'M', 'F', 'F', 'M', 'F', 'M', 'M', 'M', 'F', 'F', 'M', 'M', 'F', 'M', 'M', 'M', 'M', 'M', 'M', 'M', 'M', 'F', 'M', 'M', 'M', 'M', 'M', 'M', 'F', 'M', 'M', 'M', 'M', 'M', 'F', 'F', 'M', 'M', 'M', 'M', 'M', 'M', 'M', 'M', 'M', 'M', 'M', 'M', 'M', nan, 'M', 'M', 'M', 'M', 'M', 'F', 'M', 'M', 'M', 'M', 'M', 'F', 'M', 'M', 'F', 'M', 'M', 'M', 'M', 'M', 'M', 'M', 'M', 'M', 'M', 'M', 'M', 'M', 'M', 'F', 'M', 'M', 'M', 'M', 'M', 'M', 'F', 'M', 'F', 'F', 'F', 'F', 'M', 'M', 'M', 'M', 'F', 'F', 'M', 'M', 'M', 'M', 'M', 'M', 'F', 'M', 'M', 'M', 'M', 'M', 'M', 'M', 'F', 'M', 'M', 'M', 'M', 'M', 'M', 'M', 'M', 'M', 'M', 'M', 'M', 'M', 'M', 'F', 'F', 'F', 'M', 'M', 'M', 'M', 'M', 'M', 'M', 'M', 'M', 'M', 'M', 'M', 'M', 'M', 'M', 'M', nan, 'M', 'M', 'M', 'M', 'M', nan, 'M', 'F', 'M', nan, 'M', 'M', nan, nan, nan, 'M', 'M', 'M', 'M', 'M', 'M', nan, 'M', 'F', 'M', 'F', 'M', 'M', 'M', 'M', 'M', 'M', 'M', 'M', 'M', 'M', 'M', 'M', 'M', 'M', 'M', 'M', 'M', 'M', 'M', 'M', 'M', 'M', 'M', 'M', 'M', 'M', 'F', 'M', 'M', 'F', 'F', 'M', 'M', 'M', 'M', 'M', 'M', 'M', 'F', 'M', 'F', 'M', 'M', 'M', 'M', 'M', 'F', 'F', 'M', 'M', 'M', 'M', 'M', 'M', 'M', 'M', 'F', 'F', 'M', 'M', nan, 'F', 'M', 'M', 'M', 'M', 'M', 'M', 'M', 'M', 'M', 'M', 'M', 'M', 'M', 'M', 'M', 'M', 'M', 'M', 'M', 'M', 'M', 'M', 'M', 'M', nan, 'M', 'M', 'M', 'M', 'M', 'M', 'M', 'M', 'M', 'M', 'M', 'M', 'F', 'M', 'M', 'M', 'M', nan, 'M', 'M', 'M', 'M', 'M', 'M', 'M', 'M', 'M', 'F', 'M', 'M', 'M', 'M', 'M', 'M', 'M', 'M', 'M', 'F', 'M', 'M', 'M', 'M', 'M', 'F', 'F', 'F', 'F', 'F', 'F', 'M', 'M', 'M', 'F', 'M', 'F', 'F', 'M', 'F', 'M', 'M', 'M', 'M', 'M', 'M', 'M', 'M', 'M', 'M', 'M', 'F', 'M', 'M', 'M', 'F', 'M', 'M', 'M', 'M', 'M', 'M', 'M', 'M', 'F', 'F', 'F', 'M', 'M', nan, 'M', 'F', 'M', 'M', 'F', 'F', 'M', 'F', 'F', 'M', 'F', 'M', 'F', 'M', 'M', 'F', 'M', nan, 'F', 'F', 'M', 'M', nan, 'M', 'M', 'M', 'M', nan, 'M', 'F', 'M', 'F', 'M', 'M', 'M', 'M', 'M', 'M', nan, 'M', 'M', 'M', 'M', 'M', 'M', 'M', 'M', 'M', 'M', 'M', nan, 'M', 'M', 'M', 'M', 'M', 'M', 'M', 'F', nan, 'M', 'M', 'M', 'M', 'M', 'M', 'M', 'M', 'M', 'M', 'M', 'M', 'M', 'M', 'M', 'M', 'M', 'M', 'M', 'M', 'F', 'M', nan, 'M', 'M', 'M', 'M', 'M', 'M', nan, 'M', 'F', 'F', 'M', 'M', 'M', 'F', 'M', 'F', 'M', 'F', 'M', 'M', 'F', 'M', 'M', 'M', 'F', 'M', 'M', nan, 'M', 'M', 'M', 'F', 'M', 'F', 'M', 'M', 'M', 'F', 'M', 'M', 'M', 'M', 'M', 'M', 'F', 'M', 'M', 'M', 'F', 'M', 'M', 'M', 'M', 'M', 'F', 'M', 'M', 'M', 'F', 'M', 'M', 'M', 'F', 'M', 'M', 'M', 'M', nan, 'M', nan, 'M', 'M', nan, 'M', 'M', nan, 'M', 'M', nan, 'M', 'M', 'M', 'M', 'M', 'M', 'M', 'M', 'F', 'M', 'M', 'F', 'M', 'M', 'M', 'M', 'M', 'M', 'M', 'F', 'M', 'M', 'F', 'M', 'M', 'M', 'M', 'M', 'M', 'M', 'M', nan, 'M', 'M', 'M', 'F', 'M', 'M', 'M', 'M', nan, 'M', 'F', 'M', 'M', 'F', 'F', 'M', 'M', 'M', 'F', 'F', 'M', 'M', 'M', 'M', 'F', 'M', 'M ', nan, 'M', 'M', 'M', 'M', nan, 'M', 'M', 'F', 'M', 'M', 'F', 'F', 'M', 'M', 'M', 'M', 'M', 'M', 'M', 'M', 'M', 'M', 'M', 'M', 'M', 'M', 'M', nan, 'M', 'F', 'M', 'M', 'M', 'M', 'F', 'lli', 'M', nan, 'M', nan, 'M', 'M', 'M', 'M', 'M', 'M', 'M', 'M', nan, 'M', 'M', nan, 'F', 'F', 'M', 'M', 'M', 'M', 'M', nan, 'F', 'M', 'F', 'F', 'F', 'M', nan, 'M', 'M', 'F', 'M', 'M', 'M', 'F', 'M', 'M', 'M', 'M', 'M', 'M', 'M', 'M', 'F', 'F', 'M', 'M', 'M', 'M', nan, 'M', 'M', 'M', 'M', 'F', 'M', 'M', 'M', 'M', 'M', 'M', 'F', 'M', 'M', 'M', 'M', 'M', 'M', 'M', 'M', 'M', 'M', 'M', 'M', 'M', 'M', 'M', 'M', 'M', 'M', nan, 'M', nan, 'M', 'M', 'M', 'M', 'M', 'M', 'M', 'F', 'M', 'M', 'M', nan, 'M', 'M', 'M', 'M', 'F', 'M', 'M', 'M', 'M', 'F', 'M', 'M', 'M', 'F', 'M', 'M', 'M', 'M', 'M', 'M', nan, 'F', 'M', 'M', 'M', 'M', 'M', 'F', 'M', 'M', 'M', 'M', 'F', 'M', 'M', 'M', 'M', 'M', 'M', 'M', 'M', 'M', 'M', 'F', 'M', 'M', 'M', nan, 'F', 'M', 'M', 'M', 'M', 'F', nan, 'M', 'M', 'M', 'M', 'M', 'M', 'M', 'M', 'M', 'M', 'M', 'M', 'M', 'M', 'M', 'F', 'M', 'M', 'M', 'M', 'M', 'M', 'M', 'F', 'F', 'M', 'M', 'M', 'M', 'M', 'M', 'M', 'F', 'F', 'M', 'M', 'M', 'F', 'M', 'M', 'M', 'M', 'M', 'M', 'M', 'M', 'M', 'M', 'M', 'M', 'M', nan, 'M', 'M', 'M', 'M', 'F', 'M', 'M', 'M', 'M', 'M', 'M', 'F', 'M', 'M', 'M', 'F', 'M', 'F', nan, nan, nan, nan, 'M', 'M', 'M', 'M', 'M', 'M', 'M', 'M', 'M', 'M', 'M', 'M', 'M', 'M', 'M', 'M', 'M', 'M', 'M', 'M', 'M', 'M', 'F', 'M', 'M', 'M', 'M', 'M', 'M', 'M', 'M', 'M', 'M', 'M', 'M', nan, 'M', 'M', 'M', 'M', nan, 'M', 'M', 'F', 'M', 'M', 'M', 'M', 'M', 'M', 'M', 'M', 'M', 'M', 'F', 'M', 'F', 'M', 'M', 'M', 'F', 'M', 'M', 'M', 'M', 'M', 'M', 'F', 'F', 'M', 'M', 'M', 'M', 'M', 'F', 'M', nan, 'F', 'M', 'F', nan, 'M', 'M', 'M', 'M', nan, 'M', 'M', 'M', 'M', 'F', 'M', 'M', 'M', 'M', 'M', 'M', 'M', 'M', 'M', 'M', 'M', 'M', 'M', 'M', 'M', 'M', 'M', 'M', 'M', 'M', nan, 'M', 'M', 'M', 'F', 'M', 'M', 'M', 'M', 'M', nan, nan, 'F', 'M', 'M', 'F', nan, 'M', 'M', 'M', 'M', nan, 'M', 'M', 'F', 'M', 'M', 'M', 'F', 'M', 'M', 'M', nan, 'M', 'F', 'M', 'M', 'M', 'M', 'M', 'M', 'M', 'M', 'M', 'M', nan, 'M', 'F', 'M', 'M', 'M', 'M', 'M', 'M', nan, 'M', 'M', 'M', 'M', 'M', 'M', 'F', 'M', 'M', nan, 'M', 'F', 'M', 'M', 'M', 'M', 'M', 'M', 'M', 'M', 'M', 'F', 'F', 'F', 'F', 'F', nan, 'M', 'M', 'M', nan, 'M', 'M', 'M', 'M', 'M', nan, nan, 'M', 'M', 'M', 'M', 'M', 'M', 'F', 'M', 'M', 'M', nan, nan, 'M', 'M', 'M', 'M', 'M', 'M', 'M', 'M', 'M', 'M', 'M', 'M', 'F', 'F', 'M', 'M', 'M', 'M', 'M', 'F', 'M', 'M', 'M', 'M', 'M', 'M', 'M', 'M', 'M', 'M', nan, 'F', 'F', 'M', 'M', 'M', 'M', 'M', 'M', 'M', 'M', 'M', 'M', 'M', 'M', 'M', 'M', 'M', 'F', 'M', 'M', 'M', 'M', 'M', 'M', 'M', 'F', 'M', 'M', 'M', 'M', 'F', 'M', 'M', 'M', 'F', nan, 'M', 'M', 'M', 'M', nan, 'F', nan, 'M', 'M', 'M', 'F', 'M', 'M', 'F', 'M', 'M', 'M', 'M', 'M', 'M', 'F', 'M', 'M', 'M', nan, 'M', 'M', 'M', 'M', 'M', 'M', 'M', nan, 'M', 'M', 'M', 'M', 'M', 'M', 'M', 'M', 'M', 'M', 'M', 'M', 'M', 'M', 'M', 'M', 'M', 'M', 'M', 'M', 'F', 'M', 'M', 'F', 'M', 'M', 'M', nan, 'M', 'M', 'M', 'M', 'M', 'M', 'M', 'M', 'M', 'M', 'M', nan, 'M', 'M', 'M', 'F', 'M', 'M', 'M', 'M', 'M', 'M', 'M', 'M', nan, 'F', 'M', 'M', nan, 'M', 'M', 'M', 'M', 'M', 'M', 'F', 'M', 'M', 'M', 'M', 'F', 'M', 'M', 'M', 'M', 'M', 'M', 'M', 'M', nan, 'M', 'F', 'M', 'M', 'M', 'M', 'M', 'M', 'M', 'M', 'M', 'F', 'M', 'M', 'M', 'F', 'M', 'M', 'M', nan, 'M', 'M', 'M', 'F', 'M', 'M', nan, 'M', 'M', 'M', 'M', 'M', nan, 'M', 'M', 'M', 'M', 'M', 'F', 'M', 'M', 'M', 'M', 'F', 'M', 'M', 'M', 'M', nan, 'M', 'F', 'M', 'F', 'M', 'M', 'M', 'M', 'M', 'M', 'M', 'M', 'M', 'F', 'M', 'F', 'M', 'M', 'F', 'M', nan, nan, nan, 'M', 'M', 'F', 'M', nan, nan, 'M', 'M', 'M', 'M', 'M', 'M', 'M', 'M', 'M', 'M', 'F', 'M', 'M', 'M', 'M', 'M', 'F', 'M', 'M', 'M', 'M', 'M', 'M', 'M', 'M', 'M', 'M', 'M', 'M', 'M', nan, 'M', 'M', 'M', 'M', 'F', 'M', 'M', 'M', 'M', 'M', 'M', 'M', 'M', 'F', 'M', 'M', 'M', 'M', 'F', 'M', 'M', 'F', 'M', 'M', 'M', 'F', 'M', 'F', 'M', nan, 'M', 'M', nan, 'F', 'M', 'M', 'M', 'M', 'F', 'M', nan, 'M', 'M', 'M', 'M', 'M', 'M', 'M', 'M', 'M', nan, 'M', 'M', nan, 'M', 'M', 'M', 'M', 'F', nan, nan, 'M', 'F', 'M', 'F', 'M', 'M', 'F', nan, 'M', 'M', 'M', 'M', 'M', 'M', 'M', 'M', 'M', 'M', 'M', 'F', 'M', 'M', 'F', nan, 'M', 'M', 'M', 'F', 'M', 'M', 'M', 'M', 'M', 'M', 'M', nan, 'M', 'M', 'M', nan, 'M', 'M', 'F', 'M', 'M', 'M', 'M', 'M', 'M', 'M', 'F', 'F', nan, 'M', 'M', nan, 'M', 'M', 'M', 'M', 'M', nan, 'M', nan, 'F', nan, 'M', 'M', nan, 'M', 'F', 'M', 'M', 'M', 'F', 'M', 'M', 'F', 'M', 'F', 'F', 'F', 'M', 'M', 'M', nan, 'M', 'M', nan, 'M', 'M', 'M', 'M', 'M', 'M', 'M', 'M', nan, nan, nan, 'M', 'M', 'M', 'M', 'M', 'M', 'M', 'M', 'M', 'M', 'M', 'M', 'M', nan, 'M', 'M', 'M', 'F', 'M', 'M', 'F', 'M', 'M', 'M', 'M', 'M', 'M', 'F', 'M', 'M', 'M', 'M', 'F', nan, nan, 'M', 'M', 'M', 'M', 'M', 'F', 'M', 'M', nan, 'M', 'M', 'M', 'M', 'M', 'M', 'M', 'M', 'M', 'M', nan, 'M', 'M', 'F', 'F', 'M', 'M', 'M', 'M', 'M', 'M', 'M', 'M', 'M', 'F', 'M', 'F', 'M', 'M', 'M', 'M', 'M', 'M', 'M', 'M', 'M', 'M', 'F', 'M', 'M', nan, nan, 'M', 'M', 'M', 'M', 'M', 'M', 'M', 'M', 'M', 'M', 'F', 'M', 'M', 'M', 'M', 'M', 'M', 'M', 'M', 'M', 'M', 'M', 'M', 'M', 'M', 'M', 'F', 'M', 'F', 'M', nan, 'F', 'M', 'M', 'M', 'M', 'M', 'M', 'M', 'M', 'M', 'M', 'M', 'M', 'M', 'M', 'M', 'M', 'M', 'M', 'M', 'M', 'M', 'F', 'M', 'M', 'M', 'M', 'M', 'M', 'M', nan, 'M', 'M', 'M', 'M', 'M', 'M', 'M', 'F', 'M', 'M', 'M', 'M', 'M', 'F', 'M', 'M', 'M', 'M', 'M', 'M', 'M', 'M', nan, 'M', 'M', 'M', 'M', 'M', 'M', 'M', 'M', 'F', 'M', 'M', 'M', 'M', 'F', 'M', 'M', 'M', 'M', nan, 'M', 'M', 'M', 'M', 'M', 'M', 'F', 'M', 'F', 'M', 'M', 'M', 'M', 'M', 'M', 'M', 'M', 'F', 'M', 'M', 'M', 'M', 'M', 'M', 'M', 'M', 'F', 'M', 'M', 'M', 'M', 'M', 'M', 'M', 'M', 'F', 'F', 'M', 'M', 'M', nan, 'M', 'F', nan, 'M', 'M', 'M', 'M', 'M', nan, 'M', nan, 'M', 'F', 'M', 'M', 'M', 'M', 'M', nan, 'M', 'M', 'M', 'M', 'M', 'F', 'F', nan, 'M', 'M', 'M', 'M', 'M', 'M', 'M', 'F', 'M', 'M', 'M', nan, 'M', nan, 'M', 'M', 'M', 'M', 'M', 'M', 'M', 'M', 'M', 'M', nan, 'M', 'M', 'M', 'M', 'F', 'M', nan, 'M', nan, nan, nan, nan, 'M', 'F', nan, nan, 'M', 'M', 'M', 'M', 'M', 'M', 'M', 'M', 'M', 'M', 'M', 'M', 'M', 'M', 'M', 'M', 'M', 'M', 'M', nan, 'M', 'M', 'M', 'M', 'M', 'M', 'M', 'M', 'M', 'M', 'M', 'M', 'M', 'F', 'M', nan, 'F', 'M', 'M', 'M', 'M', 'F', 'M', 'M', 'M', 'M', 'M', nan, 'M', nan, 'M', 'M', 'M', nan, 'M', 'M', 'M', 'M', 'F', 'F', 'M', 'M', 'M', 'M', 'M', 'M', nan, 'M', 'M', 'M', 'F', 'M', 'F', 'F', 'M', 'M', 'M', 'M', 'F', 'M', 'M', 'M', 'M', 'M', nan, 'M', 'M', nan, 'M', 'M', 'F', 'M', 'M', 'M', 'M', 'M', 'M', 'M', 'M', 'M', 'M', 'F', 'M', 'M', 'M', 'M', 'M', 'F', 'M', 'F', nan, 'F', 'M', 'M', 'M', 'F', 'M', nan, 'M', 'M', 'M', 'M', 'M', 'M', 'M', 'M', 'M', 'M', 'M', 'M', 'M', 'M', 'M', 'M', nan, 'M', 'M', 'M', 'M', 'M', 'M', 'M', 'M', 'M', 'M', 'M', 'M', 'M', 'M', 'M', 'M', 'M', 'M', 'F', 'M', 'M', 'M', 'M', 'M', 'M', 'F', nan, 'M', 'M', 'M', 'F', 'M', 'F', 'M', 'M', nan, 'M', 'M', 'M', 'F', 'F', 'F', 'M', 'M', 'M', 'M', 'M', nan, 'M', nan, 'M', 'M', 'M', 'M', 'M', 'M', 'M', 'M', 'M', nan, 'M', 'M', 'M', 'M', 'M', 'M', 'M', 'F', 'M', 'F', 'M', 'M', 'M', 'M', 'M', 'M', 'F', 'M', 'M', 'M', 'M', 'M', nan, 'M', 'M', 'M', 'M', nan, 'M', 'M', nan, 'M', nan, 'M', 'M', 'M', 'M', 'M', nan, 'M', 'M', 'M', 'M', 'M', 'M', 'M', 'F', 'M', 'M', 'M', 'F', 'M', 'M', 'F', 'M', 'M', nan, 'F', 'M', 'M', 'F', 'M', 'M', 'M', 'M', 'M', 'M', 'M', 'M', 'M', 'M', 'M', 'M', 'M', 'M', 'M', nan, 'M', 'M', 'M', 'M', 'M', 'M', 'M', 'M', 'M', 'M', nan, 'M', 'M', 'M', 'M', 'M', nan, 'M', 'M', 'M', 'M', 'M', 'M', 'M', 'M', 'M', 'M', 'M', 'M', 'M', 'M', 'M', 'M', 'M', nan, 'M', 'M', 'M', nan, nan, 'M', 'M', 'M', 'F', 'F', 'M', 'M', 'M', nan, 'M', 'M', 'M', 'M', 'M', 'M', 'M', 'M', 'M', 'M', 'M', 'M', 'M', 'M', 'M', 'M', 'M', 'M', 'M', 'M', nan, 'M', 'M', 'M', 'M', nan, 'M', 'M', nan, nan, 'M', 'M', nan, 'M', 'M', 'M', 'M', 'M', 'M', 'M', 'M', 'M', 'M', 'M', 'M', 'M', 'M', 'F', nan, nan, 'M', nan, nan, nan, nan, nan, 'F', nan, 'M', 'M', 'M', nan, 'M', 'M', 'M', 'M', 'M', 'M', 'M', 'M', nan, 'M', 'M', 'M', 'M', 'M', 'F', 'M', 'M', 'M', 'M', 'M', 'F', 'M', 'M', 'M', 'F', 'M', 'M', 'M', 'M', 'F', 'M', 'M', 'M', 'M', 'F', 'M', nan, 'M', nan, 'M', nan, 'M', 'M', 'M', 'M', 'M', 'M', 'M', nan, 'M', 'M', 'M', 'F', 'M', 'M', 'M', 'M', 'M', 'M', 'M', 'M', 'M', 'M', 'M', 'M', 'M', 'F', 'M', 'M', 'M', 'M', 'F', 'M', 'M', nan, 'M', 'M', nan, nan, 'M', 'M', 'M', 'M', 'M', 'M', nan, 'M', 'M', 'M', 'M', 'M', nan, 'M', nan, nan, 'M', 'M', 'M', 'M', nan, 'M', 'M', 'M', 'M', 'M', 'M', 'M', nan, 'M', 'M', 'M', 'M', 'M', 'M', 'M', 'M', 'M', 'M', nan, nan, 'M', 'M', 'M', 'M', 'M', 'M', 'F', 'M', 'M', 'M', nan, 'M', 'M', 'M', 'M', 'M', 'M', 'F', 'M', 'M', 'M', 'M', nan, 'M', 'F', 'M', nan, 'M', nan, 'F', 'M', 'M', nan, 'M', 'M', 'M', nan, 'M', 'M', 'M', 'M', 'M', 'M', 'M', 'M', 'M', 'M', 'M', 'M', nan, 'M', 'M', 'M', 'M', 'M', 'M', 'M', 'M', 'M', 'M', 'M', 'M', 'M', 'M', 'M', 'M', 'M', 'M', nan, 'M', 'M', 'M', 'M', 'M', nan, 'M', 'M', 'M', 'M', 'M', 'F', 'M', 'M', 'M', 'M', 'M', 'M', 'M', 'M', 'M', 'M', 'M', 'M', 'F', 'F', 'M', 'M', 'M', 'M', 'M', 'M', 'M', 'M', 'M', 'M', 'M', 'M', 'M', 'M', 'M', 'M', 'M', 'M', 'M', 'M', 'M', nan, 'M', 'M', 'M', 'M', 'M', 'M', 'M', 'M', nan, 'M', 'M', 'M', 'M', 'M', 'M', 'M', 'M', 'M', 'M', nan, nan, 'M', nan, 'M', 'M', nan, 'M', 'M', 'M', 'M', 'M', 'M', 'M', 'M', 'M', nan, 'M', 'M', 'M', 'M', 'M', 'M', 'M', 'M', 'M', 'M', 'F', 'F', 'M', nan, nan, nan, 'M', nan, nan, 'M', 'M', 'M', 'M', 'M', 'M', 'M', 'M', nan, 'F', nan, 'M', 'M', 'M', 'M', nan, nan, 'M', 'M', 'M', 'M', 'M', 'M', 'F', 'M', 'M', 'M', 'M', 'M', 'M', 'M', 'M', 'M', 'M', 'M', 'M', 'M', 'M', 'M', 'M', nan, 'M', 'M', 'M', nan, 'M', 'M', 'M', 'M', 'M', 'M', 'M', 'M', nan, 'F', 'F', 'F', 'M', 'M', 'M', 'M', 'M', 'M', 'M', 'M', 'M', 'F', 'F', 'F', 'M', 'M', 'M', 'M', 'M', 'M', 'M', 'M', 'M', 'F', 'M', nan, 'M', 'M', 'M', 'M', 'M', 'M', 'M', 'M', 'M', 'M', 'M', nan, 'M', 'M', 'M', nan, 'M', 'M', nan, 'M', 'M', 'M', 'F', 'M', 'F', 'M', 'M', nan, 'M', 'M', nan, 'M', 'M', 'M', 'F', 'M', 'M', 'M', 'M', 'M', 'M', 'M', 'M', 'M', nan, 'M', 'M', 'M', 'M', 'M', 'M', 'M', 'M', 'M', 'M', 'M', 'M', 'M', 'M', 'M', 'M', 'M', 'M', 'M', 'M', 'M', 'M', 'M', 'M', 'M', 'M', 'M', 'M', 'M', 'M', nan, 'M', 'M', nan, 'M', 'M', 'M', 'M', 'M', nan, 'M', nan, 'M', 'M', 'M', 'M', 'M', 'M', 'M', 'M', 'M', 'M', 'M', 'M', 'M', nan, 'M', 'M', 'M', nan, nan, 'F', nan, 'M', 'M', 'M', 'M', 'M', 'M', 'M', 'M', 'M', 'M', 'M', nan, 'M', 'M', 'M', 'M', 'M', 'M', 'M', 'M', nan, 'M', 'M', nan, 'M', 'M', nan, 'M', 'M', 'M', 'F', nan, 'M', 'M', 'F', 'M', 'M', 'M', 'F', 'M', 'M', 'M', 'M', 'M', 'M', 'M', 'F', 'F', 'M', 'M', 'M', 'M', 'M', 'M', 'M', 'M', 'M', nan, 'M', 'M', 'M', 'M', 'M', 'M', 'M', nan, 'M', 'F', 'M', 'M', nan, 'M', 'M', 'M', 'M', 'M', 'M', 'M', 'M', 'M', 'M', 'M', 'M', 'M', 'F', 'M', nan, nan, 'M', 'M', 'M', nan, nan, nan, 'M', 'M', 'M', nan, 'M', 'M', 'M', nan, 'M', 'M', 'M', 'M', 'M', 'F', 'M', 'M', 'M', 'M', 'M', 'M', 'M', 'M', 'M', nan, nan, 'M', 'M', 'M', 'M', 'M', 'M', 'M', 'M', 'M', 'M', nan, 'M', nan, 'M', 'M', 'M', 'M', 'M', 'M', nan, 'M', 'M', 'M', nan, nan, nan, 'M', 'M', nan, 'M', nan, 'M', 'M', 'M', 'M', 'M', 'M', 'M', nan, 'M', 'M', 'M', 'M', 'M', nan, 'M', 'M', nan, 'M', nan, 'M', 'F', nan, 'M', nan, nan, nan, nan, 'M', 'F', nan, 'M', 'F', 'M', 'M', 'M', nan, 'M', 'M', 'M', nan, 'M', 'M', 'M', 'M', 'M', 'M', 'M', 'M', 'M', 'M', nan, 'M', 'M', 'M', 'M', 'M', 'M', 'M', nan, 'M', 'M', 'M', 'M', 'M', 'M', 'M', 'M', 'M', 'M', 'M', 'M', 'M', 'M', 'M', 'M', 'M', 'M', 'M', nan, 'M', 'M', 'M', 'M', 'F', 'M', 'M', 'M', 'M', 'M', 'F', 'M', 'M', 'M', 'M', 'M', nan, 'M', 'M', 'M', nan, 'M', 'M', 'M', nan, nan, nan, 'M', nan, 'M', nan, 'M', 'F', 'M', 'M', 'M', 'M', 'F', 'M', 'M', nan, 'M', 'M', 'M', nan, 'M', 'M', 'M', 'M', nan, 'M', 'M', 'M', nan, 'M', 'M', 'M', nan, 'M', 'M', 'M', 'M', 'M', nan, 'M', 'M', 'M', 'M', 'M', 'M', 'M', 'M', 'M', nan, 'M', 'M', 'M', 'M', 'M', 'M', 'M', 'F', nan, nan, 'M', 'M', 'M', 'M', 'M', 'M', 'M', 'M', 'M', nan, 'F', 'M', nan, 'M', 'M', 'M', 'M', 'M', 'M', 'M', nan, 'M', nan, 'M', nan, nan, 'M', 'M', nan, 'F', 'M', 'M', 'M', 'M', 'M', 'M', 'M', 'M', 'F', 'F', nan, nan, nan, 'M', 'M', 'M', 'M', 'M', 'F', 'M', 'M', 'M', nan, nan, nan, 'M', 'M', 'M', 'M', nan, 'M', 'M', 'M', 'M', 'F', 'M', nan, nan, nan, 'M', 'F', nan, 'M', 'M', 'M', 'M', 'M', 'M', nan, 'M', 'M', 'M', 'F', 'M', 'M', nan, 'M', 'M', nan, nan, 'M', nan, 'M', nan, 'M', 'M', 'M', 'M', nan, 'M', 'F', 'M', 'M', 'M', 'M', 'M', 'M', 'M', 'M', 'M', 'M', 'M', 'M', 'M', 'M', 'M', 'M', 'M', 'M', 'M', 'M', 'M', 'M', 'M', 'M', 'M', 'M', nan, 'M', 'M', 'M', 'M', 'M', nan, nan, 'M', 'M', 'M', 'M', 'M', 'M', nan, 'M', 'M', 'M', 'M', 'M', 'M', 'M', nan, 'F', 'F', 'M', 'M', 'M', 'M', 'M', 'M', 'M', 'M', 'M', 'M', 'M', 'M', 'M', 'F', 'M', 'M', 'M', 'F', 'M', 'M', 'M', 'M', 'M', 'M', 'M', 'M', 'M', nan, 'M', nan, 'M', 'M', 'M', nan, 'M', 'M', 'F', 'M', 'M', 'M', 'M', nan, nan, 'M', 'F', 'M', 'M', 'M', 'M', 'M', nan, 'M', 'M', 'M', 'M', 'M', 'M', 'M', 'M', 'M', 'M', 'M', 'M', 'M', 'M', 'M', nan, nan, nan, 'M', 'M', 'M', 'M', 'M', 'M', 'M', 'M', 'M', 'M', 'M', 'M', 'M', 'M', 'M', 'M', 'M', 'M', 'M', 'M', 'M', 'M', 'M', 'M', 'M', 'M', 'M', nan, 'M', 'M', 'M', 'M', 'M', 'F', 'M', 'M', 'M', nan, nan, 'M', nan, nan, 'M', 'M', 'M', 'M', 'M', 'M', 'M', 'M', 'M', 'M', 'F', 'M', 'F', nan, 'M', 'M', nan, nan, 'M', 'M', 'M', 'M', 'M', 'M', 'M', 'M', 'M', 'M', 'F', 'M', 'M', 'M', nan, 'M', 'M', 'M', 'F', 'M', 'M', 'M', 'M', 'M', 'M', 'M', 'M', 'M', 'M', 'M', 'M', nan, nan, 'M', 'M', nan, 'M', 'M', 'M', 'M', 'M', 'M', 'M', 'M', 'M', 'M', 'M', 'M', nan, 'M', 'M', 'M', 'M', 'M', 'M', 'M', 'M', 'M', 'M', 'M', nan, 'M', 'M', nan, 'M', 'M', 'M', 'M', nan, 'M', 'M', 'M', 'M', 'M', 'M', 'M', 'M', 'M', 'M', 'M', 'M', 'F', 'M', 'F', 'M', 'M', 'M', 'M', 'M', 'M', 'M', 'M', 'M', 'M', 'F', 'M', 'M', 'F', nan, 'M', 'M', 'M', 'M', nan, 'F', 'M', 'M', 'M', 'M', nan, 'M', 'M', 'M', 'M', 'M', nan, 'M', 'M', 'F', 'M', 'M', 'F', 'M', 'M', 'M', 'M', 'M', 'M', nan, nan, 'M', 'M', 'M', 'M', 'M', 'M', 'M', 'M', nan, 'M', 'M', 'M', 'M', 'M', 'M', 'M', 'M', 'M', 'M', 'M', 'M', 'M', 'M', 'M', 'M', 'M', nan, 'F', 'M', 'M', 'M', 'F', 'M', nan, 'M', 'M', 'M', 'M', 'M', nan, 'M', 'M', 'M', 'M', 'M', 'M', 'M', 'M', nan, 'M', nan, 'M', 'M', 'M', 'M', 'M', 'M', 'M', 'M', nan, 'M', nan, 'M', 'M', 'M', 'M', 'M', 'M', 'M', 'M', 'M', 'M', 'M', 'M', 'M', 'M', 'M', 'M', 'M', 'M', 'M', 'M', 'M', 'M', 'M', 'M', 'M', nan, 'M', 'M', 'M', 'M', 'M', 'M', 'M', 'M', 'M', 'M', 'M', 'M', 'M', 'M', 'M', 'M', 'M', 'M', 'F', 'M', 'M', 'M', 'M', nan, 'M', 'M', 'M', nan, 'M', nan, 'M', 'M', 'M', 'M', 'M', 'M', 'M', 'M', 'M', 'M', 'M', 'M', 'M', 'M', 'M', 'M', 'M', 'F', 'M', 'M', 'M', 'M', 'M', 'M', 'M', 'M', nan, 'M', 'M', 'M', 'M', 'M', 'M', 'M', nan, 'M', nan, 'M', nan, 'M', 'M', 'M', 'M', nan, 'M', 'M', 'M', 'M', 'M', 'M', 'M', 'M', nan, 'M', 'M', 'M', 'M', 'M', 'M', 'M', nan, 'M', nan, nan, 'M', 'M', nan, 'M', nan, 'M', 'M', 'M', 'M', 'M', 'M', 'M', 'M', nan, 'M', 'M', 'M', 'M', 'M', 'M', 'M', 'M', 'F', 'M', nan, nan, 'F', 'M', 'M', 'M', 'M', 'M', nan, nan, nan, 'M', 'M', 'M', 'M', 'M', 'M', 'F', 'M', 'M', nan, 'M', 'M', 'M', 'M', 'M', 'M', 'M', nan, 'M', 'M', 'M', 'M', 'M', 'F', nan, 'M', nan, 'M', 'M', 'M', 'M', 'M', 'M', 'M', 'M', 'M', 'M', 'M', 'M', 'M', 'M', 'M', 'M', 'M', 'M', 'M', 'M', nan, 'M', 'M', 'M', 'M', 'M', 'M', 'M', 'M', 'M', nan, nan, nan, 'M', nan, 'M', 'M', 'M', 'M', 'M', 'F', 'M', 'M', 'M', 'M', 'M', 'M', 'M', 'M', 'M', 'M', 'M', nan, 'M', 'M', 'M', 'M', 'M', 'M', 'M', 'M', 'M', 'M', 'M', nan, 'M', 'M', nan, 'F', 'M', 'M', 'M', 'M', nan, nan, 'M', 'M', 'M', 'M', 'M', 'M', nan, 'M', 'M', 'M', nan, 'M', 'M', nan, 'M', 'M', nan, 'M', 'M', 'M', 'M', 'M', 'M', 'M', 'M', 'M', 'M', 'M', 'M', 'M', 'M', 'M', 'M', 'M', 'M', 'M', 'M', 'M', 'M', 'M', 'M', 'M', 'M', 'M', nan, 'M', 'M', 'M', 'M', 'M', 'M', nan, 'F', nan, nan, 'F', 'F', 'M', 'M', nan, nan, nan, nan, 'M', 'M', 'M', 'M', 'M', nan, 'M', 'M', 'M', 'M', 'M', 'M', 'M', 'F', nan, 'M', 'M', 'M', 'M', 'M', 'M', 'M', 'M', 'M', 'M', 'M', nan, 'M', 'M', 'M', nan, 'M', 'M', 'M', 'M', 'M', 'M', 'M', 'M', 'M', 'M', 'M', 'M', 'M', 'M', 'M', 'M', 'M', 'M', 'M', nan, nan, 'M', 'M', 'M', 'M', 'M', nan, nan, 'M', 'M', 'M', 'M', 'M', 'M', 'M', nan, nan, 'M', 'M', 'M', 'M', 'M', nan, nan, 'M', 'M', 'M', 'M', 'M', nan, 'M', 'M', 'M', nan, 'M', nan, 'M', 'M', 'M', nan, 'M', 'M', 'M', nan, 'F', 'M', 'M', 'M', 'M', 'M', 'M', nan, 'M', 'M', 'M', 'M', 'M', 'M', 'M', 'M', 'M', 'F', 'M', 'M', nan, nan, 'M', 'M', 'M', 'F', 'M', 'M', 'M', 'M', 'M', 'M', 'M', 'M', 'M', 'M', nan, nan, 'M', 'F', 'M', 'M', 'M', 'F', 'M', 'M', 'M', 'M', 'F', 'M', 'F', 'M', 'N', 'M', 'M', 'M', 'M', 'M', 'M', 'M', nan, 'M', 'M', 'M', 'M', 'M', 'M', 'M', 'M', 'M', 'M', 'M', 'F', 'M', 'M', 'M', 'F', 'M', nan, 'M', 'M', 'M', 'M', 'M', 'M', nan, 'M', 'M', 'M', 'M', nan, 'M', 'M', 'M', 'M', 'M', 'M', 'M', 'M', 'M', 'M', 'M', 'M', 'F', 'M', 'M', 'M', 'F', 'M', 'M', 'M', 'M', nan, 'M', 'M', 'M', 'M', 'M', 'F', 'M', 'M', 'M', nan, 'M', 'M', 'M', 'M', 'M', 'M', 'M', 'M', 'M', 'M', nan, 'M', 'M', nan, 'M', 'M', 'M', 'M', 'M', 'M', nan, 'M', 'M', nan, 'M', 'M', 'M', nan, 'M', 'M', 'M', 'M', 'M', 'M', 'M', 'M', nan, 'M', 'M', 'M', 'M', 'M', nan, 'M', 'M', 'M', 'M', 'M', 'M', 'F', 'M', 'M', nan, 'M', 'M', 'M', 'M', 'M', 'M', 'F', 'M', 'M', 'M', 'M', 'M', 'M', 'M', 'M', 'M', 'M', 'M', 'M', nan, 'M', 'M', 'F', 'M', 'M', 'M', 'M', 'M', 'M', 'M', 'M', 'M', 'M', 'M', 'M', 'M', 'M', 'M', 'M', 'M', 'M', 'M', 'M', 'M', 'M', 'M', 'M', 'M', 'M', 'F', 'M', 'M', nan, 'M', 'F', 'M', 'M', 'M', nan, nan, 'M', 'M', nan, nan, 'M', 'M', 'M', 'M', 'M', 'M', 'M', 'M', 'M', 'M', 'M', 'M', 'M', 'M', 'M', 'M', nan, 'M', 'M', 'M', 'M', 'M', 'M', 'M', 'M', 'F', 'F', 'M', 'M', 'M', 'M', 'F', 'M', 'M', nan, 'M', 'M', 'M', 'F', nan, 'M', 'M', 'M', 'M', 'M', 'M', 'M', 'F', 'M', 'M', 'M', 'M', 'M', 'M', 'M', 'M', 'M', 'M', 'M', 'M', nan, 'F', 'M', 'M', 'M', 'M', 'M', 'M', 'M', 'M', 'M', nan, 'M', 'M', 'M', 'M', nan, 'M', 'M', 'M', 'M', 'M', 'M', 'M', 'M', 'M', 'M', 'M', 'F', 'M', 'M', 'M', 'M', 'M', nan, 'M', 'F', 'M', 'M', 'M', 'M', 'F', 'M', 'M', 'M', 'M', 'M', 'M', 'M', 'M', 'M', 'M', nan, 'M', 'M', 'M', 'M', 'M', nan, 'M', 'M', 'M', nan, 'M', 'M', 'M', nan, 'M', 'M', 'F', 'M', 'M', 'M', 'F', 'M', 'M', 'M', 'M', 'M', 'M', 'M', 'M', 'M', 'M', 'F', 'M', 'M', 'M', 'F', 'M', 'M', 'M', 'M', 'M', 'M', 'M', 'M', 'M', 'M', 'M', 'M', 'M', 'M', 'M', 'M', 'M', 'M', 'F', 'M', 'M', 'M', 'M', 'M', 'M', 'F', 'M', 'M', 'M', 'M', 'M', 'M', 'M', 'M', 'M', 'M', 'M', 'M', 'M', 'M', 'M', 'M', 'M', 'M', 'M', 'M', 'M', 'M', 'M', 'M', 'M', 'M', 'M', 'M', 'F', 'M', 'M', 'F', 'M', 'M', 'M', 'M', 'M', 'F', 'M', 'M', 'M', 'M', 'F', 'F', nan, 'M', 'M', 'M', 'M', 'M', 'F', nan, 'M', 'M', 'M', 'M', 'M', 'M', 'M', 'M', 'M', 'M', 'M', 'M', 'M', 'M', 'M', 'M', 'M', 'M', 'M', 'M', 'M', 'M', 'M', 'M', 'M', 'M', 'M', 'M', 'M', 'M', 'M', 'M', nan, 'M', 'M', 'M', 'M', 'M', 'M', 'M', 'M', 'M', nan, 'M', 'M', 'M', 'M', 'M', 'M', 'M', 'M', 'M', 'M', 'M', nan, 'M', 'M', 'M', 'M', 'F', 'M', 'M', 'M', 'F', 'M', 'F', 'M', nan, nan, 'M', 'M', 'M', 'M', 'M', nan, 'F', 'M', 'M', '.', nan, 'M', 'M', 'M', 'M', 'M', 'M', 'M', 'M', 'M', 'M', 'F', 'F', 'M', 'M', 'F', 'M', 'M', 'M', 'M', 'M', 'M', 'M', 'M', 'M', 'M', 'M', 'M', 'M', 'M', 'M', 'M', 'M', 'M', 'M', 'M', 'M', 'M', 'M', 'M', 'M', 'M', 'M', 'M', 'M', 'M', 'M', 'M', 'M', 'M', 'M', 'M', 'M', 'M', 'M', 'M', 'M', 'M', 'M', nan, 'M', 'M', nan, 'M', 'M', 'M', 'M', 'M', 'M', 'M', 'M', 'M', 'M', 'M', 'M', 'M', 'M', 'M', 'M', 'M', 'M', 'M', 'M', 'M', 'M', 'M', 'M', 'M', 'M', 'M', 'M', 'M', 'M', 'M', 'M', 'M', 'M', 'M', 'M', 'M', 'M', 'M', 'M', 'M', 'M', 'M', 'M', 'M', 'M', 'M', 'M', 'M', 'M', 'M', 'M', 'M', 'M', 'M', 'M', nan, 'M', 'M', 'M', 'M', nan, 'M', 'M', 'M', 'M', 'M', 'M', 'M', 'M', 'M', 'M', 'M', 'M', 'M', 'F', 'M', 'M', 'M', 'M', 'M', 'M', 'M', 'M', nan, 'M', 'M', 'M', 'M', 'M', 'M', 'M', 'M', 'F', 'M', 'M', 'M', 'M', 'M', 'M', nan, 'M', 'M', 'M', nan, 'M', 'M', 'M', nan, 'M', 'M', 'M', 'M', 'M', 'M', 'M', 'M', 'M', 'M', 'M', 'M', 'M', 'M', 'M', 'M', nan, 'M', 'M', 'M', 'M', 'M', 'M', 'M', 'M', 'M', 'M', 'M', 'M', 'M', nan, 'M', 'M', 'M', 'M', 'F', 'M', 'F', 'M', 'M', 'M', 'M', 'M', 'M', 'F', 'F', 'M', nan, 'M', 'M', 'M', 'F', 'M', 'M', 'M', 'M', 'M', 'M', nan, 'M', 'M', 'F', 'M', nan, 'M', 'M', 'M', 'M', 'M', 'M', 'M', 'M', nan, 'M', 'M', 'M', nan, 'M', nan, 'M', 'M', nan, 'M', 'M', 'M', 'M', 'M', 'M', 'M', 'M', 'M', 'M', 'M', 'M', nan, 'M', 'M', 'M', 'M', 'M', 'M', nan, 'M', 'M', 'M', 'M', nan, 'M', nan, 'M', 'M', nan, nan, 'M', 'M', 'M', 'M', 'M', 'M', 'M', 'M', 'M', 'M', nan, nan, 'M', nan, 'M', 'M', 'M', 'M', nan, 'M', 'M', 'F', 'M', 'M', 'M', 'M', 'M', 'M', 'M', 'M', 'M', 'M', nan, 'M', 'M', 'M', 'M', 'M', 'M', 'M', 'M', 'M', 'F', 'M', 'M', 'M', 'F', 'M', 'M', 'M', 'M', 'M', 'M', 'M', 'M', 'M', 'M', 'M', 'M', 'M', 'M', 'M', 'M', 'M', 'M', 'M', 'M', 'M', 'M', 'M', 'M', 'M', 'M', 'M', 'M', nan, 'M', 'M', 'M', 'M', 'M', 'M', 'F', 'M', 'M', 'M', nan, 'F', 'M', 'M', 'M', 'M', 'M', 'M', nan, 'M', 'M', 'M', 'M', 'M', 'M', 'M', 'M', 'M', 'M', 'M', 'M', 'M', 'F', 'M', 'M', 'M', nan, 'M', 'M', 'M', 'M', 'M', 'M', 'M', 'M', 'M', 'M', 'F', 'M', nan, 'M', 'M', 'M', 'M', 'M', 'M', 'M', 'M', 'M', nan, 'M', 'M', 'M', 'M', nan, nan, 'M', 'M', 'M', 'M', 'M', 'M', nan, 'M', 'M', 'M', 'M', 'M', 'M', 'M', 'M', nan, 'M', 'M', 'M', 'M', 'M', 'M', 'M', 'M', 'M', 'M', 'M', 'M', 'M', 'M', 'M', 'M', 'M', 'M', 'M', 'M', 'M', 'M', 'M', nan, 'M', 'M', 'M', 'M', 'M', 'M', 'M', 'M', 'M', 'M', nan, 'M', 'M', 'M', 'M', 'M', 'M', 'M', 'M', 'M', 'M', 'M', 'M', 'M', 'M', 'M', 'M', 'M', nan, 'F', 'M', 'M', 'M', 'M', 'M', 'M', 'F', 'M', 'M', 'M', 'M', 'M', 'M', 'M', 'M', 'M', 'M', 'M', 'M', 'M', 'M', 'M', 'M', 'M', 'M', 'M', 'M', 'M', 'M', 'M', 'M', 'F', 'M', 'M', 'M', 'M', 'M', 'M', 'M', 'M', 'M', 'M', 'M', 'M', 'M', 'M', 'M', 'M', 'F', 'M', 'M', 'M', 'M', 'M', 'M', 'M', 'M', 'M', 'M', 'M', 'M', 'F', 'M', 'M', 'M', 'M', 'M', 'M', nan, 'M', 'M', 'M', 'M', 'M', 'M', 'M', 'M', 'M', 'M', 'M', nan, 'M', 'M', 'M', 'M', 'M', nan, 'M', 'M', 'M', 'M', 'M', 'M', 'M', 'M', nan, nan, 'M', 'M', 'F', 'F', 'M', 'M', 'M', 'M', 'M', 'M', 'M', 'M', 'M', 'M', 'M', 'M', 'M', 'M', 'M', 'M', 'M', 'M', nan, 'M', 'M', 'M', 'M', 'M', 'M', nan, 'M', 'M', 'M', 'M', nan, 'M', 'F', 'F', nan, 'M', 'M', 'M', 'M', nan, 'M', 'M', 'M', 'M', 'M', 'M', 'M', 'M', 'M', nan, 'M', 'M', 'M', 'M', 'M', 'M', 'M', nan, nan, 'M', 'M', 'M', 'M', 'M', 'M', nan, 'M', 'M', 'M', 'M', 'M', nan, 'M', 'M', 'M', nan, 'M', 'M', 'M', 'F', 'M', 'M', 'M', 'F', 'M', 'M', 'M', nan, 'F', 'M', 'F', 'M', nan, 'M', 'M', 'M', 'F', 'M', 'M', 'M', 'M', 'M', nan, 'M', 'M', 'M', 'M', 'M', 'M', nan, 'F', 'M', 'M', 'F', 'M', 'M', 'M', 'M', 'F', 'M', 'M', 'F', 'M', 'M', 'M', 'M', 'M', nan, 'M', 'M', 'M', 'M', 'M', 'M', 'M', 'F', 'M', 'F', 'M', 'M', 'M', 'M', 'M', 'M', 'M', 'M', 'M', 'M', 'M', nan, 'M', 'M', 'M', 'M', 'M', 'M', 'M', 'M', 'M', 'M', 'M', 'M', 'M', 'M', 'M', 'M', 'M', 'M', nan, 'F', 'M', 'M', 'M', 'M', 'M', 'M', 'M', nan, 'M', 'M', 'M', 'M', 'F', 'M', 'M', 'M', 'M', 'M', 'M', 'M', 'M', 'M']\n"
     ]
    }
   ],
   "source": [
    "s_l = df[\"Sex \"].values.tolist()\n",
    "print(s_l)\n",
    "# df[\"Sex \"].value_counts()\n",
    "# df[[\"Name\", \"Sex \"]]\n",
    "# df.index[df['BoolCol'] == True].tolist()\n",
    "\n",
    "# not_male = df.index[df[\"Name\"] != \"male\"].tolist()\n",
    "# not_female = df.index[df[\"Name\"] != \"female\"].tolist()\n",
    "# not_m_f = not_male or not_female\n",
    "# not_m_f"
   ]
  },
  {
   "cell_type": "code",
   "execution_count": 30,
   "metadata": {},
   "outputs": [],
   "source": [
    "sex_replace = {\"M \": \"M\",\n",
    "               \".\": \"unknown\",\n",
    "               \"lli\": \"unknown\",\n",
    "               \"N\": \"unknown\"}\n",
    "\n",
    "for pat, repl in sex_replace.items():\n",
    "    df[\"Sex \"] = df[\"Sex \"].str.replace(pat,repl)"
   ]
  },
  {
   "cell_type": "code",
   "execution_count": 31,
   "metadata": {
    "scrolled": true
   },
   "outputs": [
    {
     "data": {
      "text/plain": [
       "M          4837\n",
       "F           585\n",
       "unknown       3\n",
       "Name: Sex , dtype: int64"
      ]
     },
     "execution_count": 31,
     "metadata": {},
     "output_type": "execute_result"
    }
   ],
   "source": [
    "df[\"Sex \"].value_counts()"
   ]
  },
  {
   "cell_type": "code",
   "execution_count": 32,
   "metadata": {},
   "outputs": [
    {
     "data": {
      "text/plain": [
       "False    5425\n",
       "True      567\n",
       "Name: Sex , dtype: int64"
      ]
     },
     "execution_count": 32,
     "metadata": {},
     "output_type": "execute_result"
    }
   ],
   "source": [
    "df[\"Sex \"].isnull().value_counts()"
   ]
  },
  {
   "cell_type": "code",
   "execution_count": 33,
   "metadata": {
    "scrolled": true
   },
   "outputs": [
    {
     "data": {
      "text/plain": [
       "False    5425\n",
       "True      567\n",
       "Name: Sex , dtype: int64"
      ]
     },
     "execution_count": 33,
     "metadata": {},
     "output_type": "execute_result"
    }
   ],
   "source": [
    "df[\"Sex \"].isna().value_counts()"
   ]
  },
  {
   "cell_type": "code",
   "execution_count": 34,
   "metadata": {
    "scrolled": false
   },
   "outputs": [],
   "source": [
    "df[\"Sex \"] = df[\"Sex \"].fillna(\"unknown\")"
   ]
  },
  {
   "cell_type": "code",
   "execution_count": 35,
   "metadata": {
    "scrolled": true
   },
   "outputs": [
    {
     "data": {
      "text/html": [
       "<div>\n",
       "<style scoped>\n",
       "    .dataframe tbody tr th:only-of-type {\n",
       "        vertical-align: middle;\n",
       "    }\n",
       "\n",
       "    .dataframe tbody tr th {\n",
       "        vertical-align: top;\n",
       "    }\n",
       "\n",
       "    .dataframe thead th {\n",
       "        text-align: right;\n",
       "    }\n",
       "</style>\n",
       "<table border=\"1\" class=\"dataframe\">\n",
       "  <thead>\n",
       "    <tr style=\"text-align: right;\">\n",
       "      <th></th>\n",
       "      <th>original order</th>\n",
       "      <th>Case Number</th>\n",
       "      <th>Location</th>\n",
       "      <th>Area</th>\n",
       "      <th>Country</th>\n",
       "      <th>Time</th>\n",
       "      <th>Sex</th>\n",
       "      <th>Age</th>\n",
       "      <th>Activity</th>\n",
       "      <th>Species</th>\n",
       "      <th>Injury</th>\n",
       "      <th>Fatal (Y/N)</th>\n",
       "      <th>Investigator or Source</th>\n",
       "      <th>href</th>\n",
       "      <th>pdf</th>\n",
       "      <th>Type</th>\n",
       "      <th>href formula</th>\n",
       "    </tr>\n",
       "  </thead>\n",
       "  <tbody>\n",
       "    <tr>\n",
       "      <th>0</th>\n",
       "      <td>5993</td>\n",
       "      <td>2016.09.18.c</td>\n",
       "      <td>New Smyrna Beach, Volusia County</td>\n",
       "      <td>Florida</td>\n",
       "      <td>USA</td>\n",
       "      <td>13h00</td>\n",
       "      <td>M</td>\n",
       "      <td>16</td>\n",
       "      <td>Surfing</td>\n",
       "      <td>NaN</td>\n",
       "      <td>Minor injury to thigh</td>\n",
       "      <td>N</td>\n",
       "      <td>Orlando Sentinel, 9/19/2016</td>\n",
       "      <td>http://sharkattackfile.net/spreadsheets/pdf_di...</td>\n",
       "      <td>2016.09.18.c-NSB.pdf</td>\n",
       "      <td>Unprovoked</td>\n",
       "      <td>http://sharkattackfile.net/spreadsheets/pdf_di...</td>\n",
       "    </tr>\n",
       "    <tr>\n",
       "      <th>1</th>\n",
       "      <td>5992</td>\n",
       "      <td>2016.09.18.b</td>\n",
       "      <td>New Smyrna Beach, Volusia County</td>\n",
       "      <td>Florida</td>\n",
       "      <td>USA</td>\n",
       "      <td>11h00</td>\n",
       "      <td>M</td>\n",
       "      <td>36</td>\n",
       "      <td>Surfing</td>\n",
       "      <td>NaN</td>\n",
       "      <td>Lacerations to hands</td>\n",
       "      <td>N</td>\n",
       "      <td>Orlando Sentinel, 9/19/2016</td>\n",
       "      <td>http://sharkattackfile.net/spreadsheets/pdf_di...</td>\n",
       "      <td>2016.09.18.b-Luciano.pdf</td>\n",
       "      <td>Unprovoked</td>\n",
       "      <td>http://sharkattackfile.net/spreadsheets/pdf_di...</td>\n",
       "    </tr>\n",
       "    <tr>\n",
       "      <th>2</th>\n",
       "      <td>5991</td>\n",
       "      <td>2016.09.18.a</td>\n",
       "      <td>New Smyrna Beach, Volusia County</td>\n",
       "      <td>Florida</td>\n",
       "      <td>USA</td>\n",
       "      <td>10h43</td>\n",
       "      <td>M</td>\n",
       "      <td>43</td>\n",
       "      <td>Surfing</td>\n",
       "      <td>NaN</td>\n",
       "      <td>Lacerations to lower leg</td>\n",
       "      <td>N</td>\n",
       "      <td>Orlando Sentinel, 9/19/2016</td>\n",
       "      <td>http://sharkattackfile.net/spreadsheets/pdf_di...</td>\n",
       "      <td>2016.09.18.a-NSB.pdf</td>\n",
       "      <td>Unprovoked</td>\n",
       "      <td>http://sharkattackfile.net/spreadsheets/pdf_di...</td>\n",
       "    </tr>\n",
       "  </tbody>\n",
       "</table>\n",
       "</div>"
      ],
      "text/plain": [
       "   original order   Case Number                          Location     Area  \\\n",
       "0            5993  2016.09.18.c  New Smyrna Beach, Volusia County  Florida   \n",
       "1            5992  2016.09.18.b  New Smyrna Beach, Volusia County  Florida   \n",
       "2            5991  2016.09.18.a  New Smyrna Beach, Volusia County  Florida   \n",
       "\n",
       "  Country   Time Sex  Age Activity Species                     Injury  \\\n",
       "0     USA  13h00    M  16  Surfing      NaN     Minor injury to thigh   \n",
       "1     USA  11h00    M  36  Surfing      NaN      Lacerations to hands   \n",
       "2     USA  10h43    M  43  Surfing      NaN  Lacerations to lower leg   \n",
       "\n",
       "  Fatal (Y/N)       Investigator or Source  \\\n",
       "0           N  Orlando Sentinel, 9/19/2016   \n",
       "1           N  Orlando Sentinel, 9/19/2016   \n",
       "2           N  Orlando Sentinel, 9/19/2016   \n",
       "\n",
       "                                                href  \\\n",
       "0  http://sharkattackfile.net/spreadsheets/pdf_di...   \n",
       "1  http://sharkattackfile.net/spreadsheets/pdf_di...   \n",
       "2  http://sharkattackfile.net/spreadsheets/pdf_di...   \n",
       "\n",
       "                        pdf        Type  \\\n",
       "0      2016.09.18.c-NSB.pdf  Unprovoked   \n",
       "1  2016.09.18.b-Luciano.pdf  Unprovoked   \n",
       "2      2016.09.18.a-NSB.pdf  Unprovoked   \n",
       "\n",
       "                                        href formula  \n",
       "0  http://sharkattackfile.net/spreadsheets/pdf_di...  \n",
       "1  http://sharkattackfile.net/spreadsheets/pdf_di...  \n",
       "2  http://sharkattackfile.net/spreadsheets/pdf_di...  "
      ]
     },
     "execution_count": 35,
     "metadata": {},
     "output_type": "execute_result"
    }
   ],
   "source": [
    "df.head(3)"
   ]
  },
  {
   "cell_type": "code",
   "execution_count": 36,
   "metadata": {},
   "outputs": [
    {
     "data": {
      "text/plain": [
       "M          4837\n",
       "F           585\n",
       "unknown     570\n",
       "Name: Sex , dtype: int64"
      ]
     },
     "execution_count": 36,
     "metadata": {},
     "output_type": "execute_result"
    }
   ],
   "source": [
    "df[\"Sex \"].value_counts()"
   ]
  },
  {
   "cell_type": "code",
   "execution_count": 37,
   "metadata": {},
   "outputs": [
    {
     "name": "stdout",
     "output_type": "stream",
     "text": [
      "['16', '36', '43', nan, nan, nan, '60s', '51', '50', '12', nan, '9', '22', '25', '37', '20', '49', '15', '21', '22', '40', '72', nan, '43', '18', '29', '36', nan, '31', nan, '9', '11', nan, nan, '10', nan, '59', nan, '42', '34', '35', '11', '59', '43', '42', nan, nan, '19', '6', '19', '27', '64', '60', '23', nan, nan, '29', '52', '13', '57', '22', '11', '48', '23', '59', '39', '24', '15', nan, '12', '26', '26', '69', '60', '34', nan, '46', '22', 'Teen', '41', '9', nan, '19', '45', '12', nan, '41', '21', '31', nan, '65', nan, '45', '40', nan, nan, '15', nan, nan, '48', nan, '11', '31', nan, '38', '71', '43', '32', '58', nan, '26', '22', nan, nan, '28', '20', '9', '54', '28', '19', '50', '10', '42', '21', '21', '35', '32', '44', nan, '9', '25', nan, '18', '22', '13', '14', '22', '7', nan, '14', '27', '12', '16', nan, '20', '42', '50', '29', '62', nan, '37', nan, '54', '21', nan, '38', '15', '10', '22', '10', '57', '52', '25', '35', '46', '31', '40s', '45', '34', '38', '39', nan, '23', '32', '52', '32', '68', nan, '12', '18', '19', nan, '23', '43', '19', '47', '6', '37', '9', '36', '10', '16', '12', nan, '13', '11', '17', '47', '14', '19', '19', '13', '18', '30', '50', nan, nan, '29', '65', '63', '26', '71', '48', nan, '13', '23', '70', '43', '36', '52', '58', '9', nan, '36', '18 months', nan, '22', '41', '35', nan, '57', '20', nan, nan, nan, nan, '17', '38', '34', '15', '12', nan, '17', nan, nan, '50', '40s', nan, '17', nan, '13', '39', nan, '44', nan, '53', nan, '18', '34', '20', nan, nan, nan, nan, '13', '7', nan, '40', nan, '29', '15', nan, nan, '28', '23', nan, '36', nan, '50', '43', '20s', '52', '16', '13', '17', nan, '33', '30s', '29', nan, nan, nan, '31', nan, '26', nan, '10', '7', '10', '45', '50s', '8', '20', nan, 'Teen', '51', '8', nan, '61', '39', '63', nan, '14', nan, nan, '19', '48', '42', nan, '15', nan, '43', '16', '39', '43', '14', '22', nan, '37', '29', nan, '10', '55', '38', '35', '44', '12', nan, '40', '23', nan, '42', '25', nan, nan, 'teen', 'teen', '63', '38', '66', nan, '9', '42', '42', nan, '10', nan, '21', '21', '21', '28', nan, '28', nan, '24', '31', nan, '37', '19', '35', '29', '30', '26', '57', '19', '58', '35', '25', nan, '77', '16', nan, '46', '60', '24', nan, '41', '45', '25', '6', '74', '55', '45', '12', '50', '27', '7', '45', nan, '21', '13', nan, '43', '25', '17', '3', nan, '9', nan, nan, '47', '50', '11', nan, '16', nan, '20', '19', '10', nan, '17', '56', '32', '40', nan, '18', '64', '50', '18', '50', 'teen', '15', '33', '63', '48', '29', nan, '20', nan, nan, '14', '28', '15', nan, nan, '10', '58', nan, '32', '11', '41', '30', '29', '42', '36', '16', nan, '34', '51', '9', nan, '21', '40', '53', '50', '24', '58', '47', '34', nan, '50', '30', nan, '68', '28', '28 & 26', '39', '46', nan, nan, '16', '48', '18', nan, nan, '62', '43', nan, '26', nan, '23', '29', '20', '32', '60', '31', '25', '61', '20', '32', '14', '30', '43', '25', '51', '39', '35', '24', '55', nan, '38', '42', '11', '21', '22', '52', '29', '19', '25', nan, '30s', '37', '32', '8', nan, '56', '53', '34', '18', '31', nan, '56', '39', nan, '17', '48', '44', '50', '12', '22', '24', '23', '24', '43', nan, '42', '52', '29', '60', '6', '26', '16', nan, '12', '62', '16', '6', '23', '18', nan, nan, '16', '42', '57', '30', '12', '25', '33', '46', '22', nan, '20', '30', '47', '15', '28', '20', '27', '28', nan, '33', '21', nan, '20', '61', '15', '17', nan, '34', '31', '19', '42', nan, nan, nan, nan, '29', nan, nan, '26', '24', '44', '25', '53', '28', '34', nan, nan, '23', '27', nan, '35', '51', nan, '14', nan, nan, '63', '18', '10', nan, nan, '35', '42', '27', '26', nan, '32', '41', '50', nan, nan, '64', '51', nan, '29', '27', '48', '43', '21', '5', nan, '38', '17', '25', '37', '30', nan, '21', '19', '19', '48', '39', nan, '21', '10', '49', '16', '20s', '12', '25', '32', '27', '30', '7', '54', '36', '14', '43', nan, '29', '6', nan, nan, '54', '12', '14', '16', '17', '28', '21', '22', '10', nan, '20', '35', '15', '31', nan, '28', '24', '28', '19', nan, '22', '33', nan, nan, '15', '28', '86', '37', nan, '43', '37', '32', '17', '49', '41', nan, '27', nan, nan, '48', '46', '30', '24', nan, nan, '36', '21', '32', '49', nan, '58', nan, '37', '38', '25', '55', '7', '16', '37', nan, '16', nan, '46', '70', nan, '54', '46', '70', '48', '47', nan, '33', '21', nan, nan, '20', nan, nan, nan, '30', '14', '19', nan, '22', nan, nan, 'Teen', '29', '18', '29', '15', '27', '24', nan, '24', '24', '34', '43', '10', '31', '45', nan, '16', '47', '25', '35', nan, nan, '37', '16', '20', '10', '13', '55', '9', nan, nan, '21', '20', '19', '48', '20', '6', '13', '17', '18', '40', '20', '49', '58', '60', nan, '59', '10', '29', '68', '35', '24', '34', nan, nan, '19', '60', '46', nan, '18', nan, '31', '38', '14', '29', nan, '54', nan, '37', '9', nan, nan, nan, '32', nan, '20', '55', '27', nan, '18', '22', nan, '24', '39', nan, '58', '49', '10', '31', '22', '27', '18', '25', '21', '27', nan, '17', nan, '54', '10', '23', '23', nan, '39', nan, nan, nan, '34', '60', '15', nan, nan, nan, '25', '22', nan, '26', nan, '56', '14', '14', '41', nan, '14', '11', '26', '19', '57', nan, nan, '37', '12', '43', '52', '26', '14', nan, nan, nan, '50', '46', nan, '31', '49', '55', '27', '48', nan, nan, '20', '23', '52', '40', '31', '49', '24', nan, '15', '59', '16', '17', nan, nan, '17', nan, '61', '21', '19', '40', nan, '15', nan, nan, '33', '31', nan, '41', nan, '49', '17', '15', nan, '19', '25', '17', nan, nan, nan, '24', '13', '31', nan, '22', '49', nan, nan, nan, '10', '29', '51', nan, nan, '15', nan, nan, nan, nan, nan, nan, '45', '39', '34', '24', '50', '15', '11', '43', '44', '40', '43', '32', '40', nan, '51', '43', '15', '52', nan, '29', '27', '52', '19', '26', '20', '20', '47', '7', '38', '13', nan, '31', nan, nan, '33', nan, '17', '44', '9', '8', '15', '16', nan, '52', '24', '14', '17', '16', '53', '42', '46', nan, '29', '37', nan, '40', '35', '14', '40', nan, '15', '14', '9', nan, '49', '21', '28', '37', '40', '6', '24', '24', '18', '24', '32', '21', '66', '14', nan, nan, '32', '19', '30', nan, nan, nan, '16', '18', '39', '52', '15', '13', '14', '8', '27', '49', '26', '25', '14', nan, '42', '20', nan, nan, '20', nan, '26', '24', '53', '31', 'teen', '34', '52', nan, '28', '32', nan, '14', '21', '42', '37', nan, '32', '52', '31', '22', '16', nan, nan, '23', '48', nan, '18 or 20', nan, nan, '23', nan, '56', 'Teen', '14', '58', '36', '15', '12', '58', '15', '24', '54', '27', nan, nan, '52', '16', '7', '20', '15', '19', '30', '9', '19', '51', '20', nan, nan, '36', '15', '14', '48', '43', '30', '48', '18', '17', nan, nan, nan, '20', nan, '9', nan, nan, nan, '40', '38', '38', '19', '21', nan, '45', '63', '68', nan, '20', '13', '12', '24', nan, '26', '7', '27', '9', nan, '11', '42', nan, '59', '29', '16', '36', '26', nan, '30', nan, '41', '20', '24', nan, '54', '24', '25', '10', '43', '25', '15', nan, '29', nan, '22', '15', '20', nan, '18', '26', nan, '36', '19', nan, '16', '55', '52', '44', '20', '33', '12 or 13', '37', '23', nan, '27', '17', '34', nan, '34', nan, '24', '59', nan, nan, '41', nan, '15', '19', '14', nan, nan, '49', '7', '21', nan, '40', '11', '14', '13', '28', '35', '9', nan, '25', '22', '27', '43', '24', '7', '40', '26', nan, '31', '15', '33', '30s', nan, '20s', '46', nan, '54', '13', '35', '15', '15', '35', '11', nan, '28', '17', '21', '15', '15', '45', '18', nan, nan, '15', '24', '57', '46 & 34', '34', '28, 23 & 30', nan, '52', nan, '21', '21', '49', '30', '29', nan, '44', nan, 'teen', '23', nan, '18', '26', nan, '30s', '17', nan, '32', '18', '25', '26', '15', '55', '20', '36', '20', '15', '22', '57', '48', '35', '52', '28', '26', '44', nan, '68', '18', '15', '18', '40', '62', '21', '23', '37', '17', '8', '12', nan, '16', '14', nan, '13', '61', '25', nan, '24', nan, '22', '14', '19', '16', '14', '7', nan, '49', '20', '38', '11', '17', '22', '6', '33', nan, '32', nan, nan, nan, 'Teens', '47', '25', nan, '20', '40', '70', '52', '37', nan, nan, '32', nan, nan, '26', '45', '51', nan, nan, '18', nan, nan, nan, '12', '19', nan, nan, '39', '11', '18', '38', '20', '16', '77', '38', '30s', nan, '40', nan, '52', '59', nan, '34', '34', '15', '16', '40', nan, '26', nan, nan, '17', '38', '24', nan, '50', '47', '30', nan, '20', nan, '28', '13', '19', '11', nan, '51', '30', 'Teen', '7', '45', nan, nan, '17', '8', '21', '16', '17', '44', '9', '9', '9', '24', '63', '28', '22', nan, nan, nan, nan, '57', '16', '22', '26', '20', '22', nan, '20', '61', nan, nan, '51', '47', '29', '15', nan, '31', nan, '22', '46', '21', nan, nan, '40', nan, nan, '22', nan, nan, nan, nan, '28', '13', '45', '36', nan, nan, '21', '35', '35', '24', nan, nan, nan, nan, '18', '22', '13', '46', '56', '19', nan, nan, '18', '30', '50', '41', '40', '16', '21', '19', '17', '30', '36 & 26', '8 or 10', '18', '15', '19', nan, nan, '50', '31', '16', '37', '18', '15', '58', '10', '21', '39', nan, nan, nan, '17', '15', nan, '12', '60', '51', '33', '15', '22', '18', '22', '20', '34', '9', nan, nan, '16', '17', '7', '36', '17', '30', '23', '18', '11', '12', '20', '28', nan, '50', nan, '44', '37', '54', '24', '84', '14', nan, nan, '18', '25', '26', '11', '23', '19', nan, '48', '34', '41', '21', '16', '52', '60', '36', '21', '14', '35', '18', '47', '32', '55', '\\xa0 ', ' ', '24', '35', '19', nan, '47', '20', '36', '16', '29', '27', '15', '15', '30', '14', '13', '15', '19', '41', '22', '9', '30', '11', nan, nan, nan, nan, '28', '50', '10', '50', '24', '16', '55', '35', nan, '14', '31', '40', '20', '23', '52', '34', '28', '45', '43', '41', '29', '17', '11', '16', '20', '39', '31', '44', nan, '30 or 36', '15', '35', '20', '32', '16', nan, '26', '35', '36', '49', nan, nan, nan, '20', '26', '31', '21', '14', '42', '6½', '16', nan, '44', '13', nan, '28', '23', '20', '10', '44', '29', '69', '18', '18', '17', '27', '32', '17', '17', '20', '19', '19', '43', '21 & ?', nan, '36', nan, nan, nan, nan, nan, '48', '18', '42', '8', nan, '35', '14', '52', '75', '29', '16', '11', nan, '24', nan, '26', '33 or 37', '45', nan, '14', '16', '12', 'mid-30s', '38', '21', '12', '22', '19', '22', nan, '16', '46', nan, '26', '12', '40', nan, nan, '12', '20', nan, nan, nan, '40', '35', '55', nan, nan, nan, '23', '47', nan, '30', '38', nan, '28', '47', '73', '27', '52', '49', '27', '31', '23', '56', '69', '17', '23', '11', '24', nan, '17', '25', '12', '31', nan, '49', '26', '25', '8', '48', '28', '40', '27', nan, '47', '69', nan, nan, '53', '27', '44', nan, '23 & 20', nan, '5', '45', '16', '14', '15', '18', nan, '69', '13', '41', '5', '12', '20', '55', '13', '19', nan, nan, nan, '52', nan, '17', '55', '44', '13', nan, nan, nan, '9', nan, '34', nan, nan, '26', '14', '37', '35', nan, nan, nan, '27', nan, '39', '27', nan, nan, '12', '26', nan, '35', nan, '15', '13', '12', '18', nan, '39', '35', '19', '51', nan, '35', '39', '12', '12', '45', '13', nan, '16', '22', nan, '61', '10', '13', '7', '39', '28', nan, '23', '17', '10', '62', '35', '42', '43', '43', '14', nan, '30', '29', '20', '21', '41', '5', '22', '21', '41', '52', '14', nan, nan, '29', nan, '28', '18', '29', nan, '35', '25', '47', nan, nan, '37', nan, '30', nan, '19', '21', '18', '14', '21', '9', '14', '13', '32', '52', '22', '17', '30', nan, '17', nan, '28', '6', '18', nan, '28', '25', '26', nan, '16', nan, '28', '11', nan, '19', '24', nan, '13', '47', '16', '10', '26', '20', '18', nan, '17', '15', '16', '40', '14', '24', '22', '35', '50', '16', nan, nan, '40', '33', '32', nan, '31', nan, nan, '21', nan, '23', '28', nan, nan, '39', nan, '29', '8', '42', '32', '21', '51', '19', '23', '12', nan, '14', '20', '12', '17', '20', '18', '22', '29', '28', '33', '12', '17', '16', '17', nan, '10', nan, '17', '19', '19', '25', nan, '50', '55', nan, nan, '47', '18', nan, '33', '35', '34', '12', '54', nan, '22', '21', '30', nan, nan, '49', '27', '41', nan, nan, '18', nan, nan, nan, '45', '26', nan, nan, nan, '22', '21', '31', nan, '14', '23', '19', '5', '28', '28', '29', '19', '36', '21', '8', '52', nan, '46', '9', nan, '18', '63', '24', '24', nan, nan, '17', '45', '22', '33', '27', nan, '11', '16', nan, '47', '7', '24', '32', nan, nan, '14', nan, '7', '33', '13', '53', nan, nan, '25', nan, nan, nan, '22', nan, nan, nan, '13', '17', '15', '39', '14', '17', '25', '19', '19', nan, '25', '29', '32', '9', '19', '44', nan, '16', '18', '16', '23', '19', nan, '18', '20', '15', '20', '14', '12', nan, nan, nan, nan, '18', '18', '12', '7', '47', '14', '18', '34', '32', nan, '31', nan, '13', nan, '45', '10', '38', '45', '29', '44', '15', '69', nan, '44', '12', '20', nan, '47', nan, '35', nan, '22', nan, '14', '17', '33', nan, nan, nan, '26', nan, nan, nan, nan, '44', '42', nan, nan, '34', nan, nan, nan, '9', '16', '30', '43', '7      &    31', '12', nan, '15', nan, '24', '22', '31', nan, '15', '30', '24', '28', '35', '36', '26', '22', '25', nan, '20?', '71', nan, '19', nan, '33', '25', nan, '23', nan, '15', nan, nan, nan, '44', nan, '23', '33', nan, nan, nan, '30', '27', nan, nan, '26', '26', '34', nan, '21', '36', '15', '17', '19', '16', '69', '51', '13', nan, nan, '19', nan, '39', nan, nan, '28', '12', nan, '16', '61', '42', '22', '31', '34', '42', \"60's\", nan, nan, '32', nan, '25', nan, '35', '55', nan, nan, nan, '69', '15', '21', '32 & 30', '29', nan, nan, '30', nan, '10', '30', '31', '19', '24', '46', '30', '40', '17', '18', '40', '28', nan, nan, '28', nan, '20', '18', nan, nan, '34', '17', nan, '22', '26', nan, nan, '42', nan, nan, nan, '16', '21', nan, nan, '45', nan, nan, nan, '35', '36', '17', '41', nan, '21', nan, nan, '19', nan, '19', '19', '36', nan, nan, nan, '33', '25', '41', nan, nan, nan, '14', '21', '32', '32', '19', '36', '23', '10', nan, '40', '39', '42', '22', '30', '32', '13', '22', nan, '18', '31', '65', '23', nan, nan, nan, '22', nan, '18', '38', '20', '35', nan, '22', nan, '26', nan, '24', '50', '18', '26', nan, '25', '43', '19', '26', '49', '44', '30', '22', nan, '18', '53', '17', '21', '38', nan, '30s', '30s', '22', '23', '31', '37', nan, '29', nan, '30', nan, nan, '33', nan, '17', nan, '17', '27', '32', '29', nan, '10', '31', '17', nan, '12', '49', nan, '29', '51', nan, '38', '31', '46', '30', '21', '21', '17', '31', '41', '35', '34', nan, '16', '9', nan, '45', nan, '16', '28', nan, '19', nan, nan, nan, nan, '27', nan, nan, '26', '47', '24', '24', '10', '19', nan, '17', nan, nan, nan, '17', '62', nan, '21', '38', '15', '30', '23', '15', '23', '21', nan, '38', nan, '16', nan, '27', nan, '28', '35', '15', '37', nan, nan, '36', '42', '37', '12', '25', '38', '31', '29', nan, nan, '24', nan, '14', nan, nan, '30', nan, '17', nan, nan, '20', '15', nan, '22', '22', nan, nan, '33', nan, '12', nan, '16', '16 to 18', '15', nan, '20', '14', '21', nan, '47', '24', '12', '40', '27', '32', '16', nan, '35', nan, nan, '12', nan, '34', nan, '16', nan, '8', '18', nan, nan, nan, '30', '37', nan, nan, nan, '21', '40', '37', '27', '22', nan, '17', '26', '23', nan, '6', '32', nan, '28', nan, nan, '18', '16', '35', nan, nan, nan, '8', '26', nan, nan, nan, nan, nan, '26', '23', '21', nan, '46', '29', '29', '22', '16', nan, nan, nan, nan, '24', '22', '46', '33', '24', nan, nan, '21', nan, '17', '87', '11', '67', '13', '15', nan, '10', '13', nan, '39', '25', '33', '29', '16', '15', nan, '18', nan, '34', nan, '20', nan, nan, nan, '16', '13', '29', '22', '23', '77', '15', '25', nan, '17', 'Elderly', '16', nan, nan, '28', nan, '31', nan, '13', '18', '21', '30', nan, '27', '13', '20s', '28', nan, nan, nan, nan, nan, '33', nan, '27', '14', '14', nan, nan, '36', '17', '48', '16', '47', nan, nan, '15', nan, '16', '20', '15', nan, '29', '14', '14', '22', nan, '21', '24', '28', nan, '39', '13', '17', '42', '15', '21', '30', nan, nan, '21', '15', '22', nan, '27', '16', nan, '17', nan, nan, nan, '16', '43', nan, '22', '32', nan, nan, nan, nan, '26', '16', '16', '20', '36', '28', 'mid-20s', nan, '17', '18', nan, '20', '38', '26', '17', '43', '19', nan, '27', '20', '19', '8', nan, 'Ca. 33', '16', '20', nan, '32', '18', nan, nan, nan, '75', nan, '29', '20', nan, nan, nan, '24', nan, nan, nan, nan, '59', '19', nan, '17', '24', '28', nan, '26', '25', '24', '15', '19', nan, nan, '19', '53', '16', '32', nan, nan, nan, nan, nan, '27', '27', '32', nan, '19', nan, nan, '24', '19', '24', nan, nan, '30', nan, nan, '15', nan, '25', '23', '27', nan, '25', nan, '22', nan, nan, '16', '29', '19', '22', '10', nan, nan, '15', '22', nan, nan, '44', '22', nan, nan, '13', '52', nan, nan, '61', '24', '29', '29', nan, '25', nan, '34', nan, '20', '20s', '18', '19', '32', '20', nan, nan, '18', '21', '16', '49', nan, '56', '36', '25', nan, nan, nan, '24', '8', '27', nan, nan, nan, '19', nan, ' ', '23', nan, '17', nan, '27', nan, '34', nan, '27', '39', '27', '20', '17', nan, '25', '23', nan, nan, nan, nan, '17', nan, nan, nan, '49', '27', '18', nan, nan, '25', '17', '25', nan, '20', '17', '21', '27', '25', nan, nan, nan, nan, '31', '32', '74', '45', '24', nan, nan, nan, nan, '29', '19', nan, '19', '17', nan, nan, '25', '20', nan, '27', nan, '16', nan, '15', '23', '19', '24', '10', '18', '23', '17', nan, '46', nan, nan, nan, '21 or 26', nan, nan, nan, nan, nan, nan, nan, '25', nan, nan, nan, '27', '35', '20', '33', nan, '18', nan, '20', nan, '21', '19', '20', '44', '24', '62', '37', '24', '21', '23', '34', '14', '29', '16', '18', '15', '27', '20', nan, '17', '10', '37', nan, nan, nan, nan, '14', '18', nan, nan, '16', nan, '12', '45', nan, '12', '17', '25', nan, '32', '24', '17', '29', '20', '41', '48', '30', '24', '22', nan, '19', '18', '21', nan, '36', '17', '10', '61', '45', nan, '22', '19', '11', '17', '21', nan, '14', '19', nan, nan, '42', '26', '33', nan, '32', nan, nan, '41', '20', '19', nan, '20s', nan, '13', nan, nan, '11', '20', '37', nan, '21', '16', '17', nan, '45', nan, '28', '26', '57', nan, nan, nan, nan, '13', '29', '25', '17', nan, nan, '24', nan, '24', '19', nan, '17', '17', nan, '20', '15', nan, '45', nan, nan, nan, '22', '32', '27', '25', nan, '19', '33', nan, '18', nan, '20', '30', '24', nan, nan, '22', '16', '20', '20', '20', '18', '25', '30', '17', '34', '51', '26', '8', nan, '21', '32', '16', '>50', '19', '14', '66', nan, '16', nan, '15', nan, nan, '18', '18 to 22', nan, '41', nan, nan, nan, '43', '20', '18', '20', nan, nan, nan, nan, '13', '25', '16', '18', nan, '14', nan, nan, nan, '19', '8', '14', '16', '12', '10', nan, '22', nan, '15', nan, nan, nan, nan, '28', '25', '35', '35', '15', nan, '27', nan, '53', nan, '28', '15', '13', '25', nan, '13', nan, '22', '27', '8', nan, '23', '18', nan, nan, 'adult', '65', '16', '49', '52', '21', nan, nan, nan, '27', '17', nan, '28', '30', '22', '16', nan, nan, nan, nan, '24', '9 & 12', '15', '12', '41', '18', '25', '33', '33', nan, '43', '17', '17', nan, nan, '17', '63', '10', '21', '7', '47', '35', '20', '28', '17', '14', nan, '26', nan, '24', '13', nan, nan, nan, '22', '32', '27', '59', nan, '15', '18', '21', nan, nan, nan, '19', '17', nan, '21', nan, nan, nan, '23', '24', '19', nan, '23', '19', nan, '? & 19', '15', '41', nan, '20', '36', '18', '26', nan, '30', '22', '60', '21', '32', '36', nan, '21', '14', nan, nan, nan, '31', '15', '30', '29', '19', '39', '29', '28', '9 months', '13', '8', '32', '20', nan, nan, '43', '14', nan, nan, nan, '18', '13', '9', '33', nan, '21', '26', '8', '16', '34', '14', '20', '25', '46', nan, '15', '18', '18', nan, '40', nan, '38', '24', nan, '25', nan, nan, nan, '13', '33', nan, '29', '30', nan, '16', '43', '15', '15', '35', '15', '40', nan, nan, '43', '44', nan, '24', '39', '32', nan, '15', '27', nan, nan, '23', nan, '15', nan, '25', nan, '6', nan, '38', nan, nan, nan, nan, nan, nan, '35', '49', '19', '28', '8', '17', nan, '16', '25', '18', '21', '22', '20', nan, '30', '13', 'Teen', nan, nan, '25 to 35', nan, nan, '19', nan, nan, '28', '10', '25', '29', '25', nan, nan, nan, '19', '24', '32', '20', '14', '19', '18', nan, '28', '12', '21', '22', '30', nan, '52', nan, nan, nan, nan, '29', nan, nan, '23', '40', '47', '35', '13', nan, '19', '32', '38', nan, nan, '15', '17', nan, '26', '25', nan, '19', '23', nan, '12', nan, nan, '39', '17', nan, nan, '21', nan, '20', nan, nan, nan, '20', '24', nan, '18', nan, '13', nan, nan, '15', '23', '22', '20', '18', '21', '25', '28', nan, nan, nan, '35', '28', '20', nan, '25', '30', '18', '16', '23 & 26', '26', '14', '24', nan, nan, '42', '30', nan, nan, nan, '25', '15', '25', '15', nan, nan, nan, '18', '28', '24', nan, '41', '32', '25', nan, '14', nan, '27', '24', nan, nan, nan, nan, nan, '16', nan, '26', nan, '24', nan, nan, '30', '32', '26', nan, '43', '1', '24', '20', '29', '28', nan, nan, '49', '39', nan, nan, '40', '24', '(adult)', nan, '23', '21', '20', '19', '41', '13', nan, nan, nan, '11', '31', '32', '35', nan, '13', nan, '55', '31', '17', nan, nan, nan, '16', '13', nan, nan, nan, '10', nan, '15', nan, '22', '13', '35', nan, nan, '18', '16', '19', '40', nan, '44', '29', nan, '19', nan, '24', '54', nan, '25', nan, nan, nan, nan, '57', nan, nan, nan, '18', '24', '18', '23', nan, '20', '22', '17', nan, nan, '45', nan, '45', '16', '19', '42', '22', nan, '33 & 37', nan, '16', '19', '22', '38', nan, '57', '16', nan, '21', '10', '23', '25', nan, nan, '19', '20', nan, '52', nan, '10', nan, '37', nan, '22', '21', '40', '38', nan, '24', nan, '24', '24', nan, '21', '33', '44', nan, '30', nan, nan, '27', '14', nan, nan, nan, '15', '27', '13', nan, nan, nan, '25 or 28', nan, nan, nan, nan, nan, '20', nan, nan, '27', '25', '33', nan, '41', '51', '17', '24', nan, nan, nan, '36', nan, '24', '26', nan, nan, nan, '37', nan, nan, nan, nan, nan, '25', nan, nan, '38', nan, '14', '24', nan, '15', '25', '46', nan, '25', '17', '41', nan, nan, nan, '18', '39', '37, 67, 35, 27,  ? & 27', '58', '24', '27', '25', '16', nan, nan, '16', '48', nan, nan, '21, 34,24 & 35', '17', nan, nan, nan, nan, nan, nan, nan, '42', '44', '30 & 32', '22', '36', nan, '26', nan, '20', nan, nan, nan, nan, '13', nan, nan, nan, nan, '9', nan, nan, nan, nan, '16', '20', '5', nan, nan, '50 & 30', '13', '29', nan, '17 & 35', nan, nan, '3', '19', '17', '19', nan, nan, nan, '21', nan, nan, 'X', nan, '30', nan, '36', '28', '29', '30', nan, nan, nan, nan, '\"middle-age\"', nan, nan, '14', '10', '21', '26', nan, nan, '32', nan, '13 or 18', '15', nan, '34 & 19', nan, '25', '22', '21', nan, nan, '27', '13', nan, nan, nan, nan, '33', nan, '23', '37', '18', '19', nan, '22', '43', nan, nan, nan, '13', '20', nan, nan, nan, nan, '15', '14', '20', '57', '16', '22', '17', '18', nan, '33 & 26', nan, nan, nan, nan, nan, nan, nan, nan, nan, nan, '14', '15', '22', '21', nan, nan, nan, '15', '60', nan, '26', '32', '42', '20', nan, nan, nan, '12', '8', '35', '21', nan, '31', '20', '38', '36', nan, '59', '17', nan, nan, nan, '29', '29', '28', '29', nan, '21', '18', '17', '14', '50', nan, nan, nan, nan, nan, nan, nan, nan, nan, nan, nan, '14', '20', '23', '15', '16', nan, nan, '22', '28', nan, nan, nan, '57', '36', nan, '28', nan, nan, '25', '15', '17', '22', '17', '15', nan, nan, nan, nan, '12', nan, nan, '2 to 3 months', nan, '18', nan, '30', nan, nan, nan, nan, '19', '16', nan, '70', '29', nan, '19', nan, '27', nan, nan, nan, '34', nan, '13', nan, '10', '23', nan, nan, nan, nan, nan, '13', '38', '40', '38', '7', nan, '23', nan, nan, '30', nan, nan, '13', '26', '21', '15', '8', '18', '33', '25', nan, nan, '15', nan, '14', nan, nan, nan, nan, nan, '8', nan, '28', nan, nan, nan, '16', nan, nan, '25', '32', '28', nan, '15', nan, '22', '13', nan, nan, '28', nan, nan, nan, nan, '22', nan, '25', nan, '19', '25', '25', nan, nan, '13', nan, nan, nan, '16', nan, '12', nan, '27', '23', nan, '16', nan, nan, '62', nan, '13', '35', '20', '35', '27', nan, nan, '34', '28', nan, nan, nan, '22', nan, nan, '35', '30', nan, nan, nan, nan, nan, '23', nan, '30', '18', '26', nan, nan, nan, nan, '12', nan, nan, nan, '23', '16', nan, nan, '23', nan, nan, '15', nan, '19', '18', '15', nan, '26', nan, nan, nan, '19', nan, nan, '19', nan, nan, '23', nan, nan, nan, nan, '25', nan, '61', 'MAKE LINE GREEN', nan, nan, nan, nan, '25', nan, '17', nan, '17', '40', nan, '18', '19', nan, '43', '34', nan, '34', nan, nan, nan, nan, nan, nan, nan, nan, nan, nan, nan, nan, '27', nan, '15', '18', '21', '23', '81', '24', nan, '42', nan, '21', nan, '56', '18', '16', nan, nan, '13', '40', nan, '39', '16', nan, '23', '\"young\"', '19', '31', '20', '14', '19', nan, nan, '19', nan, '20', '17', '21', '18', '31', '25', '27', nan, nan, '19', nan, '30', '11', nan, '21', '16', '25', '27', nan, '50', nan, nan, '20', nan, nan, '14', nan, nan, nan, nan, nan, nan, '7 or 8', nan, nan, nan, nan, nan, nan, nan, nan, nan, '35', '36', nan, '21', '34', '17', '18', '21', '18', '18', '16', '16', nan, '22', '26', nan, '13', nan, nan, '20', '32', nan, nan, nan, nan, nan, nan, '18', nan, nan, '17', '28', '19', '14', nan, nan, '41', '17', nan, nan, nan, nan, '60', '13', '15', '41', '46', nan, '38', nan, nan, nan, '30', nan, '16', nan, '48', nan, nan, nan, '9', nan, nan, nan, '17', '16', '12', '13', '78', nan, '25', '20', '46', nan, '20', nan, '35', nan, nan, '21', '14', '17', '29', '18', '22', nan, nan, nan, '17 & 16', '18', '23', nan, '30', nan, '15', '15', '30', '12', '12', '14', nan, '17', nan, '28', '21', '18', '18', '15', nan, '12', '18', '14', '24', nan, nan, nan, nan, '20', nan, '13', nan, nan, nan, nan, nan, nan, '37', nan, nan, nan, '8 or 10', '15', '19', nan, '18', nan, nan, nan, nan, nan, nan, nan, '13', nan, '19', '17', nan, '15', nan, nan, nan, '18', '23', '16', nan, '12', '22', nan, '14', '26', nan, nan, nan, '17', nan, nan, nan, nan, '20', nan, nan, nan, '68', '18', nan, '26', nan, 'F', nan, nan, '31', nan, nan, nan, nan, nan, nan, '22', nan, nan, nan, '15', nan, '38', '19', nan, nan, nan, nan, '18', nan, nan, '25', nan, nan, '24', nan, nan, '32', '20', nan, nan, nan, nan, nan, nan, nan, '18', nan, '28', nan, nan, nan, nan, nan, nan, '48', nan, nan, nan, nan, nan, nan, '10', '23', nan, nan, nan, nan, nan, nan, '20', nan, nan, '43', nan, nan, '53', '34', nan, '19', nan, nan, nan, nan, nan, '6', nan, '14', '23', '17', nan, nan, '18', nan, nan, nan, '25', nan, '17', nan, '55', '17', '13', '22', '18', nan, nan, nan, nan, nan, nan, nan, '40', '20', nan, nan, nan, nan, nan, '27', nan, nan, '33', '3', '38', nan, nan, '9', nan, nan, 'Both 11', nan, nan, nan, nan, nan, '19', '18', nan, nan, nan, nan, '27', '25', nan, nan, nan, '9 or 10', nan, nan, nan, nan, '13', '24', nan, nan, '50', nan, '17', nan, nan, '17', nan, '25', '18', '16', nan, nan, nan, nan, nan, '38', nan, '21', nan, nan, nan, nan, '14', nan, '33', '16', '43', '32', nan, nan, '20', nan, '18', nan, nan, nan, nan, '15', '50', nan, nan, nan, nan, nan, '13', '16', nan, nan, nan, '16', nan, '16', nan, nan, nan, nan, nan, 'young', nan, '14', '13', '17', nan, nan, nan, '20', '38', nan, '38', nan, nan, '23', '53', '14', '22', '31', nan, nan, nan, nan, nan, '40', nan, nan, nan, nan, nan, '38', nan, '27', '22', '20', nan, nan, nan, '5', '13', '19', '14', '12', '38', nan, nan, nan, nan, nan, nan, '18', '11', nan, nan, '8', '34', nan, '12', '15', '17', nan, nan, nan, nan, '15', '22', nan, '17', nan, nan, nan, nan, nan, '50', nan, '15', nan, nan, nan, nan, nan, nan, '24', nan, nan, nan, nan, '38', nan, nan, nan, '24', '27', nan, nan, nan, nan, nan, '18', '17', nan, '32', nan, nan, nan, nan, nan, nan, nan, nan, nan, nan, nan, '36 & 23', '23', '45', 'Teen', nan, '20', nan, '18', nan, nan, '23', nan, nan, nan, nan, nan, nan, nan, nan, nan, nan, nan, '19', nan, nan, '39', nan, nan, '18', nan, nan, '49', nan, nan, nan, nan, nan, nan, '17', '38', nan, '29', '21', nan, nan, nan, nan, '17', nan, '19', '18', nan, nan, '23', nan, '17', nan, '16', nan, '17', nan, '50s', nan, nan, nan, nan, '42', nan, nan, nan, nan, nan, nan, nan, '19', nan, nan, '26', nan, '9', '12', '20', nan, '39', '  ', nan, '14', nan, nan, nan, nan, nan, nan, '27', nan, nan, '24', nan, '17', nan, nan, nan, nan, nan, nan, nan, '19', nan, '15', '28', nan, nan, nan, nan, '78', nan, nan, nan, '18', '25', '17', nan, nan, nan, nan, nan, nan, nan, nan, nan, '17', nan, nan, '70', nan, nan, '15', '10', nan, nan, nan, nan, '17', nan, nan, '18', '20', nan, '15', nan, nan, '26', nan, nan, nan, nan, nan, nan, nan, nan, '55', nan, nan, nan, nan, nan, nan, nan, '16', '16', 'A.M.', nan, nan, nan, nan, '35', '35', nan, nan, nan, nan, '?    &   14', nan, '20', '21', nan, nan, nan, '30', nan, '22', nan, '16', nan, nan, nan, nan, nan, nan, nan, nan, nan, nan, nan, nan, nan, nan, '25', nan, '13', nan, nan, nan, nan, nan, nan, '19', '16', nan, nan, nan, nan, nan, '18', '19', '18', nan, nan, '14', '21', nan, '18', nan, '54', nan, '26', '20', '8', '40', nan, nan, '22', nan, nan, '21', nan, nan, nan, nan, nan, '30', nan, '13', nan, '20', nan, '18', nan, '12', nan, nan, '12', '29', '47', nan, nan, nan, nan, nan, nan, nan, nan, '13', '38', nan, nan, nan, nan, '22', nan, nan, nan, nan, nan, nan, nan, nan, nan, nan, nan, nan, nan, '25', '41', nan, nan, nan, '27', nan, nan, nan, nan, nan, '12', '24', '10', nan, nan, nan, nan, '24', '10 or 12', nan, '26', nan, '17', nan, nan, '10', nan, nan, nan, nan, nan, nan, nan, nan, '17', nan, nan, nan, nan, '17', nan, nan, nan, nan, '43', nan, nan, nan, nan, nan, nan, nan, nan, nan, nan, '12', nan, nan, nan, nan, nan, nan, nan, nan, nan, nan, nan, nan, nan, '12', nan, nan, nan, nan, nan, '18', nan, '21', '7', nan, nan, nan, nan, nan, '23', nan, nan, nan, nan, nan, '64', nan, nan, nan, nan, '22', nan, '50', nan, nan, nan, nan, nan, nan, nan, nan, nan, nan, nan, nan, nan, nan, nan, nan, nan, nan, nan, nan, nan, '16', nan, nan, nan, nan, '19', nan, nan, '36', nan, nan, '16', nan, nan, nan, nan, nan, nan, nan, nan, nan, 'F', nan, nan, nan, nan, nan, nan, nan, nan, nan, nan, nan, nan, nan, nan, nan, nan, nan, nan, nan, nan, nan, '55', '18', '20', nan, nan, nan, nan, nan, nan, nan, nan, nan, nan, nan, nan, nan, nan, nan, nan, '17', nan, '18', nan, '31 or 33', '30', nan, nan, nan, nan, nan, '21', '16', '8', nan, nan, '26', '40', nan, '23', '39', nan, nan, nan, nan, nan, nan, nan, nan, nan, '30', nan, nan, nan, nan, nan, nan, '28', nan, nan, nan, nan, nan, nan, nan, '30', '17', nan, nan, nan, nan, nan, nan, nan, nan, nan, nan, nan, nan, '16', '10', nan, 'Teen', '29', '20', nan, nan, nan, nan, nan, '30', nan, nan, nan, nan, nan, nan, nan, nan, nan, nan, nan, nan, nan, nan, nan, nan, nan, '15', '9', '19', '13', nan, nan, nan, nan, nan, '13', nan, nan, nan, nan, nan, nan, nan, nan, 'M', '24', '22', nan, nan, nan, nan, '15', nan, nan, nan, nan, nan, nan, nan, nan, nan, nan, nan, nan, nan, nan, nan, nan, nan, nan, '26', nan, nan, nan, nan, '35', nan, '11', nan, '15', '14', nan, nan, nan, nan, nan, '26', nan, nan, nan, nan, nan, nan, '28', nan, nan, '13', '14', nan, nan, nan, '19', nan, nan, nan, nan, nan, nan, nan, nan, nan, nan, nan, nan, nan, nan, nan, nan, nan, nan, nan, nan, nan, nan, nan, nan, nan, nan, '15', nan, nan, nan, nan, nan, nan, nan, nan, '21', nan, nan, nan, nan, nan, nan, nan, nan, nan, nan, '18', nan, nan, nan, nan, nan, nan, nan, nan, nan, nan, nan, nan, nan, nan, nan, nan, nan, nan, nan, nan, nan, nan, nan, nan, '11', nan, nan, nan, nan, nan, nan, nan, nan, nan, nan, nan, nan, nan, '33', nan, nan, nan, nan, nan, nan, nan, nan, nan, '13', nan, nan, nan, nan, '18', nan, nan, nan, nan, nan, nan, nan, nan, nan, nan, nan, nan, nan, nan, nan, nan, nan, nan, nan, nan, nan, nan, nan, nan, nan, nan, '21', nan, nan, nan, nan, '37', nan, nan, nan, nan, nan, nan, nan, nan, nan, nan, nan, nan, nan, nan, nan, nan, '18', nan, '20', nan, nan, '23', nan, nan, '12', nan, nan, nan, '20', '60', nan, nan, '11', nan, '13', nan, nan, nan, nan, '23', nan, nan, nan, nan, '19', nan, nan, nan, nan, nan, nan, nan, nan, nan, '14', nan, nan, nan, '11', nan, '11', nan, nan, nan, nan, nan, nan, '15', nan, nan, nan, nan, nan, nan, nan, nan, nan, nan, nan, nan, nan, nan, nan, '3', nan, nan, nan, nan, nan, nan, nan, nan, nan, nan, nan, nan, nan, nan, nan, '27', nan, nan, nan, nan, nan, nan, nan, nan, nan, nan, nan, '30', nan, nan, nan, nan, '40', '40', '13', '39', '40', '17', nan, nan, nan, nan, '35', nan, nan, nan, nan, nan, nan, nan, nan, nan, '17', nan, nan, nan, nan, nan, '13', nan, nan, nan, nan, nan, '18', nan, nan, nan, '26', '17', nan, '28', nan, nan, nan, nan, '18', '18', nan, nan, nan, nan, nan, nan, nan, nan, nan, nan, nan, nan, nan, nan, nan, nan, '21', nan, nan, '22', nan, '22', nan, nan, '17', nan, nan, nan, '2½', nan, nan, nan, nan, nan, nan, nan, nan, nan, nan, nan, nan, nan, nan, nan, nan, '1', nan, nan, nan, nan, nan, nan, nan, nan, nan, nan, nan, nan, nan, nan, '15', nan, nan, '19', nan, nan, nan, nan, nan, nan, nan, nan, nan, nan, nan, nan, nan, nan, '7 or 8', nan, nan, nan, nan, nan, nan, nan, nan, nan, '29', nan, '12', nan, nan, nan, nan, nan, nan, nan, nan, nan, '52', nan, nan, nan, nan, '17', nan, nan, nan, nan, nan, nan, nan, nan, nan, nan, nan, nan, nan, nan, nan, '22', nan, nan, nan, nan, nan, nan, nan, nan, nan, nan, nan, nan, nan, 'young', nan, nan, nan, nan, nan, nan, '14', nan, nan, nan, nan, nan, nan, '19', nan, nan, nan, nan, nan, nan, nan, nan, nan, nan, nan, nan, nan, nan, nan, nan, nan, nan, nan, nan, nan, nan, '20', nan, nan, nan, nan, '15', nan, nan, nan, nan, nan, nan, nan, nan, nan, nan, '21', nan, nan, nan, nan, nan, nan, nan, nan, nan, nan, nan, nan, nan, nan, nan, nan, nan, nan, nan, nan, nan, nan, nan, nan, nan, '19', nan, nan, nan, nan, nan, nan, nan, nan, nan, nan, nan, '27', '36', nan, '25', '6', '16', nan, nan, nan, nan, nan, nan, nan, nan, nan, nan, '50', nan, nan, nan, nan, nan, nan, nan, nan, nan, nan, '13 or 14', nan, nan, nan, nan, nan, nan, nan, nan, nan, nan, '16', nan, nan, nan, nan, nan, nan, nan, nan, nan, nan, nan, nan, nan, nan, nan, nan, nan, nan, nan, nan, nan, nan, nan, nan, '15']\n"
     ]
    }
   ],
   "source": [
    "# s_l = df[\"Sex \"].values.tolist()\n",
    "# print(s_l)\n",
    "\n",
    "\n",
    "print(df[\"Age\"].values.tolist())"
   ]
  },
  {
   "cell_type": "code",
   "execution_count": 38,
   "metadata": {},
   "outputs": [],
   "source": [
    "remove_spaces_age = {\" \": \"\"}\n",
    "\n",
    "for pat, repl in remove_spaces_age.items():\n",
    "    df[\"Age\"] = df[\"Age\"].str.replace(pat, repl)\n"
   ]
  },
  {
   "cell_type": "code",
   "execution_count": 39,
   "metadata": {},
   "outputs": [
    {
     "data": {
      "text/plain": [
       "17                  148\n",
       "18                  145\n",
       "19                  138\n",
       "20                  136\n",
       "15                  135\n",
       "                   ... \n",
       "Both11                1\n",
       "37,67,35,27,?&27      1\n",
       "17&35                 1\n",
       "7&31                  1\n",
       "13or18                1\n",
       "Name: Age, Length: 150, dtype: int64"
      ]
     },
     "execution_count": 39,
     "metadata": {},
     "output_type": "execute_result"
    }
   ],
   "source": [
    "df[\"Age\"].value_counts()"
   ]
  },
  {
   "cell_type": "code",
   "execution_count": 40,
   "metadata": {},
   "outputs": [
    {
     "data": {
      "text/plain": [
       "dtype('O')"
      ]
     },
     "execution_count": 40,
     "metadata": {},
     "output_type": "execute_result"
    }
   ],
   "source": [
    "df[\"Age\"].dtype"
   ]
  },
  {
   "cell_type": "code",
   "execution_count": 41,
   "metadata": {},
   "outputs": [],
   "source": [
    "df[\"Age\"] = df[\"Age\"].str[:2]"
   ]
  },
  {
   "cell_type": "code",
   "execution_count": 42,
   "metadata": {},
   "outputs": [
    {
     "name": "stdout",
     "output_type": "stream",
     "text": [
      "['16', '36', '43', nan, nan, nan, '60', '51', '50', '12', nan, '9', '22', '25', '37', '20', '49', '15', '21', '22', '40', '72', nan, '43', '18', '29', '36', nan, '31', nan, '9', '11', nan, nan, '10', nan, '59', nan, '42', '34', '35', '11', '59', '43', '42', nan, nan, '19', '6', '19', '27', '64', '60', '23', nan, nan, '29', '52', '13', '57', '22', '11', '48', '23', '59', '39', '24', '15', nan, '12', '26', '26', '69', '60', '34', nan, '46', '22', 'Te', '41', '9', nan, '19', '45', '12', nan, '41', '21', '31', nan, '65', nan, '45', '40', nan, nan, '15', nan, nan, '48', nan, '11', '31', nan, '38', '71', '43', '32', '58', nan, '26', '22', nan, nan, '28', '20', '9', '54', '28', '19', '50', '10', '42', '21', '21', '35', '32', '44', nan, '9', '25', nan, '18', '22', '13', '14', '22', '7', nan, '14', '27', '12', '16', nan, '20', '42', '50', '29', '62', nan, '37', nan, '54', '21', nan, '38', '15', '10', '22', '10', '57', '52', '25', '35', '46', '31', '40', '45', '34', '38', '39', nan, '23', '32', '52', '32', '68', nan, '12', '18', '19', nan, '23', '43', '19', '47', '6', '37', '9', '36', '10', '16', '12', nan, '13', '11', '17', '47', '14', '19', '19', '13', '18', '30', '50', nan, nan, '29', '65', '63', '26', '71', '48', nan, '13', '23', '70', '43', '36', '52', '58', '9', nan, '36', '18', nan, '22', '41', '35', nan, '57', '20', nan, nan, nan, nan, '17', '38', '34', '15', '12', nan, '17', nan, nan, '50', '40', nan, '17', nan, '13', '39', nan, '44', nan, '53', nan, '18', '34', '20', nan, nan, nan, nan, '13', '7', nan, '40', nan, '29', '15', nan, nan, '28', '23', nan, '36', nan, '50', '43', '20', '52', '16', '13', '17', nan, '33', '30', '29', nan, nan, nan, '31', nan, '26', nan, '10', '7', '10', '45', '50', '8', '20', nan, 'Te', '51', '8', nan, '61', '39', '63', nan, '14', nan, nan, '19', '48', '42', nan, '15', nan, '43', '16', '39', '43', '14', '22', nan, '37', '29', nan, '10', '55', '38', '35', '44', '12', nan, '40', '23', nan, '42', '25', nan, nan, 'te', 'te', '63', '38', '66', nan, '9', '42', '42', nan, '10', nan, '21', '21', '21', '28', nan, '28', nan, '24', '31', nan, '37', '19', '35', '29', '30', '26', '57', '19', '58', '35', '25', nan, '77', '16', nan, '46', '60', '24', nan, '41', '45', '25', '6', '74', '55', '45', '12', '50', '27', '7', '45', nan, '21', '13', nan, '43', '25', '17', '3', nan, '9', nan, nan, '47', '50', '11', nan, '16', nan, '20', '19', '10', nan, '17', '56', '32', '40', nan, '18', '64', '50', '18', '50', 'te', '15', '33', '63', '48', '29', nan, '20', nan, nan, '14', '28', '15', nan, nan, '10', '58', nan, '32', '11', '41', '30', '29', '42', '36', '16', nan, '34', '51', '9', nan, '21', '40', '53', '50', '24', '58', '47', '34', nan, '50', '30', nan, '68', '28', '28', '39', '46', nan, nan, '16', '48', '18', nan, nan, '62', '43', nan, '26', nan, '23', '29', '20', '32', '60', '31', '25', '61', '20', '32', '14', '30', '43', '25', '51', '39', '35', '24', '55', nan, '38', '42', '11', '21', '22', '52', '29', '19', '25', nan, '30', '37', '32', '8', nan, '56', '53', '34', '18', '31', nan, '56', '39', nan, '17', '48', '44', '50', '12', '22', '24', '23', '24', '43', nan, '42', '52', '29', '60', '6', '26', '16', nan, '12', '62', '16', '6', '23', '18', nan, nan, '16', '42', '57', '30', '12', '25', '33', '46', '22', nan, '20', '30', '47', '15', '28', '20', '27', '28', nan, '33', '21', nan, '20', '61', '15', '17', nan, '34', '31', '19', '42', nan, nan, nan, nan, '29', nan, nan, '26', '24', '44', '25', '53', '28', '34', nan, nan, '23', '27', nan, '35', '51', nan, '14', nan, nan, '63', '18', '10', nan, nan, '35', '42', '27', '26', nan, '32', '41', '50', nan, nan, '64', '51', nan, '29', '27', '48', '43', '21', '5', nan, '38', '17', '25', '37', '30', nan, '21', '19', '19', '48', '39', nan, '21', '10', '49', '16', '20', '12', '25', '32', '27', '30', '7', '54', '36', '14', '43', nan, '29', '6', nan, nan, '54', '12', '14', '16', '17', '28', '21', '22', '10', nan, '20', '35', '15', '31', nan, '28', '24', '28', '19', nan, '22', '33', nan, nan, '15', '28', '86', '37', nan, '43', '37', '32', '17', '49', '41', nan, '27', nan, nan, '48', '46', '30', '24', nan, nan, '36', '21', '32', '49', nan, '58', nan, '37', '38', '25', '55', '7', '16', '37', nan, '16', nan, '46', '70', nan, '54', '46', '70', '48', '47', nan, '33', '21', nan, nan, '20', nan, nan, nan, '30', '14', '19', nan, '22', nan, nan, 'Te', '29', '18', '29', '15', '27', '24', nan, '24', '24', '34', '43', '10', '31', '45', nan, '16', '47', '25', '35', nan, nan, '37', '16', '20', '10', '13', '55', '9', nan, nan, '21', '20', '19', '48', '20', '6', '13', '17', '18', '40', '20', '49', '58', '60', nan, '59', '10', '29', '68', '35', '24', '34', nan, nan, '19', '60', '46', nan, '18', nan, '31', '38', '14', '29', nan, '54', nan, '37', '9', nan, nan, nan, '32', nan, '20', '55', '27', nan, '18', '22', nan, '24', '39', nan, '58', '49', '10', '31', '22', '27', '18', '25', '21', '27', nan, '17', nan, '54', '10', '23', '23', nan, '39', nan, nan, nan, '34', '60', '15', nan, nan, nan, '25', '22', nan, '26', nan, '56', '14', '14', '41', nan, '14', '11', '26', '19', '57', nan, nan, '37', '12', '43', '52', '26', '14', nan, nan, nan, '50', '46', nan, '31', '49', '55', '27', '48', nan, nan, '20', '23', '52', '40', '31', '49', '24', nan, '15', '59', '16', '17', nan, nan, '17', nan, '61', '21', '19', '40', nan, '15', nan, nan, '33', '31', nan, '41', nan, '49', '17', '15', nan, '19', '25', '17', nan, nan, nan, '24', '13', '31', nan, '22', '49', nan, nan, nan, '10', '29', '51', nan, nan, '15', nan, nan, nan, nan, nan, nan, '45', '39', '34', '24', '50', '15', '11', '43', '44', '40', '43', '32', '40', nan, '51', '43', '15', '52', nan, '29', '27', '52', '19', '26', '20', '20', '47', '7', '38', '13', nan, '31', nan, nan, '33', nan, '17', '44', '9', '8', '15', '16', nan, '52', '24', '14', '17', '16', '53', '42', '46', nan, '29', '37', nan, '40', '35', '14', '40', nan, '15', '14', '9', nan, '49', '21', '28', '37', '40', '6', '24', '24', '18', '24', '32', '21', '66', '14', nan, nan, '32', '19', '30', nan, nan, nan, '16', '18', '39', '52', '15', '13', '14', '8', '27', '49', '26', '25', '14', nan, '42', '20', nan, nan, '20', nan, '26', '24', '53', '31', 'te', '34', '52', nan, '28', '32', nan, '14', '21', '42', '37', nan, '32', '52', '31', '22', '16', nan, nan, '23', '48', nan, '18', nan, nan, '23', nan, '56', 'Te', '14', '58', '36', '15', '12', '58', '15', '24', '54', '27', nan, nan, '52', '16', '7', '20', '15', '19', '30', '9', '19', '51', '20', nan, nan, '36', '15', '14', '48', '43', '30', '48', '18', '17', nan, nan, nan, '20', nan, '9', nan, nan, nan, '40', '38', '38', '19', '21', nan, '45', '63', '68', nan, '20', '13', '12', '24', nan, '26', '7', '27', '9', nan, '11', '42', nan, '59', '29', '16', '36', '26', nan, '30', nan, '41', '20', '24', nan, '54', '24', '25', '10', '43', '25', '15', nan, '29', nan, '22', '15', '20', nan, '18', '26', nan, '36', '19', nan, '16', '55', '52', '44', '20', '33', '12', '37', '23', nan, '27', '17', '34', nan, '34', nan, '24', '59', nan, nan, '41', nan, '15', '19', '14', nan, nan, '49', '7', '21', nan, '40', '11', '14', '13', '28', '35', '9', nan, '25', '22', '27', '43', '24', '7', '40', '26', nan, '31', '15', '33', '30', nan, '20', '46', nan, '54', '13', '35', '15', '15', '35', '11', nan, '28', '17', '21', '15', '15', '45', '18', nan, nan, '15', '24', '57', '46', '34', '28', nan, '52', nan, '21', '21', '49', '30', '29', nan, '44', nan, 'te', '23', nan, '18', '26', nan, '30', '17', nan, '32', '18', '25', '26', '15', '55', '20', '36', '20', '15', '22', '57', '48', '35', '52', '28', '26', '44', nan, '68', '18', '15', '18', '40', '62', '21', '23', '37', '17', '8', '12', nan, '16', '14', nan, '13', '61', '25', nan, '24', nan, '22', '14', '19', '16', '14', '7', nan, '49', '20', '38', '11', '17', '22', '6', '33', nan, '32', nan, nan, nan, 'Te', '47', '25', nan, '20', '40', '70', '52', '37', nan, nan, '32', nan, nan, '26', '45', '51', nan, nan, '18', nan, nan, nan, '12', '19', nan, nan, '39', '11', '18', '38', '20', '16', '77', '38', '30', nan, '40', nan, '52', '59', nan, '34', '34', '15', '16', '40', nan, '26', nan, nan, '17', '38', '24', nan, '50', '47', '30', nan, '20', nan, '28', '13', '19', '11', nan, '51', '30', 'Te', '7', '45', nan, nan, '17', '8', '21', '16', '17', '44', '9', '9', '9', '24', '63', '28', '22', nan, nan, nan, nan, '57', '16', '22', '26', '20', '22', nan, '20', '61', nan, nan, '51', '47', '29', '15', nan, '31', nan, '22', '46', '21', nan, nan, '40', nan, nan, '22', nan, nan, nan, nan, '28', '13', '45', '36', nan, nan, '21', '35', '35', '24', nan, nan, nan, nan, '18', '22', '13', '46', '56', '19', nan, nan, '18', '30', '50', '41', '40', '16', '21', '19', '17', '30', '36', '8o', '18', '15', '19', nan, nan, '50', '31', '16', '37', '18', '15', '58', '10', '21', '39', nan, nan, nan, '17', '15', nan, '12', '60', '51', '33', '15', '22', '18', '22', '20', '34', '9', nan, nan, '16', '17', '7', '36', '17', '30', '23', '18', '11', '12', '20', '28', nan, '50', nan, '44', '37', '54', '24', '84', '14', nan, nan, '18', '25', '26', '11', '23', '19', nan, '48', '34', '41', '21', '16', '52', '60', '36', '21', '14', '35', '18', '47', '32', '55', '\\xa0', '', '24', '35', '19', nan, '47', '20', '36', '16', '29', '27', '15', '15', '30', '14', '13', '15', '19', '41', '22', '9', '30', '11', nan, nan, nan, nan, '28', '50', '10', '50', '24', '16', '55', '35', nan, '14', '31', '40', '20', '23', '52', '34', '28', '45', '43', '41', '29', '17', '11', '16', '20', '39', '31', '44', nan, '30', '15', '35', '20', '32', '16', nan, '26', '35', '36', '49', nan, nan, nan, '20', '26', '31', '21', '14', '42', '6½', '16', nan, '44', '13', nan, '28', '23', '20', '10', '44', '29', '69', '18', '18', '17', '27', '32', '17', '17', '20', '19', '19', '43', '21', nan, '36', nan, nan, nan, nan, nan, '48', '18', '42', '8', nan, '35', '14', '52', '75', '29', '16', '11', nan, '24', nan, '26', '33', '45', nan, '14', '16', '12', 'mi', '38', '21', '12', '22', '19', '22', nan, '16', '46', nan, '26', '12', '40', nan, nan, '12', '20', nan, nan, nan, '40', '35', '55', nan, nan, nan, '23', '47', nan, '30', '38', nan, '28', '47', '73', '27', '52', '49', '27', '31', '23', '56', '69', '17', '23', '11', '24', nan, '17', '25', '12', '31', nan, '49', '26', '25', '8', '48', '28', '40', '27', nan, '47', '69', nan, nan, '53', '27', '44', nan, '23', nan, '5', '45', '16', '14', '15', '18', nan, '69', '13', '41', '5', '12', '20', '55', '13', '19', nan, nan, nan, '52', nan, '17', '55', '44', '13', nan, nan, nan, '9', nan, '34', nan, nan, '26', '14', '37', '35', nan, nan, nan, '27', nan, '39', '27', nan, nan, '12', '26', nan, '35', nan, '15', '13', '12', '18', nan, '39', '35', '19', '51', nan, '35', '39', '12', '12', '45', '13', nan, '16', '22', nan, '61', '10', '13', '7', '39', '28', nan, '23', '17', '10', '62', '35', '42', '43', '43', '14', nan, '30', '29', '20', '21', '41', '5', '22', '21', '41', '52', '14', nan, nan, '29', nan, '28', '18', '29', nan, '35', '25', '47', nan, nan, '37', nan, '30', nan, '19', '21', '18', '14', '21', '9', '14', '13', '32', '52', '22', '17', '30', nan, '17', nan, '28', '6', '18', nan, '28', '25', '26', nan, '16', nan, '28', '11', nan, '19', '24', nan, '13', '47', '16', '10', '26', '20', '18', nan, '17', '15', '16', '40', '14', '24', '22', '35', '50', '16', nan, nan, '40', '33', '32', nan, '31', nan, nan, '21', nan, '23', '28', nan, nan, '39', nan, '29', '8', '42', '32', '21', '51', '19', '23', '12', nan, '14', '20', '12', '17', '20', '18', '22', '29', '28', '33', '12', '17', '16', '17', nan, '10', nan, '17', '19', '19', '25', nan, '50', '55', nan, nan, '47', '18', nan, '33', '35', '34', '12', '54', nan, '22', '21', '30', nan, nan, '49', '27', '41', nan, nan, '18', nan, nan, nan, '45', '26', nan, nan, nan, '22', '21', '31', nan, '14', '23', '19', '5', '28', '28', '29', '19', '36', '21', '8', '52', nan, '46', '9', nan, '18', '63', '24', '24', nan, nan, '17', '45', '22', '33', '27', nan, '11', '16', nan, '47', '7', '24', '32', nan, nan, '14', nan, '7', '33', '13', '53', nan, nan, '25', nan, nan, nan, '22', nan, nan, nan, '13', '17', '15', '39', '14', '17', '25', '19', '19', nan, '25', '29', '32', '9', '19', '44', nan, '16', '18', '16', '23', '19', nan, '18', '20', '15', '20', '14', '12', nan, nan, nan, nan, '18', '18', '12', '7', '47', '14', '18', '34', '32', nan, '31', nan, '13', nan, '45', '10', '38', '45', '29', '44', '15', '69', nan, '44', '12', '20', nan, '47', nan, '35', nan, '22', nan, '14', '17', '33', nan, nan, nan, '26', nan, nan, nan, nan, '44', '42', nan, nan, '34', nan, nan, nan, '9', '16', '30', '43', '7&', '12', nan, '15', nan, '24', '22', '31', nan, '15', '30', '24', '28', '35', '36', '26', '22', '25', nan, '20', '71', nan, '19', nan, '33', '25', nan, '23', nan, '15', nan, nan, nan, '44', nan, '23', '33', nan, nan, nan, '30', '27', nan, nan, '26', '26', '34', nan, '21', '36', '15', '17', '19', '16', '69', '51', '13', nan, nan, '19', nan, '39', nan, nan, '28', '12', nan, '16', '61', '42', '22', '31', '34', '42', '60', nan, nan, '32', nan, '25', nan, '35', '55', nan, nan, nan, '69', '15', '21', '32', '29', nan, nan, '30', nan, '10', '30', '31', '19', '24', '46', '30', '40', '17', '18', '40', '28', nan, nan, '28', nan, '20', '18', nan, nan, '34', '17', nan, '22', '26', nan, nan, '42', nan, nan, nan, '16', '21', nan, nan, '45', nan, nan, nan, '35', '36', '17', '41', nan, '21', nan, nan, '19', nan, '19', '19', '36', nan, nan, nan, '33', '25', '41', nan, nan, nan, '14', '21', '32', '32', '19', '36', '23', '10', nan, '40', '39', '42', '22', '30', '32', '13', '22', nan, '18', '31', '65', '23', nan, nan, nan, '22', nan, '18', '38', '20', '35', nan, '22', nan, '26', nan, '24', '50', '18', '26', nan, '25', '43', '19', '26', '49', '44', '30', '22', nan, '18', '53', '17', '21', '38', nan, '30', '30', '22', '23', '31', '37', nan, '29', nan, '30', nan, nan, '33', nan, '17', nan, '17', '27', '32', '29', nan, '10', '31', '17', nan, '12', '49', nan, '29', '51', nan, '38', '31', '46', '30', '21', '21', '17', '31', '41', '35', '34', nan, '16', '9', nan, '45', nan, '16', '28', nan, '19', nan, nan, nan, nan, '27', nan, nan, '26', '47', '24', '24', '10', '19', nan, '17', nan, nan, nan, '17', '62', nan, '21', '38', '15', '30', '23', '15', '23', '21', nan, '38', nan, '16', nan, '27', nan, '28', '35', '15', '37', nan, nan, '36', '42', '37', '12', '25', '38', '31', '29', nan, nan, '24', nan, '14', nan, nan, '30', nan, '17', nan, nan, '20', '15', nan, '22', '22', nan, nan, '33', nan, '12', nan, '16', '16', '15', nan, '20', '14', '21', nan, '47', '24', '12', '40', '27', '32', '16', nan, '35', nan, nan, '12', nan, '34', nan, '16', nan, '8', '18', nan, nan, nan, '30', '37', nan, nan, nan, '21', '40', '37', '27', '22', nan, '17', '26', '23', nan, '6', '32', nan, '28', nan, nan, '18', '16', '35', nan, nan, nan, '8', '26', nan, nan, nan, nan, nan, '26', '23', '21', nan, '46', '29', '29', '22', '16', nan, nan, nan, nan, '24', '22', '46', '33', '24', nan, nan, '21', nan, '17', '87', '11', '67', '13', '15', nan, '10', '13', nan, '39', '25', '33', '29', '16', '15', nan, '18', nan, '34', nan, '20', nan, nan, nan, '16', '13', '29', '22', '23', '77', '15', '25', nan, '17', 'El', '16', nan, nan, '28', nan, '31', nan, '13', '18', '21', '30', nan, '27', '13', '20', '28', nan, nan, nan, nan, nan, '33', nan, '27', '14', '14', nan, nan, '36', '17', '48', '16', '47', nan, nan, '15', nan, '16', '20', '15', nan, '29', '14', '14', '22', nan, '21', '24', '28', nan, '39', '13', '17', '42', '15', '21', '30', nan, nan, '21', '15', '22', nan, '27', '16', nan, '17', nan, nan, nan, '16', '43', nan, '22', '32', nan, nan, nan, nan, '26', '16', '16', '20', '36', '28', 'mi', nan, '17', '18', nan, '20', '38', '26', '17', '43', '19', nan, '27', '20', '19', '8', nan, 'Ca', '16', '20', nan, '32', '18', nan, nan, nan, '75', nan, '29', '20', nan, nan, nan, '24', nan, nan, nan, nan, '59', '19', nan, '17', '24', '28', nan, '26', '25', '24', '15', '19', nan, nan, '19', '53', '16', '32', nan, nan, nan, nan, nan, '27', '27', '32', nan, '19', nan, nan, '24', '19', '24', nan, nan, '30', nan, nan, '15', nan, '25', '23', '27', nan, '25', nan, '22', nan, nan, '16', '29', '19', '22', '10', nan, nan, '15', '22', nan, nan, '44', '22', nan, nan, '13', '52', nan, nan, '61', '24', '29', '29', nan, '25', nan, '34', nan, '20', '20', '18', '19', '32', '20', nan, nan, '18', '21', '16', '49', nan, '56', '36', '25', nan, nan, nan, '24', '8', '27', nan, nan, nan, '19', nan, '', '23', nan, '17', nan, '27', nan, '34', nan, '27', '39', '27', '20', '17', nan, '25', '23', nan, nan, nan, nan, '17', nan, nan, nan, '49', '27', '18', nan, nan, '25', '17', '25', nan, '20', '17', '21', '27', '25', nan, nan, nan, nan, '31', '32', '74', '45', '24', nan, nan, nan, nan, '29', '19', nan, '19', '17', nan, nan, '25', '20', nan, '27', nan, '16', nan, '15', '23', '19', '24', '10', '18', '23', '17', nan, '46', nan, nan, nan, '21', nan, nan, nan, nan, nan, nan, nan, '25', nan, nan, nan, '27', '35', '20', '33', nan, '18', nan, '20', nan, '21', '19', '20', '44', '24', '62', '37', '24', '21', '23', '34', '14', '29', '16', '18', '15', '27', '20', nan, '17', '10', '37', nan, nan, nan, nan, '14', '18', nan, nan, '16', nan, '12', '45', nan, '12', '17', '25', nan, '32', '24', '17', '29', '20', '41', '48', '30', '24', '22', nan, '19', '18', '21', nan, '36', '17', '10', '61', '45', nan, '22', '19', '11', '17', '21', nan, '14', '19', nan, nan, '42', '26', '33', nan, '32', nan, nan, '41', '20', '19', nan, '20', nan, '13', nan, nan, '11', '20', '37', nan, '21', '16', '17', nan, '45', nan, '28', '26', '57', nan, nan, nan, nan, '13', '29', '25', '17', nan, nan, '24', nan, '24', '19', nan, '17', '17', nan, '20', '15', nan, '45', nan, nan, nan, '22', '32', '27', '25', nan, '19', '33', nan, '18', nan, '20', '30', '24', nan, nan, '22', '16', '20', '20', '20', '18', '25', '30', '17', '34', '51', '26', '8', nan, '21', '32', '16', '>5', '19', '14', '66', nan, '16', nan, '15', nan, nan, '18', '18', nan, '41', nan, nan, nan, '43', '20', '18', '20', nan, nan, nan, nan, '13', '25', '16', '18', nan, '14', nan, nan, nan, '19', '8', '14', '16', '12', '10', nan, '22', nan, '15', nan, nan, nan, nan, '28', '25', '35', '35', '15', nan, '27', nan, '53', nan, '28', '15', '13', '25', nan, '13', nan, '22', '27', '8', nan, '23', '18', nan, nan, 'ad', '65', '16', '49', '52', '21', nan, nan, nan, '27', '17', nan, '28', '30', '22', '16', nan, nan, nan, nan, '24', '9&', '15', '12', '41', '18', '25', '33', '33', nan, '43', '17', '17', nan, nan, '17', '63', '10', '21', '7', '47', '35', '20', '28', '17', '14', nan, '26', nan, '24', '13', nan, nan, nan, '22', '32', '27', '59', nan, '15', '18', '21', nan, nan, nan, '19', '17', nan, '21', nan, nan, nan, '23', '24', '19', nan, '23', '19', nan, '?&', '15', '41', nan, '20', '36', '18', '26', nan, '30', '22', '60', '21', '32', '36', nan, '21', '14', nan, nan, nan, '31', '15', '30', '29', '19', '39', '29', '28', '9m', '13', '8', '32', '20', nan, nan, '43', '14', nan, nan, nan, '18', '13', '9', '33', nan, '21', '26', '8', '16', '34', '14', '20', '25', '46', nan, '15', '18', '18', nan, '40', nan, '38', '24', nan, '25', nan, nan, nan, '13', '33', nan, '29', '30', nan, '16', '43', '15', '15', '35', '15', '40', nan, nan, '43', '44', nan, '24', '39', '32', nan, '15', '27', nan, nan, '23', nan, '15', nan, '25', nan, '6', nan, '38', nan, nan, nan, nan, nan, nan, '35', '49', '19', '28', '8', '17', nan, '16', '25', '18', '21', '22', '20', nan, '30', '13', 'Te', nan, nan, '25', nan, nan, '19', nan, nan, '28', '10', '25', '29', '25', nan, nan, nan, '19', '24', '32', '20', '14', '19', '18', nan, '28', '12', '21', '22', '30', nan, '52', nan, nan, nan, nan, '29', nan, nan, '23', '40', '47', '35', '13', nan, '19', '32', '38', nan, nan, '15', '17', nan, '26', '25', nan, '19', '23', nan, '12', nan, nan, '39', '17', nan, nan, '21', nan, '20', nan, nan, nan, '20', '24', nan, '18', nan, '13', nan, nan, '15', '23', '22', '20', '18', '21', '25', '28', nan, nan, nan, '35', '28', '20', nan, '25', '30', '18', '16', '23', '26', '14', '24', nan, nan, '42', '30', nan, nan, nan, '25', '15', '25', '15', nan, nan, nan, '18', '28', '24', nan, '41', '32', '25', nan, '14', nan, '27', '24', nan, nan, nan, nan, nan, '16', nan, '26', nan, '24', nan, nan, '30', '32', '26', nan, '43', '1', '24', '20', '29', '28', nan, nan, '49', '39', nan, nan, '40', '24', '(a', nan, '23', '21', '20', '19', '41', '13', nan, nan, nan, '11', '31', '32', '35', nan, '13', nan, '55', '31', '17', nan, nan, nan, '16', '13', nan, nan, nan, '10', nan, '15', nan, '22', '13', '35', nan, nan, '18', '16', '19', '40', nan, '44', '29', nan, '19', nan, '24', '54', nan, '25', nan, nan, nan, nan, '57', nan, nan, nan, '18', '24', '18', '23', nan, '20', '22', '17', nan, nan, '45', nan, '45', '16', '19', '42', '22', nan, '33', nan, '16', '19', '22', '38', nan, '57', '16', nan, '21', '10', '23', '25', nan, nan, '19', '20', nan, '52', nan, '10', nan, '37', nan, '22', '21', '40', '38', nan, '24', nan, '24', '24', nan, '21', '33', '44', nan, '30', nan, nan, '27', '14', nan, nan, nan, '15', '27', '13', nan, nan, nan, '25', nan, nan, nan, nan, nan, '20', nan, nan, '27', '25', '33', nan, '41', '51', '17', '24', nan, nan, nan, '36', nan, '24', '26', nan, nan, nan, '37', nan, nan, nan, nan, nan, '25', nan, nan, '38', nan, '14', '24', nan, '15', '25', '46', nan, '25', '17', '41', nan, nan, nan, '18', '39', '37', '58', '24', '27', '25', '16', nan, nan, '16', '48', nan, nan, '21', '17', nan, nan, nan, nan, nan, nan, nan, '42', '44', '30', '22', '36', nan, '26', nan, '20', nan, nan, nan, nan, '13', nan, nan, nan, nan, '9', nan, nan, nan, nan, '16', '20', '5', nan, nan, '50', '13', '29', nan, '17', nan, nan, '3', '19', '17', '19', nan, nan, nan, '21', nan, nan, 'X', nan, '30', nan, '36', '28', '29', '30', nan, nan, nan, nan, '\"m', nan, nan, '14', '10', '21', '26', nan, nan, '32', nan, '13', '15', nan, '34', nan, '25', '22', '21', nan, nan, '27', '13', nan, nan, nan, nan, '33', nan, '23', '37', '18', '19', nan, '22', '43', nan, nan, nan, '13', '20', nan, nan, nan, nan, '15', '14', '20', '57', '16', '22', '17', '18', nan, '33', nan, nan, nan, nan, nan, nan, nan, nan, nan, nan, '14', '15', '22', '21', nan, nan, nan, '15', '60', nan, '26', '32', '42', '20', nan, nan, nan, '12', '8', '35', '21', nan, '31', '20', '38', '36', nan, '59', '17', nan, nan, nan, '29', '29', '28', '29', nan, '21', '18', '17', '14', '50', nan, nan, nan, nan, nan, nan, nan, nan, nan, nan, nan, '14', '20', '23', '15', '16', nan, nan, '22', '28', nan, nan, nan, '57', '36', nan, '28', nan, nan, '25', '15', '17', '22', '17', '15', nan, nan, nan, nan, '12', nan, nan, '2t', nan, '18', nan, '30', nan, nan, nan, nan, '19', '16', nan, '70', '29', nan, '19', nan, '27', nan, nan, nan, '34', nan, '13', nan, '10', '23', nan, nan, nan, nan, nan, '13', '38', '40', '38', '7', nan, '23', nan, nan, '30', nan, nan, '13', '26', '21', '15', '8', '18', '33', '25', nan, nan, '15', nan, '14', nan, nan, nan, nan, nan, '8', nan, '28', nan, nan, nan, '16', nan, nan, '25', '32', '28', nan, '15', nan, '22', '13', nan, nan, '28', nan, nan, nan, nan, '22', nan, '25', nan, '19', '25', '25', nan, nan, '13', nan, nan, nan, '16', nan, '12', nan, '27', '23', nan, '16', nan, nan, '62', nan, '13', '35', '20', '35', '27', nan, nan, '34', '28', nan, nan, nan, '22', nan, nan, '35', '30', nan, nan, nan, nan, nan, '23', nan, '30', '18', '26', nan, nan, nan, nan, '12', nan, nan, nan, '23', '16', nan, nan, '23', nan, nan, '15', nan, '19', '18', '15', nan, '26', nan, nan, nan, '19', nan, nan, '19', nan, nan, '23', nan, nan, nan, nan, '25', nan, '61', 'MA', nan, nan, nan, nan, '25', nan, '17', nan, '17', '40', nan, '18', '19', nan, '43', '34', nan, '34', nan, nan, nan, nan, nan, nan, nan, nan, nan, nan, nan, nan, '27', nan, '15', '18', '21', '23', '81', '24', nan, '42', nan, '21', nan, '56', '18', '16', nan, nan, '13', '40', nan, '39', '16', nan, '23', '\"y', '19', '31', '20', '14', '19', nan, nan, '19', nan, '20', '17', '21', '18', '31', '25', '27', nan, nan, '19', nan, '30', '11', nan, '21', '16', '25', '27', nan, '50', nan, nan, '20', nan, nan, '14', nan, nan, nan, nan, nan, nan, '7o', nan, nan, nan, nan, nan, nan, nan, nan, nan, '35', '36', nan, '21', '34', '17', '18', '21', '18', '18', '16', '16', nan, '22', '26', nan, '13', nan, nan, '20', '32', nan, nan, nan, nan, nan, nan, '18', nan, nan, '17', '28', '19', '14', nan, nan, '41', '17', nan, nan, nan, nan, '60', '13', '15', '41', '46', nan, '38', nan, nan, nan, '30', nan, '16', nan, '48', nan, nan, nan, '9', nan, nan, nan, '17', '16', '12', '13', '78', nan, '25', '20', '46', nan, '20', nan, '35', nan, nan, '21', '14', '17', '29', '18', '22', nan, nan, nan, '17', '18', '23', nan, '30', nan, '15', '15', '30', '12', '12', '14', nan, '17', nan, '28', '21', '18', '18', '15', nan, '12', '18', '14', '24', nan, nan, nan, nan, '20', nan, '13', nan, nan, nan, nan, nan, nan, '37', nan, nan, nan, '8o', '15', '19', nan, '18', nan, nan, nan, nan, nan, nan, nan, '13', nan, '19', '17', nan, '15', nan, nan, nan, '18', '23', '16', nan, '12', '22', nan, '14', '26', nan, nan, nan, '17', nan, nan, nan, nan, '20', nan, nan, nan, '68', '18', nan, '26', nan, 'F', nan, nan, '31', nan, nan, nan, nan, nan, nan, '22', nan, nan, nan, '15', nan, '38', '19', nan, nan, nan, nan, '18', nan, nan, '25', nan, nan, '24', nan, nan, '32', '20', nan, nan, nan, nan, nan, nan, nan, '18', nan, '28', nan, nan, nan, nan, nan, nan, '48', nan, nan, nan, nan, nan, nan, '10', '23', nan, nan, nan, nan, nan, nan, '20', nan, nan, '43', nan, nan, '53', '34', nan, '19', nan, nan, nan, nan, nan, '6', nan, '14', '23', '17', nan, nan, '18', nan, nan, nan, '25', nan, '17', nan, '55', '17', '13', '22', '18', nan, nan, nan, nan, nan, nan, nan, '40', '20', nan, nan, nan, nan, nan, '27', nan, nan, '33', '3', '38', nan, nan, '9', nan, nan, 'Bo', nan, nan, nan, nan, nan, '19', '18', nan, nan, nan, nan, '27', '25', nan, nan, nan, '9o', nan, nan, nan, nan, '13', '24', nan, nan, '50', nan, '17', nan, nan, '17', nan, '25', '18', '16', nan, nan, nan, nan, nan, '38', nan, '21', nan, nan, nan, nan, '14', nan, '33', '16', '43', '32', nan, nan, '20', nan, '18', nan, nan, nan, nan, '15', '50', nan, nan, nan, nan, nan, '13', '16', nan, nan, nan, '16', nan, '16', nan, nan, nan, nan, nan, 'yo', nan, '14', '13', '17', nan, nan, nan, '20', '38', nan, '38', nan, nan, '23', '53', '14', '22', '31', nan, nan, nan, nan, nan, '40', nan, nan, nan, nan, nan, '38', nan, '27', '22', '20', nan, nan, nan, '5', '13', '19', '14', '12', '38', nan, nan, nan, nan, nan, nan, '18', '11', nan, nan, '8', '34', nan, '12', '15', '17', nan, nan, nan, nan, '15', '22', nan, '17', nan, nan, nan, nan, nan, '50', nan, '15', nan, nan, nan, nan, nan, nan, '24', nan, nan, nan, nan, '38', nan, nan, nan, '24', '27', nan, nan, nan, nan, nan, '18', '17', nan, '32', nan, nan, nan, nan, nan, nan, nan, nan, nan, nan, nan, '36', '23', '45', 'Te', nan, '20', nan, '18', nan, nan, '23', nan, nan, nan, nan, nan, nan, nan, nan, nan, nan, nan, '19', nan, nan, '39', nan, nan, '18', nan, nan, '49', nan, nan, nan, nan, nan, nan, '17', '38', nan, '29', '21', nan, nan, nan, nan, '17', nan, '19', '18', nan, nan, '23', nan, '17', nan, '16', nan, '17', nan, '50', nan, nan, nan, nan, '42', nan, nan, nan, nan, nan, nan, nan, '19', nan, nan, '26', nan, '9', '12', '20', nan, '39', '', nan, '14', nan, nan, nan, nan, nan, nan, '27', nan, nan, '24', nan, '17', nan, nan, nan, nan, nan, nan, nan, '19', nan, '15', '28', nan, nan, nan, nan, '78', nan, nan, nan, '18', '25', '17', nan, nan, nan, nan, nan, nan, nan, nan, nan, '17', nan, nan, '70', nan, nan, '15', '10', nan, nan, nan, nan, '17', nan, nan, '18', '20', nan, '15', nan, nan, '26', nan, nan, nan, nan, nan, nan, nan, nan, '55', nan, nan, nan, nan, nan, nan, nan, '16', '16', 'A.', nan, nan, nan, nan, '35', '35', nan, nan, nan, nan, '?&', nan, '20', '21', nan, nan, nan, '30', nan, '22', nan, '16', nan, nan, nan, nan, nan, nan, nan, nan, nan, nan, nan, nan, nan, nan, '25', nan, '13', nan, nan, nan, nan, nan, nan, '19', '16', nan, nan, nan, nan, nan, '18', '19', '18', nan, nan, '14', '21', nan, '18', nan, '54', nan, '26', '20', '8', '40', nan, nan, '22', nan, nan, '21', nan, nan, nan, nan, nan, '30', nan, '13', nan, '20', nan, '18', nan, '12', nan, nan, '12', '29', '47', nan, nan, nan, nan, nan, nan, nan, nan, '13', '38', nan, nan, nan, nan, '22', nan, nan, nan, nan, nan, nan, nan, nan, nan, nan, nan, nan, nan, '25', '41', nan, nan, nan, '27', nan, nan, nan, nan, nan, '12', '24', '10', nan, nan, nan, nan, '24', '10', nan, '26', nan, '17', nan, nan, '10', nan, nan, nan, nan, nan, nan, nan, nan, '17', nan, nan, nan, nan, '17', nan, nan, nan, nan, '43', nan, nan, nan, nan, nan, nan, nan, nan, nan, nan, '12', nan, nan, nan, nan, nan, nan, nan, nan, nan, nan, nan, nan, nan, '12', nan, nan, nan, nan, nan, '18', nan, '21', '7', nan, nan, nan, nan, nan, '23', nan, nan, nan, nan, nan, '64', nan, nan, nan, nan, '22', nan, '50', nan, nan, nan, nan, nan, nan, nan, nan, nan, nan, nan, nan, nan, nan, nan, nan, nan, nan, nan, nan, nan, '16', nan, nan, nan, nan, '19', nan, nan, '36', nan, nan, '16', nan, nan, nan, nan, nan, nan, nan, nan, nan, 'F', nan, nan, nan, nan, nan, nan, nan, nan, nan, nan, nan, nan, nan, nan, nan, nan, nan, nan, nan, nan, nan, '55', '18', '20', nan, nan, nan, nan, nan, nan, nan, nan, nan, nan, nan, nan, nan, nan, nan, nan, '17', nan, '18', nan, '31', '30', nan, nan, nan, nan, nan, '21', '16', '8', nan, nan, '26', '40', nan, '23', '39', nan, nan, nan, nan, nan, nan, nan, nan, nan, '30', nan, nan, nan, nan, nan, nan, '28', nan, nan, nan, nan, nan, nan, nan, '30', '17', nan, nan, nan, nan, nan, nan, nan, nan, nan, nan, nan, nan, '16', '10', nan, 'Te', '29', '20', nan, nan, nan, nan, nan, '30', nan, nan, nan, nan, nan, nan, nan, nan, nan, nan, nan, nan, nan, nan, nan, nan, nan, '15', '9', '19', '13', nan, nan, nan, nan, nan, '13', nan, nan, nan, nan, nan, nan, nan, nan, 'M', '24', '22', nan, nan, nan, nan, '15', nan, nan, nan, nan, nan, nan, nan, nan, nan, nan, nan, nan, nan, nan, nan, nan, nan, nan, '26', nan, nan, nan, nan, '35', nan, '11', nan, '15', '14', nan, nan, nan, nan, nan, '26', nan, nan, nan, nan, nan, nan, '28', nan, nan, '13', '14', nan, nan, nan, '19', nan, nan, nan, nan, nan, nan, nan, nan, nan, nan, nan, nan, nan, nan, nan, nan, nan, nan, nan, nan, nan, nan, nan, nan, nan, nan, '15', nan, nan, nan, nan, nan, nan, nan, nan, '21', nan, nan, nan, nan, nan, nan, nan, nan, nan, nan, '18', nan, nan, nan, nan, nan, nan, nan, nan, nan, nan, nan, nan, nan, nan, nan, nan, nan, nan, nan, nan, nan, nan, nan, nan, '11', nan, nan, nan, nan, nan, nan, nan, nan, nan, nan, nan, nan, nan, '33', nan, nan, nan, nan, nan, nan, nan, nan, nan, '13', nan, nan, nan, nan, '18', nan, nan, nan, nan, nan, nan, nan, nan, nan, nan, nan, nan, nan, nan, nan, nan, nan, nan, nan, nan, nan, nan, nan, nan, nan, nan, '21', nan, nan, nan, nan, '37', nan, nan, nan, nan, nan, nan, nan, nan, nan, nan, nan, nan, nan, nan, nan, nan, '18', nan, '20', nan, nan, '23', nan, nan, '12', nan, nan, nan, '20', '60', nan, nan, '11', nan, '13', nan, nan, nan, nan, '23', nan, nan, nan, nan, '19', nan, nan, nan, nan, nan, nan, nan, nan, nan, '14', nan, nan, nan, '11', nan, '11', nan, nan, nan, nan, nan, nan, '15', nan, nan, nan, nan, nan, nan, nan, nan, nan, nan, nan, nan, nan, nan, nan, '3', nan, nan, nan, nan, nan, nan, nan, nan, nan, nan, nan, nan, nan, nan, nan, '27', nan, nan, nan, nan, nan, nan, nan, nan, nan, nan, nan, '30', nan, nan, nan, nan, '40', '40', '13', '39', '40', '17', nan, nan, nan, nan, '35', nan, nan, nan, nan, nan, nan, nan, nan, nan, '17', nan, nan, nan, nan, nan, '13', nan, nan, nan, nan, nan, '18', nan, nan, nan, '26', '17', nan, '28', nan, nan, nan, nan, '18', '18', nan, nan, nan, nan, nan, nan, nan, nan, nan, nan, nan, nan, nan, nan, nan, nan, '21', nan, nan, '22', nan, '22', nan, nan, '17', nan, nan, nan, '2½', nan, nan, nan, nan, nan, nan, nan, nan, nan, nan, nan, nan, nan, nan, nan, nan, '1', nan, nan, nan, nan, nan, nan, nan, nan, nan, nan, nan, nan, nan, nan, '15', nan, nan, '19', nan, nan, nan, nan, nan, nan, nan, nan, nan, nan, nan, nan, nan, nan, '7o', nan, nan, nan, nan, nan, nan, nan, nan, nan, '29', nan, '12', nan, nan, nan, nan, nan, nan, nan, nan, nan, '52', nan, nan, nan, nan, '17', nan, nan, nan, nan, nan, nan, nan, nan, nan, nan, nan, nan, nan, nan, nan, '22', nan, nan, nan, nan, nan, nan, nan, nan, nan, nan, nan, nan, nan, 'yo', nan, nan, nan, nan, nan, nan, '14', nan, nan, nan, nan, nan, nan, '19', nan, nan, nan, nan, nan, nan, nan, nan, nan, nan, nan, nan, nan, nan, nan, nan, nan, nan, nan, nan, nan, nan, '20', nan, nan, nan, nan, '15', nan, nan, nan, nan, nan, nan, nan, nan, nan, nan, '21', nan, nan, nan, nan, nan, nan, nan, nan, nan, nan, nan, nan, nan, nan, nan, nan, nan, nan, nan, nan, nan, nan, nan, nan, nan, '19', nan, nan, nan, nan, nan, nan, nan, nan, nan, nan, nan, '27', '36', nan, '25', '6', '16', nan, nan, nan, nan, nan, nan, nan, nan, nan, nan, '50', nan, nan, nan, nan, nan, nan, nan, nan, nan, nan, '13', nan, nan, nan, nan, nan, nan, nan, nan, nan, nan, '16', nan, nan, nan, nan, nan, nan, nan, nan, nan, nan, nan, nan, nan, nan, nan, nan, nan, nan, nan, nan, nan, nan, nan, nan, '15']\n"
     ]
    }
   ],
   "source": [
    "print(df[\"Age\"].values.tolist())"
   ]
  },
  {
   "cell_type": "code",
   "execution_count": 43,
   "metadata": {},
   "outputs": [
    {
     "name": "stdout",
     "output_type": "stream",
     "text": [
      "['16', '36', '43', nan, '60', '51', '50', '12', '9', '22', '25', '37', '20', '49', '15', '21', '40', '72', '18', '29', '31', '11', '10', '59', '42', '34', '35', '19', '6', '27', '64', '23', '52', '13', '57', '48', '39', '24', '26', '69', '46', 'Te', '41', '45', '65', '38', '71', '32', '58', '28', '54', '44', '14', '7', '62', '68', '47', '17', '30', '63', '70', '53', '33', '8', '61', '55', 'te', '66', '77', '74', '3', '56', '5', '86', '8o', '84', '\\xa0', '', '6½', '75', 'mi', '73', '7&', '87', '67', 'El', 'Ca', '>5', 'ad', '9&', '?&', '9m', '1', '(a', 'X', '\"m', '2t', 'MA', '81', '\"y', '7o', '78', 'F', 'Bo', '9o', 'yo', 'A.', 'M', '2½']\n"
     ]
    }
   ],
   "source": [
    "print(df[\"Age\"].unique().tolist())"
   ]
  },
  {
   "cell_type": "code",
   "execution_count": 44,
   "metadata": {},
   "outputs": [],
   "source": [
    "# \\s\\D\n",
    "# \\D\\D\n",
    "# ..\n",
    "\n",
    "# age_replace_2 = {r\"^\\s\\D\": \"unknown\",\n",
    "#                  r\"^\\D\\D\": \"unknown\",\n",
    "#                  r\"^..\": \"unknown\"}\n",
    "\n",
    "# for pat, repl in age_replace_2.items():\n",
    "#     df[\"Age\"] = df[\"Age\"].str.replace(pat, repl)\n",
    "\n",
    "df[\"Age\"] = df[\"Age\"].str.replace(r\"^\\s\\D\", \"unknown\")\n",
    "df[\"Age\"] = df[\"Age\"].str.replace(r\"^\\D\\D\", \"unknown\")\n",
    "# df[\"Age\"] = df[\"Age\"].str.replace(r\"^..\", \"unknown\") # All of 2-digit integer is replaced :(\n"
   ]
  },
  {
   "cell_type": "code",
   "execution_count": 45,
   "metadata": {},
   "outputs": [
    {
     "name": "stdout",
     "output_type": "stream",
     "text": [
      "['16', '36', '43', nan, nan, nan, '60', '51', '50', '12', nan, '9', '22', '25', '37', '20', '49', '15', '21', '22', '40', '72', nan, '43', '18', '29', '36', nan, '31', nan, '9', '11', nan, nan, '10', nan, '59', nan, '42', '34', '35', '11', '59', '43', '42', nan, nan, '19', '6', '19', '27', '64', '60', '23', nan, nan, '29', '52', '13', '57', '22', '11', '48', '23', '59', '39', '24', '15', nan, '12', '26', '26', '69', '60', '34', nan, '46', '22', 'unknown', '41', '9', nan, '19', '45', '12', nan, '41', '21', '31', nan, '65', nan, '45', '40', nan, nan, '15', nan, nan, '48', nan, '11', '31', nan, '38', '71', '43', '32', '58', nan, '26', '22', nan, nan, '28', '20', '9', '54', '28', '19', '50', '10', '42', '21', '21', '35', '32', '44', nan, '9', '25', nan, '18', '22', '13', '14', '22', '7', nan, '14', '27', '12', '16', nan, '20', '42', '50', '29', '62', nan, '37', nan, '54', '21', nan, '38', '15', '10', '22', '10', '57', '52', '25', '35', '46', '31', '40', '45', '34', '38', '39', nan, '23', '32', '52', '32', '68', nan, '12', '18', '19', nan, '23', '43', '19', '47', '6', '37', '9', '36', '10', '16', '12', nan, '13', '11', '17', '47', '14', '19', '19', '13', '18', '30', '50', nan, nan, '29', '65', '63', '26', '71', '48', nan, '13', '23', '70', '43', '36', '52', '58', '9', nan, '36', '18', nan, '22', '41', '35', nan, '57', '20', nan, nan, nan, nan, '17', '38', '34', '15', '12', nan, '17', nan, nan, '50', '40', nan, '17', nan, '13', '39', nan, '44', nan, '53', nan, '18', '34', '20', nan, nan, nan, nan, '13', '7', nan, '40', nan, '29', '15', nan, nan, '28', '23', nan, '36', nan, '50', '43', '20', '52', '16', '13', '17', nan, '33', '30', '29', nan, nan, nan, '31', nan, '26', nan, '10', '7', '10', '45', '50', '8', '20', nan, 'unknown', '51', '8', nan, '61', '39', '63', nan, '14', nan, nan, '19', '48', '42', nan, '15', nan, '43', '16', '39', '43', '14', '22', nan, '37', '29', nan, '10', '55', '38', '35', '44', '12', nan, '40', '23', nan, '42', '25', nan, nan, 'unknown', 'unknown', '63', '38', '66', nan, '9', '42', '42', nan, '10', nan, '21', '21', '21', '28', nan, '28', nan, '24', '31', nan, '37', '19', '35', '29', '30', '26', '57', '19', '58', '35', '25', nan, '77', '16', nan, '46', '60', '24', nan, '41', '45', '25', '6', '74', '55', '45', '12', '50', '27', '7', '45', nan, '21', '13', nan, '43', '25', '17', '3', nan, '9', nan, nan, '47', '50', '11', nan, '16', nan, '20', '19', '10', nan, '17', '56', '32', '40', nan, '18', '64', '50', '18', '50', 'unknown', '15', '33', '63', '48', '29', nan, '20', nan, nan, '14', '28', '15', nan, nan, '10', '58', nan, '32', '11', '41', '30', '29', '42', '36', '16', nan, '34', '51', '9', nan, '21', '40', '53', '50', '24', '58', '47', '34', nan, '50', '30', nan, '68', '28', '28', '39', '46', nan, nan, '16', '48', '18', nan, nan, '62', '43', nan, '26', nan, '23', '29', '20', '32', '60', '31', '25', '61', '20', '32', '14', '30', '43', '25', '51', '39', '35', '24', '55', nan, '38', '42', '11', '21', '22', '52', '29', '19', '25', nan, '30', '37', '32', '8', nan, '56', '53', '34', '18', '31', nan, '56', '39', nan, '17', '48', '44', '50', '12', '22', '24', '23', '24', '43', nan, '42', '52', '29', '60', '6', '26', '16', nan, '12', '62', '16', '6', '23', '18', nan, nan, '16', '42', '57', '30', '12', '25', '33', '46', '22', nan, '20', '30', '47', '15', '28', '20', '27', '28', nan, '33', '21', nan, '20', '61', '15', '17', nan, '34', '31', '19', '42', nan, nan, nan, nan, '29', nan, nan, '26', '24', '44', '25', '53', '28', '34', nan, nan, '23', '27', nan, '35', '51', nan, '14', nan, nan, '63', '18', '10', nan, nan, '35', '42', '27', '26', nan, '32', '41', '50', nan, nan, '64', '51', nan, '29', '27', '48', '43', '21', '5', nan, '38', '17', '25', '37', '30', nan, '21', '19', '19', '48', '39', nan, '21', '10', '49', '16', '20', '12', '25', '32', '27', '30', '7', '54', '36', '14', '43', nan, '29', '6', nan, nan, '54', '12', '14', '16', '17', '28', '21', '22', '10', nan, '20', '35', '15', '31', nan, '28', '24', '28', '19', nan, '22', '33', nan, nan, '15', '28', '86', '37', nan, '43', '37', '32', '17', '49', '41', nan, '27', nan, nan, '48', '46', '30', '24', nan, nan, '36', '21', '32', '49', nan, '58', nan, '37', '38', '25', '55', '7', '16', '37', nan, '16', nan, '46', '70', nan, '54', '46', '70', '48', '47', nan, '33', '21', nan, nan, '20', nan, nan, nan, '30', '14', '19', nan, '22', nan, nan, 'unknown', '29', '18', '29', '15', '27', '24', nan, '24', '24', '34', '43', '10', '31', '45', nan, '16', '47', '25', '35', nan, nan, '37', '16', '20', '10', '13', '55', '9', nan, nan, '21', '20', '19', '48', '20', '6', '13', '17', '18', '40', '20', '49', '58', '60', nan, '59', '10', '29', '68', '35', '24', '34', nan, nan, '19', '60', '46', nan, '18', nan, '31', '38', '14', '29', nan, '54', nan, '37', '9', nan, nan, nan, '32', nan, '20', '55', '27', nan, '18', '22', nan, '24', '39', nan, '58', '49', '10', '31', '22', '27', '18', '25', '21', '27', nan, '17', nan, '54', '10', '23', '23', nan, '39', nan, nan, nan, '34', '60', '15', nan, nan, nan, '25', '22', nan, '26', nan, '56', '14', '14', '41', nan, '14', '11', '26', '19', '57', nan, nan, '37', '12', '43', '52', '26', '14', nan, nan, nan, '50', '46', nan, '31', '49', '55', '27', '48', nan, nan, '20', '23', '52', '40', '31', '49', '24', nan, '15', '59', '16', '17', nan, nan, '17', nan, '61', '21', '19', '40', nan, '15', nan, nan, '33', '31', nan, '41', nan, '49', '17', '15', nan, '19', '25', '17', nan, nan, nan, '24', '13', '31', nan, '22', '49', nan, nan, nan, '10', '29', '51', nan, nan, '15', nan, nan, nan, nan, nan, nan, '45', '39', '34', '24', '50', '15', '11', '43', '44', '40', '43', '32', '40', nan, '51', '43', '15', '52', nan, '29', '27', '52', '19', '26', '20', '20', '47', '7', '38', '13', nan, '31', nan, nan, '33', nan, '17', '44', '9', '8', '15', '16', nan, '52', '24', '14', '17', '16', '53', '42', '46', nan, '29', '37', nan, '40', '35', '14', '40', nan, '15', '14', '9', nan, '49', '21', '28', '37', '40', '6', '24', '24', '18', '24', '32', '21', '66', '14', nan, nan, '32', '19', '30', nan, nan, nan, '16', '18', '39', '52', '15', '13', '14', '8', '27', '49', '26', '25', '14', nan, '42', '20', nan, nan, '20', nan, '26', '24', '53', '31', 'unknown', '34', '52', nan, '28', '32', nan, '14', '21', '42', '37', nan, '32', '52', '31', '22', '16', nan, nan, '23', '48', nan, '18', nan, nan, '23', nan, '56', 'unknown', '14', '58', '36', '15', '12', '58', '15', '24', '54', '27', nan, nan, '52', '16', '7', '20', '15', '19', '30', '9', '19', '51', '20', nan, nan, '36', '15', '14', '48', '43', '30', '48', '18', '17', nan, nan, nan, '20', nan, '9', nan, nan, nan, '40', '38', '38', '19', '21', nan, '45', '63', '68', nan, '20', '13', '12', '24', nan, '26', '7', '27', '9', nan, '11', '42', nan, '59', '29', '16', '36', '26', nan, '30', nan, '41', '20', '24', nan, '54', '24', '25', '10', '43', '25', '15', nan, '29', nan, '22', '15', '20', nan, '18', '26', nan, '36', '19', nan, '16', '55', '52', '44', '20', '33', '12', '37', '23', nan, '27', '17', '34', nan, '34', nan, '24', '59', nan, nan, '41', nan, '15', '19', '14', nan, nan, '49', '7', '21', nan, '40', '11', '14', '13', '28', '35', '9', nan, '25', '22', '27', '43', '24', '7', '40', '26', nan, '31', '15', '33', '30', nan, '20', '46', nan, '54', '13', '35', '15', '15', '35', '11', nan, '28', '17', '21', '15', '15', '45', '18', nan, nan, '15', '24', '57', '46', '34', '28', nan, '52', nan, '21', '21', '49', '30', '29', nan, '44', nan, 'unknown', '23', nan, '18', '26', nan, '30', '17', nan, '32', '18', '25', '26', '15', '55', '20', '36', '20', '15', '22', '57', '48', '35', '52', '28', '26', '44', nan, '68', '18', '15', '18', '40', '62', '21', '23', '37', '17', '8', '12', nan, '16', '14', nan, '13', '61', '25', nan, '24', nan, '22', '14', '19', '16', '14', '7', nan, '49', '20', '38', '11', '17', '22', '6', '33', nan, '32', nan, nan, nan, 'unknown', '47', '25', nan, '20', '40', '70', '52', '37', nan, nan, '32', nan, nan, '26', '45', '51', nan, nan, '18', nan, nan, nan, '12', '19', nan, nan, '39', '11', '18', '38', '20', '16', '77', '38', '30', nan, '40', nan, '52', '59', nan, '34', '34', '15', '16', '40', nan, '26', nan, nan, '17', '38', '24', nan, '50', '47', '30', nan, '20', nan, '28', '13', '19', '11', nan, '51', '30', 'unknown', '7', '45', nan, nan, '17', '8', '21', '16', '17', '44', '9', '9', '9', '24', '63', '28', '22', nan, nan, nan, nan, '57', '16', '22', '26', '20', '22', nan, '20', '61', nan, nan, '51', '47', '29', '15', nan, '31', nan, '22', '46', '21', nan, nan, '40', nan, nan, '22', nan, nan, nan, nan, '28', '13', '45', '36', nan, nan, '21', '35', '35', '24', nan, nan, nan, nan, '18', '22', '13', '46', '56', '19', nan, nan, '18', '30', '50', '41', '40', '16', '21', '19', '17', '30', '36', '8o', '18', '15', '19', nan, nan, '50', '31', '16', '37', '18', '15', '58', '10', '21', '39', nan, nan, nan, '17', '15', nan, '12', '60', '51', '33', '15', '22', '18', '22', '20', '34', '9', nan, nan, '16', '17', '7', '36', '17', '30', '23', '18', '11', '12', '20', '28', nan, '50', nan, '44', '37', '54', '24', '84', '14', nan, nan, '18', '25', '26', '11', '23', '19', nan, '48', '34', '41', '21', '16', '52', '60', '36', '21', '14', '35', '18', '47', '32', '55', '\\xa0', '', '24', '35', '19', nan, '47', '20', '36', '16', '29', '27', '15', '15', '30', '14', '13', '15', '19', '41', '22', '9', '30', '11', nan, nan, nan, nan, '28', '50', '10', '50', '24', '16', '55', '35', nan, '14', '31', '40', '20', '23', '52', '34', '28', '45', '43', '41', '29', '17', '11', '16', '20', '39', '31', '44', nan, '30', '15', '35', '20', '32', '16', nan, '26', '35', '36', '49', nan, nan, nan, '20', '26', '31', '21', '14', '42', '6½', '16', nan, '44', '13', nan, '28', '23', '20', '10', '44', '29', '69', '18', '18', '17', '27', '32', '17', '17', '20', '19', '19', '43', '21', nan, '36', nan, nan, nan, nan, nan, '48', '18', '42', '8', nan, '35', '14', '52', '75', '29', '16', '11', nan, '24', nan, '26', '33', '45', nan, '14', '16', '12', 'unknown', '38', '21', '12', '22', '19', '22', nan, '16', '46', nan, '26', '12', '40', nan, nan, '12', '20', nan, nan, nan, '40', '35', '55', nan, nan, nan, '23', '47', nan, '30', '38', nan, '28', '47', '73', '27', '52', '49', '27', '31', '23', '56', '69', '17', '23', '11', '24', nan, '17', '25', '12', '31', nan, '49', '26', '25', '8', '48', '28', '40', '27', nan, '47', '69', nan, nan, '53', '27', '44', nan, '23', nan, '5', '45', '16', '14', '15', '18', nan, '69', '13', '41', '5', '12', '20', '55', '13', '19', nan, nan, nan, '52', nan, '17', '55', '44', '13', nan, nan, nan, '9', nan, '34', nan, nan, '26', '14', '37', '35', nan, nan, nan, '27', nan, '39', '27', nan, nan, '12', '26', nan, '35', nan, '15', '13', '12', '18', nan, '39', '35', '19', '51', nan, '35', '39', '12', '12', '45', '13', nan, '16', '22', nan, '61', '10', '13', '7', '39', '28', nan, '23', '17', '10', '62', '35', '42', '43', '43', '14', nan, '30', '29', '20', '21', '41', '5', '22', '21', '41', '52', '14', nan, nan, '29', nan, '28', '18', '29', nan, '35', '25', '47', nan, nan, '37', nan, '30', nan, '19', '21', '18', '14', '21', '9', '14', '13', '32', '52', '22', '17', '30', nan, '17', nan, '28', '6', '18', nan, '28', '25', '26', nan, '16', nan, '28', '11', nan, '19', '24', nan, '13', '47', '16', '10', '26', '20', '18', nan, '17', '15', '16', '40', '14', '24', '22', '35', '50', '16', nan, nan, '40', '33', '32', nan, '31', nan, nan, '21', nan, '23', '28', nan, nan, '39', nan, '29', '8', '42', '32', '21', '51', '19', '23', '12', nan, '14', '20', '12', '17', '20', '18', '22', '29', '28', '33', '12', '17', '16', '17', nan, '10', nan, '17', '19', '19', '25', nan, '50', '55', nan, nan, '47', '18', nan, '33', '35', '34', '12', '54', nan, '22', '21', '30', nan, nan, '49', '27', '41', nan, nan, '18', nan, nan, nan, '45', '26', nan, nan, nan, '22', '21', '31', nan, '14', '23', '19', '5', '28', '28', '29', '19', '36', '21', '8', '52', nan, '46', '9', nan, '18', '63', '24', '24', nan, nan, '17', '45', '22', '33', '27', nan, '11', '16', nan, '47', '7', '24', '32', nan, nan, '14', nan, '7', '33', '13', '53', nan, nan, '25', nan, nan, nan, '22', nan, nan, nan, '13', '17', '15', '39', '14', '17', '25', '19', '19', nan, '25', '29', '32', '9', '19', '44', nan, '16', '18', '16', '23', '19', nan, '18', '20', '15', '20', '14', '12', nan, nan, nan, nan, '18', '18', '12', '7', '47', '14', '18', '34', '32', nan, '31', nan, '13', nan, '45', '10', '38', '45', '29', '44', '15', '69', nan, '44', '12', '20', nan, '47', nan, '35', nan, '22', nan, '14', '17', '33', nan, nan, nan, '26', nan, nan, nan, nan, '44', '42', nan, nan, '34', nan, nan, nan, '9', '16', '30', '43', '7&', '12', nan, '15', nan, '24', '22', '31', nan, '15', '30', '24', '28', '35', '36', '26', '22', '25', nan, '20', '71', nan, '19', nan, '33', '25', nan, '23', nan, '15', nan, nan, nan, '44', nan, '23', '33', nan, nan, nan, '30', '27', nan, nan, '26', '26', '34', nan, '21', '36', '15', '17', '19', '16', '69', '51', '13', nan, nan, '19', nan, '39', nan, nan, '28', '12', nan, '16', '61', '42', '22', '31', '34', '42', '60', nan, nan, '32', nan, '25', nan, '35', '55', nan, nan, nan, '69', '15', '21', '32', '29', nan, nan, '30', nan, '10', '30', '31', '19', '24', '46', '30', '40', '17', '18', '40', '28', nan, nan, '28', nan, '20', '18', nan, nan, '34', '17', nan, '22', '26', nan, nan, '42', nan, nan, nan, '16', '21', nan, nan, '45', nan, nan, nan, '35', '36', '17', '41', nan, '21', nan, nan, '19', nan, '19', '19', '36', nan, nan, nan, '33', '25', '41', nan, nan, nan, '14', '21', '32', '32', '19', '36', '23', '10', nan, '40', '39', '42', '22', '30', '32', '13', '22', nan, '18', '31', '65', '23', nan, nan, nan, '22', nan, '18', '38', '20', '35', nan, '22', nan, '26', nan, '24', '50', '18', '26', nan, '25', '43', '19', '26', '49', '44', '30', '22', nan, '18', '53', '17', '21', '38', nan, '30', '30', '22', '23', '31', '37', nan, '29', nan, '30', nan, nan, '33', nan, '17', nan, '17', '27', '32', '29', nan, '10', '31', '17', nan, '12', '49', nan, '29', '51', nan, '38', '31', '46', '30', '21', '21', '17', '31', '41', '35', '34', nan, '16', '9', nan, '45', nan, '16', '28', nan, '19', nan, nan, nan, nan, '27', nan, nan, '26', '47', '24', '24', '10', '19', nan, '17', nan, nan, nan, '17', '62', nan, '21', '38', '15', '30', '23', '15', '23', '21', nan, '38', nan, '16', nan, '27', nan, '28', '35', '15', '37', nan, nan, '36', '42', '37', '12', '25', '38', '31', '29', nan, nan, '24', nan, '14', nan, nan, '30', nan, '17', nan, nan, '20', '15', nan, '22', '22', nan, nan, '33', nan, '12', nan, '16', '16', '15', nan, '20', '14', '21', nan, '47', '24', '12', '40', '27', '32', '16', nan, '35', nan, nan, '12', nan, '34', nan, '16', nan, '8', '18', nan, nan, nan, '30', '37', nan, nan, nan, '21', '40', '37', '27', '22', nan, '17', '26', '23', nan, '6', '32', nan, '28', nan, nan, '18', '16', '35', nan, nan, nan, '8', '26', nan, nan, nan, nan, nan, '26', '23', '21', nan, '46', '29', '29', '22', '16', nan, nan, nan, nan, '24', '22', '46', '33', '24', nan, nan, '21', nan, '17', '87', '11', '67', '13', '15', nan, '10', '13', nan, '39', '25', '33', '29', '16', '15', nan, '18', nan, '34', nan, '20', nan, nan, nan, '16', '13', '29', '22', '23', '77', '15', '25', nan, '17', 'unknown', '16', nan, nan, '28', nan, '31', nan, '13', '18', '21', '30', nan, '27', '13', '20', '28', nan, nan, nan, nan, nan, '33', nan, '27', '14', '14', nan, nan, '36', '17', '48', '16', '47', nan, nan, '15', nan, '16', '20', '15', nan, '29', '14', '14', '22', nan, '21', '24', '28', nan, '39', '13', '17', '42', '15', '21', '30', nan, nan, '21', '15', '22', nan, '27', '16', nan, '17', nan, nan, nan, '16', '43', nan, '22', '32', nan, nan, nan, nan, '26', '16', '16', '20', '36', '28', 'unknown', nan, '17', '18', nan, '20', '38', '26', '17', '43', '19', nan, '27', '20', '19', '8', nan, 'unknown', '16', '20', nan, '32', '18', nan, nan, nan, '75', nan, '29', '20', nan, nan, nan, '24', nan, nan, nan, nan, '59', '19', nan, '17', '24', '28', nan, '26', '25', '24', '15', '19', nan, nan, '19', '53', '16', '32', nan, nan, nan, nan, nan, '27', '27', '32', nan, '19', nan, nan, '24', '19', '24', nan, nan, '30', nan, nan, '15', nan, '25', '23', '27', nan, '25', nan, '22', nan, nan, '16', '29', '19', '22', '10', nan, nan, '15', '22', nan, nan, '44', '22', nan, nan, '13', '52', nan, nan, '61', '24', '29', '29', nan, '25', nan, '34', nan, '20', '20', '18', '19', '32', '20', nan, nan, '18', '21', '16', '49', nan, '56', '36', '25', nan, nan, nan, '24', '8', '27', nan, nan, nan, '19', nan, '', '23', nan, '17', nan, '27', nan, '34', nan, '27', '39', '27', '20', '17', nan, '25', '23', nan, nan, nan, nan, '17', nan, nan, nan, '49', '27', '18', nan, nan, '25', '17', '25', nan, '20', '17', '21', '27', '25', nan, nan, nan, nan, '31', '32', '74', '45', '24', nan, nan, nan, nan, '29', '19', nan, '19', '17', nan, nan, '25', '20', nan, '27', nan, '16', nan, '15', '23', '19', '24', '10', '18', '23', '17', nan, '46', nan, nan, nan, '21', nan, nan, nan, nan, nan, nan, nan, '25', nan, nan, nan, '27', '35', '20', '33', nan, '18', nan, '20', nan, '21', '19', '20', '44', '24', '62', '37', '24', '21', '23', '34', '14', '29', '16', '18', '15', '27', '20', nan, '17', '10', '37', nan, nan, nan, nan, '14', '18', nan, nan, '16', nan, '12', '45', nan, '12', '17', '25', nan, '32', '24', '17', '29', '20', '41', '48', '30', '24', '22', nan, '19', '18', '21', nan, '36', '17', '10', '61', '45', nan, '22', '19', '11', '17', '21', nan, '14', '19', nan, nan, '42', '26', '33', nan, '32', nan, nan, '41', '20', '19', nan, '20', nan, '13', nan, nan, '11', '20', '37', nan, '21', '16', '17', nan, '45', nan, '28', '26', '57', nan, nan, nan, nan, '13', '29', '25', '17', nan, nan, '24', nan, '24', '19', nan, '17', '17', nan, '20', '15', nan, '45', nan, nan, nan, '22', '32', '27', '25', nan, '19', '33', nan, '18', nan, '20', '30', '24', nan, nan, '22', '16', '20', '20', '20', '18', '25', '30', '17', '34', '51', '26', '8', nan, '21', '32', '16', '>5', '19', '14', '66', nan, '16', nan, '15', nan, nan, '18', '18', nan, '41', nan, nan, nan, '43', '20', '18', '20', nan, nan, nan, nan, '13', '25', '16', '18', nan, '14', nan, nan, nan, '19', '8', '14', '16', '12', '10', nan, '22', nan, '15', nan, nan, nan, nan, '28', '25', '35', '35', '15', nan, '27', nan, '53', nan, '28', '15', '13', '25', nan, '13', nan, '22', '27', '8', nan, '23', '18', nan, nan, 'unknown', '65', '16', '49', '52', '21', nan, nan, nan, '27', '17', nan, '28', '30', '22', '16', nan, nan, nan, nan, '24', '9&', '15', '12', '41', '18', '25', '33', '33', nan, '43', '17', '17', nan, nan, '17', '63', '10', '21', '7', '47', '35', '20', '28', '17', '14', nan, '26', nan, '24', '13', nan, nan, nan, '22', '32', '27', '59', nan, '15', '18', '21', nan, nan, nan, '19', '17', nan, '21', nan, nan, nan, '23', '24', '19', nan, '23', '19', nan, 'unknown', '15', '41', nan, '20', '36', '18', '26', nan, '30', '22', '60', '21', '32', '36', nan, '21', '14', nan, nan, nan, '31', '15', '30', '29', '19', '39', '29', '28', '9m', '13', '8', '32', '20', nan, nan, '43', '14', nan, nan, nan, '18', '13', '9', '33', nan, '21', '26', '8', '16', '34', '14', '20', '25', '46', nan, '15', '18', '18', nan, '40', nan, '38', '24', nan, '25', nan, nan, nan, '13', '33', nan, '29', '30', nan, '16', '43', '15', '15', '35', '15', '40', nan, nan, '43', '44', nan, '24', '39', '32', nan, '15', '27', nan, nan, '23', nan, '15', nan, '25', nan, '6', nan, '38', nan, nan, nan, nan, nan, nan, '35', '49', '19', '28', '8', '17', nan, '16', '25', '18', '21', '22', '20', nan, '30', '13', 'unknown', nan, nan, '25', nan, nan, '19', nan, nan, '28', '10', '25', '29', '25', nan, nan, nan, '19', '24', '32', '20', '14', '19', '18', nan, '28', '12', '21', '22', '30', nan, '52', nan, nan, nan, nan, '29', nan, nan, '23', '40', '47', '35', '13', nan, '19', '32', '38', nan, nan, '15', '17', nan, '26', '25', nan, '19', '23', nan, '12', nan, nan, '39', '17', nan, nan, '21', nan, '20', nan, nan, nan, '20', '24', nan, '18', nan, '13', nan, nan, '15', '23', '22', '20', '18', '21', '25', '28', nan, nan, nan, '35', '28', '20', nan, '25', '30', '18', '16', '23', '26', '14', '24', nan, nan, '42', '30', nan, nan, nan, '25', '15', '25', '15', nan, nan, nan, '18', '28', '24', nan, '41', '32', '25', nan, '14', nan, '27', '24', nan, nan, nan, nan, nan, '16', nan, '26', nan, '24', nan, nan, '30', '32', '26', nan, '43', '1', '24', '20', '29', '28', nan, nan, '49', '39', nan, nan, '40', '24', 'unknown', nan, '23', '21', '20', '19', '41', '13', nan, nan, nan, '11', '31', '32', '35', nan, '13', nan, '55', '31', '17', nan, nan, nan, '16', '13', nan, nan, nan, '10', nan, '15', nan, '22', '13', '35', nan, nan, '18', '16', '19', '40', nan, '44', '29', nan, '19', nan, '24', '54', nan, '25', nan, nan, nan, nan, '57', nan, nan, nan, '18', '24', '18', '23', nan, '20', '22', '17', nan, nan, '45', nan, '45', '16', '19', '42', '22', nan, '33', nan, '16', '19', '22', '38', nan, '57', '16', nan, '21', '10', '23', '25', nan, nan, '19', '20', nan, '52', nan, '10', nan, '37', nan, '22', '21', '40', '38', nan, '24', nan, '24', '24', nan, '21', '33', '44', nan, '30', nan, nan, '27', '14', nan, nan, nan, '15', '27', '13', nan, nan, nan, '25', nan, nan, nan, nan, nan, '20', nan, nan, '27', '25', '33', nan, '41', '51', '17', '24', nan, nan, nan, '36', nan, '24', '26', nan, nan, nan, '37', nan, nan, nan, nan, nan, '25', nan, nan, '38', nan, '14', '24', nan, '15', '25', '46', nan, '25', '17', '41', nan, nan, nan, '18', '39', '37', '58', '24', '27', '25', '16', nan, nan, '16', '48', nan, nan, '21', '17', nan, nan, nan, nan, nan, nan, nan, '42', '44', '30', '22', '36', nan, '26', nan, '20', nan, nan, nan, nan, '13', nan, nan, nan, nan, '9', nan, nan, nan, nan, '16', '20', '5', nan, nan, '50', '13', '29', nan, '17', nan, nan, '3', '19', '17', '19', nan, nan, nan, '21', nan, nan, 'X', nan, '30', nan, '36', '28', '29', '30', nan, nan, nan, nan, 'unknown', nan, nan, '14', '10', '21', '26', nan, nan, '32', nan, '13', '15', nan, '34', nan, '25', '22', '21', nan, nan, '27', '13', nan, nan, nan, nan, '33', nan, '23', '37', '18', '19', nan, '22', '43', nan, nan, nan, '13', '20', nan, nan, nan, nan, '15', '14', '20', '57', '16', '22', '17', '18', nan, '33', nan, nan, nan, nan, nan, nan, nan, nan, nan, nan, '14', '15', '22', '21', nan, nan, nan, '15', '60', nan, '26', '32', '42', '20', nan, nan, nan, '12', '8', '35', '21', nan, '31', '20', '38', '36', nan, '59', '17', nan, nan, nan, '29', '29', '28', '29', nan, '21', '18', '17', '14', '50', nan, nan, nan, nan, nan, nan, nan, nan, nan, nan, nan, '14', '20', '23', '15', '16', nan, nan, '22', '28', nan, nan, nan, '57', '36', nan, '28', nan, nan, '25', '15', '17', '22', '17', '15', nan, nan, nan, nan, '12', nan, nan, '2t', nan, '18', nan, '30', nan, nan, nan, nan, '19', '16', nan, '70', '29', nan, '19', nan, '27', nan, nan, nan, '34', nan, '13', nan, '10', '23', nan, nan, nan, nan, nan, '13', '38', '40', '38', '7', nan, '23', nan, nan, '30', nan, nan, '13', '26', '21', '15', '8', '18', '33', '25', nan, nan, '15', nan, '14', nan, nan, nan, nan, nan, '8', nan, '28', nan, nan, nan, '16', nan, nan, '25', '32', '28', nan, '15', nan, '22', '13', nan, nan, '28', nan, nan, nan, nan, '22', nan, '25', nan, '19', '25', '25', nan, nan, '13', nan, nan, nan, '16', nan, '12', nan, '27', '23', nan, '16', nan, nan, '62', nan, '13', '35', '20', '35', '27', nan, nan, '34', '28', nan, nan, nan, '22', nan, nan, '35', '30', nan, nan, nan, nan, nan, '23', nan, '30', '18', '26', nan, nan, nan, nan, '12', nan, nan, nan, '23', '16', nan, nan, '23', nan, nan, '15', nan, '19', '18', '15', nan, '26', nan, nan, nan, '19', nan, nan, '19', nan, nan, '23', nan, nan, nan, nan, '25', nan, '61', 'unknown', nan, nan, nan, nan, '25', nan, '17', nan, '17', '40', nan, '18', '19', nan, '43', '34', nan, '34', nan, nan, nan, nan, nan, nan, nan, nan, nan, nan, nan, nan, '27', nan, '15', '18', '21', '23', '81', '24', nan, '42', nan, '21', nan, '56', '18', '16', nan, nan, '13', '40', nan, '39', '16', nan, '23', 'unknown', '19', '31', '20', '14', '19', nan, nan, '19', nan, '20', '17', '21', '18', '31', '25', '27', nan, nan, '19', nan, '30', '11', nan, '21', '16', '25', '27', nan, '50', nan, nan, '20', nan, nan, '14', nan, nan, nan, nan, nan, nan, '7o', nan, nan, nan, nan, nan, nan, nan, nan, nan, '35', '36', nan, '21', '34', '17', '18', '21', '18', '18', '16', '16', nan, '22', '26', nan, '13', nan, nan, '20', '32', nan, nan, nan, nan, nan, nan, '18', nan, nan, '17', '28', '19', '14', nan, nan, '41', '17', nan, nan, nan, nan, '60', '13', '15', '41', '46', nan, '38', nan, nan, nan, '30', nan, '16', nan, '48', nan, nan, nan, '9', nan, nan, nan, '17', '16', '12', '13', '78', nan, '25', '20', '46', nan, '20', nan, '35', nan, nan, '21', '14', '17', '29', '18', '22', nan, nan, nan, '17', '18', '23', nan, '30', nan, '15', '15', '30', '12', '12', '14', nan, '17', nan, '28', '21', '18', '18', '15', nan, '12', '18', '14', '24', nan, nan, nan, nan, '20', nan, '13', nan, nan, nan, nan, nan, nan, '37', nan, nan, nan, '8o', '15', '19', nan, '18', nan, nan, nan, nan, nan, nan, nan, '13', nan, '19', '17', nan, '15', nan, nan, nan, '18', '23', '16', nan, '12', '22', nan, '14', '26', nan, nan, nan, '17', nan, nan, nan, nan, '20', nan, nan, nan, '68', '18', nan, '26', nan, 'F', nan, nan, '31', nan, nan, nan, nan, nan, nan, '22', nan, nan, nan, '15', nan, '38', '19', nan, nan, nan, nan, '18', nan, nan, '25', nan, nan, '24', nan, nan, '32', '20', nan, nan, nan, nan, nan, nan, nan, '18', nan, '28', nan, nan, nan, nan, nan, nan, '48', nan, nan, nan, nan, nan, nan, '10', '23', nan, nan, nan, nan, nan, nan, '20', nan, nan, '43', nan, nan, '53', '34', nan, '19', nan, nan, nan, nan, nan, '6', nan, '14', '23', '17', nan, nan, '18', nan, nan, nan, '25', nan, '17', nan, '55', '17', '13', '22', '18', nan, nan, nan, nan, nan, nan, nan, '40', '20', nan, nan, nan, nan, nan, '27', nan, nan, '33', '3', '38', nan, nan, '9', nan, nan, 'unknown', nan, nan, nan, nan, nan, '19', '18', nan, nan, nan, nan, '27', '25', nan, nan, nan, '9o', nan, nan, nan, nan, '13', '24', nan, nan, '50', nan, '17', nan, nan, '17', nan, '25', '18', '16', nan, nan, nan, nan, nan, '38', nan, '21', nan, nan, nan, nan, '14', nan, '33', '16', '43', '32', nan, nan, '20', nan, '18', nan, nan, nan, nan, '15', '50', nan, nan, nan, nan, nan, '13', '16', nan, nan, nan, '16', nan, '16', nan, nan, nan, nan, nan, 'unknown', nan, '14', '13', '17', nan, nan, nan, '20', '38', nan, '38', nan, nan, '23', '53', '14', '22', '31', nan, nan, nan, nan, nan, '40', nan, nan, nan, nan, nan, '38', nan, '27', '22', '20', nan, nan, nan, '5', '13', '19', '14', '12', '38', nan, nan, nan, nan, nan, nan, '18', '11', nan, nan, '8', '34', nan, '12', '15', '17', nan, nan, nan, nan, '15', '22', nan, '17', nan, nan, nan, nan, nan, '50', nan, '15', nan, nan, nan, nan, nan, nan, '24', nan, nan, nan, nan, '38', nan, nan, nan, '24', '27', nan, nan, nan, nan, nan, '18', '17', nan, '32', nan, nan, nan, nan, nan, nan, nan, nan, nan, nan, nan, '36', '23', '45', 'unknown', nan, '20', nan, '18', nan, nan, '23', nan, nan, nan, nan, nan, nan, nan, nan, nan, nan, nan, '19', nan, nan, '39', nan, nan, '18', nan, nan, '49', nan, nan, nan, nan, nan, nan, '17', '38', nan, '29', '21', nan, nan, nan, nan, '17', nan, '19', '18', nan, nan, '23', nan, '17', nan, '16', nan, '17', nan, '50', nan, nan, nan, nan, '42', nan, nan, nan, nan, nan, nan, nan, '19', nan, nan, '26', nan, '9', '12', '20', nan, '39', '', nan, '14', nan, nan, nan, nan, nan, nan, '27', nan, nan, '24', nan, '17', nan, nan, nan, nan, nan, nan, nan, '19', nan, '15', '28', nan, nan, nan, nan, '78', nan, nan, nan, '18', '25', '17', nan, nan, nan, nan, nan, nan, nan, nan, nan, '17', nan, nan, '70', nan, nan, '15', '10', nan, nan, nan, nan, '17', nan, nan, '18', '20', nan, '15', nan, nan, '26', nan, nan, nan, nan, nan, nan, nan, nan, '55', nan, nan, nan, nan, nan, nan, nan, '16', '16', 'unknown', nan, nan, nan, nan, '35', '35', nan, nan, nan, nan, 'unknown', nan, '20', '21', nan, nan, nan, '30', nan, '22', nan, '16', nan, nan, nan, nan, nan, nan, nan, nan, nan, nan, nan, nan, nan, nan, '25', nan, '13', nan, nan, nan, nan, nan, nan, '19', '16', nan, nan, nan, nan, nan, '18', '19', '18', nan, nan, '14', '21', nan, '18', nan, '54', nan, '26', '20', '8', '40', nan, nan, '22', nan, nan, '21', nan, nan, nan, nan, nan, '30', nan, '13', nan, '20', nan, '18', nan, '12', nan, nan, '12', '29', '47', nan, nan, nan, nan, nan, nan, nan, nan, '13', '38', nan, nan, nan, nan, '22', nan, nan, nan, nan, nan, nan, nan, nan, nan, nan, nan, nan, nan, '25', '41', nan, nan, nan, '27', nan, nan, nan, nan, nan, '12', '24', '10', nan, nan, nan, nan, '24', '10', nan, '26', nan, '17', nan, nan, '10', nan, nan, nan, nan, nan, nan, nan, nan, '17', nan, nan, nan, nan, '17', nan, nan, nan, nan, '43', nan, nan, nan, nan, nan, nan, nan, nan, nan, nan, '12', nan, nan, nan, nan, nan, nan, nan, nan, nan, nan, nan, nan, nan, '12', nan, nan, nan, nan, nan, '18', nan, '21', '7', nan, nan, nan, nan, nan, '23', nan, nan, nan, nan, nan, '64', nan, nan, nan, nan, '22', nan, '50', nan, nan, nan, nan, nan, nan, nan, nan, nan, nan, nan, nan, nan, nan, nan, nan, nan, nan, nan, nan, nan, '16', nan, nan, nan, nan, '19', nan, nan, '36', nan, nan, '16', nan, nan, nan, nan, nan, nan, nan, nan, nan, 'F', nan, nan, nan, nan, nan, nan, nan, nan, nan, nan, nan, nan, nan, nan, nan, nan, nan, nan, nan, nan, nan, '55', '18', '20', nan, nan, nan, nan, nan, nan, nan, nan, nan, nan, nan, nan, nan, nan, nan, nan, '17', nan, '18', nan, '31', '30', nan, nan, nan, nan, nan, '21', '16', '8', nan, nan, '26', '40', nan, '23', '39', nan, nan, nan, nan, nan, nan, nan, nan, nan, '30', nan, nan, nan, nan, nan, nan, '28', nan, nan, nan, nan, nan, nan, nan, '30', '17', nan, nan, nan, nan, nan, nan, nan, nan, nan, nan, nan, nan, '16', '10', nan, 'unknown', '29', '20', nan, nan, nan, nan, nan, '30', nan, nan, nan, nan, nan, nan, nan, nan, nan, nan, nan, nan, nan, nan, nan, nan, nan, '15', '9', '19', '13', nan, nan, nan, nan, nan, '13', nan, nan, nan, nan, nan, nan, nan, nan, 'M', '24', '22', nan, nan, nan, nan, '15', nan, nan, nan, nan, nan, nan, nan, nan, nan, nan, nan, nan, nan, nan, nan, nan, nan, nan, '26', nan, nan, nan, nan, '35', nan, '11', nan, '15', '14', nan, nan, nan, nan, nan, '26', nan, nan, nan, nan, nan, nan, '28', nan, nan, '13', '14', nan, nan, nan, '19', nan, nan, nan, nan, nan, nan, nan, nan, nan, nan, nan, nan, nan, nan, nan, nan, nan, nan, nan, nan, nan, nan, nan, nan, nan, nan, '15', nan, nan, nan, nan, nan, nan, nan, nan, '21', nan, nan, nan, nan, nan, nan, nan, nan, nan, nan, '18', nan, nan, nan, nan, nan, nan, nan, nan, nan, nan, nan, nan, nan, nan, nan, nan, nan, nan, nan, nan, nan, nan, nan, nan, '11', nan, nan, nan, nan, nan, nan, nan, nan, nan, nan, nan, nan, nan, '33', nan, nan, nan, nan, nan, nan, nan, nan, nan, '13', nan, nan, nan, nan, '18', nan, nan, nan, nan, nan, nan, nan, nan, nan, nan, nan, nan, nan, nan, nan, nan, nan, nan, nan, nan, nan, nan, nan, nan, nan, nan, '21', nan, nan, nan, nan, '37', nan, nan, nan, nan, nan, nan, nan, nan, nan, nan, nan, nan, nan, nan, nan, nan, '18', nan, '20', nan, nan, '23', nan, nan, '12', nan, nan, nan, '20', '60', nan, nan, '11', nan, '13', nan, nan, nan, nan, '23', nan, nan, nan, nan, '19', nan, nan, nan, nan, nan, nan, nan, nan, nan, '14', nan, nan, nan, '11', nan, '11', nan, nan, nan, nan, nan, nan, '15', nan, nan, nan, nan, nan, nan, nan, nan, nan, nan, nan, nan, nan, nan, nan, '3', nan, nan, nan, nan, nan, nan, nan, nan, nan, nan, nan, nan, nan, nan, nan, '27', nan, nan, nan, nan, nan, nan, nan, nan, nan, nan, nan, '30', nan, nan, nan, nan, '40', '40', '13', '39', '40', '17', nan, nan, nan, nan, '35', nan, nan, nan, nan, nan, nan, nan, nan, nan, '17', nan, nan, nan, nan, nan, '13', nan, nan, nan, nan, nan, '18', nan, nan, nan, '26', '17', nan, '28', nan, nan, nan, nan, '18', '18', nan, nan, nan, nan, nan, nan, nan, nan, nan, nan, nan, nan, nan, nan, nan, nan, '21', nan, nan, '22', nan, '22', nan, nan, '17', nan, nan, nan, '2½', nan, nan, nan, nan, nan, nan, nan, nan, nan, nan, nan, nan, nan, nan, nan, nan, '1', nan, nan, nan, nan, nan, nan, nan, nan, nan, nan, nan, nan, nan, nan, '15', nan, nan, '19', nan, nan, nan, nan, nan, nan, nan, nan, nan, nan, nan, nan, nan, nan, '7o', nan, nan, nan, nan, nan, nan, nan, nan, nan, '29', nan, '12', nan, nan, nan, nan, nan, nan, nan, nan, nan, '52', nan, nan, nan, nan, '17', nan, nan, nan, nan, nan, nan, nan, nan, nan, nan, nan, nan, nan, nan, nan, '22', nan, nan, nan, nan, nan, nan, nan, nan, nan, nan, nan, nan, nan, 'unknown', nan, nan, nan, nan, nan, nan, '14', nan, nan, nan, nan, nan, nan, '19', nan, nan, nan, nan, nan, nan, nan, nan, nan, nan, nan, nan, nan, nan, nan, nan, nan, nan, nan, nan, nan, nan, '20', nan, nan, nan, nan, '15', nan, nan, nan, nan, nan, nan, nan, nan, nan, nan, '21', nan, nan, nan, nan, nan, nan, nan, nan, nan, nan, nan, nan, nan, nan, nan, nan, nan, nan, nan, nan, nan, nan, nan, nan, nan, '19', nan, nan, nan, nan, nan, nan, nan, nan, nan, nan, nan, '27', '36', nan, '25', '6', '16', nan, nan, nan, nan, nan, nan, nan, nan, nan, nan, '50', nan, nan, nan, nan, nan, nan, nan, nan, nan, nan, '13', nan, nan, nan, nan, nan, nan, nan, nan, nan, nan, '16', nan, nan, nan, nan, nan, nan, nan, nan, nan, nan, nan, nan, nan, nan, nan, nan, nan, nan, nan, nan, nan, nan, nan, nan, '15']\n"
     ]
    }
   ],
   "source": [
    "print(df[\"Age\"].values.tolist())"
   ]
  },
  {
   "cell_type": "code",
   "execution_count": 46,
   "metadata": {},
   "outputs": [],
   "source": [
    "df[\"Age\"] = df[\"Age\"].fillna(\"unknown\")"
   ]
  },
  {
   "cell_type": "code",
   "execution_count": 47,
   "metadata": {},
   "outputs": [
    {
     "data": {
      "text/plain": [
       "False    5992\n",
       "Name: Age, dtype: int64"
      ]
     },
     "execution_count": 47,
     "metadata": {},
     "output_type": "execute_result"
    }
   ],
   "source": [
    "df[\"Age\"].isna().value_counts()"
   ]
  },
  {
   "cell_type": "code",
   "execution_count": 48,
   "metadata": {},
   "outputs": [
    {
     "name": "stdout",
     "output_type": "stream",
     "text": [
      "['16', '36', '43', 'unknown', 'unknown', 'unknown', '60', '51', '50', '12', 'unknown', '9', '22', '25', '37', '20', '49', '15', '21', '22', '40', '72', 'unknown', '43', '18', '29', '36', 'unknown', '31', 'unknown', '9', '11', 'unknown', 'unknown', '10', 'unknown', '59', 'unknown', '42', '34', '35', '11', '59', '43', '42', 'unknown', 'unknown', '19', '6', '19', '27', '64', '60', '23', 'unknown', 'unknown', '29', '52', '13', '57', '22', '11', '48', '23', '59', '39', '24', '15', 'unknown', '12', '26', '26', '69', '60', '34', 'unknown', '46', '22', 'unknown', '41', '9', 'unknown', '19', '45', '12', 'unknown', '41', '21', '31', 'unknown', '65', 'unknown', '45', '40', 'unknown', 'unknown', '15', 'unknown', 'unknown', '48', 'unknown', '11', '31', 'unknown', '38', '71', '43', '32', '58', 'unknown', '26', '22', 'unknown', 'unknown', '28', '20', '9', '54', '28', '19', '50', '10', '42', '21', '21', '35', '32', '44', 'unknown', '9', '25', 'unknown', '18', '22', '13', '14', '22', '7', 'unknown', '14', '27', '12', '16', 'unknown', '20', '42', '50', '29', '62', 'unknown', '37', 'unknown', '54', '21', 'unknown', '38', '15', '10', '22', '10', '57', '52', '25', '35', '46', '31', '40', '45', '34', '38', '39', 'unknown', '23', '32', '52', '32', '68', 'unknown', '12', '18', '19', 'unknown', '23', '43', '19', '47', '6', '37', '9', '36', '10', '16', '12', 'unknown', '13', '11', '17', '47', '14', '19', '19', '13', '18', '30', '50', 'unknown', 'unknown', '29', '65', '63', '26', '71', '48', 'unknown', '13', '23', '70', '43', '36', '52', '58', '9', 'unknown', '36', '18', 'unknown', '22', '41', '35', 'unknown', '57', '20', 'unknown', 'unknown', 'unknown', 'unknown', '17', '38', '34', '15', '12', 'unknown', '17', 'unknown', 'unknown', '50', '40', 'unknown', '17', 'unknown', '13', '39', 'unknown', '44', 'unknown', '53', 'unknown', '18', '34', '20', 'unknown', 'unknown', 'unknown', 'unknown', '13', '7', 'unknown', '40', 'unknown', '29', '15', 'unknown', 'unknown', '28', '23', 'unknown', '36', 'unknown', '50', '43', '20', '52', '16', '13', '17', 'unknown', '33', '30', '29', 'unknown', 'unknown', 'unknown', '31', 'unknown', '26', 'unknown', '10', '7', '10', '45', '50', '8', '20', 'unknown', 'unknown', '51', '8', 'unknown', '61', '39', '63', 'unknown', '14', 'unknown', 'unknown', '19', '48', '42', 'unknown', '15', 'unknown', '43', '16', '39', '43', '14', '22', 'unknown', '37', '29', 'unknown', '10', '55', '38', '35', '44', '12', 'unknown', '40', '23', 'unknown', '42', '25', 'unknown', 'unknown', 'unknown', 'unknown', '63', '38', '66', 'unknown', '9', '42', '42', 'unknown', '10', 'unknown', '21', '21', '21', '28', 'unknown', '28', 'unknown', '24', '31', 'unknown', '37', '19', '35', '29', '30', '26', '57', '19', '58', '35', '25', 'unknown', '77', '16', 'unknown', '46', '60', '24', 'unknown', '41', '45', '25', '6', '74', '55', '45', '12', '50', '27', '7', '45', 'unknown', '21', '13', 'unknown', '43', '25', '17', '3', 'unknown', '9', 'unknown', 'unknown', '47', '50', '11', 'unknown', '16', 'unknown', '20', '19', '10', 'unknown', '17', '56', '32', '40', 'unknown', '18', '64', '50', '18', '50', 'unknown', '15', '33', '63', '48', '29', 'unknown', '20', 'unknown', 'unknown', '14', '28', '15', 'unknown', 'unknown', '10', '58', 'unknown', '32', '11', '41', '30', '29', '42', '36', '16', 'unknown', '34', '51', '9', 'unknown', '21', '40', '53', '50', '24', '58', '47', '34', 'unknown', '50', '30', 'unknown', '68', '28', '28', '39', '46', 'unknown', 'unknown', '16', '48', '18', 'unknown', 'unknown', '62', '43', 'unknown', '26', 'unknown', '23', '29', '20', '32', '60', '31', '25', '61', '20', '32', '14', '30', '43', '25', '51', '39', '35', '24', '55', 'unknown', '38', '42', '11', '21', '22', '52', '29', '19', '25', 'unknown', '30', '37', '32', '8', 'unknown', '56', '53', '34', '18', '31', 'unknown', '56', '39', 'unknown', '17', '48', '44', '50', '12', '22', '24', '23', '24', '43', 'unknown', '42', '52', '29', '60', '6', '26', '16', 'unknown', '12', '62', '16', '6', '23', '18', 'unknown', 'unknown', '16', '42', '57', '30', '12', '25', '33', '46', '22', 'unknown', '20', '30', '47', '15', '28', '20', '27', '28', 'unknown', '33', '21', 'unknown', '20', '61', '15', '17', 'unknown', '34', '31', '19', '42', 'unknown', 'unknown', 'unknown', 'unknown', '29', 'unknown', 'unknown', '26', '24', '44', '25', '53', '28', '34', 'unknown', 'unknown', '23', '27', 'unknown', '35', '51', 'unknown', '14', 'unknown', 'unknown', '63', '18', '10', 'unknown', 'unknown', '35', '42', '27', '26', 'unknown', '32', '41', '50', 'unknown', 'unknown', '64', '51', 'unknown', '29', '27', '48', '43', '21', '5', 'unknown', '38', '17', '25', '37', '30', 'unknown', '21', '19', '19', '48', '39', 'unknown', '21', '10', '49', '16', '20', '12', '25', '32', '27', '30', '7', '54', '36', '14', '43', 'unknown', '29', '6', 'unknown', 'unknown', '54', '12', '14', '16', '17', '28', '21', '22', '10', 'unknown', '20', '35', '15', '31', 'unknown', '28', '24', '28', '19', 'unknown', '22', '33', 'unknown', 'unknown', '15', '28', '86', '37', 'unknown', '43', '37', '32', '17', '49', '41', 'unknown', '27', 'unknown', 'unknown', '48', '46', '30', '24', 'unknown', 'unknown', '36', '21', '32', '49', 'unknown', '58', 'unknown', '37', '38', '25', '55', '7', '16', '37', 'unknown', '16', 'unknown', '46', '70', 'unknown', '54', '46', '70', '48', '47', 'unknown', '33', '21', 'unknown', 'unknown', '20', 'unknown', 'unknown', 'unknown', '30', '14', '19', 'unknown', '22', 'unknown', 'unknown', 'unknown', '29', '18', '29', '15', '27', '24', 'unknown', '24', '24', '34', '43', '10', '31', '45', 'unknown', '16', '47', '25', '35', 'unknown', 'unknown', '37', '16', '20', '10', '13', '55', '9', 'unknown', 'unknown', '21', '20', '19', '48', '20', '6', '13', '17', '18', '40', '20', '49', '58', '60', 'unknown', '59', '10', '29', '68', '35', '24', '34', 'unknown', 'unknown', '19', '60', '46', 'unknown', '18', 'unknown', '31', '38', '14', '29', 'unknown', '54', 'unknown', '37', '9', 'unknown', 'unknown', 'unknown', '32', 'unknown', '20', '55', '27', 'unknown', '18', '22', 'unknown', '24', '39', 'unknown', '58', '49', '10', '31', '22', '27', '18', '25', '21', '27', 'unknown', '17', 'unknown', '54', '10', '23', '23', 'unknown', '39', 'unknown', 'unknown', 'unknown', '34', '60', '15', 'unknown', 'unknown', 'unknown', '25', '22', 'unknown', '26', 'unknown', '56', '14', '14', '41', 'unknown', '14', '11', '26', '19', '57', 'unknown', 'unknown', '37', '12', '43', '52', '26', '14', 'unknown', 'unknown', 'unknown', '50', '46', 'unknown', '31', '49', '55', '27', '48', 'unknown', 'unknown', '20', '23', '52', '40', '31', '49', '24', 'unknown', '15', '59', '16', '17', 'unknown', 'unknown', '17', 'unknown', '61', '21', '19', '40', 'unknown', '15', 'unknown', 'unknown', '33', '31', 'unknown', '41', 'unknown', '49', '17', '15', 'unknown', '19', '25', '17', 'unknown', 'unknown', 'unknown', '24', '13', '31', 'unknown', '22', '49', 'unknown', 'unknown', 'unknown', '10', '29', '51', 'unknown', 'unknown', '15', 'unknown', 'unknown', 'unknown', 'unknown', 'unknown', 'unknown', '45', '39', '34', '24', '50', '15', '11', '43', '44', '40', '43', '32', '40', 'unknown', '51', '43', '15', '52', 'unknown', '29', '27', '52', '19', '26', '20', '20', '47', '7', '38', '13', 'unknown', '31', 'unknown', 'unknown', '33', 'unknown', '17', '44', '9', '8', '15', '16', 'unknown', '52', '24', '14', '17', '16', '53', '42', '46', 'unknown', '29', '37', 'unknown', '40', '35', '14', '40', 'unknown', '15', '14', '9', 'unknown', '49', '21', '28', '37', '40', '6', '24', '24', '18', '24', '32', '21', '66', '14', 'unknown', 'unknown', '32', '19', '30', 'unknown', 'unknown', 'unknown', '16', '18', '39', '52', '15', '13', '14', '8', '27', '49', '26', '25', '14', 'unknown', '42', '20', 'unknown', 'unknown', '20', 'unknown', '26', '24', '53', '31', 'unknown', '34', '52', 'unknown', '28', '32', 'unknown', '14', '21', '42', '37', 'unknown', '32', '52', '31', '22', '16', 'unknown', 'unknown', '23', '48', 'unknown', '18', 'unknown', 'unknown', '23', 'unknown', '56', 'unknown', '14', '58', '36', '15', '12', '58', '15', '24', '54', '27', 'unknown', 'unknown', '52', '16', '7', '20', '15', '19', '30', '9', '19', '51', '20', 'unknown', 'unknown', '36', '15', '14', '48', '43', '30', '48', '18', '17', 'unknown', 'unknown', 'unknown', '20', 'unknown', '9', 'unknown', 'unknown', 'unknown', '40', '38', '38', '19', '21', 'unknown', '45', '63', '68', 'unknown', '20', '13', '12', '24', 'unknown', '26', '7', '27', '9', 'unknown', '11', '42', 'unknown', '59', '29', '16', '36', '26', 'unknown', '30', 'unknown', '41', '20', '24', 'unknown', '54', '24', '25', '10', '43', '25', '15', 'unknown', '29', 'unknown', '22', '15', '20', 'unknown', '18', '26', 'unknown', '36', '19', 'unknown', '16', '55', '52', '44', '20', '33', '12', '37', '23', 'unknown', '27', '17', '34', 'unknown', '34', 'unknown', '24', '59', 'unknown', 'unknown', '41', 'unknown', '15', '19', '14', 'unknown', 'unknown', '49', '7', '21', 'unknown', '40', '11', '14', '13', '28', '35', '9', 'unknown', '25', '22', '27', '43', '24', '7', '40', '26', 'unknown', '31', '15', '33', '30', 'unknown', '20', '46', 'unknown', '54', '13', '35', '15', '15', '35', '11', 'unknown', '28', '17', '21', '15', '15', '45', '18', 'unknown', 'unknown', '15', '24', '57', '46', '34', '28', 'unknown', '52', 'unknown', '21', '21', '49', '30', '29', 'unknown', '44', 'unknown', 'unknown', '23', 'unknown', '18', '26', 'unknown', '30', '17', 'unknown', '32', '18', '25', '26', '15', '55', '20', '36', '20', '15', '22', '57', '48', '35', '52', '28', '26', '44', 'unknown', '68', '18', '15', '18', '40', '62', '21', '23', '37', '17', '8', '12', 'unknown', '16', '14', 'unknown', '13', '61', '25', 'unknown', '24', 'unknown', '22', '14', '19', '16', '14', '7', 'unknown', '49', '20', '38', '11', '17', '22', '6', '33', 'unknown', '32', 'unknown', 'unknown', 'unknown', 'unknown', '47', '25', 'unknown', '20', '40', '70', '52', '37', 'unknown', 'unknown', '32', 'unknown', 'unknown', '26', '45', '51', 'unknown', 'unknown', '18', 'unknown', 'unknown', 'unknown', '12', '19', 'unknown', 'unknown', '39', '11', '18', '38', '20', '16', '77', '38', '30', 'unknown', '40', 'unknown', '52', '59', 'unknown', '34', '34', '15', '16', '40', 'unknown', '26', 'unknown', 'unknown', '17', '38', '24', 'unknown', '50', '47', '30', 'unknown', '20', 'unknown', '28', '13', '19', '11', 'unknown', '51', '30', 'unknown', '7', '45', 'unknown', 'unknown', '17', '8', '21', '16', '17', '44', '9', '9', '9', '24', '63', '28', '22', 'unknown', 'unknown', 'unknown', 'unknown', '57', '16', '22', '26', '20', '22', 'unknown', '20', '61', 'unknown', 'unknown', '51', '47', '29', '15', 'unknown', '31', 'unknown', '22', '46', '21', 'unknown', 'unknown', '40', 'unknown', 'unknown', '22', 'unknown', 'unknown', 'unknown', 'unknown', '28', '13', '45', '36', 'unknown', 'unknown', '21', '35', '35', '24', 'unknown', 'unknown', 'unknown', 'unknown', '18', '22', '13', '46', '56', '19', 'unknown', 'unknown', '18', '30', '50', '41', '40', '16', '21', '19', '17', '30', '36', '8o', '18', '15', '19', 'unknown', 'unknown', '50', '31', '16', '37', '18', '15', '58', '10', '21', '39', 'unknown', 'unknown', 'unknown', '17', '15', 'unknown', '12', '60', '51', '33', '15', '22', '18', '22', '20', '34', '9', 'unknown', 'unknown', '16', '17', '7', '36', '17', '30', '23', '18', '11', '12', '20', '28', 'unknown', '50', 'unknown', '44', '37', '54', '24', '84', '14', 'unknown', 'unknown', '18', '25', '26', '11', '23', '19', 'unknown', '48', '34', '41', '21', '16', '52', '60', '36', '21', '14', '35', '18', '47', '32', '55', '\\xa0', '', '24', '35', '19', 'unknown', '47', '20', '36', '16', '29', '27', '15', '15', '30', '14', '13', '15', '19', '41', '22', '9', '30', '11', 'unknown', 'unknown', 'unknown', 'unknown', '28', '50', '10', '50', '24', '16', '55', '35', 'unknown', '14', '31', '40', '20', '23', '52', '34', '28', '45', '43', '41', '29', '17', '11', '16', '20', '39', '31', '44', 'unknown', '30', '15', '35', '20', '32', '16', 'unknown', '26', '35', '36', '49', 'unknown', 'unknown', 'unknown', '20', '26', '31', '21', '14', '42', '6½', '16', 'unknown', '44', '13', 'unknown', '28', '23', '20', '10', '44', '29', '69', '18', '18', '17', '27', '32', '17', '17', '20', '19', '19', '43', '21', 'unknown', '36', 'unknown', 'unknown', 'unknown', 'unknown', 'unknown', '48', '18', '42', '8', 'unknown', '35', '14', '52', '75', '29', '16', '11', 'unknown', '24', 'unknown', '26', '33', '45', 'unknown', '14', '16', '12', 'unknown', '38', '21', '12', '22', '19', '22', 'unknown', '16', '46', 'unknown', '26', '12', '40', 'unknown', 'unknown', '12', '20', 'unknown', 'unknown', 'unknown', '40', '35', '55', 'unknown', 'unknown', 'unknown', '23', '47', 'unknown', '30', '38', 'unknown', '28', '47', '73', '27', '52', '49', '27', '31', '23', '56', '69', '17', '23', '11', '24', 'unknown', '17', '25', '12', '31', 'unknown', '49', '26', '25', '8', '48', '28', '40', '27', 'unknown', '47', '69', 'unknown', 'unknown', '53', '27', '44', 'unknown', '23', 'unknown', '5', '45', '16', '14', '15', '18', 'unknown', '69', '13', '41', '5', '12', '20', '55', '13', '19', 'unknown', 'unknown', 'unknown', '52', 'unknown', '17', '55', '44', '13', 'unknown', 'unknown', 'unknown', '9', 'unknown', '34', 'unknown', 'unknown', '26', '14', '37', '35', 'unknown', 'unknown', 'unknown', '27', 'unknown', '39', '27', 'unknown', 'unknown', '12', '26', 'unknown', '35', 'unknown', '15', '13', '12', '18', 'unknown', '39', '35', '19', '51', 'unknown', '35', '39', '12', '12', '45', '13', 'unknown', '16', '22', 'unknown', '61', '10', '13', '7', '39', '28', 'unknown', '23', '17', '10', '62', '35', '42', '43', '43', '14', 'unknown', '30', '29', '20', '21', '41', '5', '22', '21', '41', '52', '14', 'unknown', 'unknown', '29', 'unknown', '28', '18', '29', 'unknown', '35', '25', '47', 'unknown', 'unknown', '37', 'unknown', '30', 'unknown', '19', '21', '18', '14', '21', '9', '14', '13', '32', '52', '22', '17', '30', 'unknown', '17', 'unknown', '28', '6', '18', 'unknown', '28', '25', '26', 'unknown', '16', 'unknown', '28', '11', 'unknown', '19', '24', 'unknown', '13', '47', '16', '10', '26', '20', '18', 'unknown', '17', '15', '16', '40', '14', '24', '22', '35', '50', '16', 'unknown', 'unknown', '40', '33', '32', 'unknown', '31', 'unknown', 'unknown', '21', 'unknown', '23', '28', 'unknown', 'unknown', '39', 'unknown', '29', '8', '42', '32', '21', '51', '19', '23', '12', 'unknown', '14', '20', '12', '17', '20', '18', '22', '29', '28', '33', '12', '17', '16', '17', 'unknown', '10', 'unknown', '17', '19', '19', '25', 'unknown', '50', '55', 'unknown', 'unknown', '47', '18', 'unknown', '33', '35', '34', '12', '54', 'unknown', '22', '21', '30', 'unknown', 'unknown', '49', '27', '41', 'unknown', 'unknown', '18', 'unknown', 'unknown', 'unknown', '45', '26', 'unknown', 'unknown', 'unknown', '22', '21', '31', 'unknown', '14', '23', '19', '5', '28', '28', '29', '19', '36', '21', '8', '52', 'unknown', '46', '9', 'unknown', '18', '63', '24', '24', 'unknown', 'unknown', '17', '45', '22', '33', '27', 'unknown', '11', '16', 'unknown', '47', '7', '24', '32', 'unknown', 'unknown', '14', 'unknown', '7', '33', '13', '53', 'unknown', 'unknown', '25', 'unknown', 'unknown', 'unknown', '22', 'unknown', 'unknown', 'unknown', '13', '17', '15', '39', '14', '17', '25', '19', '19', 'unknown', '25', '29', '32', '9', '19', '44', 'unknown', '16', '18', '16', '23', '19', 'unknown', '18', '20', '15', '20', '14', '12', 'unknown', 'unknown', 'unknown', 'unknown', '18', '18', '12', '7', '47', '14', '18', '34', '32', 'unknown', '31', 'unknown', '13', 'unknown', '45', '10', '38', '45', '29', '44', '15', '69', 'unknown', '44', '12', '20', 'unknown', '47', 'unknown', '35', 'unknown', '22', 'unknown', '14', '17', '33', 'unknown', 'unknown', 'unknown', '26', 'unknown', 'unknown', 'unknown', 'unknown', '44', '42', 'unknown', 'unknown', '34', 'unknown', 'unknown', 'unknown', '9', '16', '30', '43', '7&', '12', 'unknown', '15', 'unknown', '24', '22', '31', 'unknown', '15', '30', '24', '28', '35', '36', '26', '22', '25', 'unknown', '20', '71', 'unknown', '19', 'unknown', '33', '25', 'unknown', '23', 'unknown', '15', 'unknown', 'unknown', 'unknown', '44', 'unknown', '23', '33', 'unknown', 'unknown', 'unknown', '30', '27', 'unknown', 'unknown', '26', '26', '34', 'unknown', '21', '36', '15', '17', '19', '16', '69', '51', '13', 'unknown', 'unknown', '19', 'unknown', '39', 'unknown', 'unknown', '28', '12', 'unknown', '16', '61', '42', '22', '31', '34', '42', '60', 'unknown', 'unknown', '32', 'unknown', '25', 'unknown', '35', '55', 'unknown', 'unknown', 'unknown', '69', '15', '21', '32', '29', 'unknown', 'unknown', '30', 'unknown', '10', '30', '31', '19', '24', '46', '30', '40', '17', '18', '40', '28', 'unknown', 'unknown', '28', 'unknown', '20', '18', 'unknown', 'unknown', '34', '17', 'unknown', '22', '26', 'unknown', 'unknown', '42', 'unknown', 'unknown', 'unknown', '16', '21', 'unknown', 'unknown', '45', 'unknown', 'unknown', 'unknown', '35', '36', '17', '41', 'unknown', '21', 'unknown', 'unknown', '19', 'unknown', '19', '19', '36', 'unknown', 'unknown', 'unknown', '33', '25', '41', 'unknown', 'unknown', 'unknown', '14', '21', '32', '32', '19', '36', '23', '10', 'unknown', '40', '39', '42', '22', '30', '32', '13', '22', 'unknown', '18', '31', '65', '23', 'unknown', 'unknown', 'unknown', '22', 'unknown', '18', '38', '20', '35', 'unknown', '22', 'unknown', '26', 'unknown', '24', '50', '18', '26', 'unknown', '25', '43', '19', '26', '49', '44', '30', '22', 'unknown', '18', '53', '17', '21', '38', 'unknown', '30', '30', '22', '23', '31', '37', 'unknown', '29', 'unknown', '30', 'unknown', 'unknown', '33', 'unknown', '17', 'unknown', '17', '27', '32', '29', 'unknown', '10', '31', '17', 'unknown', '12', '49', 'unknown', '29', '51', 'unknown', '38', '31', '46', '30', '21', '21', '17', '31', '41', '35', '34', 'unknown', '16', '9', 'unknown', '45', 'unknown', '16', '28', 'unknown', '19', 'unknown', 'unknown', 'unknown', 'unknown', '27', 'unknown', 'unknown', '26', '47', '24', '24', '10', '19', 'unknown', '17', 'unknown', 'unknown', 'unknown', '17', '62', 'unknown', '21', '38', '15', '30', '23', '15', '23', '21', 'unknown', '38', 'unknown', '16', 'unknown', '27', 'unknown', '28', '35', '15', '37', 'unknown', 'unknown', '36', '42', '37', '12', '25', '38', '31', '29', 'unknown', 'unknown', '24', 'unknown', '14', 'unknown', 'unknown', '30', 'unknown', '17', 'unknown', 'unknown', '20', '15', 'unknown', '22', '22', 'unknown', 'unknown', '33', 'unknown', '12', 'unknown', '16', '16', '15', 'unknown', '20', '14', '21', 'unknown', '47', '24', '12', '40', '27', '32', '16', 'unknown', '35', 'unknown', 'unknown', '12', 'unknown', '34', 'unknown', '16', 'unknown', '8', '18', 'unknown', 'unknown', 'unknown', '30', '37', 'unknown', 'unknown', 'unknown', '21', '40', '37', '27', '22', 'unknown', '17', '26', '23', 'unknown', '6', '32', 'unknown', '28', 'unknown', 'unknown', '18', '16', '35', 'unknown', 'unknown', 'unknown', '8', '26', 'unknown', 'unknown', 'unknown', 'unknown', 'unknown', '26', '23', '21', 'unknown', '46', '29', '29', '22', '16', 'unknown', 'unknown', 'unknown', 'unknown', '24', '22', '46', '33', '24', 'unknown', 'unknown', '21', 'unknown', '17', '87', '11', '67', '13', '15', 'unknown', '10', '13', 'unknown', '39', '25', '33', '29', '16', '15', 'unknown', '18', 'unknown', '34', 'unknown', '20', 'unknown', 'unknown', 'unknown', '16', '13', '29', '22', '23', '77', '15', '25', 'unknown', '17', 'unknown', '16', 'unknown', 'unknown', '28', 'unknown', '31', 'unknown', '13', '18', '21', '30', 'unknown', '27', '13', '20', '28', 'unknown', 'unknown', 'unknown', 'unknown', 'unknown', '33', 'unknown', '27', '14', '14', 'unknown', 'unknown', '36', '17', '48', '16', '47', 'unknown', 'unknown', '15', 'unknown', '16', '20', '15', 'unknown', '29', '14', '14', '22', 'unknown', '21', '24', '28', 'unknown', '39', '13', '17', '42', '15', '21', '30', 'unknown', 'unknown', '21', '15', '22', 'unknown', '27', '16', 'unknown', '17', 'unknown', 'unknown', 'unknown', '16', '43', 'unknown', '22', '32', 'unknown', 'unknown', 'unknown', 'unknown', '26', '16', '16', '20', '36', '28', 'unknown', 'unknown', '17', '18', 'unknown', '20', '38', '26', '17', '43', '19', 'unknown', '27', '20', '19', '8', 'unknown', 'unknown', '16', '20', 'unknown', '32', '18', 'unknown', 'unknown', 'unknown', '75', 'unknown', '29', '20', 'unknown', 'unknown', 'unknown', '24', 'unknown', 'unknown', 'unknown', 'unknown', '59', '19', 'unknown', '17', '24', '28', 'unknown', '26', '25', '24', '15', '19', 'unknown', 'unknown', '19', '53', '16', '32', 'unknown', 'unknown', 'unknown', 'unknown', 'unknown', '27', '27', '32', 'unknown', '19', 'unknown', 'unknown', '24', '19', '24', 'unknown', 'unknown', '30', 'unknown', 'unknown', '15', 'unknown', '25', '23', '27', 'unknown', '25', 'unknown', '22', 'unknown', 'unknown', '16', '29', '19', '22', '10', 'unknown', 'unknown', '15', '22', 'unknown', 'unknown', '44', '22', 'unknown', 'unknown', '13', '52', 'unknown', 'unknown', '61', '24', '29', '29', 'unknown', '25', 'unknown', '34', 'unknown', '20', '20', '18', '19', '32', '20', 'unknown', 'unknown', '18', '21', '16', '49', 'unknown', '56', '36', '25', 'unknown', 'unknown', 'unknown', '24', '8', '27', 'unknown', 'unknown', 'unknown', '19', 'unknown', '', '23', 'unknown', '17', 'unknown', '27', 'unknown', '34', 'unknown', '27', '39', '27', '20', '17', 'unknown', '25', '23', 'unknown', 'unknown', 'unknown', 'unknown', '17', 'unknown', 'unknown', 'unknown', '49', '27', '18', 'unknown', 'unknown', '25', '17', '25', 'unknown', '20', '17', '21', '27', '25', 'unknown', 'unknown', 'unknown', 'unknown', '31', '32', '74', '45', '24', 'unknown', 'unknown', 'unknown', 'unknown', '29', '19', 'unknown', '19', '17', 'unknown', 'unknown', '25', '20', 'unknown', '27', 'unknown', '16', 'unknown', '15', '23', '19', '24', '10', '18', '23', '17', 'unknown', '46', 'unknown', 'unknown', 'unknown', '21', 'unknown', 'unknown', 'unknown', 'unknown', 'unknown', 'unknown', 'unknown', '25', 'unknown', 'unknown', 'unknown', '27', '35', '20', '33', 'unknown', '18', 'unknown', '20', 'unknown', '21', '19', '20', '44', '24', '62', '37', '24', '21', '23', '34', '14', '29', '16', '18', '15', '27', '20', 'unknown', '17', '10', '37', 'unknown', 'unknown', 'unknown', 'unknown', '14', '18', 'unknown', 'unknown', '16', 'unknown', '12', '45', 'unknown', '12', '17', '25', 'unknown', '32', '24', '17', '29', '20', '41', '48', '30', '24', '22', 'unknown', '19', '18', '21', 'unknown', '36', '17', '10', '61', '45', 'unknown', '22', '19', '11', '17', '21', 'unknown', '14', '19', 'unknown', 'unknown', '42', '26', '33', 'unknown', '32', 'unknown', 'unknown', '41', '20', '19', 'unknown', '20', 'unknown', '13', 'unknown', 'unknown', '11', '20', '37', 'unknown', '21', '16', '17', 'unknown', '45', 'unknown', '28', '26', '57', 'unknown', 'unknown', 'unknown', 'unknown', '13', '29', '25', '17', 'unknown', 'unknown', '24', 'unknown', '24', '19', 'unknown', '17', '17', 'unknown', '20', '15', 'unknown', '45', 'unknown', 'unknown', 'unknown', '22', '32', '27', '25', 'unknown', '19', '33', 'unknown', '18', 'unknown', '20', '30', '24', 'unknown', 'unknown', '22', '16', '20', '20', '20', '18', '25', '30', '17', '34', '51', '26', '8', 'unknown', '21', '32', '16', '>5', '19', '14', '66', 'unknown', '16', 'unknown', '15', 'unknown', 'unknown', '18', '18', 'unknown', '41', 'unknown', 'unknown', 'unknown', '43', '20', '18', '20', 'unknown', 'unknown', 'unknown', 'unknown', '13', '25', '16', '18', 'unknown', '14', 'unknown', 'unknown', 'unknown', '19', '8', '14', '16', '12', '10', 'unknown', '22', 'unknown', '15', 'unknown', 'unknown', 'unknown', 'unknown', '28', '25', '35', '35', '15', 'unknown', '27', 'unknown', '53', 'unknown', '28', '15', '13', '25', 'unknown', '13', 'unknown', '22', '27', '8', 'unknown', '23', '18', 'unknown', 'unknown', 'unknown', '65', '16', '49', '52', '21', 'unknown', 'unknown', 'unknown', '27', '17', 'unknown', '28', '30', '22', '16', 'unknown', 'unknown', 'unknown', 'unknown', '24', '9&', '15', '12', '41', '18', '25', '33', '33', 'unknown', '43', '17', '17', 'unknown', 'unknown', '17', '63', '10', '21', '7', '47', '35', '20', '28', '17', '14', 'unknown', '26', 'unknown', '24', '13', 'unknown', 'unknown', 'unknown', '22', '32', '27', '59', 'unknown', '15', '18', '21', 'unknown', 'unknown', 'unknown', '19', '17', 'unknown', '21', 'unknown', 'unknown', 'unknown', '23', '24', '19', 'unknown', '23', '19', 'unknown', 'unknown', '15', '41', 'unknown', '20', '36', '18', '26', 'unknown', '30', '22', '60', '21', '32', '36', 'unknown', '21', '14', 'unknown', 'unknown', 'unknown', '31', '15', '30', '29', '19', '39', '29', '28', '9m', '13', '8', '32', '20', 'unknown', 'unknown', '43', '14', 'unknown', 'unknown', 'unknown', '18', '13', '9', '33', 'unknown', '21', '26', '8', '16', '34', '14', '20', '25', '46', 'unknown', '15', '18', '18', 'unknown', '40', 'unknown', '38', '24', 'unknown', '25', 'unknown', 'unknown', 'unknown', '13', '33', 'unknown', '29', '30', 'unknown', '16', '43', '15', '15', '35', '15', '40', 'unknown', 'unknown', '43', '44', 'unknown', '24', '39', '32', 'unknown', '15', '27', 'unknown', 'unknown', '23', 'unknown', '15', 'unknown', '25', 'unknown', '6', 'unknown', '38', 'unknown', 'unknown', 'unknown', 'unknown', 'unknown', 'unknown', '35', '49', '19', '28', '8', '17', 'unknown', '16', '25', '18', '21', '22', '20', 'unknown', '30', '13', 'unknown', 'unknown', 'unknown', '25', 'unknown', 'unknown', '19', 'unknown', 'unknown', '28', '10', '25', '29', '25', 'unknown', 'unknown', 'unknown', '19', '24', '32', '20', '14', '19', '18', 'unknown', '28', '12', '21', '22', '30', 'unknown', '52', 'unknown', 'unknown', 'unknown', 'unknown', '29', 'unknown', 'unknown', '23', '40', '47', '35', '13', 'unknown', '19', '32', '38', 'unknown', 'unknown', '15', '17', 'unknown', '26', '25', 'unknown', '19', '23', 'unknown', '12', 'unknown', 'unknown', '39', '17', 'unknown', 'unknown', '21', 'unknown', '20', 'unknown', 'unknown', 'unknown', '20', '24', 'unknown', '18', 'unknown', '13', 'unknown', 'unknown', '15', '23', '22', '20', '18', '21', '25', '28', 'unknown', 'unknown', 'unknown', '35', '28', '20', 'unknown', '25', '30', '18', '16', '23', '26', '14', '24', 'unknown', 'unknown', '42', '30', 'unknown', 'unknown', 'unknown', '25', '15', '25', '15', 'unknown', 'unknown', 'unknown', '18', '28', '24', 'unknown', '41', '32', '25', 'unknown', '14', 'unknown', '27', '24', 'unknown', 'unknown', 'unknown', 'unknown', 'unknown', '16', 'unknown', '26', 'unknown', '24', 'unknown', 'unknown', '30', '32', '26', 'unknown', '43', '1', '24', '20', '29', '28', 'unknown', 'unknown', '49', '39', 'unknown', 'unknown', '40', '24', 'unknown', 'unknown', '23', '21', '20', '19', '41', '13', 'unknown', 'unknown', 'unknown', '11', '31', '32', '35', 'unknown', '13', 'unknown', '55', '31', '17', 'unknown', 'unknown', 'unknown', '16', '13', 'unknown', 'unknown', 'unknown', '10', 'unknown', '15', 'unknown', '22', '13', '35', 'unknown', 'unknown', '18', '16', '19', '40', 'unknown', '44', '29', 'unknown', '19', 'unknown', '24', '54', 'unknown', '25', 'unknown', 'unknown', 'unknown', 'unknown', '57', 'unknown', 'unknown', 'unknown', '18', '24', '18', '23', 'unknown', '20', '22', '17', 'unknown', 'unknown', '45', 'unknown', '45', '16', '19', '42', '22', 'unknown', '33', 'unknown', '16', '19', '22', '38', 'unknown', '57', '16', 'unknown', '21', '10', '23', '25', 'unknown', 'unknown', '19', '20', 'unknown', '52', 'unknown', '10', 'unknown', '37', 'unknown', '22', '21', '40', '38', 'unknown', '24', 'unknown', '24', '24', 'unknown', '21', '33', '44', 'unknown', '30', 'unknown', 'unknown', '27', '14', 'unknown', 'unknown', 'unknown', '15', '27', '13', 'unknown', 'unknown', 'unknown', '25', 'unknown', 'unknown', 'unknown', 'unknown', 'unknown', '20', 'unknown', 'unknown', '27', '25', '33', 'unknown', '41', '51', '17', '24', 'unknown', 'unknown', 'unknown', '36', 'unknown', '24', '26', 'unknown', 'unknown', 'unknown', '37', 'unknown', 'unknown', 'unknown', 'unknown', 'unknown', '25', 'unknown', 'unknown', '38', 'unknown', '14', '24', 'unknown', '15', '25', '46', 'unknown', '25', '17', '41', 'unknown', 'unknown', 'unknown', '18', '39', '37', '58', '24', '27', '25', '16', 'unknown', 'unknown', '16', '48', 'unknown', 'unknown', '21', '17', 'unknown', 'unknown', 'unknown', 'unknown', 'unknown', 'unknown', 'unknown', '42', '44', '30', '22', '36', 'unknown', '26', 'unknown', '20', 'unknown', 'unknown', 'unknown', 'unknown', '13', 'unknown', 'unknown', 'unknown', 'unknown', '9', 'unknown', 'unknown', 'unknown', 'unknown', '16', '20', '5', 'unknown', 'unknown', '50', '13', '29', 'unknown', '17', 'unknown', 'unknown', '3', '19', '17', '19', 'unknown', 'unknown', 'unknown', '21', 'unknown', 'unknown', 'X', 'unknown', '30', 'unknown', '36', '28', '29', '30', 'unknown', 'unknown', 'unknown', 'unknown', 'unknown', 'unknown', 'unknown', '14', '10', '21', '26', 'unknown', 'unknown', '32', 'unknown', '13', '15', 'unknown', '34', 'unknown', '25', '22', '21', 'unknown', 'unknown', '27', '13', 'unknown', 'unknown', 'unknown', 'unknown', '33', 'unknown', '23', '37', '18', '19', 'unknown', '22', '43', 'unknown', 'unknown', 'unknown', '13', '20', 'unknown', 'unknown', 'unknown', 'unknown', '15', '14', '20', '57', '16', '22', '17', '18', 'unknown', '33', 'unknown', 'unknown', 'unknown', 'unknown', 'unknown', 'unknown', 'unknown', 'unknown', 'unknown', 'unknown', '14', '15', '22', '21', 'unknown', 'unknown', 'unknown', '15', '60', 'unknown', '26', '32', '42', '20', 'unknown', 'unknown', 'unknown', '12', '8', '35', '21', 'unknown', '31', '20', '38', '36', 'unknown', '59', '17', 'unknown', 'unknown', 'unknown', '29', '29', '28', '29', 'unknown', '21', '18', '17', '14', '50', 'unknown', 'unknown', 'unknown', 'unknown', 'unknown', 'unknown', 'unknown', 'unknown', 'unknown', 'unknown', 'unknown', '14', '20', '23', '15', '16', 'unknown', 'unknown', '22', '28', 'unknown', 'unknown', 'unknown', '57', '36', 'unknown', '28', 'unknown', 'unknown', '25', '15', '17', '22', '17', '15', 'unknown', 'unknown', 'unknown', 'unknown', '12', 'unknown', 'unknown', '2t', 'unknown', '18', 'unknown', '30', 'unknown', 'unknown', 'unknown', 'unknown', '19', '16', 'unknown', '70', '29', 'unknown', '19', 'unknown', '27', 'unknown', 'unknown', 'unknown', '34', 'unknown', '13', 'unknown', '10', '23', 'unknown', 'unknown', 'unknown', 'unknown', 'unknown', '13', '38', '40', '38', '7', 'unknown', '23', 'unknown', 'unknown', '30', 'unknown', 'unknown', '13', '26', '21', '15', '8', '18', '33', '25', 'unknown', 'unknown', '15', 'unknown', '14', 'unknown', 'unknown', 'unknown', 'unknown', 'unknown', '8', 'unknown', '28', 'unknown', 'unknown', 'unknown', '16', 'unknown', 'unknown', '25', '32', '28', 'unknown', '15', 'unknown', '22', '13', 'unknown', 'unknown', '28', 'unknown', 'unknown', 'unknown', 'unknown', '22', 'unknown', '25', 'unknown', '19', '25', '25', 'unknown', 'unknown', '13', 'unknown', 'unknown', 'unknown', '16', 'unknown', '12', 'unknown', '27', '23', 'unknown', '16', 'unknown', 'unknown', '62', 'unknown', '13', '35', '20', '35', '27', 'unknown', 'unknown', '34', '28', 'unknown', 'unknown', 'unknown', '22', 'unknown', 'unknown', '35', '30', 'unknown', 'unknown', 'unknown', 'unknown', 'unknown', '23', 'unknown', '30', '18', '26', 'unknown', 'unknown', 'unknown', 'unknown', '12', 'unknown', 'unknown', 'unknown', '23', '16', 'unknown', 'unknown', '23', 'unknown', 'unknown', '15', 'unknown', '19', '18', '15', 'unknown', '26', 'unknown', 'unknown', 'unknown', '19', 'unknown', 'unknown', '19', 'unknown', 'unknown', '23', 'unknown', 'unknown', 'unknown', 'unknown', '25', 'unknown', '61', 'unknown', 'unknown', 'unknown', 'unknown', 'unknown', '25', 'unknown', '17', 'unknown', '17', '40', 'unknown', '18', '19', 'unknown', '43', '34', 'unknown', '34', 'unknown', 'unknown', 'unknown', 'unknown', 'unknown', 'unknown', 'unknown', 'unknown', 'unknown', 'unknown', 'unknown', 'unknown', '27', 'unknown', '15', '18', '21', '23', '81', '24', 'unknown', '42', 'unknown', '21', 'unknown', '56', '18', '16', 'unknown', 'unknown', '13', '40', 'unknown', '39', '16', 'unknown', '23', 'unknown', '19', '31', '20', '14', '19', 'unknown', 'unknown', '19', 'unknown', '20', '17', '21', '18', '31', '25', '27', 'unknown', 'unknown', '19', 'unknown', '30', '11', 'unknown', '21', '16', '25', '27', 'unknown', '50', 'unknown', 'unknown', '20', 'unknown', 'unknown', '14', 'unknown', 'unknown', 'unknown', 'unknown', 'unknown', 'unknown', '7o', 'unknown', 'unknown', 'unknown', 'unknown', 'unknown', 'unknown', 'unknown', 'unknown', 'unknown', '35', '36', 'unknown', '21', '34', '17', '18', '21', '18', '18', '16', '16', 'unknown', '22', '26', 'unknown', '13', 'unknown', 'unknown', '20', '32', 'unknown', 'unknown', 'unknown', 'unknown', 'unknown', 'unknown', '18', 'unknown', 'unknown', '17', '28', '19', '14', 'unknown', 'unknown', '41', '17', 'unknown', 'unknown', 'unknown', 'unknown', '60', '13', '15', '41', '46', 'unknown', '38', 'unknown', 'unknown', 'unknown', '30', 'unknown', '16', 'unknown', '48', 'unknown', 'unknown', 'unknown', '9', 'unknown', 'unknown', 'unknown', '17', '16', '12', '13', '78', 'unknown', '25', '20', '46', 'unknown', '20', 'unknown', '35', 'unknown', 'unknown', '21', '14', '17', '29', '18', '22', 'unknown', 'unknown', 'unknown', '17', '18', '23', 'unknown', '30', 'unknown', '15', '15', '30', '12', '12', '14', 'unknown', '17', 'unknown', '28', '21', '18', '18', '15', 'unknown', '12', '18', '14', '24', 'unknown', 'unknown', 'unknown', 'unknown', '20', 'unknown', '13', 'unknown', 'unknown', 'unknown', 'unknown', 'unknown', 'unknown', '37', 'unknown', 'unknown', 'unknown', '8o', '15', '19', 'unknown', '18', 'unknown', 'unknown', 'unknown', 'unknown', 'unknown', 'unknown', 'unknown', '13', 'unknown', '19', '17', 'unknown', '15', 'unknown', 'unknown', 'unknown', '18', '23', '16', 'unknown', '12', '22', 'unknown', '14', '26', 'unknown', 'unknown', 'unknown', '17', 'unknown', 'unknown', 'unknown', 'unknown', '20', 'unknown', 'unknown', 'unknown', '68', '18', 'unknown', '26', 'unknown', 'F', 'unknown', 'unknown', '31', 'unknown', 'unknown', 'unknown', 'unknown', 'unknown', 'unknown', '22', 'unknown', 'unknown', 'unknown', '15', 'unknown', '38', '19', 'unknown', 'unknown', 'unknown', 'unknown', '18', 'unknown', 'unknown', '25', 'unknown', 'unknown', '24', 'unknown', 'unknown', '32', '20', 'unknown', 'unknown', 'unknown', 'unknown', 'unknown', 'unknown', 'unknown', '18', 'unknown', '28', 'unknown', 'unknown', 'unknown', 'unknown', 'unknown', 'unknown', '48', 'unknown', 'unknown', 'unknown', 'unknown', 'unknown', 'unknown', '10', '23', 'unknown', 'unknown', 'unknown', 'unknown', 'unknown', 'unknown', '20', 'unknown', 'unknown', '43', 'unknown', 'unknown', '53', '34', 'unknown', '19', 'unknown', 'unknown', 'unknown', 'unknown', 'unknown', '6', 'unknown', '14', '23', '17', 'unknown', 'unknown', '18', 'unknown', 'unknown', 'unknown', '25', 'unknown', '17', 'unknown', '55', '17', '13', '22', '18', 'unknown', 'unknown', 'unknown', 'unknown', 'unknown', 'unknown', 'unknown', '40', '20', 'unknown', 'unknown', 'unknown', 'unknown', 'unknown', '27', 'unknown', 'unknown', '33', '3', '38', 'unknown', 'unknown', '9', 'unknown', 'unknown', 'unknown', 'unknown', 'unknown', 'unknown', 'unknown', 'unknown', '19', '18', 'unknown', 'unknown', 'unknown', 'unknown', '27', '25', 'unknown', 'unknown', 'unknown', '9o', 'unknown', 'unknown', 'unknown', 'unknown', '13', '24', 'unknown', 'unknown', '50', 'unknown', '17', 'unknown', 'unknown', '17', 'unknown', '25', '18', '16', 'unknown', 'unknown', 'unknown', 'unknown', 'unknown', '38', 'unknown', '21', 'unknown', 'unknown', 'unknown', 'unknown', '14', 'unknown', '33', '16', '43', '32', 'unknown', 'unknown', '20', 'unknown', '18', 'unknown', 'unknown', 'unknown', 'unknown', '15', '50', 'unknown', 'unknown', 'unknown', 'unknown', 'unknown', '13', '16', 'unknown', 'unknown', 'unknown', '16', 'unknown', '16', 'unknown', 'unknown', 'unknown', 'unknown', 'unknown', 'unknown', 'unknown', '14', '13', '17', 'unknown', 'unknown', 'unknown', '20', '38', 'unknown', '38', 'unknown', 'unknown', '23', '53', '14', '22', '31', 'unknown', 'unknown', 'unknown', 'unknown', 'unknown', '40', 'unknown', 'unknown', 'unknown', 'unknown', 'unknown', '38', 'unknown', '27', '22', '20', 'unknown', 'unknown', 'unknown', '5', '13', '19', '14', '12', '38', 'unknown', 'unknown', 'unknown', 'unknown', 'unknown', 'unknown', '18', '11', 'unknown', 'unknown', '8', '34', 'unknown', '12', '15', '17', 'unknown', 'unknown', 'unknown', 'unknown', '15', '22', 'unknown', '17', 'unknown', 'unknown', 'unknown', 'unknown', 'unknown', '50', 'unknown', '15', 'unknown', 'unknown', 'unknown', 'unknown', 'unknown', 'unknown', '24', 'unknown', 'unknown', 'unknown', 'unknown', '38', 'unknown', 'unknown', 'unknown', '24', '27', 'unknown', 'unknown', 'unknown', 'unknown', 'unknown', '18', '17', 'unknown', '32', 'unknown', 'unknown', 'unknown', 'unknown', 'unknown', 'unknown', 'unknown', 'unknown', 'unknown', 'unknown', 'unknown', '36', '23', '45', 'unknown', 'unknown', '20', 'unknown', '18', 'unknown', 'unknown', '23', 'unknown', 'unknown', 'unknown', 'unknown', 'unknown', 'unknown', 'unknown', 'unknown', 'unknown', 'unknown', 'unknown', '19', 'unknown', 'unknown', '39', 'unknown', 'unknown', '18', 'unknown', 'unknown', '49', 'unknown', 'unknown', 'unknown', 'unknown', 'unknown', 'unknown', '17', '38', 'unknown', '29', '21', 'unknown', 'unknown', 'unknown', 'unknown', '17', 'unknown', '19', '18', 'unknown', 'unknown', '23', 'unknown', '17', 'unknown', '16', 'unknown', '17', 'unknown', '50', 'unknown', 'unknown', 'unknown', 'unknown', '42', 'unknown', 'unknown', 'unknown', 'unknown', 'unknown', 'unknown', 'unknown', '19', 'unknown', 'unknown', '26', 'unknown', '9', '12', '20', 'unknown', '39', '', 'unknown', '14', 'unknown', 'unknown', 'unknown', 'unknown', 'unknown', 'unknown', '27', 'unknown', 'unknown', '24', 'unknown', '17', 'unknown', 'unknown', 'unknown', 'unknown', 'unknown', 'unknown', 'unknown', '19', 'unknown', '15', '28', 'unknown', 'unknown', 'unknown', 'unknown', '78', 'unknown', 'unknown', 'unknown', '18', '25', '17', 'unknown', 'unknown', 'unknown', 'unknown', 'unknown', 'unknown', 'unknown', 'unknown', 'unknown', '17', 'unknown', 'unknown', '70', 'unknown', 'unknown', '15', '10', 'unknown', 'unknown', 'unknown', 'unknown', '17', 'unknown', 'unknown', '18', '20', 'unknown', '15', 'unknown', 'unknown', '26', 'unknown', 'unknown', 'unknown', 'unknown', 'unknown', 'unknown', 'unknown', 'unknown', '55', 'unknown', 'unknown', 'unknown', 'unknown', 'unknown', 'unknown', 'unknown', '16', '16', 'unknown', 'unknown', 'unknown', 'unknown', 'unknown', '35', '35', 'unknown', 'unknown', 'unknown', 'unknown', 'unknown', 'unknown', '20', '21', 'unknown', 'unknown', 'unknown', '30', 'unknown', '22', 'unknown', '16', 'unknown', 'unknown', 'unknown', 'unknown', 'unknown', 'unknown', 'unknown', 'unknown', 'unknown', 'unknown', 'unknown', 'unknown', 'unknown', 'unknown', '25', 'unknown', '13', 'unknown', 'unknown', 'unknown', 'unknown', 'unknown', 'unknown', '19', '16', 'unknown', 'unknown', 'unknown', 'unknown', 'unknown', '18', '19', '18', 'unknown', 'unknown', '14', '21', 'unknown', '18', 'unknown', '54', 'unknown', '26', '20', '8', '40', 'unknown', 'unknown', '22', 'unknown', 'unknown', '21', 'unknown', 'unknown', 'unknown', 'unknown', 'unknown', '30', 'unknown', '13', 'unknown', '20', 'unknown', '18', 'unknown', '12', 'unknown', 'unknown', '12', '29', '47', 'unknown', 'unknown', 'unknown', 'unknown', 'unknown', 'unknown', 'unknown', 'unknown', '13', '38', 'unknown', 'unknown', 'unknown', 'unknown', '22', 'unknown', 'unknown', 'unknown', 'unknown', 'unknown', 'unknown', 'unknown', 'unknown', 'unknown', 'unknown', 'unknown', 'unknown', 'unknown', '25', '41', 'unknown', 'unknown', 'unknown', '27', 'unknown', 'unknown', 'unknown', 'unknown', 'unknown', '12', '24', '10', 'unknown', 'unknown', 'unknown', 'unknown', '24', '10', 'unknown', '26', 'unknown', '17', 'unknown', 'unknown', '10', 'unknown', 'unknown', 'unknown', 'unknown', 'unknown', 'unknown', 'unknown', 'unknown', '17', 'unknown', 'unknown', 'unknown', 'unknown', '17', 'unknown', 'unknown', 'unknown', 'unknown', '43', 'unknown', 'unknown', 'unknown', 'unknown', 'unknown', 'unknown', 'unknown', 'unknown', 'unknown', 'unknown', '12', 'unknown', 'unknown', 'unknown', 'unknown', 'unknown', 'unknown', 'unknown', 'unknown', 'unknown', 'unknown', 'unknown', 'unknown', 'unknown', '12', 'unknown', 'unknown', 'unknown', 'unknown', 'unknown', '18', 'unknown', '21', '7', 'unknown', 'unknown', 'unknown', 'unknown', 'unknown', '23', 'unknown', 'unknown', 'unknown', 'unknown', 'unknown', '64', 'unknown', 'unknown', 'unknown', 'unknown', '22', 'unknown', '50', 'unknown', 'unknown', 'unknown', 'unknown', 'unknown', 'unknown', 'unknown', 'unknown', 'unknown', 'unknown', 'unknown', 'unknown', 'unknown', 'unknown', 'unknown', 'unknown', 'unknown', 'unknown', 'unknown', 'unknown', 'unknown', '16', 'unknown', 'unknown', 'unknown', 'unknown', '19', 'unknown', 'unknown', '36', 'unknown', 'unknown', '16', 'unknown', 'unknown', 'unknown', 'unknown', 'unknown', 'unknown', 'unknown', 'unknown', 'unknown', 'F', 'unknown', 'unknown', 'unknown', 'unknown', 'unknown', 'unknown', 'unknown', 'unknown', 'unknown', 'unknown', 'unknown', 'unknown', 'unknown', 'unknown', 'unknown', 'unknown', 'unknown', 'unknown', 'unknown', 'unknown', 'unknown', '55', '18', '20', 'unknown', 'unknown', 'unknown', 'unknown', 'unknown', 'unknown', 'unknown', 'unknown', 'unknown', 'unknown', 'unknown', 'unknown', 'unknown', 'unknown', 'unknown', 'unknown', '17', 'unknown', '18', 'unknown', '31', '30', 'unknown', 'unknown', 'unknown', 'unknown', 'unknown', '21', '16', '8', 'unknown', 'unknown', '26', '40', 'unknown', '23', '39', 'unknown', 'unknown', 'unknown', 'unknown', 'unknown', 'unknown', 'unknown', 'unknown', 'unknown', '30', 'unknown', 'unknown', 'unknown', 'unknown', 'unknown', 'unknown', '28', 'unknown', 'unknown', 'unknown', 'unknown', 'unknown', 'unknown', 'unknown', '30', '17', 'unknown', 'unknown', 'unknown', 'unknown', 'unknown', 'unknown', 'unknown', 'unknown', 'unknown', 'unknown', 'unknown', 'unknown', '16', '10', 'unknown', 'unknown', '29', '20', 'unknown', 'unknown', 'unknown', 'unknown', 'unknown', '30', 'unknown', 'unknown', 'unknown', 'unknown', 'unknown', 'unknown', 'unknown', 'unknown', 'unknown', 'unknown', 'unknown', 'unknown', 'unknown', 'unknown', 'unknown', 'unknown', 'unknown', '15', '9', '19', '13', 'unknown', 'unknown', 'unknown', 'unknown', 'unknown', '13', 'unknown', 'unknown', 'unknown', 'unknown', 'unknown', 'unknown', 'unknown', 'unknown', 'M', '24', '22', 'unknown', 'unknown', 'unknown', 'unknown', '15', 'unknown', 'unknown', 'unknown', 'unknown', 'unknown', 'unknown', 'unknown', 'unknown', 'unknown', 'unknown', 'unknown', 'unknown', 'unknown', 'unknown', 'unknown', 'unknown', 'unknown', 'unknown', '26', 'unknown', 'unknown', 'unknown', 'unknown', '35', 'unknown', '11', 'unknown', '15', '14', 'unknown', 'unknown', 'unknown', 'unknown', 'unknown', '26', 'unknown', 'unknown', 'unknown', 'unknown', 'unknown', 'unknown', '28', 'unknown', 'unknown', '13', '14', 'unknown', 'unknown', 'unknown', '19', 'unknown', 'unknown', 'unknown', 'unknown', 'unknown', 'unknown', 'unknown', 'unknown', 'unknown', 'unknown', 'unknown', 'unknown', 'unknown', 'unknown', 'unknown', 'unknown', 'unknown', 'unknown', 'unknown', 'unknown', 'unknown', 'unknown', 'unknown', 'unknown', 'unknown', 'unknown', '15', 'unknown', 'unknown', 'unknown', 'unknown', 'unknown', 'unknown', 'unknown', 'unknown', '21', 'unknown', 'unknown', 'unknown', 'unknown', 'unknown', 'unknown', 'unknown', 'unknown', 'unknown', 'unknown', '18', 'unknown', 'unknown', 'unknown', 'unknown', 'unknown', 'unknown', 'unknown', 'unknown', 'unknown', 'unknown', 'unknown', 'unknown', 'unknown', 'unknown', 'unknown', 'unknown', 'unknown', 'unknown', 'unknown', 'unknown', 'unknown', 'unknown', 'unknown', 'unknown', '11', 'unknown', 'unknown', 'unknown', 'unknown', 'unknown', 'unknown', 'unknown', 'unknown', 'unknown', 'unknown', 'unknown', 'unknown', 'unknown', '33', 'unknown', 'unknown', 'unknown', 'unknown', 'unknown', 'unknown', 'unknown', 'unknown', 'unknown', '13', 'unknown', 'unknown', 'unknown', 'unknown', '18', 'unknown', 'unknown', 'unknown', 'unknown', 'unknown', 'unknown', 'unknown', 'unknown', 'unknown', 'unknown', 'unknown', 'unknown', 'unknown', 'unknown', 'unknown', 'unknown', 'unknown', 'unknown', 'unknown', 'unknown', 'unknown', 'unknown', 'unknown', 'unknown', 'unknown', 'unknown', '21', 'unknown', 'unknown', 'unknown', 'unknown', '37', 'unknown', 'unknown', 'unknown', 'unknown', 'unknown', 'unknown', 'unknown', 'unknown', 'unknown', 'unknown', 'unknown', 'unknown', 'unknown', 'unknown', 'unknown', 'unknown', '18', 'unknown', '20', 'unknown', 'unknown', '23', 'unknown', 'unknown', '12', 'unknown', 'unknown', 'unknown', '20', '60', 'unknown', 'unknown', '11', 'unknown', '13', 'unknown', 'unknown', 'unknown', 'unknown', '23', 'unknown', 'unknown', 'unknown', 'unknown', '19', 'unknown', 'unknown', 'unknown', 'unknown', 'unknown', 'unknown', 'unknown', 'unknown', 'unknown', '14', 'unknown', 'unknown', 'unknown', '11', 'unknown', '11', 'unknown', 'unknown', 'unknown', 'unknown', 'unknown', 'unknown', '15', 'unknown', 'unknown', 'unknown', 'unknown', 'unknown', 'unknown', 'unknown', 'unknown', 'unknown', 'unknown', 'unknown', 'unknown', 'unknown', 'unknown', 'unknown', '3', 'unknown', 'unknown', 'unknown', 'unknown', 'unknown', 'unknown', 'unknown', 'unknown', 'unknown', 'unknown', 'unknown', 'unknown', 'unknown', 'unknown', 'unknown', '27', 'unknown', 'unknown', 'unknown', 'unknown', 'unknown', 'unknown', 'unknown', 'unknown', 'unknown', 'unknown', 'unknown', '30', 'unknown', 'unknown', 'unknown', 'unknown', '40', '40', '13', '39', '40', '17', 'unknown', 'unknown', 'unknown', 'unknown', '35', 'unknown', 'unknown', 'unknown', 'unknown', 'unknown', 'unknown', 'unknown', 'unknown', 'unknown', '17', 'unknown', 'unknown', 'unknown', 'unknown', 'unknown', '13', 'unknown', 'unknown', 'unknown', 'unknown', 'unknown', '18', 'unknown', 'unknown', 'unknown', '26', '17', 'unknown', '28', 'unknown', 'unknown', 'unknown', 'unknown', '18', '18', 'unknown', 'unknown', 'unknown', 'unknown', 'unknown', 'unknown', 'unknown', 'unknown', 'unknown', 'unknown', 'unknown', 'unknown', 'unknown', 'unknown', 'unknown', 'unknown', '21', 'unknown', 'unknown', '22', 'unknown', '22', 'unknown', 'unknown', '17', 'unknown', 'unknown', 'unknown', '2½', 'unknown', 'unknown', 'unknown', 'unknown', 'unknown', 'unknown', 'unknown', 'unknown', 'unknown', 'unknown', 'unknown', 'unknown', 'unknown', 'unknown', 'unknown', 'unknown', '1', 'unknown', 'unknown', 'unknown', 'unknown', 'unknown', 'unknown', 'unknown', 'unknown', 'unknown', 'unknown', 'unknown', 'unknown', 'unknown', 'unknown', '15', 'unknown', 'unknown', '19', 'unknown', 'unknown', 'unknown', 'unknown', 'unknown', 'unknown', 'unknown', 'unknown', 'unknown', 'unknown', 'unknown', 'unknown', 'unknown', 'unknown', '7o', 'unknown', 'unknown', 'unknown', 'unknown', 'unknown', 'unknown', 'unknown', 'unknown', 'unknown', '29', 'unknown', '12', 'unknown', 'unknown', 'unknown', 'unknown', 'unknown', 'unknown', 'unknown', 'unknown', 'unknown', '52', 'unknown', 'unknown', 'unknown', 'unknown', '17', 'unknown', 'unknown', 'unknown', 'unknown', 'unknown', 'unknown', 'unknown', 'unknown', 'unknown', 'unknown', 'unknown', 'unknown', 'unknown', 'unknown', 'unknown', '22', 'unknown', 'unknown', 'unknown', 'unknown', 'unknown', 'unknown', 'unknown', 'unknown', 'unknown', 'unknown', 'unknown', 'unknown', 'unknown', 'unknown', 'unknown', 'unknown', 'unknown', 'unknown', 'unknown', 'unknown', '14', 'unknown', 'unknown', 'unknown', 'unknown', 'unknown', 'unknown', '19', 'unknown', 'unknown', 'unknown', 'unknown', 'unknown', 'unknown', 'unknown', 'unknown', 'unknown', 'unknown', 'unknown', 'unknown', 'unknown', 'unknown', 'unknown', 'unknown', 'unknown', 'unknown', 'unknown', 'unknown', 'unknown', 'unknown', '20', 'unknown', 'unknown', 'unknown', 'unknown', '15', 'unknown', 'unknown', 'unknown', 'unknown', 'unknown', 'unknown', 'unknown', 'unknown', 'unknown', 'unknown', '21', 'unknown', 'unknown', 'unknown', 'unknown', 'unknown', 'unknown', 'unknown', 'unknown', 'unknown', 'unknown', 'unknown', 'unknown', 'unknown', 'unknown', 'unknown', 'unknown', 'unknown', 'unknown', 'unknown', 'unknown', 'unknown', 'unknown', 'unknown', 'unknown', 'unknown', '19', 'unknown', 'unknown', 'unknown', 'unknown', 'unknown', 'unknown', 'unknown', 'unknown', 'unknown', 'unknown', 'unknown', '27', '36', 'unknown', '25', '6', '16', 'unknown', 'unknown', 'unknown', 'unknown', 'unknown', 'unknown', 'unknown', 'unknown', 'unknown', 'unknown', '50', 'unknown', 'unknown', 'unknown', 'unknown', 'unknown', 'unknown', 'unknown', 'unknown', 'unknown', 'unknown', '13', 'unknown', 'unknown', 'unknown', 'unknown', 'unknown', 'unknown', 'unknown', 'unknown', 'unknown', 'unknown', '16', 'unknown', 'unknown', 'unknown', 'unknown', 'unknown', 'unknown', 'unknown', 'unknown', 'unknown', 'unknown', 'unknown', 'unknown', 'unknown', 'unknown', 'unknown', 'unknown', 'unknown', 'unknown', 'unknown', 'unknown', 'unknown', 'unknown', 'unknown', 'unknown', '15']\n"
     ]
    }
   ],
   "source": [
    "print(df[\"Age\"].values.tolist())"
   ]
  },
  {
   "cell_type": "code",
   "execution_count": 49,
   "metadata": {},
   "outputs": [
    {
     "data": {
      "text/html": [
       "<div>\n",
       "<style scoped>\n",
       "    .dataframe tbody tr th:only-of-type {\n",
       "        vertical-align: middle;\n",
       "    }\n",
       "\n",
       "    .dataframe tbody tr th {\n",
       "        vertical-align: top;\n",
       "    }\n",
       "\n",
       "    .dataframe thead th {\n",
       "        text-align: right;\n",
       "    }\n",
       "</style>\n",
       "<table border=\"1\" class=\"dataframe\">\n",
       "  <thead>\n",
       "    <tr style=\"text-align: right;\">\n",
       "      <th></th>\n",
       "      <th>original order</th>\n",
       "      <th>Case Number</th>\n",
       "      <th>Location</th>\n",
       "      <th>Area</th>\n",
       "      <th>Country</th>\n",
       "      <th>Time</th>\n",
       "      <th>Sex</th>\n",
       "      <th>Age</th>\n",
       "      <th>Activity</th>\n",
       "      <th>Species</th>\n",
       "      <th>Injury</th>\n",
       "      <th>Fatal (Y/N)</th>\n",
       "      <th>Investigator or Source</th>\n",
       "      <th>href</th>\n",
       "      <th>pdf</th>\n",
       "      <th>Type</th>\n",
       "      <th>href formula</th>\n",
       "    </tr>\n",
       "  </thead>\n",
       "  <tbody>\n",
       "    <tr>\n",
       "      <th>0</th>\n",
       "      <td>5993</td>\n",
       "      <td>2016.09.18.c</td>\n",
       "      <td>New Smyrna Beach, Volusia County</td>\n",
       "      <td>Florida</td>\n",
       "      <td>USA</td>\n",
       "      <td>13h00</td>\n",
       "      <td>M</td>\n",
       "      <td>16</td>\n",
       "      <td>Surfing</td>\n",
       "      <td>NaN</td>\n",
       "      <td>Minor injury to thigh</td>\n",
       "      <td>N</td>\n",
       "      <td>Orlando Sentinel, 9/19/2016</td>\n",
       "      <td>http://sharkattackfile.net/spreadsheets/pdf_di...</td>\n",
       "      <td>2016.09.18.c-NSB.pdf</td>\n",
       "      <td>Unprovoked</td>\n",
       "      <td>http://sharkattackfile.net/spreadsheets/pdf_di...</td>\n",
       "    </tr>\n",
       "    <tr>\n",
       "      <th>1</th>\n",
       "      <td>5992</td>\n",
       "      <td>2016.09.18.b</td>\n",
       "      <td>New Smyrna Beach, Volusia County</td>\n",
       "      <td>Florida</td>\n",
       "      <td>USA</td>\n",
       "      <td>11h00</td>\n",
       "      <td>M</td>\n",
       "      <td>36</td>\n",
       "      <td>Surfing</td>\n",
       "      <td>NaN</td>\n",
       "      <td>Lacerations to hands</td>\n",
       "      <td>N</td>\n",
       "      <td>Orlando Sentinel, 9/19/2016</td>\n",
       "      <td>http://sharkattackfile.net/spreadsheets/pdf_di...</td>\n",
       "      <td>2016.09.18.b-Luciano.pdf</td>\n",
       "      <td>Unprovoked</td>\n",
       "      <td>http://sharkattackfile.net/spreadsheets/pdf_di...</td>\n",
       "    </tr>\n",
       "    <tr>\n",
       "      <th>2</th>\n",
       "      <td>5991</td>\n",
       "      <td>2016.09.18.a</td>\n",
       "      <td>New Smyrna Beach, Volusia County</td>\n",
       "      <td>Florida</td>\n",
       "      <td>USA</td>\n",
       "      <td>10h43</td>\n",
       "      <td>M</td>\n",
       "      <td>43</td>\n",
       "      <td>Surfing</td>\n",
       "      <td>NaN</td>\n",
       "      <td>Lacerations to lower leg</td>\n",
       "      <td>N</td>\n",
       "      <td>Orlando Sentinel, 9/19/2016</td>\n",
       "      <td>http://sharkattackfile.net/spreadsheets/pdf_di...</td>\n",
       "      <td>2016.09.18.a-NSB.pdf</td>\n",
       "      <td>Unprovoked</td>\n",
       "      <td>http://sharkattackfile.net/spreadsheets/pdf_di...</td>\n",
       "    </tr>\n",
       "  </tbody>\n",
       "</table>\n",
       "</div>"
      ],
      "text/plain": [
       "   original order   Case Number                          Location     Area  \\\n",
       "0            5993  2016.09.18.c  New Smyrna Beach, Volusia County  Florida   \n",
       "1            5992  2016.09.18.b  New Smyrna Beach, Volusia County  Florida   \n",
       "2            5991  2016.09.18.a  New Smyrna Beach, Volusia County  Florida   \n",
       "\n",
       "  Country   Time Sex  Age Activity Species                     Injury  \\\n",
       "0     USA  13h00    M  16  Surfing      NaN     Minor injury to thigh   \n",
       "1     USA  11h00    M  36  Surfing      NaN      Lacerations to hands   \n",
       "2     USA  10h43    M  43  Surfing      NaN  Lacerations to lower leg   \n",
       "\n",
       "  Fatal (Y/N)       Investigator or Source  \\\n",
       "0           N  Orlando Sentinel, 9/19/2016   \n",
       "1           N  Orlando Sentinel, 9/19/2016   \n",
       "2           N  Orlando Sentinel, 9/19/2016   \n",
       "\n",
       "                                                href  \\\n",
       "0  http://sharkattackfile.net/spreadsheets/pdf_di...   \n",
       "1  http://sharkattackfile.net/spreadsheets/pdf_di...   \n",
       "2  http://sharkattackfile.net/spreadsheets/pdf_di...   \n",
       "\n",
       "                        pdf        Type  \\\n",
       "0      2016.09.18.c-NSB.pdf  Unprovoked   \n",
       "1  2016.09.18.b-Luciano.pdf  Unprovoked   \n",
       "2      2016.09.18.a-NSB.pdf  Unprovoked   \n",
       "\n",
       "                                        href formula  \n",
       "0  http://sharkattackfile.net/spreadsheets/pdf_di...  \n",
       "1  http://sharkattackfile.net/spreadsheets/pdf_di...  \n",
       "2  http://sharkattackfile.net/spreadsheets/pdf_di...  "
      ]
     },
     "execution_count": 49,
     "metadata": {},
     "output_type": "execute_result"
    }
   ],
   "source": [
    "df.head(3)"
   ]
  },
  {
   "cell_type": "code",
   "execution_count": 50,
   "metadata": {},
   "outputs": [
    {
     "data": {
      "text/plain": [
       "Surfing                                                     904\n",
       "Swimming                                                    819\n",
       "Fishing                                                     414\n",
       "Spearfishing                                                321\n",
       "Bathing                                                     153\n",
       "                                                           ... \n",
       "Scuba diving for lobsters                                     1\n",
       "Fishing, had just speared a ulua                              1\n",
       "Wrangling a shark                                             1\n",
       "Hurricane & Tidal Wave                                        1\n",
       "Hardhat diving from Japanese pearling lugger, Reiyo Maru      1\n",
       "Name: Activity, Length: 1492, dtype: int64"
      ]
     },
     "execution_count": 50,
     "metadata": {},
     "output_type": "execute_result"
    }
   ],
   "source": [
    "df[\"Activity\"].value_counts()"
   ]
  },
  {
   "cell_type": "code",
   "execution_count": 51,
   "metadata": {},
   "outputs": [
    {
     "name": "stdout",
     "output_type": "stream",
     "text": [
      "['Surfing', 'Fishing', 'Wading', 'Swimming', 'Kite surfing', 'Boogie boarding', 'Body boarding', 'Spearfishing', 'Snorkeling', 'SUP Foil boarding', 'Kayaking', 'Lobstering', 'Fishing in Alabama Deep Fishing Rodeo', nan, 'Scuba Diving', 'Fishing for squid', 'Fishing for sharks', 'Floating', 'Floating in tube', 'Standing', 'Diving', 'Teasing a shark', 'Surf-skiing', 'Walking', 'SUP', 'Body surfing', 'Diving for beche-de-mer', 'Feeding stingrays?', 'Windsurfing', 'Kayak fishing', 'Paddle boarding', 'Kayak Fishing', 'Scuba diving', 'Sea disaster', 'Lobster fishing', 'Swimming / Wading', 'Fishing for shrimp', 'Photographing fish', 'Stand-Up Paddleboarding', 'Scallop diving on hookah', 'Treading water', 'Body boarding ', 'Playing in the water', 'Body Boarding', 'Body surfing?', 'Playing', 'Attempting to rescue a shark', 'Surf skiing ', 'Photographing the shark', 'Standing / Snorkeling', 'Hand feeding sharks', 'Sitting in the water', 'Transatlantic Rowing', 'Bodysurfing', 'Rowing', 'Shark fishing', 'Surfing & filming dolphins', 'Filming', 'Swimming after falling overboard', 'Diving / Filming', 'Fishing for blue sharks', 'Canoeing', 'Standing in inner tube', 'Body surfing or Boogie boarding', 'Kayaking ', 'Feeding fish', 'Fishing ', 'Playing with an air mattress', 'Kite boarding', 'Shark diving', 'Petting a shark', 'Kneeling in the water', 'Tagging sharks', 'Fell into the water', 'Shark watching', 'Diving for lobsters', 'Kite Surfing', 'Scuba diving / culling lionfish', 'Kitesurfing', 'Sailing', 'Spearfishing / Free diving', 'Filming a documentary', 'Attempting to remove fishing net from submerged object', 'Kayaking / Fishing', 'Kiteboarding', 'Diving for crayfish', 'Diving ', 'Swimming / snorkeling', 'Diving for Abalone', 'Casting a net', 'Marathon swimming', 'Longline fishing for sharks', 'Wrangling a shark', 'Attempting to free the shark', 'Cleaning fish', 'Walking in surf', 'Swimming ', 'Swimming & snorkeling', 'Boogie Boarding', 'Playing in the surf', 'Free diving', 'Fly fishing', \"Fishing - 'tag & release'\", 'Swimming to shore with floatioon devices after boat engine conked out', 'Dragging stranded shark into deeper water', 'Bathing', 'Bodyboarding', 'Swimming or boogie boarding', 'Wading or swimming', 'Free diving ', 'Attempting to rescue an injured & beached shark', 'Free diving / spearfishing', 'Crayfishing', 'Diving, feeding sharks', 'Attempting to Kite surf from Egypt to Saudi Arabia', 'Fishing (illegally)', 'Diving, photographing sharks', 'Wade fishing', 'Jumping in the waves', 'Wade Fishing', 'Standing, collecting sea stars', 'Floating ', 'Swimming or Snorkeling', 'Kayaking or Wave skiing', 'Surf fishing', 'Jet skiing', 'Standing or boogie boardin', 'Kite Boarding', 'Washing sand off a speared fish', 'Surfing ', 'Standing, holding shark pup', 'Diving / fishing', 'Wakeboarding', 'Diving for abalone', 'Shark fishing on the Ricardo Astorga', 'Shark fishing on the Don Agustín-VI. ', 'Attempting to fix motor', 'Swimming /  Whale Watching', 'Swimming after boat became disabled', 'Rescuing', 'Measuring sharks', 'Swimming / treading water', 'Surf fishing / wading', 'Spearfishing (free diving)', 'Paddling on kneeboard', 'Swimming to shore from capsized kayak', 'Paddle-boarding', 'Swimming, attempting to rescue a girl  believed to be drowning', 'Washing his feet', 'Paddle-surfing', 'Crawling', 'Diving, but on the surface when bitten by the shark', 'Air Disaster', 'Crabbing', 'Yacht race', 'Sinking of the cargo ship Mark Jason', 'Fishing boat swamped in storm', 'Swimming, towing surfboard', 'Swimming or surfing', 'Rowing an inflatable dinghy', 'Sea Disaster', 'Night diving', 'Free-diving', 'Walking out of the water after surfing', 'Fishing from surfski', \"Accidentally stood on hooked shark's tail before attempting to gut it \", 'Attempting to chase shark out to sea', 'Fishing for snapper', 'Removing fish from a trap', 'The 426-ton cargo ship Mia, laden with cement, capsized in heavy seas ', 'Wading?', 'Jumping', 'Floating near boat & observing bioluminesce', 'Jumped into the water', 'Surf paddling', 'Murder', 'Removing hook from shark', 'Reviving a sedated shark', 'Shark tagging', 'Swimming / jumping off a jetty', 'Playing on a sandbar', 'Shrimping', 'Swimming / Body Surfing', 'Playing soccer in the water', 'Free diving / modeling', 'Diving / Kissing the shark', 'Lifesaving drill', 'Touching sharks', 'Competing in the Woodvale Atlantic Rowing Race', 'Night Surfing', 'Standing / Surfing', 'Treading water/ Surfing', 'Removing shark from net', 'Boogie boarding, kicked at object in the water', 'Scuba diving in aquarium tank', 'Holding onto an inflatable boat', 'Swimming with boogie board', 'Spearfishing (Free diving)', \"Crouching in 2' of water\", 'SCUBA Diving', 'Diving in aquarium display tank', 'Attempting to drive shark away from sailing regatta', 'Fishing from a kayak', 'Swept out to sea by the tsunami, she clung  to a log for 24 hours', 'Scurfing (surfboard being  towed behind a boat)', 'Chumming for white sharks', 'Spearfishing/ filming', 'Diving & fishing with net', 'Wading / fishing & carrying a bag of fish', 'Fishing for squid aboard the trawler Shikishima-Maru when the shark leapt into the boat', 'In water with diving seabirds', 'Swimming, poaching perlemoen', 'Boogie-boarding / swimming', 'Free diving & spearfishing', 'Tandem surfing', 'Five men on makeshift raft after their 10 m fishing boat  capsized and sank in rough seas. Survivors rescued after  7.5 hours in the water', 'Surf skiing', 'Kayaking (returning from spearfishing)', 'Air disaster. Flash Airlines Boeing 737 crashed into the Red Sea', 'Swimming / shipwreck', 'Surfing amid a shoal of sharks', 'Swimming to shore from boat or kayak', 'Sitting on surfboard', 'Wading near a fishing net', 'Wading to shore from his boat', 'Standing, stepped on shark', 'Wade-fishing', 'Swimming, wearing black wetsuit & swim fins', 'Walking, carrying surfboard & stepped on shark', 'Swimming with pod of dolphins', 'Killing  sharks', 'Swimming (using a float)', 'Petting captive sharks', 'Unknown', \"Fishing, standing in 2' of water\", 'Fishing from Surfboard', 'Boogie boarding or Surfing', 'Wading, when he stepped on the shark', 'Shark Fishing', 'Attempting to retreive a dinghy', 'Snorkeling (filming the sardine run)', 'Floating on a raft', 'Fishing, removing the shark from his line', 'Playing in the surf with his 2 dogs', 'Collecting beche-de-mer', 'Fishing from prawn trawler', 'Scallop diving (using surface-supplied air & a POD) ', 'Fishing (Drowned 2-Apr-2002)', 'Surfing, but standing in water alongside board', 'Body-boarding', 'Swimming /  boogie boarding', 'Capsized fishing boat', 'Kite-Boarding', 'Surfing, fell off surfboard & stepped on the shark.', 'Wreck / Technical diving', 'Walking in shallows', 'Fell off banana boat', 'Floating face-down in knee-deep water', 'Hiking on the beach', 'Spearfishing, carrying his catch', 'Standing alongside surfboard', 'Batin', 'Attempting to catch a crocodile', \"Sinking of the 40' Esperanza off St. Maartin with 36 refugees on board\", 'Fishing for whiting', 'Swimming back from anchored sailboat', 'Diving for sea urchins', 'Diving (shell maintenance)', 'Shipwrecked', 'Fell onto dead shark', 'Standing / surfing', 'Swimming / Body surfing', 'Conducting research', 'Swimming out to porpoises ', 'Windsurfing, but sitting on his board', 'Surfing / Wading', 'Attempting to illegally enter the USA', 'Spearfishing, holding mesh bag with speared fish', 'Air Disaster - Piper aircraft crashed into the sea, killing all on board', 'Boogie boarding / wading', 'Feeding prawns to captive sharks', 'Canoe with 3 men onboard sank', 'Fishing for tarpon', 'Surfing (sitting on his board)', 'Spearfishing, but swimming at surface', 'Surfing, lying on surfboard', 'Wading to shore after surfing', 'Wading with surfboard', \"Lying prone in 2' of water\", 'Spearfishing & holding catch', 'Swimming with dolphins', 'Wading in school of baitfish', 'Adrift in a life jacket', 'Splashing / wading', 'Swimming after being swept into sea by a large wave', 'Spearfishing & diving for paua', \"Scientific research (Dr. Sonny Gruber's student)\", 'Swimming, towing a kayak', 'Body surfing or body boarding', 'Swimming near pod of whales', 'Cruising', 'Paddle Skiing', 'Inflatable boat', 'Splashing', 'Fishing for tuna', 'Fishing / washing bait off hands', 'Moving a shark in a net ', 'Surfing (or body boarding)', 'Free diving for abalone', 'Swimming / surfing', 'Towing rubber dinghy', 'Surfing (lying prone on his board)', 'Snorkeling \\x96 hunting crayfish and abalone', 'Swimming or paddle boarding', 'Spearfishing on scuba & transferring fish onto a stringer', 'Scuba diving (submerged riding a scooter)', 'Body boarding or surfing', 'Fishingat', 'Walking / surfing', 'SCUBA diving', 'Floating on raft', 'Wading / Surfing', 'Fishing for octopus', 'Spearfishing / night diving', 'Body surfing, stood up on sandbar', 'Rowing ', 'Watching seals', 'Attempting to attract dolphins', 'Swimming or snorkeling', 'Surfing / Swimming', 'Free diving with a pod of dolphins', 'Tech diving ', 'Shell Diving', 'Swimming breast stoke', 'Fishing in knee-deep water', 'Dived naked into the water on a bet', 'Swimming in fish tank', 'Boeing 757 enroute from Porta Plata plunged into the sea', 'Swimming with mask & snorkel', 'Chumming for sharks', 'Diving, gathering shellfish', 'Fell off aircraft carrier', 'Playing / standing', 'Abalone diving using Hookah (near calving whales)', 'Abalone diving using Hookah (resting on the surface)', 'On a float', '\"Riding waves on a board\"', 'Jumped off surfboard & landed on the shark', 'Scuba diving (ascending using scooter)', 'Playing / jumping', 'Sleeping in anchored boat', 'Scuba diving for bivalves', 'Wind surfing', 'Surfing, sitting on board', 'Murder victim', 'Commercial diver (submerged or treading water)', 'Surfing, paddling seawards', 'Adrift on refugee raft', 'Jumped off rocks into white water', 'Freediving for seashells', 'Swimming alongside NOAA research vessel Discoverer', 'Removing shark from tank in nightclub ', 'Swimming, after falling off towed kneeboard', 'Playing volleyball with friends', 'Hookah diving', 'Surfing, paddling shorewards', 'Stamding', 'Watching the shark feeding on a dead pinniped', 'Riding floatation device', 'Free diving for abalone (ascending)', 'Fishing for lobsters', 'Oyster fishing', 'Paddling on surfboard or body board', 'Scuba diving at seal colony', 'Floating on his back', 'Paddling on surfboard', 'Free diving & spearfishing (ascending)', '   ', 'Standing in waist-deep water, helping his father tend a gill net containing dead fish', 'Lying on surfboard', 'Spearfishing / free diving', 'Scuba diving (submerged)', 'Hookah diving for sea urchins', 'Snorkeling, carrying a speared fish in her hand', 'Fell from cliff while fishing & disappeared in strong current', 'Fisherman', \"Zosimo & his son, Jeffrey Popa, failed to return from overnight fishing trip in a 14' boat, Boat apparently sank, debris recovered but his son & boat were never found\", 'Preparing to fish for jack-mackerel', 'Scuba diving ', 'Scuba diving & filming', 'Hookah diving for pen shells ', 'Fishing for yellowtail, Seriola quinqueradiata', 'Diving for pen shells', 'Fishing from rocks, swept out to sea by large wave & treading water', 'Finning the shark that bit him', 'Swimming from makeshift raft  to life vest after fishing boat sank', 'Swimming behind sailboat', 'Surfing, collided with shark', 'Surfing (or sailboarding)', 'Scuba diving (but on surface)', 'Free diving / spearfishing, from paddleboard & floating on the surface', 'Snorkeling, possibly holding a fish', 'Resting on surfboard', 'Lying on surfboard & paddling', 'Free diving for trochus', 'Scuba diving & spearfishing', 'Board sailing', \"On board 51' fishing vessel One Ki\", 'Wading, knocked down & swept away by large waves', 'Swimming in canal', \"Fishing, stepped on hooked shark's head\", 'Observing a shark feeding on a carcass of a humpback whale', 'Hookah diving for abalone (descending)', \"Filming 5' blue shark\", 'Playing ', \"Fell off surfboard 20' from shore\", 'Windsurfing (urinating on his board)', 'Scuba diving, but swimming on surface', 'Swimming in strong current with 3 others when he disappeared', 'Surfing with dolphins', 'Scuba diving, hand feeding sharks', 'Spearfishing using scuba & trailing a string of bleeding fish', 'Skindiving', 'The Christie V sank on 11/6/1988, survivors were adrift on a dinghy', 'The MV Dona Marilyn sank in Typhoon Unsang with the loss of 389 lives', \"Diving in Sharkey's Reef restaurant\\x92s aquarium\", 'Free diving & spearfishing ', 'Spearfishing on scuba', 'Sittting in water with his child', 'Shell diving', 'Surfing / treading water', 'pêcheur de bichiques', \"Onboard 21' powerboat that capsized in rough seas\", 'Standing ', 'Lying atop surfboard', 'Drift fishing', 'Fell overboard  from the Taiwanese fishing trawler Lien Cheng Feu ', \"Attempting to lasso shark's tail\", 'Returning to shore, collided with shark', 'Ferry boat Dona Paz with 4431 passengers exploded & caught fire when she collided with an  oil tanker ', 'Vessel caught fire & capsized, survivors in the water', 'Scuba Diving for scallops', 'Dropping anchor', 'Swimming from shore to anchored sailboat', 'The inter-island ferry Vula sank in heavy weather', 'Jumped into the water from a cliff', 'Boat', 'Adrift after ditching plane in the sea', 'Free diving  & spearfishing (submerged)', 'NSB Meshing', 'Racing ski', 'Fishing, fell from rocks & disappeared', 'Hookah diving for abalone', 'Floating on inner tube after diving for lobster', 'Free diving & spearfishing (descending)', 'Bottom fishing for lingcod & had hooked a fish', 'Playing in knee-deep water', 'Surfing, but lying prone on his board', 'Free diving for scallops', 'Scuba Diving for lobster (at surface)', 'Investigating shark sighting', 'Sailing on catamaran & fell into the water', 'Surfing or body surfing', 'Free diving , but surfacing', 'Boat capsized?', 'Sea disaster, foundering of the cargo vessle M/V Dorolonda', \"During a shark fishing tournament, the 18' Boatem was capsized by waves, throwing 3 men into the water \", 'Towing her sister on plastic ski board', 'Steinhart Aquarium', 'Scuba diving for abalone', 'Ferry boat sank', 'Swimming from the New Venture ', '14 m prawn trawler New Venture capsized  & sank in heavy seas Three people in the water', 'Floating on air mattress', 'Surfing & dangling foot in water amid baitfish', 'Water-skiing', 'Paddleskiing', 'Ran into the water', 'In waist-deep water', 'Free diving for abalone from Zodiac (submerged)', 'Paddle Boarding', 'Spearfishing ', 'Sailboarding, fell into water 100 yards outside the breakwater', 'Fishing on a boat', 'Spearfishing, but swimming on surface', 'Inspecting teeth of supposedly dead (hooked & shot) shark', \"Diving to untangle a crab trap line from boat's propeller\", \"16' catamaran capsized previous night, occupants stayed with wreckage until morning, then attempted to swim ashore\", 'Snorkeling on surface', 'Catching sardines', 'Scuba diving, reportedly also spearfishing', 'Foundering of the Israeli freighter Mezada', 'Standing / Wading', 'Free diving Spearfishing', 'Exercising his dog in the shallows', 'Commercial spearfishing', 'Free diving / spearfishing, ', 'Diving in tuna net', 'Resting on body board', 'Skin diving', 'Sinking of the ferryboat      Don Juan', 'Sinking of the ferryboat Bongbong 1', 'Hookah Diving', 'Gaffing netted shark', 'Freedom swimming', 'Murdered by Thai pirates', 'Floating with life preserver after his boat foundered', 'Floating on inner tube raft', \"Explosion destroyed 28' boat, survivors in the water \", 'Fishing for mackerel', 'Swimming, after single-engine aircraft went down in the sea', 'Fishing for bottom fish', 'Floating on an inflatable raft', 'Free diving for abalone (surfacing)', \"40' fishing boat sank\", 'Spearfishing / Scuba diving', 'Collecting fish from net', 'Fishing for yellowtail', 'Their 9 m launch was run down by a 25,000-ton Japanese freighter  on the night of 3-11-1977 & they drifted, clinging to an icebox for 2 days', \"Pushed surfmat of a young girl out of the shark's path, drawing shark's attention to his own board\", 'Hookah diving for abalone (submerged)', 'Thrashing the water / imitating the shark victim from \"Jaws\"', 'Fishing for white shark', 'Shipwreck', 'Skindiving,', '3,909-ton Panamanian freighter Chieh Lee sank in a typhoon', 'Surfing, fell off surfboard', \"Sitting in bow of her father's 5 m boat\", 'Competing in a light tackle game fishing', 'Fishing for snoek & yellowtail', 'Spearfishing / scuba diving', 'Attempting to drive shark away from the beach', 'Filming & feeding captive sharks', 'Floating on a small orange raft ', 'Scuba diving for abalone (at surface)', 'Swimming near his boat', 'Spearfishing Competition', 'Floating in inner tube', 'Diving & force-feeding the shark', 'Attempting to drag hooked shark ashore by its tail', 'Ferry capsized', 'Swimming underwater from crayfish cage to a fishing bait', '3.3 m fishing boat sank. Treveluwe & Peter Hodgson (wearing lifejackets) were drifting in the current', 'Freedom Swimming', 'Free diving for abalone (submerged)', 'Adrift after the sinking of the motor yacht Princess Dianne', 'Free diving (but on surface)', 'Fishing boat swamped in a storm', 'Fishing for kob', 'Fishing for red fish', 'Sitting', 'Swimming alongside yacht Mexico Fiesta', 'Being pulled to shore from wreck of 25-ton fishing vessel Alan S', 'Free diving, Spearfishing', 'Crabbing (spearing crabs)', 'Fishing from paddleski', 'Scuba diving & U/W photography', 'Sitting in shallows', 'Free diving, collecting shells', 'Scuba diving & feeding fish', 'Hookah diving (submerged)', 'Wreck of the 1689-ton Portuguese  coaster Angoche', 'Fishing for prawns', 'Sea Disaster Sinking of ferryboat Christina', 'Motor launch Baby Princesa capsized with 22 people on board', 'Freediving', 'Air disaster', 'Attempted to return injured shark to the sea', 'Spearfishing / freediving', 'Washing cooking pans', 'Washing clothes on stairs', 'Fishing, trying to catch the end of his fishing line', 'Scuba diving for lobsters', 'Freediving for abalone (at surface)', 'Surf-fishing', 'Netting pilchards', 'Hard hat diving', 'Sight-seeing', 'Feeding mullet to sharks', 'Spearfishing using Scuba', 'Sinking of the ferryboat Dumaguete ', 'Playing with a frisbee in the shallows', 'Leaving the water', 'Dynamite fishing', 'Small boat with 2 men onboard hit a submerged coral formation. Men began swimming to shore', 'Clamming', 'Schooner sank during a storm', 'Diving. Shark \\x93swallowed\\x92 his hand, so he threw his other around the shark and went \\x93shark-back riding\\x94 for 30 yards until the shark opened its jaws', 'Wading & pushing dinghy toward  the shallows', 'Picking up shark by the tail', 'Swimming after his canoe capsized', 'Sinking of the M/V Mindoro during a typhoon', 'Standing on sandbar', \"Boat capsized between O'ahu & Molokai\", 'Pulling shark from the water', 'Spearfishing on Scuba', 'Spearfishing, dived to pick up a float line', 'Anti-sabotage night dive exercise alongside destroyer (Scuba diving)', 'Photographing sharks underwater using Scuba', 'Beach seine netting', 'Fishing boat', 'Feeding a shark', 'Vehicle plunged over cliff into the water', 'The shrimper Loless Maurine capsized in heavy seas & the men were swimming ashore  ', 'Fishing for rock lobster', 'Swimming in the channel', 'A father bathing his smallest daughter when the shark bumped her out of his arms and carried her into deep water', 'Free diving, carrying speargun', 'Hunting crayfish ', 'Diving / UW photography', 'Netting sharks', 'Diving into water', 'Lobster diving using Scuba', 'Attacked shark with fists', 'Diving for sand dollars', 'Killing a shark', 'Sinking of the dredge World Atlas', 'The passenger ship Pioneer Cebu  capsized & sank in Typhoon Irma', 'Overturned skiff', 'Fishing (big game)', 'The World Liberty and the tanker Mosli collided. The  Halcyon Breeze sent a lifeboat to the rescue, but it was smashed, throwing 6 men in the  water.', 'Helping men land a shark', 'wreck of the State Oil Company ship Permina', 'Free diving / spearfishing (resting on the surface)', 'Colombian  (Avianca) DC-4 airliner plunged into the sea 5 minutes after takeoff', 'Body surfing ', 'Spearfishing, but standing in knee-deep water', \"Fishing from 34' boat when pulled overboard by hooked shark\", 'Hauling dead shark aboard, when another shark leapt out of the water & bit him', 'Argentine Air Force C-54', 'The boat Caribou II sank', 'Sunbathing on beach when he saw child being attacked by the shark', 'Spearfishing, shot a turtle', 'Spearing fish', 'Fishing (rod & line)', 'Arsinoe, a French tanker', 'Attempting to anesthetize shark', 'Diving, retrieving film package from Titan 3C rocket', 'Walking on reef', 'Aircraft exploded', 'Motor boat Rebel Belle lost', 'Paddling rescue ski', 'Dangling feet in the water', 'Collecting marine specimens', 'Standing in waist-deep water', 'Spearfishing, but standing in the water', 'Bather', 'Canoe swamped, swimming back to canoe', 'Fishing with hand line tied to wrist & was pulled into the water', 'Free diving with seals', 'Swimming out to rescue swimmers in difficulty', 'Filming underwater, carrying powerhead', 'Longline fishing', 'Boat Miss Becky  sank 12 miles from shore', 'Surfing, but swimming to his board', 'Floating on his back in an inner tube', 'Spearfishing using scuba', 'Free diving / Spearfishingat edge of reef', 'Searching for remains of  Dr. Marais', 'Yacht Gooney Bird foundered, 4 survivors on raft', 'Standing / fishing', 'canoeing', 'Conducting a promotional film project for the Gemini space program (a practice astronaut recovery)', 'Attempting to swim across the Atlantic Ocean', 'Canoe capsized with 10 occupants, 8 survived,  Hamilton swam off to seek help', 'Skin diving ', 'Free diving for shell', 'Diving for trochus shell', 'preparing to go skin diving', 'Lying in 2 feet of water', 'Spearfishing / Scuba diving (at surface)', 'Diving for sinkers', 'Sitting on gunwale of boat', 'Greek steamship Lakonia caught fire, 98 of her 646 passengers, and 30 of her crew of 376 perished', 'Helping friend land hooked shark', 'Splashing in surf', 'Treading water while alongside capsized yacht', 'Fishing / standing in waist deep water', 'Catching sharks under government contract', 'Testing anti-shark cage', 'Surf fishing, wading ', 'Commercial fishing vessel, Ev-nn, struck object & sank. Ken Crosby and  Jame & Ann Dumas adrift on makeshift raft.', 'Spearfishing, pulled shark\\x92s tail', 'Swimming, when caught in heavy seas', 'Fishing, on charter boat Silver Dollar', \"63' fishing boat Sno' Bay foundered\", 'Seining for bait, standing in chest-deep water', 'Boat, with 42 passengers onboard, capsized in rough seas', 'Surfing on \"chest board\" (boogie board?)', 'Washed into sea while picking opihi', 'The 500-ton coastal trader Polurrian foundered ', 'S.S. Marine Sulphur Queen, laden with molten sulphur was bound from Beaumont, Texas for Norfolk, VA, when she disappeared with 39 on board', 'Free diving, hunting crayfish', 'Fishing for turtles', 'Spearfishing, Scuba diving', 'Abandoning burning ship Captain George in raging seas', 'Adrift after wave swamped engine', \"Overcome by CO fumes, fell overboard from 36' fishing cruiser & prop slashed arm\", 'When  a deckhand  jumped overboard, McIver dived after him with a rescue line.', 'Spearfishing with Scuba gear', 'Surf fishing in waist-deep water', 'Finning the shark', 'Fishing for albacore', 'Playing in surf with his child  (9)', 'Dived from inner-tube', 'U.S. Airforce crewman reported missing after bailing out of jet', 'On a \"shark hunt\"', 'Rolled off raft', 'Escaping from Alacatraz', 'Washing', 'Scuba diving, attempting to catch a captive shark', '25-foot cabin cruiser Happy Jack sank in heavy seas', 'Fishing & spearfishing', 'Swimming along a row of nets', 'Fishing for snappers & cleaning mullet. Put mullet over side of boat to wash it', 'Swimming outside fishing net', 'Splashing ', 'Fishing, slipped on rocks & fell into sea', \"Fishing with hand net in 2' of water\", 'Fishing, hauling in a 5-lb snapper', 'Surfing, pushing board ashore', 'Swimming with other crew near wharf', 'Gathering shells', 'Paddling outrigger canoe', 'Survived US Naval aircraft crash, climbing onboard rescue vessel when he fell back into sea ', 'Free diving, surveying a pipeline & examing cathodes under jetty', 'Attaching a line at sea', 'Net fishing, picking catch from the net', 'Fishing, two large sharks passed. He speared one and it bit him', 'Fishing (trolling)  from canoe', 'Scuba diving & spearfishing ', 'Fishing, speared shark upset canoe & man fell in water', 'Collecting dynamited fish', 'Walking in chest-deep water', 'Checking fish traps, fell into the water', 'Swimming, using bundles of sticks as raft', 'Cargo ship Dara sank after collision with another ship during a severe storm', 'Fishing from dinghy', 'Floating on back', 'Cleaning a tank', 'Spearfishing, shark grabbed his white t-shirt and towed him ', 'Collecting crayfish', 'Collecting aquarium specimens', 'Pacific Seafarer of US Navy', 'Ocean racing', 'Taking boat from California to Florida when it ran aground & he was swimming back to boat', 'Free diving for molluscs', 'Light aircraft ditched at sea', 'Swept out to sea while net fishing', 'Fishing, when line became snagged on rock & he dived into water to free it ', 'Fell overboard, prop slashed arm', 'Chasing shark out of bathing area while riding on a surf-ski', 'Spearfishing, speared fish retreated to cave where shark grabbed his arm', 'Hand lining for shad', 'Ejected from F3H-2 aircraft ', 'Fishing for rock lobsters', 'Collecting shells', 'Cargo ship El Gamil entroute Suez to Yemen (Aden) when her cargo shifted and she sank. 19 Egyption sailors jumped into the water and swam for several hours before being bitten by sharks', 'Free diving / photography, kneeling on sand', 'Fishing inside net', 'R5D aircraft went down with 29 on board', 'Free diving / Spearfishing', 'Swimming 3 miles offshore', 'Air disaster: crash of Air France Super Constellation ', 'Aircraft crashed into sea', 'Standing in knee-deep water', 'boat with 46 people on board capsized', 'Holding shark on leader & dangling it above the water', 'Helping angler land a shark', 'Fishing, Struck by another shark when removing shark from line', 'Swimming from camp', 'Pulling raft out to ride to shore', 'Fishing, tossing netted shark onboard', 'Testing classified underwater electronic gear for Raytheon Corporation, vessel torn apart by explosion', 'Diving for shells, saw shark circling wife near the surface, intercepted shark & it pulled him beneath the water', 'Spearfishing, free diving, possibly ascended into path of cruising shark', 'Free diving but treading water at surface', 'Skindiving for abalone (but at surface)', 'Fishing, hauling in a set line', 'Spearfishing, shot a sandtiger shark. Cord to spear tangled round his legs & a wave washed him onto a reef.', 'Speared a grouper, saw shark but it came for him instead of the fish so he fired spear into shark\\x92s mouth. Then shark took grouper but unable to swallow because of the spear in its mouth.', 'Fishing in shoulder-deep water', 'Fishing, hooked shark towed boat out to sea, storm swamped boat', 'Spearfishing, carrying fish on belt', 'Wading, fishing for flounder', 'S2F-1 airplane crashed immediately after carrier take-off', 'Portuguese Airliner with 9 people aboard went down. ', 'Fishing, lifting shark out of craypot', 'Setting crayfish pots', 'Standing, watching seine netters', 'Collecting ornamental fish', 'Spear fishing, removing fish from spear', 'Paddling', 'Swimming underneath house on pilings', 'Dived from dinghy to retrieve oar in heavy seas', 'ship M.V. Rizal sank during typhoon', 'Spearfishing, Smith  & Walker touched shark with tip of their guns', '17 Maldivians adrift in open boat for 31 days', 'Standing in chest-deep water', 'Trailing the field in a surf race', 'National Airlines DC7B enroute from Miami to Los Angeles with 42 or 46 people on board went down in heavy fog', 'Fishing for tunny', \"Swimming at surface through school of feeding 2.5' to 5\\x92 sharks\", 'Spearfishing, shot shark, hauled it onto boat', 'Dived overboard to retrieve dinghy', \"Adrift, hanging onto cushion, after his 17' skiff ran out of gas & capsized 3 miles from shore\", 'Gigging for flounder', 'Pulling hooked salmon to boat', 'On inflatable raft', 'The 240-ton motor vessel Pilar II with 100 people on board capsized in high winds & rough seas', 'Fishing boat capsized ', 'Spearfishing with Joe Turner (24). Shark attracted to speared halibut on belt of one diver, tried to bite Ide\\x92s speargun & he shot it in the mouth', 'Pulling anchor', 'Spearfishing (but on surface)', 'Dragging stranded shark ashore', 'Columbian petrol barge Rio Atrato burned and sank', 'Swimming ashore from capsized boat', 'Jumped overboard to rescue a man', 'Diving for pearl shell', 'Lifeboat capsized', 'On boat, preparing to dive', 'Fell into water while attempting to boat a swordfish', 'Bathing with sister', 'Working prawn net', 'Washed overboard into school of fish', 'Swimming with motor tube', 'In deep water about 100 yards from his ship', 'Surfing, but treading water', 'Dragging banana seeds through the shallows', 'Swimming ashore from fishing boat swamped and sunk by a squall', 'Paddling & sailing from Buenos Aires to Miami', 'Spear fishing', 'Surfing on air mattress', 'Cleaning hull of ship ', 'Swimming near jetty', 'Slapped shark on tail as it swam by', '\"Climbing up to ship after repairing the stern in water\"', 'Boat stopped to repair electric pump', 'Swimming, ducking for shells in water 0.9 m deep', 'U.S. Airforce C124 enroute from Hickham Air Base to Japan went down. The 3 survivors fashioned raft from mailbags  & were rescued 3 days after the crash.', 'Spearfishing, had fish on his spear', 'Swimming, towing the shark', 'Paddling in knee-deep water', 'Swimming with goggles', 'Fishing, holding fish in his left hand', 'Spearfishing / swimming on surface', 'Placed hand in disemboweled shark\\x92s jaws', 'Fishing, holding fish', 'Fishing (trolling)', 'Fishing, walking in river to cast', 'Air/Sea Disaster Pan-American Airlines Stratocruiser with 44 people onboard crashed into the sea', 'Attempting to net shark in shark channel', 'Diving for trochus', 'M.V. Tropical sank. Sole survivor rode oil drums for 8 days without food or water.', 'Competing in spearfishing championship & towing dead fish', '3 men & 2 boys picked up wearing life jackets and with inner tube', 'Swimming between  anchored  pearling luggers', 'Diving from canoe', 'Skindiving for specimens', 'Helmet diving in Miami Seaquarium', 'Dynamiting fish', 'Free diving for sinkers', \"Spearfishing, holding 5' speared fish\", 'Skindiving, fish at belt', 'Climbing back on ship', 'Swimming near pier', 'Free diving for crayfish', 'Attempting to kill a shark with explosives', 'Line fishing from Lakotoi, saw shoal of fish, dived overboard, had speared second fish & surfaced for air', 'Longling fishing', 'Air/Sea Disaster', 'Free diving, working on U/W scenes for motion picture', 'Boating', 'Swimming, attacked at  surf carnival', 'Attempting to set underwater endurance record', 'Swimming off yacht', 'Removing shark from net ', 'Fishing for pompano', 'Spearfishing & lassoed shark', '\"Flying Tiger\" transport plane went down with 5 men onboard', 'Hunting turtle', 'Swimming near breakwater', 'Spearfishing or fishing', 'Fishing from boat, Kaimamla', 'Swimming with speared fish', \"Competing in U/W endurance record, standing beside drum in 10' of water\", 'Rowing toward snapper grounds', 'Hunting lobsters in 2.4 m of water', 'Crossing the bay at the ford', 'Dived overboard & was swimming near stern of trawler', 'Swimming near canoe', 'American freighter Mormackite, bound from Buenos Aires for Baltimore, capsized & sank in heavy seas', 'Fishing  (trawling)', 'Spearfishing, hunting crayfish', 'Tuna fishing, standing on stern platform that was submerged by waves', 'Closed circuit diving (submerged). Diving to recover jettisoned packets of opium for police', 'Fishing trawler Flavio Gioia ', 'Grabbed shark & threw it on deck', 'Pearl diving from lugger Whyalla', 'Bathing alongside ship', 'Fishing / cleaning fish, dived into water to retrieve a lost fish', 'Fishing from shore', 'Crouching in the water', 'Swimming or wading out  to warn bathers that a shark had been seen', 'Aircaft exploded', 'Fishing from market fishboat Sea Spray', 'Royal Hawaiian skymaster DC-6B aircraft went down with  58 passenger & crew', 'Accidentally dragged overboard from the sampan Holokahana into school of yellowfin tuna', 'Retrieving bait box that had fallen overboard', 'Landing hooked shark in boat', 'Swimming in midriver near sewage outlet & 400 m from a slaughterhouse', \"Adrift on a 4'  raft for 32 days\", 'Went over side of boat at trochus ground', 'Bitten while cutting shark from net', 'Lying prone on surfboard', 'Fishing, setting nets', 'Body surfing & treading water', 'Swimming from fishing boat setting nets', 'Fishing for trout ', 'Boat exploded', 'Spearfishing, carrying fish on spear', 'Swimming on surface', 'Fishing, standing in water washing fish', 'Fishing, standing in water next to purse net', 'Fishing for white sharks', 'Went to aid of child being menaced by the shark', 'Spearfishing, speared a small shark', 'Diving, recovering fish killed by dynamite', 'Shipwrecked; adrift on raft for 2 days & 2 nights', 'cargo ship Southern Isle sank at 04h00', 'Body found on deserted luxury yacht, 38\\x92 Christine', 'Diving (Hookah)', 'Fell overboard', 'Swept out to sea while fishing', 'Fell off surf ski', 'Fishing, casting in the surf', 'Spearfishing (but treading water on the surface)', 'Paddling a surfboat', 'Paddling a canoe', 'Body surfing / treading water', 'Jerked overboard while pole fishing for tuna', 'Swept off deck of S.S.Frontenac enroute from West Indies to US', 'Goggle-diving for seaweeds, but standing in water', 'Survived crash of two-engine  C-46 transport plane carrying 62 migrant workers from Puerto Rico to USA ', 'Sea Disaster, sinking of the fishing  launch Mavis', 'Fishing, sitting in stern of small boat, feet dangling in the water', 'Suicide', 'Fishing, one of three fishermen swept into the sea by a large wave ', 'Sitting on side of dinghy mending a net', 'Defecating in water beneath the docks', 'Bending over', 'Bathing ', 'Diving for coins', 'Spearfishing, but walking carrying fish on end of speargun', 'Helmet diving, collecting trochus shell', 'Sea Disaster, sinking of the motorship Wingate', \"Lying on the bottom of a 16' dinghy\", 'Free diving or wading back to shore', 'No details', 'Swimming near shore', 'A 75-ton  Japanese fishing ship was sunk by  Chinese Nationalist gunboat, shipwrecked men were clinging to debris', 'Examining netted shark, that had been shot', 'Bathing in water 0.9 m deep', 'Lifesaving exhibition', 'Fishing, on a boat', 'Swimming close to wharf', 'Treading water, waiting for a wave', '2 messboys (Jeppsen) & Tony Latona (13) were playing on the afterdeck of the Danish ship Grete Maersk. Jeppsen fell overboard, Latona threw a lifebelt then jumped in to help him. Ship didn\\x92t notice they were missing', 'Air/Sea Disaster involving C-54 Air Force Transport No. 2686 with 37 on board', 'Pearl diving', 'Leicester abandoned in a hurricane', 'Bathing or washing', 'Spearing a shark', 'Fishing, shark caught in his net', 'Bringing hooked, harpooned shark onboard boat', 'C47 aircraft carrying 5,000 lbs of ice ditched in the sea', 'Underwater photography', 'Fishing, holding fish in right hand', 'Fishing / diving', 'Fishing from surf ski', 'Fishing in waist-deep water', 'Jumped overboard ', 'Moving shark from tuna vessel when boat rolled, placing both man & shark in chest-deep water', 'Attempting to ride a shark', \"Swimming near jetty with 2' piece of wood\", 'Pearl diving from lugger', 'Swimming after a tennis ball', 'Fishing, probably with a net', 'Jumping in swells', 'Bitten after dhow shipwrecked', 'American minesweeper USS YMS-472 foundered in a typhoon - swimming to shore', 'American minesweeper USS YMS-350 lost in a typhoon - swimming to shore', 'American cruiser Indianapolis torpedoed & sunk by the Japanese submarine I-58', '90 European civilians, many women & children, were placed on the deck of a Japanese submarine that submerged when it was well offshore', 'Playing on rock, slipped & fell into the water', 'Bathing with her mother', 'Swimming near life raft', 'USS Gambier Bay CVE-73  shelled & sunk  at 09h57 on 10/24/1944, by Japanes fleet enroute to attack the Allied landing force at Leyte.', 'USS Hoel DD 533 sunk on 10/24/1944 in the Battle off Samar. 2 crewmen were swimmng alongside a floater net &', 'USS Johnston DD 557 sunk on 10/24/1944 in the Battle off Samara. Crewmen were swimming beside a raft.', 'Parachuted into Pacific', 'Japanese POW ship Arisan Maru with 1800 American prisoners of war on board bound for slave labor camps was torpedoed by an American submarine', 'Fell overboard from US Navy PC boat', 'Washed overboard by swell', 'Adrift on raft', 'B-24 aircraft crashed  into the sea', 'Fell overboard from USS Ward', 'The Cuban freighter Libertad was torpedoed and sunk by the German submarine U-129', 'Swimming with board', 'The 6711-ton American freighter & troop transport Cape San Juan was torpedoed by the Japanese submarine I-21', 'Dived overboard to check propeller of US Navy motor torpedo boat', 'Flying Fortress bomber aircraft went down after daytime raid on Naples. He was swimming on the surface', 'Treading water after survivng crash of the US Navy airship K-74 that was hit by the German submarine U-134', 'Fishing for cod', 'B-24 crashed during a search mission. Survivors in raft for 47 days ', 'S2N Navy scout plane went down, E.H. Almond & Lieut A.G. Reading in water', 'Hospital Ship Centaur torpedoed & sunk by the Japanese submarine I-177', 'ship torpedoed 400 miles off the African coas. Man was clinging to hatch cover', 'Small boat swamped, 4  people swimming to shore but he fell behind the other 3 and vanished', 'The 21,516-ton troopship Empress of Canada torpedoed and sunk by the Italian submarine Leonardo da Vinci', 'The 3540-ton Alfonso Penna was torpedoed & sunk by the Italian submarine Barbarigo', 'Known as The Battle of the Bismarck Sea :  8 Japanese destroyers guarding a convoy of 8 transports were attacked by 129 Allied fighters, 207 bombers & 3 squadrons of the Royal Australian Air Force. ', 'The USS Wahoo torpedoes & sank the Japanese troop transport Buyo Maru', 'Dog paddling or standing', 'U-177 torpedoed & sank the troopship Nova Scotia', 'Thrown from destroyer when shell hit', 'On 6-Nov-1942, the German submarine U-68 sank the City of Cairo 5 days from Cape Town, survivors took to lifeboats & rafts. On the 15th day, a fireman jumped over the stern & was taken by sharks', 'Anti-Aircraft cruiser USS Atlanta (CL,-05) travelling in convoy after the Battle of Midway, encountered a Japanese flotilla  (Battle of Guadalcanal) &, heavily damaged by gunfire, she was lost off Lunga Point. Victim was swimming when bitten.', 'Explosion & sinking of the USS Juneau after being torpedoed by the submarine  I-85', 'In rubber dinghy with Captain Eddie Rickenbacker for 21 days. ', 'Dutch merchant ship Zaandam torpedoed  by the U-174 amidships, sank & dozens of survivors took to rafts & boats. One man, Izzi, who drifted 83 days on a raft related that sharks attacked many men in the water when the ship went down', 'His ship, the US destroyer Duncan DD 485, had been  sunk by crossfire from Japanese warships. He was wearing a kapok lifejacket & using 2 aluminum powder tins for floatation  ', 'The 6015-ton British ship Empire Avocet was torpedoed by the German submarine U-125. ', 'The Pacquebot Laconia, enroute to Liverpool with 600 Italian prisoners onboard, was torpedoed by the German submarine  U-156 and only 2 rafts were launched before the ship went down. Unable to board an overcrowded raft, he was swimming.', 'Adrift on life raft', 'Japanese aircraft shot down. He was one of two survivors rescued by the U.S. destroyer Mugford', 'The SS Potlach was torpedoed & sunk by the U-153 on 27-Jun-1942. ', 'Sculling', 'A 210-ton brig was sunk by a Japanese submarine. Some of the survivors were machine-gunned & some were taken by sharks', 'boat capsized during filming', 'Plane crashed in water, men in life raft', 'On life raft tethered to lifeboat. A seaman put hand over side to rinse a cup', 'Diving from lugger', 'H.M.S. Cornwall & H.M.S.Dorsetshire sunk by Japanese dive bombers. Officers & men in the water formed a circle with 60 of their dead in the center for 36 hours', 'Esso Bolivar was torpedoed & shelled by the German submarine U-126', \"Captured Allied soldiers were squeezed into 3' bamboo pig baskets & fed to waiting sharks\", 'Fishing for perch', 'Sailing from Gingood, Misamis Oriental to Sagay (normally a 2-day voyage) capsized with 6 on board, three men were taken by sharks when they attempted to swim to shore.', 'Swimming along side N.E.L. vessel Saluda', 'Jumped overboard from torpedoed Panamanian freighter', 'Plane forced down, 3 men on rubber life raft. Put hand over side to feel drift of boat ', 'Ditched plane in the sea & were adrift on a rubber life raft. ', \"Days before the surrender of Singapore, the 3 men escaped to Sumatra where they acquired a 17' dinghy. After 125 days at sea they drifted back to Sumatra\", 'Torpedoed & burning British  light cruiser with a crew of 450 men', 'HMAS Parramatta torpedoed & sunk by the U-559', 'British cruiser Dunedin torpedoed & sunk by the U-124', 'German raider Kormoran was sunk in an engagement with HMAS Sydney', 'SS Ethel Skakel foundered in Central America Hurricane of 1941', 'Swimming at edge of channel', \"Fishing from 32' boat\", 'Ditched aircraft, 3 men in the water. Swam for 31 hours', 'The troopship Britannia was sunk by the German raider Thor', 'Seine netting', 'Rescuing seaman after ship sunk by German raider', 'Adrift on raft after their ship was sunk by an Axis raider ', 'Slipped off rocks and fell into the water', 'Standing on sandbank', 'Collecting fish in military trap when bitten by captured shark that had been shot by soldiers with Garten', 'Free diving for lobster', 'Dived into the water', 'male', 'Standing in water with child in her arms', 'Free diving for trochus shell, swimming to dinghy', 'Spearfishing & had just speared a ulua', 'Japanese freighter Bokuyo Maru burned & sank', 'Dress diving, filming shark & pulling it through the water for a motion picture scene', 'Washed off freighter Huncliff by a freak wave', 'Dived for a coin', 'Scooping prawns', 'She was on a ship that was torpedoes & was in the water awaiting rescue', 'Swimming to anchored boat', 'Swimming alongside warship   Tsingt-ao', \"Fishing, removing gaff from shark's mouth\", 'Hardhat diving from Japanese pearling lugger, Reiyo Maru', 'The schooner Elizabeth, bound from Bluefields, Nicaragua to the river port of San Carlos foundered', 'Hardhat diving', 'Swimming, naked', 'Canoe capsized by shark', 'Watching seine netters with friends, one of whom picked up a netted shark', 'Diving off jetty', 'Sponge diving', 'Tzenny Chandris, a Greek freighter laden with scrap iron, foundered in heavy weather', 'Two canoes with 14 aboard blown to sea in a storm. While adrift for 3 week, one person fell overboard and was killed by a shark', 'Pleasure boating', 'Diving from the lugger San, operated by the Protector of the Aborigines', 'Fishing from launch, fell into net with shark', 'Refused permission to cross on the ferry, he was swimming across the river', 'Swimming ashore after launch capsized', \"12 of the Penang's crew were returning to the ship when their 12' dinghy capsized\", \"Holding shark's tail \", 'Diving, attempting to retrieve body of drowning victim wedged between rocks', 'Fishing for the shark that killed George Lundberg', 'Trochus diving, but floating on surface', 'Swimming crawl stroke', 'Fishing for bluefish', 'Fishing, catching snoek, Thyrsites atun', 'Diving for trochus , but swimming on surface', 'Among 31 survivors of crew from the sampan Fukulya Maru (which reached Thursday Island in rowing boat) was a man whose arm had been bitten off by shark. The sampan wrecked west of McArthur island ', 'Touching the mouth of a supposedly dead shark', 'Swimming. Passer-by, Len Bedford, heard him shriek , saw shark leap from the water & swimmer disappeared', 'Diving?', 'Fell overboard, hanging onto lifebuoy', 'Diving for beche-de-mer from lugger', 'fishing boat exploded & sank', 'Fishing with dynamite, afterwards in water retrieving catch', 'Fishing for bluefish, shark leapt into dory', 'Put foot inside a landed & supposedly dead shark', 'Disappeared 11 days earlier, probable homicide victim', 'Diving from dinghy for trochus shell', 'Put foot inside mouth of supposedly dead shark', 'Pearl diving, but standing in the water', 'Hauling in net with shark in it', 'Surfing (pneumatic surfboard)', 'Swimming (lead swimmer in race)', 'Taken as he dived into the water', 'Swimming & splashing', 'Freediving for trochus shell (submerged)', 'Dived into sea from launch & bitten immediately', 'Swimming in waist-deep water ', 'Swimming in hip-deep water', 'Splashing in water ', 'Swimming outside the safety enclosure attempting to retrieve a tennis ball drifting toward midstream ', 'Swimming on sandbar adjacent to channel', 'Free diving for trochus ', \"Fishing, caught a 15' shark & took it onboard\", \"Sitting in 3' of water\", 'Yacht of Michael Howell capsized', 'Swimming to shore from capsized sailboat', 'Standing on his hands', \"Diving for trochus  from dinghy when seized by shark 6' below the surface\", 'Hurricane & Tidal Wave', 'Catching a turtle', 'On expedition filming a feature movie & standing on tripod', 'Fishing, hauling in fishing gear', 'Free diving with goggles', 'Fishing with dynamite', 'Working near fish traps', 'Collecting fish by lamplight in gully', 'Diving for trochus from lugger', 'Diving off wharf', 'Swimming a quarter mile offshore', 'Fell overboard?', 'Fishing, had just speared a ulua', 'Gaffing & attempting to bring onboard a harpooned shark', 'Fishing, boat capsized', 'Fishing with a cast net', 'Fishing, hauling in net, shark in net', 'Swimming, carrying tin can with mail to steamer', 'Thrown into water from fishing dinghy', 'Swimming / floating', 'Diving off pier & treading water', 'Removing shark from a trap', 'Fishing schooner Jose Luis foundered', 'Swimming to shore after a squall  capsized their motorized shark fishing boat', 'Diving by wharf', 'Bathing or body surfing ', 'Sea Disaster, wreck of the  SS Norwich City', 'Fell from wharf into water & attacked immediately', 'Diving for trepang', 'Swimming between boats', 'Launching rowboat through the surf', 'Diving for coins thrown from ship S.S. Moeraki', 'Wading, netting fish', 'Hardhat diving ', 'Sea Disaster, sinking of the  SS Vestris', 'Retrieving meat from a cage in the water', 'Jumped overboard and swimming', 'The steamer Tahiti collided with the ferry Greycliffe', 'Italian liner Principessa Mafalda sank', 'Riding horseback across the creek', 'Standing, collecting bananas', 'Feeling the shark\\x92s teeth', 'Attempting to rescue drowning man', 'British patrol boat 1250-ton HMS  Valerian foundered in a hurricane', 'Jumped out of canoe', 'Swimming with dog near canning factory', 'Fell overboard from SS Ripley Castle', 'Shark hoisted on board liner Tahiti', 'Dived onto shark from floating stage', 'Swimming to mail boat', 'Bathing in waist-deep water', \"Diving, repairing water main at depth of 90'\", 'Diving for coins tossed from passenger ship', 'The Ward liner Esperanza stranded during a gale & she leapt overboard to rescue her dog which had been swept overboard.', 'Inebriated, woke from sleep and fell off deck into the water ', 'Removing shark from a net', 'Fishing, fell in water & swimming strongly to shore', 'Floating, after falling or jumping off the Standard Oil tanker Frederick W. Weller', \"Bathing in 5' of water\", 'Had just dived into water & was swimming', 'Fishing, standing in waist-deep water', 'Dry shelling', 'Diving for pearl', 'After rowing skiff was holed by shark, he was attempting to swim ashore', 'Dismantling cable buoys of the cable ship All America', 'seaplane Columbus ditched in the sea', 'Hoisting shark aboard fishing boat', \"Bathing in 3' to 4' of water\", 'Freediving, inspecting Kaunakakai wharf construction after blasting & dredging ', 'Bathing in knee-deep water', \"Fell from his father's back into the water\", 'Wading to dinghy, carrying his son', 'Diving for beche-de-mer ', 'Dived into a school of baitfish', 'The coastwise steamer San Basilio capsized in a typhoon', 'Harpooned shark', 'Boat capsized, swimming to shore', 'Floating face down', 'Jumped overboard', 'Sitting in a boat', 'Small vessel with 13 men on board capsized crossing the bar and 6 men drowned.  The 7 survivors were swimming to shore', '\"Swimming vigorously\"', 'Knocked into the water', 'Cutter capsized', 'Wading (shrimping)', 'Steamer Una wrecked with 75 laborers onboard. Survivors took to rafts & lifeboats.', 'Wreck of the tug Magellan', 'Swimming, towing an empty barrel', 'Stuffing a shark into an automobile', 'Swimming to shore from the Medic', 'Ship Mariston torpedoed & sunk', 'Swimming beside launch', 'Diving for pearls', 'Diving for sponges', 'Taking wife to beach & about 1 m from the shore', 'Swimming 10 m from shore', 'Fishing, attempted to take a netted shark', 'Netting shrimp', 'Swimming (recovering remains of Stilwell) ', 'S.S. Ramos foundered in a hurricane. Captain & 14 crew in water-logged lifeboats. ', 'Jumped overboard from Norwegian steamship Venator', 'Clinging to overturned rowing boat', 'Skin diving for trepang but at surface next to the boat', 'Copra vessel with 19 on board was wrecked in a squall', 'Washing clothes', 'Swimming ashore from swamped 13-ft boat', 'Washed into sea while picking opihi & attacked by 2 large sharks ', 'Boat swamped', 'Hauling in net', 'Swimming after his hat', 'Washed overboard', 'Fell overboard from steamship Rio Grande', 'Jumped overboard to rescue companion', 'Fell overboard & swimming', '3-masted steel barque Glenbank foundered during a cyclone', 'Shipwrecked pearling schooner', 'Steamer Durao struck rock & filled, boats capsized, passengers & crew tried to swim to shore', 'Unknown, their unoccupied yawlboat was recovered', 'Fell overboard from USS cruiser Tacoma', 'Hard hat diving, laying some charge of powder', 'Surf bathing', 'Fishing, thrown into water by heavy sea, clinging to rocks at the water line', 'The 2379-ton French steamer La Seyne collied with British steamer Onda & sank in minutes. Passengers jumped overboard expecting to be picked up by Onda\\x92s boats', 'Fell overboard from fishing schooner Halycon', 'Fell overboard while fishing for sharks', '1446-ton Norwegian barque Errol, bound from Peru to Newcastle with 22 on board wrecked. Survivors shelterd on the wreck of the Annasona. Subsequently the Master, his wife & 4 children perished along with several crew. Survivors (5) were rescued 7/12/1909', 'Reported swept away by waves while gathering opihi', 'Diving (Helmet) for sponges', 'Wreck of the 1308-ton Norwegian ship Auckland', 'On December 28, 1908, an earthquake, followed by tsunamis, destroyed coastal towns in Silcily and southern Italy, killing more than 100,000 people', 'Fell from the jetty', 'On fishing boat & trailing hand in the water', 'Fell overboard from P&O steamship Arabia', 'The 168-ton Belmore foundered in heavy seas', 'The British steamer Caribbee foundered', '.', 'native boats sunk in storm', 'Gathering fish stunned by dynamite', 'Reached out to disentangle rope & fell overboard', 'Diving, retrieving fish caught in net ', 'Floating in creek', 'Fishing,  tarpon being chased by shark  leapt across his skiff, breaking it in half & Larkin became tangled in the net', 'Row boat (from the gunboat Elcano) was sinking, put finger in hole', 'Net fishing, fell into the water', 'Diving around anchored liner', 'Shooting sharks ', 'The schooner Tahitienne foundered in a hurricane', 'Washing horses', 'Floating or standing', \"A man's head found in a shark caught by British steamer Syria\", 'Swimming from naptha launch after a day of fishing', 'Harpooning turtles', 'Bathing alongside US Naval ship', 'Lost his footing & fell overboard', \"Ship's boat capsized in squall, captain & 2 sailors clinging onto hull\", 'Diving on a wreck', 'Swimming, after falling overboard', 'Catching crabs', 'Standing on ship deck', 'Taking catch from a fish weir in which the shark was snared', 'Hunting seashells', ' ', 'Standing, gathering oysters', 'Hunting sharks', 'Fell overboard ', 'Attempting to land a boat from the Hinemoa', 'Hunting crayfish', 'Fell oveboard', 'Swimming after their boat capsized', 'Swimming at side of small boat', 'boat from City of Naples capsized', 'The cutter Francis Adams foundered', 'Sponge divers', 'Fishing (Seining)', '13 men in the water after sailboat capsized & sank', 'Trailing hand in the water', 'Attempting to escape by swimming to shore', 'Loss of the schooner Nomad', 'Angling', 'Wading after stray fish from seine netter\\x92s catch', 'Wreck of the steamship Sultan of Bombay', 'Swimming ashore from a \"filibuster\"', 'Hunting seals', 'Sea Disaster : Wreck of the Carrie E. Long', '\"Boat accident\"', '\"Crossing the river\"', 'Swimming, after sailboat capsized', 'Swimming / floating on his back', 'Swimming after harpooned whale capsized boat', 'bathing ', 'Fell from yardarm of British ship Rover', 'small boat', 'Abandoning burning steamship Don Juan', 'HMS Victoria collided with the HMS Camperdown', 'A barque wrecked', 'Canoe swamped', 'His balloon crashed in the harbor', 'Swimming after falling overboard from the sealing ship Vesper', 'Boat capsized, swimming ashore', 'Murdered', 'Riding a horse', 'Fell overboard from sponge vessel', ' a canoe was pursuing a schooner that had forcibily abducted 5 young girls', 'Dress diving', 'Swimming, after boat swamped', 'Sea Disaster, canoes capsized in storm', 'Knocked overboard', 'Fishing for sharks when he became entangled in net & fell overboard', 'Fleeing across a river', 'boat capsized', 'Swimming to shore after boat capsized by a squall', 'Thrown overboard', 'Treading for clams', 'Fishing boat with 4 men on board was rammed & capsized by  a shark, throwing all occupants into the water', 'Parachuted from balloon', 'Cleaning the side of a ship', 'Working on the bridge when he fell into the river', 'The steamships Thingvalla and Geiser collided', 'Probabable drowning', 'The Dwarka foundered', 'The cutter yacht Cutty Sark sank', 'Crossing the river mouth', 'Fell oveboard from steamer Wanderer', 'Crossing inlet in a boat, seen fighting sharks with his oar, sharks smashed boat', 'Sea disaster, wreck of the Alfred Watts', 'Rowing a dinghy', 'The passenger ship Kapuna was run down the ore carrier Ada Melmore', 'British ship Macedon was thrown on her beam ends by a sudden squall', 'Netting menhaden, sharks caught in net', 'Swimming after being washed overboard', 'Fishing from shore, washed into the sea', 'Oystering', 'Sea disaster : Wreck of the Taiaroa', 'He drowned when boat capsized', 'Diving alongsidethe steamship Ranelagh ', 'Fell or jumped overboard from the liner Rhynland', 'Wreck of the schooner Pohoiki ', 'yachting accident', 'Swimming / escaping imprisonment ', 'Restraining a beached shark', 'Clinging to shipwrecked junk', 'During \"an exhibition\" he was tied in sack & thrown overboard ', 'Floating, holding onto an oar after dory capsized', 'Traveling by boat', 'Swimming to retrieve a flannel', 'Bathing in river', 'The steamship Bonnie Dundee lost in collision', 'Floating with life buoy after pilot launch capsized', 'Jumped overboard after murdering 2 shipmates', 'Boat with 5 men capsized while returning to the Amerique', 'Wreck of the Union Steamship Company 982-ton iron steamer Kafir', 'Bathing in 2 feet of water', 'Washed overboard from the barque Mary Eady', 'Body found floating next to his ship', 'Escaping from blackbirding vessel', 'Salvaging a shipwreck', 'Fleet of canoes caught by a squall and charged by sharks.', 'Swimming to avoid capture', 'Wreck of the 150-ton brig Maria', 'Adrift on a raft ', 'Bathing / standing', 'Net fishing', 'A junk foundered', 'Bathing close inshore', 'boat from the Austrian ship Elizabeth', 'boat from ship Josephine capsized in squall', 'Painting a ship', 'Swimming alongside the schooner Catherine Wilcox', 'Boarding a ship', 'Dragging a shark', 'Coming ashore on a hawser', 'Standing / Bathing', 'Bathing near whaling ship (bark A. R. Tucker of New Bedford, Massachusetts)', 'Launching a boat', 'Swimming, caught in strong backwash & disappeared', 'Trying to catch a wounded bird', 'Swimming alongside the SS Kearsarge', 'Boat of a Hawaiian brig was stove in by  whale', 'Bathing alongside the American ship Thomas W. Sears', 'Deserting the bark Nazarene', '43-ton schooner Irene capsized & sank', 'In boat being towed by ship, Karnak', 'Jumped overboard while intoxicated', 'ship William Penn grounded & broke apart', 'Fell overboard from the Malacca', 'Fell overboard from the Sobella', 'Commercial Salvage Diving', 'He was fighting a shark when his boat capsized & he disappeared', 'Swimming from capsized boat', 'Wreck of the steamship Birkenhead', 'Vessel capsized, wading ashore carrying an oar', 'Attempting to rescue woman seized by shark', 'Wreck of the Sovereign', 'Wreck of the USS Somers', 'Boat capsized', 'Portuguese seaman fell overboard. Boat lowered to pick up with 1st mate & 4 crew, but done hurriedly & all were thrown into the water. As a second boat was lowered, a shark went after the 1st mate but he was rescued. Then the shark went after Mr. Andrews ', 'Harassing a shark', 'Washed off catamaran in the surf', 'Unknown, but it was said to be the \"First known attack in Sydney Harbour\"', 'Accidentally thrown overboard & treading water while awaiting rescue', 'Attempting to rescue crew after whale upset their boat', 'Hooking into a whale', 'Boat capsized, clinging to line', 'Fishing from dory, shark upset boat & he fell into the water', 'Washing a dog', 'Wreck of the schooner Driver', 'British ship, Britannia,  was loading lumber. He was bathing', 'HBM Magpie foundered in a squall', 'Conch diver', \"a corsair's boat was overturned\", 'Fell overboard from a frigate & was swallowed by a shark. The captain fired a gun at the shark, and \"the creature cast the man out of his throat.\"', 'Went overboard', 'Ship lay at anchor & man was working on its rudder', 'Man fell overboard from ship. Those on board threw a rope to him with a wooden block & were pulling him to the ship', 'Ascending from a dive', 'Washing his pig in preparation for a religious ceremony', 'Shipwrecked Persian Fleet', 'Swimming/', 'Swimming to canoe', 'Fishing for basking sharks', 'Collecting fish ', 'A dhow capsized', 'Net-fishing', 'Fishing?', 'Free diving for sponges', 'Helmet diving', 'yachtsman in a zodiac', 'Attempting to drive shark from area', \"Skin diving. Grabbed shark's tail; shark turned & grabbed diver's ankle & began towing him to deep water\", 'Crossing river on a raft', 'Free diving, collecting sand dollars', 'Swimming from capsized pirogue', 'Fishing from a small boat & put his hand in the water while holding a dead fish', 'Swimming naked near a date palm where many dates fell into the water', 'Swimming in section of river used for washing clothes & cooking utensils', 'Swimming with fish attached to  belt', 'Testing movie camera in full diving dress', 'Swimming near anchored ship', 'Lashing logs together when he fell into the water', 'Shark fishing, knocked overboard', 'Fishing, wading with string of fish', 'A group of survivors on a raft for 17-days', 'Fishing in ankle-deep water', 'Standing, washing rear wheels of his ambulance in ankle-deep water', 'Carrying a supposedly dead shark by its mouth', 'Spent 8 days in dinghy', 'Aircraft ditched in the sea, swimming ashore', 'Wooden fishing boat', 'Swimming in pool formed by construction of a wharf', 'Swimming around anchored ship', 'Crew swimming alongside their anchored ship', '4 men were bathing', 'Wreck of  large double sailing canoe']\n"
     ]
    }
   ],
   "source": [
    "print(df[\"Activity\"].unique().tolist())"
   ]
  },
  {
   "cell_type": "code",
   "execution_count": 52,
   "metadata": {},
   "outputs": [],
   "source": [
    "df[\"Activity\"] = df[\"Activity\"].str[:16]"
   ]
  },
  {
   "cell_type": "code",
   "execution_count": 53,
   "metadata": {},
   "outputs": [
    {
     "data": {
      "text/plain": [
       "False    5465\n",
       "True      527\n",
       "Name: Activity, dtype: int64"
      ]
     },
     "execution_count": 53,
     "metadata": {},
     "output_type": "execute_result"
    }
   ],
   "source": [
    "df[\"Activity\"].isna().value_counts()"
   ]
  },
  {
   "cell_type": "code",
   "execution_count": 54,
   "metadata": {},
   "outputs": [],
   "source": [
    "df[\"Activity\"] = df[\"Activity\"].fillna(\"unknown\")"
   ]
  },
  {
   "cell_type": "code",
   "execution_count": 55,
   "metadata": {},
   "outputs": [
    {
     "data": {
      "text/html": [
       "<div>\n",
       "<style scoped>\n",
       "    .dataframe tbody tr th:only-of-type {\n",
       "        vertical-align: middle;\n",
       "    }\n",
       "\n",
       "    .dataframe tbody tr th {\n",
       "        vertical-align: top;\n",
       "    }\n",
       "\n",
       "    .dataframe thead th {\n",
       "        text-align: right;\n",
       "    }\n",
       "</style>\n",
       "<table border=\"1\" class=\"dataframe\">\n",
       "  <thead>\n",
       "    <tr style=\"text-align: right;\">\n",
       "      <th></th>\n",
       "      <th>original order</th>\n",
       "      <th>Case Number</th>\n",
       "      <th>Location</th>\n",
       "      <th>Area</th>\n",
       "      <th>Country</th>\n",
       "      <th>Time</th>\n",
       "      <th>Sex</th>\n",
       "      <th>Age</th>\n",
       "      <th>Activity</th>\n",
       "      <th>Species</th>\n",
       "      <th>Injury</th>\n",
       "      <th>Fatal (Y/N)</th>\n",
       "      <th>Investigator or Source</th>\n",
       "      <th>href</th>\n",
       "      <th>pdf</th>\n",
       "      <th>Type</th>\n",
       "      <th>href formula</th>\n",
       "    </tr>\n",
       "  </thead>\n",
       "  <tbody>\n",
       "    <tr>\n",
       "      <th>0</th>\n",
       "      <td>5993</td>\n",
       "      <td>2016.09.18.c</td>\n",
       "      <td>New Smyrna Beach, Volusia County</td>\n",
       "      <td>Florida</td>\n",
       "      <td>USA</td>\n",
       "      <td>13h00</td>\n",
       "      <td>M</td>\n",
       "      <td>16</td>\n",
       "      <td>Surfing</td>\n",
       "      <td>NaN</td>\n",
       "      <td>Minor injury to thigh</td>\n",
       "      <td>N</td>\n",
       "      <td>Orlando Sentinel, 9/19/2016</td>\n",
       "      <td>http://sharkattackfile.net/spreadsheets/pdf_di...</td>\n",
       "      <td>2016.09.18.c-NSB.pdf</td>\n",
       "      <td>Unprovoked</td>\n",
       "      <td>http://sharkattackfile.net/spreadsheets/pdf_di...</td>\n",
       "    </tr>\n",
       "    <tr>\n",
       "      <th>1</th>\n",
       "      <td>5992</td>\n",
       "      <td>2016.09.18.b</td>\n",
       "      <td>New Smyrna Beach, Volusia County</td>\n",
       "      <td>Florida</td>\n",
       "      <td>USA</td>\n",
       "      <td>11h00</td>\n",
       "      <td>M</td>\n",
       "      <td>36</td>\n",
       "      <td>Surfing</td>\n",
       "      <td>NaN</td>\n",
       "      <td>Lacerations to hands</td>\n",
       "      <td>N</td>\n",
       "      <td>Orlando Sentinel, 9/19/2016</td>\n",
       "      <td>http://sharkattackfile.net/spreadsheets/pdf_di...</td>\n",
       "      <td>2016.09.18.b-Luciano.pdf</td>\n",
       "      <td>Unprovoked</td>\n",
       "      <td>http://sharkattackfile.net/spreadsheets/pdf_di...</td>\n",
       "    </tr>\n",
       "    <tr>\n",
       "      <th>2</th>\n",
       "      <td>5991</td>\n",
       "      <td>2016.09.18.a</td>\n",
       "      <td>New Smyrna Beach, Volusia County</td>\n",
       "      <td>Florida</td>\n",
       "      <td>USA</td>\n",
       "      <td>10h43</td>\n",
       "      <td>M</td>\n",
       "      <td>43</td>\n",
       "      <td>Surfing</td>\n",
       "      <td>NaN</td>\n",
       "      <td>Lacerations to lower leg</td>\n",
       "      <td>N</td>\n",
       "      <td>Orlando Sentinel, 9/19/2016</td>\n",
       "      <td>http://sharkattackfile.net/spreadsheets/pdf_di...</td>\n",
       "      <td>2016.09.18.a-NSB.pdf</td>\n",
       "      <td>Unprovoked</td>\n",
       "      <td>http://sharkattackfile.net/spreadsheets/pdf_di...</td>\n",
       "    </tr>\n",
       "  </tbody>\n",
       "</table>\n",
       "</div>"
      ],
      "text/plain": [
       "   original order   Case Number                          Location     Area  \\\n",
       "0            5993  2016.09.18.c  New Smyrna Beach, Volusia County  Florida   \n",
       "1            5992  2016.09.18.b  New Smyrna Beach, Volusia County  Florida   \n",
       "2            5991  2016.09.18.a  New Smyrna Beach, Volusia County  Florida   \n",
       "\n",
       "  Country   Time Sex  Age Activity Species                     Injury  \\\n",
       "0     USA  13h00    M  16  Surfing      NaN     Minor injury to thigh   \n",
       "1     USA  11h00    M  36  Surfing      NaN      Lacerations to hands   \n",
       "2     USA  10h43    M  43  Surfing      NaN  Lacerations to lower leg   \n",
       "\n",
       "  Fatal (Y/N)       Investigator or Source  \\\n",
       "0           N  Orlando Sentinel, 9/19/2016   \n",
       "1           N  Orlando Sentinel, 9/19/2016   \n",
       "2           N  Orlando Sentinel, 9/19/2016   \n",
       "\n",
       "                                                href  \\\n",
       "0  http://sharkattackfile.net/spreadsheets/pdf_di...   \n",
       "1  http://sharkattackfile.net/spreadsheets/pdf_di...   \n",
       "2  http://sharkattackfile.net/spreadsheets/pdf_di...   \n",
       "\n",
       "                        pdf        Type  \\\n",
       "0      2016.09.18.c-NSB.pdf  Unprovoked   \n",
       "1  2016.09.18.b-Luciano.pdf  Unprovoked   \n",
       "2      2016.09.18.a-NSB.pdf  Unprovoked   \n",
       "\n",
       "                                        href formula  \n",
       "0  http://sharkattackfile.net/spreadsheets/pdf_di...  \n",
       "1  http://sharkattackfile.net/spreadsheets/pdf_di...  \n",
       "2  http://sharkattackfile.net/spreadsheets/pdf_di...  "
      ]
     },
     "execution_count": 55,
     "metadata": {},
     "output_type": "execute_result"
    }
   ],
   "source": [
    "df.head(3)"
   ]
  },
  {
   "cell_type": "code",
   "execution_count": 56,
   "metadata": {},
   "outputs": [
    {
     "data": {
      "text/plain": [
       "White shark                             161\n",
       "Shark involvement not confirmed          80\n",
       "Tiger shark                              68\n",
       "Bull shark                               52\n",
       "6' shark                                 40\n",
       "                                       ... \n",
       "Questionable Incident                     1\n",
       "1.2 m [4'] blacktip or sandbar shark      1\n",
       "White shark, 2.1 m [7']                   1\n",
       "Raggedtooth shark, 2 m [6.75']            1\n",
       "Bull shark, 1m                            1\n",
       "Name: Species , Length: 1538, dtype: int64"
      ]
     },
     "execution_count": 56,
     "metadata": {},
     "output_type": "execute_result"
    }
   ],
   "source": [
    "df[\"Species \"].value_counts()"
   ]
  },
  {
   "cell_type": "code",
   "execution_count": 57,
   "metadata": {},
   "outputs": [
    {
     "name": "stdout",
     "output_type": "stream",
     "text": [
      "[nan, '2 m shark', \"3' to 4' shark\", 'Tiger shark, 10?', 'White shark', \"Bull shark, 6'\", 'Bull shark, 3.5 m', \"Tiger shark, 10' \", 'Blacktip shark', 'Blue shark', \"Nurse shark, 4'\", 'reef shark, 1m', \"Lemon shark, 9'\", 'Angel shark', 'dogfish shark', 'Tawny nurse shark', \"Caribbean reef shark, 4.5'\", \"3' to 5' shark\", \"5' shark\", \"3' shark\", \"Said to involve an 8' shark but more likely damage caused by debris\", '3+ m shark', 'Mako shark', 'Bronze whaler sharks x 3', '3 m shark', \"Bull shark, 4' to 5'\", \"Blacktip shark, 4'\", \"Nurse shark, 2'\", \"Mako shark, 1.5 m [5'] \", 'Wobbegong shark', 'Grey reef shark, 2 m', \"Bull shark, 7'\", 'Tiger shark, 2.5 m', 'Shark involvement not confirmed', \"5' to 6' shark\", 'Nurse shark, 2.5-ft', 'Bronze whaler', 'Sandtiger shark', 'No shark involvement', \"Reef shark, 5'\", 'Bull sharks x 2', \"Tiger shark, 14'\", 'White shark, 3 m', \"Silky shark, 6.5'\", \"9' shark\", \"Bronze whaler shark, 6'\", 'Tiger shark, 1.5 m ', 'White shark, 3.5 m', 'Bull shark', \"Spinner shark, 7'\", 'Bull shark, 2.8 to 3.1 m', 'White shark, 3 to 3.5m ', \"Spinner shark, 5'\", \"Tiger shark, 7'\", 'Hammerhead sp.', \"Tiger shark, 13' \", \"4' to 5' shark\", \"Blacktip shark, 4' to 5'\", \"Blacktip shark, 5' to 6'\", \"White shark, 19'\", 'juvenile shark', \"Tiger shark, 13'\", \"4' shark\", \"6' shark\", \"White shark, 11' to 12'\", 'Hammerhead shark.', 'White shark, 2.5 m', \"4' shark?\", 'small shark', 'Tiger shark', \"White shark, 10' to 12' \", \"White shark, 13'\", \"Hammerhead shark. 6' to 7'\", \"Blacktip or spinner shark, 4'\", \"Thought to involve a 3' to 4' shark, but shark involvement not confirmed\", 'Mako shark, 100-lb', 'Bronze whaler shark, 1.5m', 'Bull shark, 2m', \"White shark, 7'\", 'Shark involvement not cofirmed', \"6' to 7' shark\", 'White shark, 2m to 3 m', \"Bull shark, 5'\", 'small nurse shark', 'Bull shark, 2.5 m', '1m to 1.2 m shark', '3- to 4-foot shark', 'White shark, 6 m', 'Blue shark, 8 to 9 feet', 'White shark, 4 m', 'Tiger shark, 8 to 12 feet', 'Blacktip Reef shark ', 'Tiger shark, 3.5 m', '3.5 to 4 m shark', '2 m to  3 m shark', '1.8 m shark', 'Bull shark, 1.3 m', '5 m shark', '1.5 m shark', 'White shark or oceanic whitetip shark', 'Raggedtooth shark, 1.3 m', '\"A small shark\"', 'White shark, 4 to 5 m', 'Shark involvement prior to death still to be determined', 'Shark involvement not confirmed & highly unlikely', \"White shark, 8' to 10'\", 'Goblin shark', \"2' shark\", \"Tiger shark, 12'\", \"12' to 14' shark\", '1 m shark', \"Bull shark, 3' to 4'\", \"White shark, 18' to 20'\", \"8' to 10' shark\", '2 white shark: 13\\' & 9\"8\"', \"7' shark\", \"White shark, 12' to 14'\", 'Spinner shark', 'Spinner shark or blacktip shark', \"4' to 6' shark\", \"Bull shark, 4.5' \", 'reef shark', \" Bull shark, 8'\", \"Bull shark, 9' to 10'\", \" Bull shark, 5'\", \"4' tp 5' shark\", 'Possibly juvenile tiger shark', '1.8 metre shark', \"6' to 8' shark\", \" White shark, 7' \", \"Oceanic whitetip shark'\", \"Caribbean reef shark, 7' to 8'\", ' Lemon shark, 3.5 m', \" Sandbar shark, 3' to 4'\", ' Bull shark, 1.2m ', '3m shark', ' Tawney nurse shark, 1m', 'Galapagos shark', \" white shark, 15' \", 'reef shark?', ' Raggedtooth shark, 2m', '3 m to 4 m white shark', 'Blacktip or spinner shark?', 'Blacktip reef shark ', '7-gill shark?', '1m shark', '7-gill shark', 'Reported to involve a bull shark', 'White shark, 3m ', \"Tiger shark, 10' to 12'\", ' Wobbegong shark, 1.6 to 1.8m ', 'Tiger shark, 3m ', 'Thought to involve a white shark', \"White shark, 10 '\", 'Reported to involve a white shark', 'Blacktip reef shark, 1m', 'Thought to involve a bull shark', 'Reported to involve a 4 m white shark', \"Whitetip reef shark, 4' to 6'\", 'Nurse shark?', 'Small bull shark', 'Nurse shark', 'Salmon shark', \"Mako shark, 5'\", 'Tiger shark?', \"Bull shark, 8'\", \"Bull shark, 6' to 8'\", \"Tiger shark, 8' to 10' \", \"Possibly a Bull shark, 3'\", \"Lemon shark, 4'\", 'a small shark', 'Wobbegong, 2m', 'Grey nurse shark, 3m', 'Possibly a blacktip reef shark', 'shark involvement not confirmed', 'Raggedtooth shark, 1.5 m', 'Tiger shark, 4.8 m', 'Bronze whaler shark, 2.5m', '\"small sharks\"', 'White shark, 4m', 'Lemon shark', 'White shark, 5m', \"Tiger shark, 15'\", 'Bronze whaler shark, 3m', '2.5 m shark', 'Bull shark, 2m ', \"Tiger shark, 6'\", \"10' shark\", 'Seven-gill shark', \"Tiger shark, 10'\", \"2' to 3' shark\", \"Tiger shark, 8'\", \"Tiger shark, 10' to 12' \", \"White shark, 15' to 16' \", '2m shark', 'Possibly a 3 m bull shark', \"3.5' to 4' shark\", \"Porbeagle shark, 7'\", '4.5 m shark', \"Lemon shark, 4' to 5' \", 'Lemon shark, 2.5m to 3m ', 'White shark or bronze whaler', 'Salmon shark suspected, but unlikely', \"14' to 18'shark\", \"15' shark\", 'possibly a bull shark', 'a small reef shark', 'small blacktip shark?', 'Blacktip shark ', 'Blue shark, 2.5m', 'White shark, 2 m', '18\" to 24\" shark', 'Bull shark, 3m', \"Tiger shark, 8' to 9' \", 'White shark, 4 m to 5m ', 'White shark, 6m ', \"Tiger shark, 10'  \", 'White shark, 4m ', 'Possibly a bull shark', \"Possibly a 5' to 6' bull shark\", 'Tawny nurse shark, 40cm', 'Grey nurse shark', 'White shark, 7m', 'Tiger shark, 3m', 'Blue shark, 70-kg blue shark', 'White shark, 2.7 m', 'Allegedly a 4 m tiger shark', \"7' to 8' shark \", 'White shark, 2.5m', 'Wobbegong shark?', \"White shark, 15' to 16'\", 'Raggedtooth shark', \"White shark, 10'\", \"White shark, 15'\", 'Port Jackson shark, 1m', \"10' to 12' shark\", '2 to 2.5 m shark', 'Tiger shark, 2m', \"6' shark, possibly a blactip or spinner shark\", 'Shark involvement prior to death not confirmed', \"White shark, >6'\", \"Possibly a 5' to 6' sandtiger shark\", '4 m shark', 'Grey reef shark ', 'White shark, 3m to 4m', 'Dusky shark, 3m', \"White shark, 5' k\", \"Oceanic whitetip shark, 7'\", \"Sevengill shark, 6' to 8'\", ' Tiger shark, 2.8m', 'Zambesi shark', \"Sandbar shark ,8'\", \"Bull shark, 12'\", 'reef shark, 1.5m', \"1' to 2' shark\", 'possibly a bronze whaler shark', ' Bull shark, 2.5 m', 'Blacktip shark pup', 'Bull shark, 2.5m', '3 m to 4 m shark', 'White shark x 2', 'Caribbean reef shark', 'Oceanic whitetip shark, 2.5m ', 'Mako shark ', 'Oceanic whitetip shark, 2.5m, female', \"Porbeagle shark, 8' \", \"White shark, 14' to 18' \", 'Bull shark, 1.4m ', \"Possibly a 6' lemon shark\", 'Possibly a small blacktip shark', \"Sandtiger shark, 4' to 5'\", 'A small spinner shark', 'Nurse shark, juvenile ', \"Blue shark, 7'\", \"8' shark\", '20 to 30kg shark', \"Lemon shark, 6'\", \"14' shark\", \"Oceanic whitetip shark, 6'\", 'Possibly a blue shark', 'Wobbegong shark, 1.6m', '2 m to 3 m shark', \"Spinner shark, 6'\", 'Thought to involve a juvenile hammerhead shark', 'Whitetip reef shark, 1m', 'Zambesi shark, 2m ', 'White shark, 2.8 to 3 m ', \"Sandtiger shark, 8'\", 'Thresher shark', \"Bull shark, 10'\", 'Spurdog', \"White shark, 5' to 6' juvenile \", 'White shark, 2m', 'Tiger shark, 12', 'Bull shark?', 'Shark involvement questionable', \"Caribbean reef shark, 6'\", \"Nurse shark, 6'\", 'Thought to involve a Bronze whale shark, 2m', 'Shark involvement probable, but not confirmed', 'Oceanic whitetip shark', 'Oceanic whitetip shark, 2.5 to 3m', '80 kg shark', \"5' to 8' shark\", 'blacktip or spinner shark', \"White shark, 12' to 15' female\", 'Bronze whaler shark?', 'Blacktip reef shark pup', 'Thought to involve a cookie cutter shark', 'Wobbegong shark, 60cm', 'Blue shark, 1m', '2.6 m shark', 'White shark, 2.5m ', 'Bull shark, 2.7 m ', \"White shark, 12' \", 'White shark, 5.5 m ', 'Dusky shark, 2m', 'White shark, 3.5m', 'Mako shark, 3m', 'Broadnose sevengill shark', 'White shark, 4m to 5m ', '4 to 5m white shark', 'Raggedtooth shark, 2m', 'White shark, 4.5 to 5 m ', 'Zambesi shark?', 'Bronze whaler shark', ' reef shark, 1.8m', '5 m white shark', \"+3' shark\", \"2' to 3' juvenile shark\", \"White shark, 14' to 16' \", \"8' bull shark or Caribbean reef shark\", \"8' white shark or 7-gill shark\", \"3'  shark\", \"2'  shark\", \"2' to 3' reef shark\", 'Starry smoothhound shark, 1m', \"Bull shark, 6' to 7'\", 'White shark, 4.5m', \"4.5 to 5' shark\", 'Basking shark', 'Tiger sharks in area', '2 small bull sharks', 'Bull shark, 1.8m', \"White shark, 12' to 15'\", 'Tiger shark, 2.3m ', \"Tiger shark, 13' female\", 'Reported by media as shark attack, but shark involvement prior to death was not confirmed', 'Shark involvement not confirmed; thought to be a barracuda bite', \"1.5' to 2' shark\", \"2.5' shark\", 'A bull shark, according to some of the divers on the boat', 'Blacktip shark, 2m', 'Mako shark, 90kg', 'Bronze whaler shark, 4m', \"Nurse shark, 10'\", 'Possibly a hammerhead shark', '\"a small shark\"', 'Not a shark attack; it was a hoax', '2.27 m shark', '1.5 to 2 m shark', \"Blacktip shark, 5'\", 'Oceanic whitetip sharks were in the vicinity', 'Gray reef shark', \"9.5' shark?\", \"Nurse shark, 2' to 3' \", 'Possibly a spinner shark', \"White shark, 12'\", 'Sand shark', \"Possibly a 6' bull shark\", ' ', \"Possibly a 10' bull shark\", 'Bronze whaler shark, 1.5 m ', \"3' small spotted catshark, Scyliorhinus canicula\", \"Bull shark, 5' \", \"Lemon shark, 6' female \", 'A 10-year-old 94-pound pregnant blacktip reef shark', 'Lesser spotted dogfish, Scyliorhinus canicula, less than 80 cm in length', 'White shark, 2m ', \"Tiger shark, 14' \", 'Lemon shark, >1 m ', \"Bull shark, 10' \", 'White shark, 3m', '2.4 m shark', '24\" to 30\" shark', \"6' to 8' shark, possibly a tiger shark\", '2.5 to 3 m shark', '2 to 3 m shark', \"White shark, 12' to 15' \", 'Raggedtooth shark, 150-kg', 'White shark, 5m ', 'Bull shark, 1.5m ', \"White shark, 16' \", \"1' to 4' shark\", \"3' to 3.5' shark\", 'White shark, 3.5m ', 'small catsharks', 'White shark?', 'Thought to involve a mako shark, but possibly a sea lion', \"Bull shark, 4' to 5' \", 'Angel shark, 1.2m ', 'Shark involvement not confirmed, injury may have been caused by a bluefish', 'Bull or tiger shark', \"5' to 6' spinner or bull shark\", '1.8 m blacktip \"reef\" shark', \"Possibly a 1' to 3' blacktip or spinner shark\", \"14' white shark\", \"Tiger shark, 8' to 12'\", \"Tiger shark, 15' female\", \"Grey reef shark, 5' to 8' \", 'Wobbegong shark, 2 m ', \"Bull shark, 4' to bull shark\", 'Bronze whaler shark, a  juvenile ', 'Raggedtooth shark, 2.5 m to 3 m ', '3 m, 600-kg shark', \"Tiger shark, 5' \", 'Bronze whaler shark, 2 m', \"5' to 7' shark\", '4.5 m white shark', \"12' to 18' shark\", \"12' shark\", '3.5 m white shark', 'Said to involve a 1.5 m shark', 'Whitetip reef shark', '4 m white shark', '3 m white shark', 'Raggedtooth shark, 2.5m ', \"12' to 14' white shark\", \"18' white shark\", \"Tiger shark, less than 10'\", 'Caribbean reef sharks', 'Tiger shark, 3 m ', \"14' to 16' white shark\", \"4 m [13'] white shark\", \"2 m [6.75'] shark, 200-kg shark T\", 'juvenile white shark', 'possibly a small blacktip shark', 'Possibly a sandbar shark or small blacktip shark', \"1.8 m [6'] shark\", \"3.5 m [11.5']shark\", \"[4.5' to 5'] shark\", \"[4' to 5']\", \"1.8 m [6'] bull shark\", 'On 8/13/2005 anglers from New Zealand caught a 2.8 m [9\\'3\"], 140-kg [309-lb] shark at the same spot. It was believed this was the same shark that killed Alysha', 'Unknown, but it was reported that a shark tooth was recovered from the wound', \"3 m [10'] white shark\", \"Mr. Burgess of ISAF announced the injury was the bite of a 1.8 m [6'], 2- to 3-year old white shark. Subsequent investigation revealed there was  no shark involvement in this incident\", '\"small shark\"', '18\" to 36\" shark', \"Tiger shark, 3 m [10']\", \"2 m [6.75'] copper shark\", \"1.8 m [6'] blacktip shark\", 'small hammerhead shark', \"4 m [13'] shark\", \"6 m [20'] white shark\", \"Sandtiger shark, 2.1 m [7'] \", \"Tiger shark, 2.5 m [8.25']\", \"Bronze whaler shark, 4.3 m [14'] \", \"Nurse shark, 3' \", \"Tiger shark, 2.4 m [8']\", \"1.8 m [6'] Caribbean reef shark\", \"3 m [10'] shark\", \"Bronze whaler shark, 2 m to 3 m [6.75' to 10']  \", '4.5 m & 5 m white shark ', \"5.5 m [18'] white shark\", \"2.5 m [8.25'] bull shark\", \"2 m [6.75'] white shark\", \"Bronze whaler shark, 2.4 m [8'] \", \"1.8 m to 2.4 m [6' to 8'] white shark\", \"Tiger shark, 2.4 m to 3.7 m [8' to 12'] \", \"Raggedtooth shark, 1.5 to 2 m [5' to 6.75']\", 'Thought to involve a 2.5 m bull or tiger shark', \"Tiger shark, 3 m [10'] \", \"2.4 m [8'] shark\", \"0.9 m to 1.2 m [3' to 4'] white shark\", \"4.9 m to 5.5 m [16' to 18'] white shark\", \"1.2 m [4'] shark\", \"3 m to 4 m [10' to 13']  white shark\", \"1.2 m to 1.5 m [4' to 5'] shark\", \"Longfin mako shark, 3.5 m [11.5'], 350-kg [772-lb] \", '2 sharks, 4.5 m & 3 m ', '\"black tipped\" shark', '9\\'2\" white shark', \"Bronze whaler shark, 2.5 m [8.25'] \", \"0.9 m to 1.5 m [3' to 5'] shark\", \"2.4 m to 3.7 m [8' to 12'] shark\", \"1,5 m [5'] Caribbean reef shark (Carcharhinus  perezi)\", \"Mako shark, 1.8 m [6']\", \"Wobbegong shark, 1.2 m [4'] k\", \"White shark, 5.5 m [18']\", 'small sharks', \"5 m [16.5'] white shark\", \"1.2 m [4'] bull shark\", 'bull shark', \"Tiger shark, 2.4 m to 3 m [8' to 10'] \", \"Bronze whaler shark, 1.5 m [5'] \", \"2 m [6.75'] sevengill  shark\", '60 cm [23.6\"] blind or brown shark', \"4 m to 5 m [13' to 16.5'] white shark\", 'Possibily a  1.5 to 2 m sandtiger shark', 'Shark involvement doubtful', 'Bull shark, 1.65 m [5\\'5\"] was speared & killed', 'Bull shark, 132-kg [291-lb] ', \"Mako shark, 3 m to 4 m [10' to 13'] \", \"Raggedtooth shark, 3.5 m [11.5'] \", 'Shortfin mako shark', 'Questionable Incident', \"Wobbegong shark, 1.2 m [4'] \", \"Tiger shark, 4 m [13']  ?\", '2.5 oceanic whitetip shark', \"Nurse shark, 60 cm to 90 cm [2' to 3'] \", \"1.5 m [5'] shark, either a bronze whaler or a grey nurse shark\", '1.2 m [4\\'] \"grey-colored shark\"', '2 m cow shark', \"4.5 m to 5.5 m [15' to 18'] white shark\", \"3.5 m [11.5'] white shark\", 'Unidentified species', \"1.5 m to 1.8 m [5' to 6'] shark\", \"2.1 m  [7'] bull shark\", \"8' great hammerhead shark\", 'Grey reef shark', \"106 cm [3.5']  shark\", '\\x93small brown shark\\x94', \"3.7 m to 4.3 m [12' to 14'] shark\", '\"sand shark\"', \"1.8 m [6'] reef shark - or a 2.1 m to 2.4 m [7' to 8'] grey-colored shark\", \"0.9 m to 1.2 m [3' to 4'] shark\", 'A \\x93small\\x94 shark', '15 cm to 20 cm [6\" to 8\"] bite diameter just below left knee', \"Mako shark, 3 m [10']\", \"60 cm [2'] captive shark\", \"2.5 m [8.25'] white shark\", 'Species unidentified', \"Thought to involve a 2 m [6.75'] grey nurse shark\", \"Thought to involve a >2 m [6.75'] bull shark\", 'Reported to involve a hammerhead shark', 'White shark, 4 m white shark', 'Wobbegong shark, 1m', 'Shark involvement not confirmed, injury may be due to a stingray', \"3 m to 4.5 m [10' to 15'] white shark\", \"2.4 m to 3 m [8' to 10'] grey colored shark\", \"1.8 m to 2.1 m [6' to 7']\\xa0 Caribbean Reef Shark \", 'Possibly a bull shark or tiger shark', 'Blacktip or spinner shark', \"3.5' to 4.5' shark\", \"1.2 m [4'] blacktip shark\", \"Tiger shark, 1.5 m [5']k\", \"3 m to 3.7 m [10' to 12'] shark\", \"1' to 2' hammerhead or bonnethed shark\", \"0.9 m  to 1.2 m [3' to 4'] shark\", \"Nurse shark, 1.5 m [5'] \", \"Sandtiger shark, 3 m [10'] \", \"1.2 m [4'] blacktip or sandbar shark\", \"Bull shark, 1.8 m to 2.1 m [6' to 7'] \", 'Mako shark, 400-lb ', \"1.2 m to 1.5 m [4' to 5'] shark, possibly a bull shark\", \"Tiger shark, 2.4 m to 2.7 m [8' to 9']  \", \"0.9 m to 1.2 m [3' to 4'] shark; Tooth fragment recovered from hand\", '\\xa0 ', \"1.5 to 2.5 m [5' to 8.25'] copper shark\", \"3.7 m to 4.3 m [12' to 14'] white shark\", '1 m  shark', \"3' blacktip shark\", \"2.1 m to 2.4 m [7' to 8'] shark\", \"White shark, 6m [20']\", 'Bull shark, 400-lb ', \"0.9 m [3'] shark\", 'Nurse shark, 1m ', \"Spinner shark, 3' to 4' \", 'Shark involvement prior to death unconfired', '1.5 m [5\\'] \"whaler shark\"', 'C. leucas tooth fragment recovered from kayak', 'Unidentified', \"Tiger shark, 1.8 m [6'] \", \"Mako shark, 2 m [6.75'] \", \"Tiger shark, 1.8 m [6']\", 'Questionable incident - shark bite may have precipitated drowning', \"2' to 3.5' shark\", \"12' sandtiger shark\", 'A large white shark was filmed by divers on a local wreck 2 days prior to the incident.', \"1.5 m [5'] shark\", \"3 m [10'] bull shark\", 'Possibly  a blacktip or spinner shark', \"3' shark, possibly  a blacktip or spinner shark\", \"Blacktip shark, 5' to 6' \", \"1.9 m [6.5'] bull shark\", \"Mako shark, 14' \", \"0.9 m  [3'] shark\", \"Bull shark, 2.3 m [7.5'] \", \"White shark, 2.4 m to 3 m [8' to 10'] \", \"1.2 m to 1.5 m [4.5' to 5'] shark\", \"White shark, 2.7 m to 3 m [9' to 10'] \", 'Possibly a juvenile blacktip or spinner shark', \"Possibly a 1.5 m [5'] blacktip or spinner shark\", '1 m shark, possibly whitetip reef shark', \"White shark, 2.7 m [9'] \", \"Spinner shark, 1.2 m to 1.5 m [4' to 5'] \", \"Tiger shark, 8' \", \"White shark, 5 m [16.5'] \", \"Bronze whaler shark, 2.5 m [8.25']  k\", \"2 m [6.75'] shark\", \"White shark, 4.3 m [14'] \", '1.8 m to 2.4 m [6\\' to 8\\'] \"black finned shark\"', \"6 m [20'] shark\", 'White shark, 4.5 m [14\\'9\"] ', \"Porbeagle shark, 3 m [10']rk\", 'Tiger shark, 4 m ', \"1.2 m to 1.8 m [4' to 6'] shark\", \"Bull shark, 1.5 m to 1.8 m [5' to 6'] \", \"White shark, 4.9 m [16'] \", \"Tiger shark, 1.8 m to 2.4 m [6' to 8'] \", \"2.1 to 2.4 m [7' to 8'] shark\", \"Blacktip shark, 2' \", \"White shark, 4.3 m [14']\", \"White shark, 4 m to 5 m [13' to 16.5'] \", '100-kg [221-lb] dead blue shark', 'White shark, 2.5 m ', \"60 cm to 90 cm [2' to 3'] shark\", \"White shark, 3.5 m [11.5']  male \", 'Thought to involve a Zambesi shark', \"A 2' shark was seen in the area by witnesses\", \"Thought to involve a 2.7 m [9'], 400-lb bull shark\", 'Tiger shark, 3.7 m to 4.5 m [12\\' to 14\\'9\"]  ', \"Blacktip shark, 2.4 m to 3 m [8' to 10'] \", 'Shark involvement  not confirmed', \"Nurse shark, 1.5 m [5']\", \"1.8 m [6'] grey-colored shark\", \"Grey reef shark, 2 m [6.75'] \", \"Lemon shark, 2.1  m to 2.4 m [7' to 8'] \", \"Tiger shark, 0.9 m to 1.5 m [3' to 5'] ?\", \"Nurse shark, 1.2 m [4'] \", \"0.9 m [3'] shark,  probably a blacktip or spinner shark\", \"Bull shark, 2.4 m [8']\", \"Blacktip shark, 1.2 m to 1.8 m [4' to 6'] \", 'Tiger sharks & bull sharks (20 sharks in all)', \"Tiger shark, 4 m [13'] ?\", \"2 m to 2.5 m [6.75'  to 8.25'] shark\", 'Shark involvement  questionable', \"Shortfin mako shark, 3 m to 3.4 m [10' to 11'] \", 'Miami, a 60 cm blacktip  shark and two 60 cm bamboo catsharks', 'Hammerhead shark', 'Sevengill shark', 'Thought to involve a white, bull or tiger shark', 'Thought to involve a 1.2 to 1.5 m tubarão da gralha preta -  a blacktip shark, C. limbatus?', \"White shark, 3 m [10'] \", '1.3 to 1.6 m shark', \"Grey reef shark, 1.2 m [4'] \", \"Lemon shark, 2.7 m [9'] \", \"Said to involve a 7 m [23'] white shark\", \"2.7 m [9']  bull shark or Caribbean reef shark\", \"White shark, 3 m to 5 m [10' to 16.5'] \", \"Bull shark, 2.1 m [7']\", \"Blacktip shark, 1.8 m [6'] \", \"White shark, 4 m [13'] \", 'Grey reef shark, 1.5 m ', '3 bull sharks', \"Sevengill shark, 2.4 m [8'] \", '200 to 300 kg shark', 'Mako shark, 1.3 m gaffed ', \"3.7 m to 4.6 m [12' to 15'] shark seen in the vicinity\", 'Bronze whaler or tiger shark', \"White shark, 4.6 m [15'] \", 'Possibly a white shark', 'A \"small shark\"', \"White shark, 5 m  to 6 m [16.5' to 20'] \", 'Though to involve a white shark', \"White shark, 5 m to 6 m [16.5' to 20'] \", \"Dusky shark, 12' \", \"Caribbean reef shark, 1.2 m to 1.5 m [4' to 5'] \", \"4.5' to 5' shark\", 'Sandtiger shark, 2 m, male ', \"White shark, 4.9 m [16']\", \"Raggedtooth shark, 1.2 m [4'] \", 'Thought to involve a 5.5 m white shark named Kong', \"3 m to 4 m [10' to 13'] white shark\", \"Lemon shark, 1.5 m [5'], identified  by the surfer\", \"1.8 m [6'] shark, possibly a blacktip\", \"Nurse shark, 0.9 m [3'] \", \"5' spinner shark\", '1.7 m shark', 'Small dusky shark or blackfin shark', 'sandtiger shark', 'Shark involvement in his death uncofirmed', \"Tiger shark, 4 m to 4.3 m [13' to 14'] \", 'Possibly a blacktip shark', 'Soupfin shark', 'small blacktip shark', \"Tiger shark, 5.2 m [17']\", 'Thought to involve an oceanic whitetip shark or a white shark', '\"juvenile shark\"', \"Tiger shark, 2.7m  [9']\", \"1.2 m [4'] shark (spinner shark?)\", 'Possibly a sand shark', 'Possibly a Caribbean reef shark', '3.7m  to 4.2 m white shark', 'Tiger shark, 2m to 3m ', \"1.8 m to 2.1 m [6' to 7'] shark\", 'Tiger shark, 4.5 m [14\\'9\"]', \"3 m to 5 m [10' to 16.5'] white shark\", \"5.5 m to 6 m [18' to 20'] white shark\", '\"a young shark\"', \"Tiger shark, 2.4 m [8'] \", \"1.8 m to 2.1 m [6' to 7'] hammerhead shark\", 'said to involve an oceanic whitetip shark', \"2.5 m [8.25'] white shark \", \"60 cm to 90 cm [2' to 3'] blacktip or spinner shark\", 'nurse shark', '\"reef shark\"', \"Nurse shark, 0.9 m  [3'] \", 'Possibly a tiger shark', \"Mako shark, 4.3 m [14']\", 'Tiger shark, 300-kg [662-lb] ', \"Tiger shark, 2.5 m [8.25'] \", \"1.2 m to 1.5 m [4' to 5']   shark\", \"1.5 to 1.8 m [5' to 6'] shark\", \"3 m to 3.7 m [10' to 12'] bull shark\", '\"sand\" shark', \"Two 1.2 m to 1.5 m [4' to 5'] sharks\", \"1.8 m [6'] grey reef shark\", 'White shark (tooth fragment recovered)', \"Tiger shark, 3.7 m [12'] \", 'Though to involve a tiger shark', \"3.7 m [12'] shark\", 'Probable bluefish bite', 'Bronze whaler shark, 2 m ', 'Leopard shark', \"5 m to 5.5 m [16.5' to 18'] white shark\", \"Raggedtooth shark, 2.7 m [9'] \", \"2.7 m [9'] shark\", 'Thought to involve a small sand shark', 'Small shark', \"3 to 3.5 m [10' to 11.5'] bull shark\", \"1.2 m [4'] spinner shark\", \"2.1 m [7'] shark\", \">1.8 m [6'] shark\", 'Blue shark bites post mortem', \"3 m [10'], 200-kg [441-lb] bull shark\", '4.9 m white shark', '3.6 m [11\\'9\"] white shark', \"Lemon shark, 4' \", '1.3 m [4\\'3\"] shark', \"Tiger shark said to be 5 to 7 m [16.5' to 23'] \", \"On 11-Jan-1994, his remains washed ashore. A 2.4 m [8'] tiger shark thought to be involved\", 'Tiger shark caught 6 days later with diver\\x92s remains in its gut', \">6 m [20'] white shark\", \"3.7 m [12'] white shark\", \"1.8 m [6'] blacktip shark or Caribbean reef shark\", '>6 m white shark, according to witnesses', \"5.5 m to 6 m [18' to 20']  white shark\", \"1.8 m to 2.4 m [6' to 8'] shark, tooth fragments recovered \", 'Thought to involve a tiger shark', \"Remains recovered from 5.5 m [18'] white shark\", 'Possiby white shark', \"Tiger shark, 3.7 m [12'], (tooth fragment recovered from wound)\", \"Two 3 m [10'] oceanic whitetip sharks\", \"Tiger shark, 3 m to 4.9 m [10' to 16'] \", \"Mako shark, 1.8 m [6']  \", \"6' to 7' blacktip shark\", '5 m to 6 m white shark', '3 m hammerhead shark', 'Unidentified shark', \"Tiger shark, 3 m to 3.7 m [10' to 12'] \", \"Tiger shark, 4.3 m [14'] \", '4.2 m white shark', \"4 m to 5 m [13' to 16.5']  white shark \", \"Nurse shark, 3', 20-lb \", 'Cookie cutter shark', 'Bull shark or lemon shark', 'White shark, identification by K. Nakaya', 'Shark involvement prior to death was not confirmed', \"Tiger shark, 3 m to 4 m [10' to 13'] \", \"4 m [13'], 590-kg white shark\", '>2 m shark', 'Bronze whaler shark, 3 m', \"5 m [16.5'] white shark, identification by K. Nakaya\", \"Said to involve a 6 m to 7 m [20' to 23'] white shark\", \"5 m [16.5'] shark\", '1.8 m grey shark', \"Bronze whaler shark, 2.3 m [7.5'] \", \"Zambesi shark, 1.7 m [5.5'] \", \"Possibly a 1.5 m [5'] blacktip shark\", \"Tiger shark, 2.4 m 3.4 m [8' to 11']  \", \"5 m to 6 m [16.5' to 20'] white shark\", \"3 m [10'], 270- kg [595-lb] shark\", 'sand shark', 'Lemon shark, 30-lb ', \"2.1 m [7'], 140-lb reef shark\", \"Tiger shark, 3 to 4 m [10' to 13'] \", \"2.7 m [9'] bull or lemon shark\", \"Tiger shark, >3 m [10']\", '3.5 m [11.5\\'] female white shark named \"Notchfin\"', '170-kg, 2.8 m shark', \"7' female shark\", '\"Shark had a very large girth\"', 'Grey nurse shark, 2 m', \"1.8 m [6'] shark \", \"4' spinner shark\", \"1.8 m to 2.4 m [6' to 8'] shark\", \"5 m  [16.5'] white shark\", \"2.5 m to 3 m [8.25' to 10']  white shark\", 'Shark involvement prior to death could not be determined', '4.5 m [14\\'9\"] white shark', '6 m, 600-kg shark', '2 m hammerhead', \"5.5 m [18'] white shark, identified by witnesses & tooth marks\", \"2.3 m [7.5'] white shark, identified by M. Smale\", \"Two sharks seen in vicinity: 2.4 m & 4.25 m  [8' & 14'] TL\", 'Tiger shark, 2m ', '2 m shark, possibly a bronze whaler', \"2.7 m [9'] white shark\", 'Large tiger shark', 'White shark, identified by tooth pattern', '150-lb shark', '4 to 5 m white shark', \"4 m to 5 m [13' to 16.5']  white shark\", 'Sandbar shark', 'Blue Shark ', \">3.4 m [11'] white shark\", \"Bronze whaler shark, 3 m [10'] \", 'Shark involvement suspected but not confirmed', \"1.8 m [6'] sandtiger shark\", '5 m to 7 m white shark', 'Tiger shark, 3.5 m ', \"3 m [10'] gaffed shark\", \"1.8 m to 2.4 m [6' to 8'] hammerhead shark\", \"Tiger shark, 4 m [13'] \", \"7' silvertip shark\", \"16' white shark\", \"2.4 m to 3 m [8' to 10'] white shark\", '2 m to 2.5 m shark', \"1.5 m [5'] Caribbean reef shark\", 'Sand shark?', \"1.5 m to 2 m [5' to 6.75'] shark\", 'Raggedtooth shark, 2 m ', '1 m \"grey-colored\" shark', 'Zambezi shark (tooth fragments recovered)', \"Mako shark, 3 m [10'], 200-kg [441-lb] \", '1.5 m copper shark', '6 m shark', 'Tiger shark, 4 m, 420-kg, caught 13-Dec-1987', '40 to 50 sharks attacked survivors in the water', \"3.5 m [11.5']  white shark\", '5.7 m white shark', \"1.5 m [5'] blacktip shark\", '4.3 m shark', 'Bronze whaler shark, 2 m to 3 m ', \">2.5 m [8.25'] white shark\", 'Doubtful / Unconfirmed attack / Unable to verify in local records', \"Raggedtooth shark, 2.5 m [8.25'] \", \"1.8 m to 2.1 m [6' to 7'] spinner or blacktip shark\", \"1.8 m [6'] copper shark\", 'Raggedtooth shark, 1.96 m, 140-kg ', \"Lemon shark, 1.8 m to 2.4 m [6' to 8'], tooth fragment recovered\", '1.6 m shark', \"Tooth fragment of a white shark recovered. Authorities believed shark was 6 m [20']  total length\", \"1.2 m [4'] dusky shark\", '>1 m shark', \">2.4 m [8'] white shark\", \"Raggedtooth shark, 2 m [6.75'] \", 'Bronze whaler shark, 3.5 m ', '5.2 to 5.8 m white shark', \"2 m to 2.5 m [6.75'  to 8.25'] sixgill or sevengill shark\", \"Thought to involve a Tiger shark,  3.7 m [12'] \", \"6', 100-lb shark\", '1.8 m silky shark', 'Possibly a small hammerhead shark', \"Tiger shark, 2.4 m to 2.7 m [8' to 9'] \", '3 m to 3.6 m  [10\\' to 11\\'9\"] white shark', '30-kg [66-lb] shark', '3.5 m white shark, tooth fragments recovered', \"1.5 m [5'] dusky shark\", 'Shark involvement not confirmed; officials considered barracua', 'Hammerhead shark?+O2356', 'small blue shark', '4.5 m to 5 m white shark', '4.5 m to 5.5m white shark', 'Raggedtooth shark ', \"2.4 m [8'] white shark\", \"1.2 m to 1.5 m [4' to 5'] hammerhead shark\", \"2.5 m [8.25'] shark\", 'Raggedtooth shark, 56-kg [123-lb] ', \" 1.5 m [5'] dusky shark\", '1.5 m white-tipped reef shark', 'Raggedtooth shark, 1 m ', \"12' white shark\", 'Raggedtooth shark, >1 m ', '1.74 m, 116-kg Zambesi shark', '.5 m shark', \"4.5' shark\", \"6' to 8' bull shark\", \"Tiger shark, 5 m [16.5']\", \"3 m to 4 m [10' to 13'] shark\", \"3.5' hammerhead shark\", \"6' blacktip shark\", \"Raggedtooth shark, 1.5 m [5'] (tooth fragment recovered)\", \"1.8 m [6'] Zambezi shark\", 'Blue sharks', 'Believed to involve a 2.8 m [9\\'3\"] white shark', 'Tiger shark, 2.7 m [9\\'5\"], 364-lb', 'Questionable incident; reported as shark attack but thought to involve a pinniped instead ', \"2.1 m [7'] shark, possibly a spinner shark\", \"2.4 m [8'] white shark, species identity confirmed by tooth fragment\", \"4.5 m to 5.5 m [14.7' to 18'] white shark\", 'Reported as a shark attack, the story was a hoax', \"2.4 m [8'] white shark, species identity confirmed by witnesses & tooth pattern in surfboard\", 'Lemon shark, 2 m [6\\'9\"]', '1.2 m to 1.5 m [4\\' to 5\\'] \"reef shark\"', \"5.5 m [18''] white shark\", \"7 m [23'] white shark\", \"Tiger shark, 3.7 m [12']\", \"3.5 m [11.5'], 510-kg [1125-lb] hooked & shot white shark\", '2.1 m [7\\'] shark with \"a very flat head\\x94 that had followed the boat for 3 days', 'Said to involve a tiger shark or a hammerhead shark', \"1.8 m [6'] shark, species identity questionable\", 'Shark involvement prior to death remains unconfirmed', 'Mako shark (tooth fragments recovered)', '\"sandshark\"', \"Possibly a  1.8 m [6'] Zambezi shark\", '\"gray shark\"', \"13', 400-lb thresher shark\", \"1.2 m [4'] shark hindered recovery of body\", '6 m  white shark', \"Tiger shark, 2.1 m [7']\", \"1.2 m to 1.5 m [4' to 5'] bull, sandbar or dusky shark\", 'C. maculpinnis or C. limbatus', 'Juvenile dusky or blacktip shark', '1 m hammerhead shark', 'Tiger shark, 2.5 m ', \"3.5 m [11.5'] shark\", \"1.8 m [6'] white shark\", \"4' to 8' shark\", \"1.5 m [5'] hammerhead shark\", '2.8 m [9\\'3\"] white shark', '2.2 m shark', '2 m [6\\'9\"] Zambesi shark', 'Raggedtooth shark, 2 m [6\\'9\"] ', \"1.8 m [6'] dogfish\", 'Said to involve a white shark but shark involvement not confirmed', '2 m [6\\'9\"] shark', 'White shark, 5 m ', \"Raggedtooth shark, 50-kg [110-lb], 2 m [6.75'] gaffed \", \"White shark, 2.5 m [8.25']  \", \"White shark, 2.3 m [7.5'], tooth fragment recovered\", \"White shark, 3.7 m [12'] \", 'Sevengill shark, 2.4 m', '270 kg shark', 'Thought to involve a blacktip shark', \"Tiger shark, 3 m [10']k\", \"3 m [10'] white shark (Tooth  recovered from boat)\", \"1.5 to 2 m [5' to 6.75'] shark\", \"White shark, 5.5 m to 6 m [18' to 20']  \", 'Bull shark, 8', 'Mako shark, 2.3 m, 150-kg  ', \"White shark, 5.5 m [18'] \", \"White shark, 3 m [10'] k\", \"2.1 m [7'] lemon shark or bull shark\", 'White shark, 4.8 m ', \"White shark, 3 m to 4 m [10' to 13'] \", \"White shark, 3.5 m [11.5'], species identity confirmed by tooth fragment\", \"2.7 m  [9'] shark\", \"Tiger shark, 6' \", 'White shark, 4.5 m ', 'Blue shark, 2m ', 'Mako shark, 180-kg [397-lb]', '400-lb shark', 'Whale shark', 'White shark named \\x93Spotty\\x94', \"Grey nurse shark, 10' \", 'Juvenile dusky shark', 'Shark involvement unconfirmed', \"White shark, 2.4 m [8']\", \"White shark, 5.8 m [19'] \", 'White shark, 5m to 6m', \"2.4 m [8'] whaler shark\", 'White shark, 600-kg [1323-lb]', \"1.5 m [5']  shark\", \"Mako shark, 3 m [10'] \", \"Carpet shark, 10' \", 'Copper shark, 50-kg [110-b] ', \"8' blue shark\", \"White shark, 5.5 m to 6 m [18' to 20'] \", 'White shark, 4 m to 5 m ', \"Shortfin mako shark, 2.3 m [7.5'] \", \"White shark, 5 m to 6 m [16.5 to 20'] \", \"small sharks'\", \"3.7 m [12'] sharks\", \"White shark, 5 m [16.5']\", \"Raggedtooth shark, 1.5 m [5'] \", \"Bronze whaler shark, 4' \", \"7' to 8' bull shark\", \"1.5 m to 1.8 m [5' to 6']  blacktip shark\", '2 m shark, possibly a dusky or blacktip shark', \"1.2 m to 1.8 m [4' to 6'] shark observed in area\", \"White shark, > 3 m [10']\", \"Bronze whaler shark, 10' \", 'Oceanic whitetip shark x 2', \"White shark, 6 m [20'] \", '2 sharks', \"White shark, 4.4 m to 5 m [14.5' to 16.5'] \", '1.5 m grey reef shark', \"White shark, 2.5 m [8.25'] \", \"White shark, 3 m [10']rk\", '1.5 m to 2 m shark', \"White shark, 5 m to 6 m [16.5' to 20']  \", \"Grey nurse shark, 11'\", \"White shark, 3 m [10'], species identity confirmed by witnesses & tooth pattern in leg & board \", '3.6 m  porbeagle shark', 'White shark according to tooth pattern and witnesses', '1.8 to 2 m C. albimarginatus', '\"Dog shark\"', \"7.5' shark\", 'Raggedtooth shark, 2 m [6\\'9\"], 5-year-old, captive female ', 'Wobbegong shark ', \"5.5 m [18'] shark seen in the vicinity\", 'Carpet shark', \">2.4 m [8'] shark\", \"White shark, 4.3 m 4.9 m [14' to 16'] \", 'Considered a \"Doubtful\" incident', \"Lemon shark, 9' \", 'White shark, identified by tooth fragments in surfboard', 'Unconfirmed incident', \"2 scalloped hammerhead sharks, 1.5 m & 1.8 m [5' & 6']\", '90-kg \"blackfin\" shark', \"White shark, 4.3 m [14'], (tooth fragment recovered)\", 'a small hammerhead shark', \"4m [13'] shark\", 'Not authenticated', \"1.5 m to 2 m [5' to 6.75'] Caribbean reef shark \", \"2.7 m [9'] silky shark\", \"Bronze whaler shark, 1.8 m [6'] \", '\"Blue whaler\" (Galeolamna)', \"1.5 m to 1.8m [5' to 6'] shark\", 'Nurse shark, 1 m ', \"5' blue shark\", 'Nurse shark, 106 cm, 28-lb, male ', \"1.5 m to 1.8 m [5' to 6'] sandbar shark\", \"White shark, 4 to 5 m [13' to 16.5'] \", 'White shark or thresher shark', \"2.1 m [7'] sandtiger shark\", \"Grey nurse shark, 1.5 m [5'] \", \"Grey nurse shark, 1.5 m [5']\", \"Bronze whaler shark, 2.1 m [7'], a tooth was embedded in the speargun \", \"Mako shark, 1.9 m [6.5'] \", \"Nurse shark, 2.5' \", 'A pack of 6 sharks', \"1.5 m to 2.1 m  [5' to 7'] shark\", 'Spinner or blacktip sharks', 'Lemon shark or sandtiger shark', \"Local authorities speculated that the water was too cold for sharks, but a 2.1 m [7'], 200-lb pregnant sandbar shark was caught next day\", \"1.2 m [4'] hammerhead shark\", 'Believed white shark and other smaller species of sharks involved.', \"Alleged to involve a White shark, 7.6 m [25'] \", \"White shark, 2.5 m [8.25'], an immature female, previously injured\", 'Copper shark', \"Wobbegong shark, 5' \", \"1.5 m to 1.8 m [5' to 6'] Zambesi shark\", \"76 cm [2.5'] carpet shark\", '1.8 m to 2 m [6\\' to 6\\'9\"] shark', \"1.8 m [6'] carpet shark\", \"4.6 m [15'] shark\", \"Grey nurse shark, 2.4 m [8'] \", \"1.8 m [6'], 180-lb shark\", '2 sharks involved', '300-kg [662-lb] shark', 'Lemon shark, 0.5 m', 'Tiger shark, tooth fragment recovered', \"1.8 m [6'], 136-kg [300-lb] shark \", \"4.9 m [16'] whaler\", \"Nurse shark, 0.94 m to 1.2 m [3' to 4'] \", 'Small shark with white-tipped dorsal fin', \"1.5 m to 2.1 m [5' to 7'] shark, possibly a mako shark\", \"White shark, 2.4 m [8'] \", 'White shark, 2.7 m [9\\'1\"], 750-lb ', \"Grey nurse shark, 1.8 m [6']\", \"1.8 to 2.4 m [6' to 8'] shark\", \"Less than 1.2 m [4']\", 'white shark', 'Lemon shark ', \"1.7 m [5.5'] shark\", 'Tiger shark, 3.5 m, 250-lb female', \"White shark, 1.5 m [5'] k\", \"White shark, 3 m to 3.7 m [10' to 12'] \", 'White shark, 3.6 m [11\\'9\"] ', 'Wobbegong', \"2.1 m to 2.4 m  [7' to 8'] shark\", \"Zambesi shark, 1.8 m [6'] \", \"1.8 m [6']  shark\", \"4.3 m [14'], 1000-lb shark\", 'Dusky shark, 1 m ', \"Wobbegong shark, 3' \", \"White shark, 1.7 m [5.5']\", '300- to 400-lb Zambesi shark', 'Possibly a broadnose 7-gill shark', \">1.2 m [4'] tiger shark\", 'White shark, 15\\'2\" ', \"Silky shark, 1.9 m [6.5']\", 'Dooley believed his Injury was caused by stingray (Dasyatidae family)', '500-lb shark', \"White shark, 4 m [13'] rk\", \"numerous dusky sharks & a 3 m to 4.6 m [10' to 15'] to  tiger shark\", \"5.5 m [18'] shark\", '8 sharks', 'White shark, 3 m ', 'Hand found in gut of 2.9 m to 3.3 m [9\\'7\" to 10\\'11\"] Galapagos shark, C. galapagensis', \"1.8 m to 2.4 m  [6' to 8'] shark\", \"3.7 to 4.5 m [12' to 15'] shark seen in vicinity\", \"White shark, 2.1 m [7'] \", 'Tooth fragments of \\x93whaler\\x94 shark were recovered, a bull shark, according to Edwards', '193-lb shark', \"Grey nurse shark, 1.8 m [6'] \", '<1.5 m shark', 'Zambesi shark, 2 m [6\\'9\"] ', \"White shark, 16', 2,312-lb \", \"White shark, 4.3 m [14'] (or bronze whaler)\", '2 m [6\\'9\"], 87.5-kg [193-lb]  shark', \"White shark, 4.3 m to 4.9m [14' to 16']\", \"3 m [10'] blue whaler\", 'Blue shark bites present ', \" Blacktip shark, C. maculipinnis. 1.9 m to 2.1 m [6.5' to 7'] \", '\"A long thin brown-colored shark\"', \"Horn shar,k Heterodontus francisci, 1.2 m [4'] \", \"4.3 m [14'] shark\", 'Unknown', '3.5 m shark', \"2.7 m to 3 m [9' to 10'] sharks\", 'Possibly a bronze whaler shark', \" Sevengill  shark, 1.2 m [4'] \", \"Bronze whaler shark, 3.7 m [12'] \", \"Zambesi shark, 1.2 m [4'] \", \"4.9 m [16']shark\", \"Bronze whaler shark, 4.6 m [15'] \", \"1.2 m  [4'] shark\", '60 cm  shark ', \"Bronze whaler shark,  3m [10'] \", 'Said to involve a 4.9 m [16\\'] \"red shark\"', \" Grey nurse shark,  3 m [10'] \", \"2.1 m [7'] shark, a shark's serrated tooth recovered from toe\", \"Said to involve a Grey nurse shark 3.7 m [12'] \", '36\"  shark', \"10' whale\", \"Next morning a 3 m [10'] shark was caught that had Andrews' leg in its gut\", \"Two shark's teeth recovered from canoe\", 'Oceanic whitetip shar,; identified by Dr. W.C. Schoeder on photograph & Dr. L.P. L. Schultz on sketch by observer', \"1.5 m to 1.8 m  [5' to 6'] shark\", \"Blacktip shark, 1.8 m to 2.1 m [6' to 7'] \", '43\" shark', \"White shark, 5.2 m [17'], 2500-lb \", \"2.7 m [9']shark\", 'Hammerhead shark, 500-llb ', 'Wobbegong shark, 1.4 m [4\\'6\"] ', '2 m  \"yellow belly\" captive shark. Shark destroyed by aquarium staff next day', \"Wobbegong shark, O. barbatus,  1.8 m [6'], identified by G.P. Whitley\", ' \"gummy\" shark (Rhizoprionodon or Loxodon) 1.2 m [4\\']', \"Grey nurse shark, 2,7 m [9'], 200-lb \", \"Wobbegong shark, 1.4 m [4.6'] \", \"Bronze whaler shark, 2.4 m [8'] Identified by Clyde Buttery\", \"Grey reef shark, 1.8 m [6'] grey reef shark, identified by Dr. L.P. L. Schultz based on photographs; identified as C. melanopterus by Stewart\", 'Zambesi shark, 4\\'9\"', '2\\' \"banjo shark\"', \"2.1 m [7'], 90-kg shark\", \"Grey nurse shark, 2.7 m [9'] \", 'Shovel-nosed guitarfish', \"Wobbegong shark, 1.5 m [5'] \", 'White shark, based on bite pattern', \"Hammerhead shark, 1.8 m [6'] \", \"Six Zambesi sharks seen to 1.5 m [5'] in length\", 'Raggedtooth shark, 147-kg [324-lb] ', '> 3 m shark', \"White shark, 3 m [10'], tooth fragment from wounds identified as that of a white shark\", 'Grey nurse shark, 1m ', 'Bull shark, 1m ', \"Wobbegong shark, 1.8 m [6'] \", 'White shark (tooth fragments recovered from hull of boat)', '1.4 m [4\\'6\"] blacktip shark', \"White shark, 3.7 m to 4.6 m [12' to 15'] \", 'White shark, 18 mm tooth fragment  recovered from the hull', \"2.4 m [8'], 600-lb shark\", 'Grey reef shark, Identified as C. menisorrah, by E.S. Hobson, F. Mautin & E.S. Reese (1961)', 'Grey reef shark, Identified by E.S. Hobson, F. Mautin & E.S. Reese (1961)', '3 hammerhead sharks nearby', 'Lemon shark, 1164 mm, immature male, identified by  V.G. Springer', '80-lb hooked shark', \"Mako shark, 1.8 m to 2.1 m [6' to 7']  with hook & wire leader caught in mouth\", \"Dusky shark, 2.7 m [9'] dusky shark C. obscurus identified by S. Springer on tooth recovered\", 'Lemon shark, 1.8 m [6\\'] male, N. breviostris, identified by W.A. Stark II, later the same day a 6\\'8\" pregnant female lemon shark bit the bow of the boat', \"White shark, 2.1 m [7']  based on tooth pattern\", \"Bronze whaler shark, 3 m [10'], 200-lb\", 'Raggedtooth shark, 100-lb ', \"Five 1.8 m [6']  sharks\", \"Bronze whaler shark, 3.7 m [12'] identified by G.P. Whitley based on description\", 'White shark (tooth fragments recovered)', \"1.2 m [4'], possibly  larger shark\", \"Two 2.1 m [7'] sharks\", \"Bronze whaler shark,4 m [13'] \", 'According to Benjamin, the injury was inflicted by a barracuda, not a shark', \"Tiger shark, 3.4 m [11'] captured\", 'Grey nurse shark, 2.9 m [9\\'6\"] ', '3.5 m [11\\'6\"] shark captured', 'Blue pointer', \"4.9 m [16'] shark\", \"3.7 m to 4.6 m [12' to 15'] shark\", 'Blacktail reef shark', 'Blacktip reef shark', \"3.7 m [12'] tiger shark\", \"2.4 m  [8'] shark\", \"2.7 m [9']  shark\", \"3 m to 4.3 m [10' to 14'] shark\", \"3.7 to 4.6 m [12' to 15'] sharks\", \"Thresher shark, 3.7 m [12'] \", \"Blue shark, 1.5 m [5'] \", \"Carpet shark, 1.5 m [5']\", \"White shark, 5 m [16.5'], identified by Dr. W. I. Follett on tooth marks\", 'A hammerhead shark, then 8 to 10 other sharks were said to be  involved', 'Said to involve white shark, but species identify questionable', \"White shark, 3.5 m [11.5'], identified by W. I.  Follett on tooth fragments\", '\"sand shark\" Listed as questionable incident', 'White shark, based on 2 teeth retrieved from rudder', 'Porbeagle', \"5.5' shark\", \"Hammerhead shark, 9' \", '20 kg shark', \"Blue shark, 3 m [10']\", \"White shark, 3 m to 5 m [10' to 15'] \", \"Hammerhead shark, 1.8 m [6'] S. zygena identified by C. Limbaugh on description\", 'Blue shark?', \"Hammerhead shark, 2.4 m [8'] \", \"Hammerhead shark, 3 m [10'] \", \"Blue shark, 1.8 m [6'] \", 'Nurse shark, 60 cm [24\"], identified by Dr. L.P. L. Schultz on photograph', \"Oceanic whitetip shark,1.8 m [6'] \", \"Reported to involve a White shark, 6 m to 7m [20' to 23'] \", \"White shark, 2.7 m [9'], 280-lb \", \"White shark, 3 m [10']; identifed by Dr. W.I. Follett on tooth marks\", \"Tiger shark 4.3 m [14'] \", \"Mako shark, 2.4 m [8'], <300-lb, identified by Dr. L.P. L. Schultz on photograph\", \"1.8 to 2.1 m [6' to 7'] shark\", \"Bitten by several 1.8 m [6'] sharks\", \"Said to involve 2 sharks: 5.2 m & 6 m [17' & 20'] \", \"White shark, 1.8 m to 2.1 m [6' to 7']  according to Shreuder and a witness\", \"1.4 m [4.5'] shark\", \"1.5 m to 1.8 m [5' to 6'] sharks\", \"Tiger shark, 12' ?\", \"Tiger shark, 4.6 m to 7.6 m [15' to 25'] \", 'Questionable incident', '200-lb shark', \"Hammerhead shark, 5.2 m [17'] \", \"Tiger shark, 1.5 m to 1.8 m [5' to 6'] \", \"Sharks averaged 1.8 m [6'] in length\", \"Nurse shark, 1.5 m [5']  identified by Dr. E. Clark on description of shark\", 'Tiger shark, <2 m TL', \"Nurse shark, 2.1 m [7']  identified by Dr. E. Clark on color & tooth impressions\", \"Nurse shark, 1.1 m [3.5'] \", 'Mako shark, 100-kg [221-lb] ', '8; 206-lb shark', '<1 m shark', 'Several sharks involved', \">3 m [10'] shark\", 'Identified as carcharinid shark (based on its behavior) by Dr. D.P. L. Schultz; mako shark according to Huges', \"2.7 m [9'] bull shark, identified by Capt. W. Gray\", 'Said to involve a 1 m  white shark, but thought  that it was more likely a blue shark', 'Shark seen feeding on turtle scraps thrown overboard prior to incident.', 'Said to involve a large mako shark', \"3.7 m [12'] shark \", \"2.4 m [8'] tiger shark caught 40 hours later with shorts of the boy in its gut\", 'Mako shark, 125-lb ', 'White shark, according to witnesses', 'a sand shark', 'White shark, 13\\'10\", 1320-lb female ', \"Wobbegong shark, 4' \", 'Porbeagle or white shark', \"2.3 m [7'] shark\", '8-lb shark', \"3.7 m [12'] shark & may have been another shark nearby\", '40-lb sand shark', 'Survivors said 2 species of sharks were involved:  oceanic whitetip sharks and another species', 'Survivors said 2 species of sharks were involved:  oceanic whitetip sharks and another species,', \"5' thresher or blue shark. The shark  was killed following the incident\", 'Tooth fragments recovered from hull', \"0.7 m [2.5'] sand shark\", 'White shark, 6.5 m ', \"2.4 m [8']  shark\", '\"small brown-colored shark\"', \"Leopard shark, 3' Triakis semifasciata, identified by J.W. DeWitt (1955)\", \"White shark, 5 m to 6 m [16.5' to 20] \", '3.6 m  white shark  (or bronze whaler)', \"4 m [13'] shark x 6\", \"Bronze whaler shark,3.7 m [12'] \", '\"a little shark\"', \"Blacktip reef shark, 1.5 m [5'] \", \"20' shark\", 'White shark, 2000-lb', 'Nurse shark, 58\", 34-lb ', '5m shark', \"2.4 m [8'] shark, possibly a dusky shark\", 'White shark tooth fragment recovered from ankle & identified by Dr. W. I. Follett', 'Bull shark suspected due to freshwater habitat', \"Nurse shark, 1.8 m [6'] \", \"a small shark'\", \"Said to involve a >4 m [13'] shark\", \"3.7 [12'] shark\", '80-lb sand shark', \"Hammerhead shark, 1.5 m [5'] \", '\"Tintorero\"', \"3 m [10'] shark seen in vicinity\", \"White shark, 3.7 m [12'], 500 to 500-kg [1,200 lb], identified by W. C. Shroeder based on tooth fragment ebedded in gunwale\", '2 m [6\\'9\"] shark ', \"1.5 m [5'] shark, probable bull shark\", \"White shark,4.6 m [15'] \", \">6.7 m [22']  shark\", 'Zambesi shark, 113-kg [249-lb] female ', \"Hammerhead shark, 5' \", \"Tiger shark, 1.5 m [5'] \", 'White shark, 2 m to 4 m [6\\'9\" to 13\\'] ', \"Carpet shark, 5' \", '\"A 2\\' (0.6 m) brown shark\"', 'White shark, 15\\'3\", 2,333-lb ', 'a \"small slim brown shark\"', \"Bull shark, 2.7 m [9'] was captured & dragged on the sand where tissue taken from Eggink was found in its gut. Species identification  was made by S. Springer based on 4 photographs of the shark. \", '\"Attacked by a number of sharks\"', \"White shark, 1.8 m [6'] \", \"Wobbegong shark, 4'\", '136-kg [300-lb] shark', \"Nurse shark, 10' \", \"Wobbegong shark, 6'\", 'White shark, 3m, seen in area and hooked 3 days later', '1,100-lb shark', \"17' white shark\", \"0.7 m [2.5'] shark\", 'unknown, possibly a white shark', '2.13 m shark', \"1.5 m to 1.8 m [5' to 6'] \\x93spear-eye\\x94 shark \", \"Szot's right hand found in a 4.5' [14.5'] tiger shark caught 3/9/1950 at Safety Bay, south of Freemantle\", 'small carpet shark', \"White shark, 3.7 m [12']  according to witnesses\", 'White shark, 3.6 m,  420 kg male', 'Possibly a lemon shark', 'Whtietip reef shark', \"Tiger shark, 3.7 m to 4.3 m  [12' to 14']\", 'Alleged to involve a white shark \"with little yellow eyes\"', \"2.7 m [9'] shark with black-tipped pectoral fins\", \"Grey nurse shark, 2.6 m [8.5']  \", 'Bonita sharkk, 200-lb', \"Whaler shark, 2.7 m [9'], 350- to 450-lb  identified by G.P. Whitley\", '3.3 m [10\\'9\"] shark', \"His hand was found in a 2.4 m [8'] tiger shark caught 1/5/1949\", \"Said to be 6.4 m [21'] shark\", '\"grey shark\"', 'Tiger shark, 277-kg', 'Possibly C. leucas', 'Most likely, a small shark', '1.5 m, 45-kg shark', \"Blacktip shark, 2 m [6.75'] \", '4.5  m [14\\'9\"] shark', '>1.6 m shark', \"6 m [20']  shark\", 'White shark, 4.2 m [13\\'9\"] ', 'Tiger shark, 4.5 to 5.5 m [14\\'9\" to 18\\'], 2000-lb  ', \"1.8 m [6'] blacktip shark or spinner shark\", \"Bull sharks to 1.5 m [5']  in length\", \"Remains found in  4.25 m  [14'] shark caught at Baker\\x92s Haulover, Miami Beach on 26-Oct-1943\", 'White shark, 2 m [6\\'9\"]  (Tooth fragment recovered from victim\\'s shoulder & identified by J.T. Nicholls)', 'White shark, 3.9 m, 550 kg, male', \"1.8 m to 2.4 m [6' to 8'] sharks, most were oceanic whitetip sharks\", 'White shark, 4.5 m  to 6 m [14\\'9\" to 20\\'] according to witnesses', 'Tiger shark & others', 'Porbeagle shark', '440-lb shark', \"Bull shark, 4 m [13'] \", \"Said to involve a 6.5 m [21.5'] shark\", 'Said to be \\x93leopard sharks\\x94, more probably tiger sharks', 'Reportedly: oceanic whitetip sharks, blue sharks, tiger sharks & bull sharks', '100-lb shark', \"Mako shark (aka bonito shark) 1.2 m [4'] \", 'White shark, species identity confirmed by tooth pattern', 'White shark, 160-kg [353-lb], identity confirmed by tooth pattern', ' White shark', \"2.6 m [8.5'] shark landed 2 hours later\", \"Blue pointer, 16'\", 'whaler shark', \"Tiger shark, 4.3 m [14'], 3 tooth fragments retrieved from his wounds\", \"Nurse shark, 2.1 m [7']\", \"18' shark\", '\"a large shark\"', 'Thought to involve bull sharks', \" Tiger shark, 3'\", '\"grey-colored shark\"', 'Tiger shark,  3.6 m [11\\'9\"], 850-kg [1874-lb] female, contained Girvan\\'s remains ', \"2.6 m [8.5'] shark\", \"Tiger shark, 9' to 10' \", \"Whaler shark, 4 m [13'] \", '2 days later a 600-lb shark was caught 100 yards from the site', '3\\' \"blue nosed\" shark', \"15' shark seen with the man's body in its mouth, but shark involvement prior to death was not confirmed\", \"Grey nurse shark, 8'\", \"Thought to involve a 12' white shark\", \"0.9 m [3']  shark\", 'Large tiger shark seen in the vicinity the following morning', \"Shovelnose shark, 6 m [20'] \", 'White shark (identified by Dr. Hugh Smith) ', \"Blue shark, 8' [2.4 m], 500-lb \", \"Tiger shark, 4.6 m [15'] \", '650-lb shark', 'possibly a porbeagle shark', 'White shark, 246-kg ', \"Tiger shark 3 m  [10'] \", '\"Blue nose shark\"', \"White shark, 3.5 m to 4 m [11.5' to 13'] \", \"Tiger shark, 12' \", \"White shark, 6 m [20']\", \"Blue pointer, 11' \", 'A 6.5\\' \"blue-nosed shark\"', \"4.3 m [14'] shark seen in vicinity\", \"4 m [13'] shark seen in vicinity\", \"Mako shark, 3.7 m [12'] identified by tooth fragments by G.P. Whitley\", \"3.4 m [11']  tiger shark & a 5' shark\", \"4.3 m [14'] shark seen in area previous week\", \"Tiger shark, 3.4 m [11'] \", '3 sharks', 'Blue shark, 4.5 m [14\\'9\"]', \"Thought to involve a 2.4 m [8'] lemon shark; two 2.4 m lemon sharks caught within 100 yds of the site a week prior to & a week after this incident\", \"7' to 8' shark\", \"4.4 m [14'] shark\", 'Thought to involve a mako or grey nurse shark', \"16' 800-lb shark\", \"Teeth in hull identified as those from a white shark 4.6 m [15'] in length\", '250-lb \"dog shark\"', 'A small shark', \"Raggedtooth shark, 1.2 m to 1.5 m [4' to 5'] \", \"Hammerhead shark, 2.4 m [8'], according to lifeguard Sam Barrows\", \"18', 750-lb shark\", '\"a school of sharks\"', '1.8 m [6\\'] \"cocktail shark', \"7 shark's teeth found embedded in the woodwork of the boat\", '250-lb female \"blue fin\" shark', \"White shark 4.9 m [16'] \", 'White shark, 4.5 m [14\\'9\"], identity confirmed by witness & tooth pattern', '9-foot shark', \"Grey nurse shark, 4' \", '\"a dog shark\"', \"Blue pointer, 12'\", '\"Blue nose sharks\"', \"Moreno\\x92s leg  & part of his swim suit found in 9' shark caught two hours after the attack. Identified as carcharhinid shark by L. Schultz & C. Limbaugh on photograph\", 'Species unknown, possibly a white shark', \"White shark, 4.4 m [14.5'] . \", 'Grey nurse shark?', \"Grey nurse shark, 4'\", \"Said to involve 6 to 7 m [20' to 23'] white shark\", '\"whiptail shark\" (thresher shark?)', \"1.5 m [5'] white shark or sevengill shark\", \"White shark, 3.8 m [12.5']  \", \"According to Carlsmith, the shark's mouth was 3' wide\", \"White shark, 3.7 m [12']  \", '\"a blue shark\"', \"Tiger shark, 4 m [13'] female\", 'Said to be a \\x93small shark\\x94', \"Mako shark, 1.9 m [6.5']. Tooth fragment recovered & identified by J.T. Nichols.\", '\"a very large shark\"', \"Atkins' remains were recovered from a dusky shark, C. obscurus, by Capt. W. F. Young, shark fisherman\", '2.7 m [9\\'] \"blue\" shark', '\"A pack of 6 sharks\"', \"White shark, 12', identity confirmed by tooth fragment, witness and photograph of captured shark \", \"2.7 m [9'] shark later captured by Mitchell-Hedges\", \"Blue shark, 4' \", \"Comrades saw shark's tail appear about 5' away\", '15* to 24\" dog shark', \"15'\", \"3.7 m [12'], 1200-lb shark. Shark caught & its jaw exhibited at the Carnegie Museum\", \"3.7 m to 4.3 m [12' to 14']  shark\", \"13' shark\", \"Tiger sharks, 2.4 m to 4.9 m [8' to 16'] \", \"Said to involve a 2.7 m [9'] shark\", \"Thought to involve a 2.6 m [8.5'] white shark\", \"Reported to involve a 3.7 m [12'] shark, possibly a white shark\", 'A 20\\' shark known as \"Old Tom\"', 'said to involve a tiger shark', \"Said to involve a 2.4 m [8'] hammerhead shark\", 'Tiger shark ', '2.8 m [9\\'3\"] whaler shark captured 3 days later with his remains in its gut', 'C. macrurus captured 48 hours after attack with tissue removed from man in its gut; species identified by G.P. Whitley,  reported as C. obscurus by  R. Steel', \"Said to involve  9' blue shark\", \"5.5' to 6' shark\", '18-foot shark', 'Remains recovered from 3 sharks', 'Species unknown, possible white shark', 'Allegedly a 33-foot shark', 'Shark involvement probable', 'White shark, 6 m ', 'Shortfin mako shark, 175-lb ', 'Remains recovered 5 days later', 'Fishermen recovered partial remains from shark a week later', \"1.8 m to 2.7 m [6' to 9'] shark\", '70 kg shark', 'Questionable', '13\\'10\" shark', \"Shovelnose shark, 5'\", \"16' shark\", '5\\'7\" shark', \"Sevengill shark, 14', was caught in the vicinity\", '5 mm 3500 kg female shark', 'Unknown, but the shark was caught and put on exhibition', \"4.7 m [15.5'] shark\", 'Shark was said to \\x93have a very rough ½\\x94-thick skin\\x94', \"3 m [10'] sharks\", 'Said to involve 2 sharks', 'a school of sharks', 'White sharks', ' a small shark', 'Blue or porbeagle shark', '68\" shark', 'Wobbegongs', 'Identified as C. gangeticus by Dr. J. Fayrer', '\"Shark caught later\"', \"3.2 m [10.5'] shark\", '4\\' \"ground shark\"', 'Remains recovered from shark caught days later', '234-lb shark', 'Tiger shark (pregnant)', \"Said to involved a 6 m to 7.3 m [20' to 24'] shark\", \"Said to be a 7.6 m [25'] shark\", 'Thought to involve a porbeagle or mako shark', 'Description of shark does not ring true', '\"The fish was harpooned, dried, and presented to the sailor, who went round Europe exhibiting it  It was said to be 20 feet long.', 'White shark, 1600-lb female ', 'Possibly white sharks', \" Galapagos shark, 6'\", 'said to involve 2.5 m hammerhead sharks', 'Silvertip shark', 'A large hammerhead shark', \"Nurse shark, 2.1 m [7'] \", \"Tiger shark, 4.6 m to 6 m [15' to 20'] \", 'Shovelnose guitarfish, adult male ', '\"A pack of sharks\"', \"White shark, 7' to 8'\", 'White shark, 1,900-lb ', \"Bull shark caught, leg recovered & buried beside the man's body\", '\"a black-tipped shark\"', \"12' tiger shark\", 'Blue pointers', 'Said to involve a grey nurse shark that leapt out of the water and  seized the boy but species identification is questionable']\n"
     ]
    }
   ],
   "source": [
    "print(df[\"Species \"].unique().tolist())"
   ]
  },
  {
   "cell_type": "code",
   "execution_count": 58,
   "metadata": {},
   "outputs": [
    {
     "data": {
      "text/plain": [
       "False    3058\n",
       "True     2934\n",
       "Name: Species , dtype: int64"
      ]
     },
     "execution_count": 58,
     "metadata": {},
     "output_type": "execute_result"
    }
   ],
   "source": [
    "df[\"Species \"].isna().value_counts()"
   ]
  },
  {
   "cell_type": "code",
   "execution_count": 59,
   "metadata": {},
   "outputs": [],
   "source": [
    "df[\"Species \"] = df[\"Species \"].fillna(\"unknown\")"
   ]
  },
  {
   "cell_type": "code",
   "execution_count": 60,
   "metadata": {
    "scrolled": true
   },
   "outputs": [
    {
     "data": {
      "text/html": [
       "<div>\n",
       "<style scoped>\n",
       "    .dataframe tbody tr th:only-of-type {\n",
       "        vertical-align: middle;\n",
       "    }\n",
       "\n",
       "    .dataframe tbody tr th {\n",
       "        vertical-align: top;\n",
       "    }\n",
       "\n",
       "    .dataframe thead th {\n",
       "        text-align: right;\n",
       "    }\n",
       "</style>\n",
       "<table border=\"1\" class=\"dataframe\">\n",
       "  <thead>\n",
       "    <tr style=\"text-align: right;\">\n",
       "      <th></th>\n",
       "      <th>original order</th>\n",
       "      <th>Case Number</th>\n",
       "      <th>Location</th>\n",
       "      <th>Area</th>\n",
       "      <th>Country</th>\n",
       "      <th>Time</th>\n",
       "      <th>Sex</th>\n",
       "      <th>Age</th>\n",
       "      <th>Activity</th>\n",
       "      <th>Species</th>\n",
       "      <th>Injury</th>\n",
       "      <th>Fatal (Y/N)</th>\n",
       "      <th>Investigator or Source</th>\n",
       "      <th>href</th>\n",
       "      <th>pdf</th>\n",
       "      <th>Type</th>\n",
       "      <th>href formula</th>\n",
       "    </tr>\n",
       "  </thead>\n",
       "  <tbody>\n",
       "    <tr>\n",
       "      <th>0</th>\n",
       "      <td>5993</td>\n",
       "      <td>2016.09.18.c</td>\n",
       "      <td>New Smyrna Beach, Volusia County</td>\n",
       "      <td>Florida</td>\n",
       "      <td>USA</td>\n",
       "      <td>13h00</td>\n",
       "      <td>M</td>\n",
       "      <td>16</td>\n",
       "      <td>Surfing</td>\n",
       "      <td>unknown</td>\n",
       "      <td>Minor injury to thigh</td>\n",
       "      <td>N</td>\n",
       "      <td>Orlando Sentinel, 9/19/2016</td>\n",
       "      <td>http://sharkattackfile.net/spreadsheets/pdf_di...</td>\n",
       "      <td>2016.09.18.c-NSB.pdf</td>\n",
       "      <td>Unprovoked</td>\n",
       "      <td>http://sharkattackfile.net/spreadsheets/pdf_di...</td>\n",
       "    </tr>\n",
       "    <tr>\n",
       "      <th>1</th>\n",
       "      <td>5992</td>\n",
       "      <td>2016.09.18.b</td>\n",
       "      <td>New Smyrna Beach, Volusia County</td>\n",
       "      <td>Florida</td>\n",
       "      <td>USA</td>\n",
       "      <td>11h00</td>\n",
       "      <td>M</td>\n",
       "      <td>36</td>\n",
       "      <td>Surfing</td>\n",
       "      <td>unknown</td>\n",
       "      <td>Lacerations to hands</td>\n",
       "      <td>N</td>\n",
       "      <td>Orlando Sentinel, 9/19/2016</td>\n",
       "      <td>http://sharkattackfile.net/spreadsheets/pdf_di...</td>\n",
       "      <td>2016.09.18.b-Luciano.pdf</td>\n",
       "      <td>Unprovoked</td>\n",
       "      <td>http://sharkattackfile.net/spreadsheets/pdf_di...</td>\n",
       "    </tr>\n",
       "    <tr>\n",
       "      <th>2</th>\n",
       "      <td>5991</td>\n",
       "      <td>2016.09.18.a</td>\n",
       "      <td>New Smyrna Beach, Volusia County</td>\n",
       "      <td>Florida</td>\n",
       "      <td>USA</td>\n",
       "      <td>10h43</td>\n",
       "      <td>M</td>\n",
       "      <td>43</td>\n",
       "      <td>Surfing</td>\n",
       "      <td>unknown</td>\n",
       "      <td>Lacerations to lower leg</td>\n",
       "      <td>N</td>\n",
       "      <td>Orlando Sentinel, 9/19/2016</td>\n",
       "      <td>http://sharkattackfile.net/spreadsheets/pdf_di...</td>\n",
       "      <td>2016.09.18.a-NSB.pdf</td>\n",
       "      <td>Unprovoked</td>\n",
       "      <td>http://sharkattackfile.net/spreadsheets/pdf_di...</td>\n",
       "    </tr>\n",
       "  </tbody>\n",
       "</table>\n",
       "</div>"
      ],
      "text/plain": [
       "   original order   Case Number                          Location     Area  \\\n",
       "0            5993  2016.09.18.c  New Smyrna Beach, Volusia County  Florida   \n",
       "1            5992  2016.09.18.b  New Smyrna Beach, Volusia County  Florida   \n",
       "2            5991  2016.09.18.a  New Smyrna Beach, Volusia County  Florida   \n",
       "\n",
       "  Country   Time Sex  Age Activity Species                     Injury  \\\n",
       "0     USA  13h00    M  16  Surfing  unknown     Minor injury to thigh   \n",
       "1     USA  11h00    M  36  Surfing  unknown      Lacerations to hands   \n",
       "2     USA  10h43    M  43  Surfing  unknown  Lacerations to lower leg   \n",
       "\n",
       "  Fatal (Y/N)       Investigator or Source  \\\n",
       "0           N  Orlando Sentinel, 9/19/2016   \n",
       "1           N  Orlando Sentinel, 9/19/2016   \n",
       "2           N  Orlando Sentinel, 9/19/2016   \n",
       "\n",
       "                                                href  \\\n",
       "0  http://sharkattackfile.net/spreadsheets/pdf_di...   \n",
       "1  http://sharkattackfile.net/spreadsheets/pdf_di...   \n",
       "2  http://sharkattackfile.net/spreadsheets/pdf_di...   \n",
       "\n",
       "                        pdf        Type  \\\n",
       "0      2016.09.18.c-NSB.pdf  Unprovoked   \n",
       "1  2016.09.18.b-Luciano.pdf  Unprovoked   \n",
       "2      2016.09.18.a-NSB.pdf  Unprovoked   \n",
       "\n",
       "                                        href formula  \n",
       "0  http://sharkattackfile.net/spreadsheets/pdf_di...  \n",
       "1  http://sharkattackfile.net/spreadsheets/pdf_di...  \n",
       "2  http://sharkattackfile.net/spreadsheets/pdf_di...  "
      ]
     },
     "execution_count": 60,
     "metadata": {},
     "output_type": "execute_result"
    }
   ],
   "source": [
    "df.head(3)"
   ]
  },
  {
   "cell_type": "code",
   "execution_count": 61,
   "metadata": {},
   "outputs": [],
   "source": [
    "# df[\"Injury\"].value_counts()\n",
    "# print(df[\"Injury\"].unique().tolist())\n",
    "# df[\"Injury\"] = df[\"Injury\"].str[:16]\n",
    "# df[\"Injury\"].isna().value_counts()\n",
    "df[\"Injury\"] = df[\"Injury\"].fillna(\"unknown\")\n"
   ]
  },
  {
   "cell_type": "code",
   "execution_count": 65,
   "metadata": {},
   "outputs": [
    {
     "data": {
      "text/plain": [
       "N          4325\n",
       "Y          1553\n",
       "unknown      95\n",
       "Name: Fatal (Y/N), dtype: int64"
      ]
     },
     "execution_count": 65,
     "metadata": {},
     "output_type": "execute_result"
    }
   ],
   "source": [
    "df[\"Fatal (Y/N)\"].value_counts()\n",
    "# print(df[\"Fatal (Y/N)\"].values.tolist())\n",
    "# print(df[\"Fatal (Y/N)\"].unique().tolist())\n",
    "# df[\"Fatal (Y/N)\"] = df[\"Fatal (Y/N)\"].str[:16]\n",
    "# df[\"Fatal (Y/N)\"].isna().value_counts()\n",
    "# df[\"Fatal (Y/N)\"] = df[\"Fatal (Y/N)\"].fillna(\"unknown\")\n"
   ]
  },
  {
   "cell_type": "code",
   "execution_count": 63,
   "metadata": {},
   "outputs": [],
   "source": [
    "remove_spaces_fatal = {\" \": \"\"}\n",
    "\n",
    "for pat, repl in remove_spaces_fatal.items():\n",
    "    df[\"Fatal (Y/N)\"] = df[\"Fatal (Y/N)\"].str.replace(pat, repl)\n"
   ]
  },
  {
   "cell_type": "code",
   "execution_count": 64,
   "metadata": {},
   "outputs": [],
   "source": [
    "# ['N', 'Y', nan, 'UNKNOWN', ' N', 'F', 'N ', '#VALUE!', 'n']\n",
    "\n",
    "fatal_replace = {\"UNKNOWN\": \"unknown\",\n",
    "                 \"F\": \"Y\",\n",
    "                 \"n\": \"N\",\n",
    "                 \"uNkNowN\": \"unknown\",\n",
    "                 \"#VALUE!\": \"unknown\"}\n",
    "\n",
    "for pat, repl in fatal_replace.items():\n",
    "    df[\"Fatal (Y/N)\"] = df[\"Fatal (Y/N)\"].str.replace(pat,repl)"
   ]
  },
  {
   "cell_type": "code",
   "execution_count": 68,
   "metadata": {},
   "outputs": [
    {
     "data": {
      "text/plain": [
       "False    5992\n",
       "Name: Investigator or Source, dtype: int64"
      ]
     },
     "execution_count": 68,
     "metadata": {},
     "output_type": "execute_result"
    }
   ],
   "source": [
    "# Investigator or Source\n",
    "\n",
    "# df[\"Investigator or Source\"].value_counts()\n",
    "# print(df[\"Investigator or Source\"].unique().tolist())\n",
    "# df[\"Investigator or Source\"] = df[\"Investigator or Source\"].str[:16]\n",
    "df[\"Investigator or Source\"].isna().value_counts()\n",
    "# df[\"Investigator or Source\"] = df[\"Investigator or Source\"].fillna(\"unknown\")\n"
   ]
  },
  {
   "cell_type": "code",
   "execution_count": null,
   "metadata": {
    "scrolled": true
   },
   "outputs": [],
   "source": [
    "# df[\"Type\"].value_counts()\n",
    "# print(df[\"Type\"].unique().tolist())\n",
    "# df[\"Type\"] = df[\"Type\"].str[:16]\n",
    "# df[\"Type\"].isna().value_counts()\n",
    "# df[\"Type\"] = df[\"Type\"].fillna(\"unknown\")\n"
   ]
  },
  {
   "cell_type": "code",
   "execution_count": null,
   "metadata": {},
   "outputs": [],
   "source": [
    "df.columns"
   ]
  },
  {
   "cell_type": "code",
   "execution_count": 69,
   "metadata": {},
   "outputs": [],
   "source": [
    "# change columns order\n",
    "\n",
    "df = df[['original order', 'Case Number', 'Location', 'Area', 'Country', 'Time',\n",
    "       'Sex ', 'Age', 'Activity', 'Species ', 'Type', 'Injury', 'Fatal (Y/N)',\n",
    "       'Investigator or Source', 'href', 'pdf', 'href formula']]"
   ]
  },
  {
   "cell_type": "code",
   "execution_count": 70,
   "metadata": {
    "scrolled": false
   },
   "outputs": [
    {
     "data": {
      "text/html": [
       "<div>\n",
       "<style scoped>\n",
       "    .dataframe tbody tr th:only-of-type {\n",
       "        vertical-align: middle;\n",
       "    }\n",
       "\n",
       "    .dataframe tbody tr th {\n",
       "        vertical-align: top;\n",
       "    }\n",
       "\n",
       "    .dataframe thead th {\n",
       "        text-align: right;\n",
       "    }\n",
       "</style>\n",
       "<table border=\"1\" class=\"dataframe\">\n",
       "  <thead>\n",
       "    <tr style=\"text-align: right;\">\n",
       "      <th></th>\n",
       "      <th>original order</th>\n",
       "      <th>Case Number</th>\n",
       "      <th>Location</th>\n",
       "      <th>Area</th>\n",
       "      <th>Country</th>\n",
       "      <th>Time</th>\n",
       "      <th>Sex</th>\n",
       "      <th>Age</th>\n",
       "      <th>Activity</th>\n",
       "      <th>Species</th>\n",
       "      <th>Type</th>\n",
       "      <th>Injury</th>\n",
       "      <th>Fatal (Y/N)</th>\n",
       "      <th>Investigator or Source</th>\n",
       "      <th>href</th>\n",
       "      <th>pdf</th>\n",
       "      <th>href formula</th>\n",
       "    </tr>\n",
       "  </thead>\n",
       "  <tbody>\n",
       "    <tr>\n",
       "      <th>0</th>\n",
       "      <td>5993</td>\n",
       "      <td>2016.09.18.c</td>\n",
       "      <td>New Smyrna Beach, Volusia County</td>\n",
       "      <td>Florida</td>\n",
       "      <td>USA</td>\n",
       "      <td>13h00</td>\n",
       "      <td>M</td>\n",
       "      <td>16</td>\n",
       "      <td>Surfing</td>\n",
       "      <td>unknown</td>\n",
       "      <td>Unprovoked</td>\n",
       "      <td>Minor injury to thigh</td>\n",
       "      <td>N</td>\n",
       "      <td>Orlando Sentinel, 9/19/2016</td>\n",
       "      <td>http://sharkattackfile.net/spreadsheets/pdf_di...</td>\n",
       "      <td>2016.09.18.c-NSB.pdf</td>\n",
       "      <td>http://sharkattackfile.net/spreadsheets/pdf_di...</td>\n",
       "    </tr>\n",
       "    <tr>\n",
       "      <th>1</th>\n",
       "      <td>5992</td>\n",
       "      <td>2016.09.18.b</td>\n",
       "      <td>New Smyrna Beach, Volusia County</td>\n",
       "      <td>Florida</td>\n",
       "      <td>USA</td>\n",
       "      <td>11h00</td>\n",
       "      <td>M</td>\n",
       "      <td>36</td>\n",
       "      <td>Surfing</td>\n",
       "      <td>unknown</td>\n",
       "      <td>Unprovoked</td>\n",
       "      <td>Lacerations to hands</td>\n",
       "      <td>N</td>\n",
       "      <td>Orlando Sentinel, 9/19/2016</td>\n",
       "      <td>http://sharkattackfile.net/spreadsheets/pdf_di...</td>\n",
       "      <td>2016.09.18.b-Luciano.pdf</td>\n",
       "      <td>http://sharkattackfile.net/spreadsheets/pdf_di...</td>\n",
       "    </tr>\n",
       "    <tr>\n",
       "      <th>2</th>\n",
       "      <td>5991</td>\n",
       "      <td>2016.09.18.a</td>\n",
       "      <td>New Smyrna Beach, Volusia County</td>\n",
       "      <td>Florida</td>\n",
       "      <td>USA</td>\n",
       "      <td>10h43</td>\n",
       "      <td>M</td>\n",
       "      <td>43</td>\n",
       "      <td>Surfing</td>\n",
       "      <td>unknown</td>\n",
       "      <td>Unprovoked</td>\n",
       "      <td>Lacerations to lower leg</td>\n",
       "      <td>N</td>\n",
       "      <td>Orlando Sentinel, 9/19/2016</td>\n",
       "      <td>http://sharkattackfile.net/spreadsheets/pdf_di...</td>\n",
       "      <td>2016.09.18.a-NSB.pdf</td>\n",
       "      <td>http://sharkattackfile.net/spreadsheets/pdf_di...</td>\n",
       "    </tr>\n",
       "  </tbody>\n",
       "</table>\n",
       "</div>"
      ],
      "text/plain": [
       "   original order   Case Number                          Location     Area  \\\n",
       "0            5993  2016.09.18.c  New Smyrna Beach, Volusia County  Florida   \n",
       "1            5992  2016.09.18.b  New Smyrna Beach, Volusia County  Florida   \n",
       "2            5991  2016.09.18.a  New Smyrna Beach, Volusia County  Florida   \n",
       "\n",
       "  Country   Time Sex  Age Activity Species         Type  \\\n",
       "0     USA  13h00    M  16  Surfing  unknown  Unprovoked   \n",
       "1     USA  11h00    M  36  Surfing  unknown  Unprovoked   \n",
       "2     USA  10h43    M  43  Surfing  unknown  Unprovoked   \n",
       "\n",
       "                     Injury Fatal (Y/N)       Investigator or Source  \\\n",
       "0     Minor injury to thigh           N  Orlando Sentinel, 9/19/2016   \n",
       "1      Lacerations to hands           N  Orlando Sentinel, 9/19/2016   \n",
       "2  Lacerations to lower leg           N  Orlando Sentinel, 9/19/2016   \n",
       "\n",
       "                                                href  \\\n",
       "0  http://sharkattackfile.net/spreadsheets/pdf_di...   \n",
       "1  http://sharkattackfile.net/spreadsheets/pdf_di...   \n",
       "2  http://sharkattackfile.net/spreadsheets/pdf_di...   \n",
       "\n",
       "                        pdf                                       href formula  \n",
       "0      2016.09.18.c-NSB.pdf  http://sharkattackfile.net/spreadsheets/pdf_di...  \n",
       "1  2016.09.18.b-Luciano.pdf  http://sharkattackfile.net/spreadsheets/pdf_di...  \n",
       "2      2016.09.18.a-NSB.pdf  http://sharkattackfile.net/spreadsheets/pdf_di...  "
      ]
     },
     "execution_count": 70,
     "metadata": {},
     "output_type": "execute_result"
    }
   ],
   "source": [
    "df.head(3)"
   ]
  },
  {
   "cell_type": "code",
   "execution_count": 71,
   "metadata": {},
   "outputs": [
    {
     "data": {
      "text/html": [
       "<div>\n",
       "<style scoped>\n",
       "    .dataframe tbody tr th:only-of-type {\n",
       "        vertical-align: middle;\n",
       "    }\n",
       "\n",
       "    .dataframe tbody tr th {\n",
       "        vertical-align: top;\n",
       "    }\n",
       "\n",
       "    .dataframe thead th {\n",
       "        text-align: right;\n",
       "    }\n",
       "</style>\n",
       "<table border=\"1\" class=\"dataframe\">\n",
       "  <thead>\n",
       "    <tr style=\"text-align: right;\">\n",
       "      <th></th>\n",
       "      <th>href</th>\n",
       "      <th>pdf</th>\n",
       "      <th>href formula</th>\n",
       "    </tr>\n",
       "  </thead>\n",
       "  <tbody>\n",
       "    <tr>\n",
       "      <th>0</th>\n",
       "      <td>http://sharkattackfile.net/spreadsheets/pdf_di...</td>\n",
       "      <td>2016.09.18.c-NSB.pdf</td>\n",
       "      <td>http://sharkattackfile.net/spreadsheets/pdf_di...</td>\n",
       "    </tr>\n",
       "    <tr>\n",
       "      <th>1</th>\n",
       "      <td>http://sharkattackfile.net/spreadsheets/pdf_di...</td>\n",
       "      <td>2016.09.18.b-Luciano.pdf</td>\n",
       "      <td>http://sharkattackfile.net/spreadsheets/pdf_di...</td>\n",
       "    </tr>\n",
       "    <tr>\n",
       "      <th>2</th>\n",
       "      <td>http://sharkattackfile.net/spreadsheets/pdf_di...</td>\n",
       "      <td>2016.09.18.a-NSB.pdf</td>\n",
       "      <td>http://sharkattackfile.net/spreadsheets/pdf_di...</td>\n",
       "    </tr>\n",
       "    <tr>\n",
       "      <th>3</th>\n",
       "      <td>http://sharkattackfile.net/spreadsheets/pdf_di...</td>\n",
       "      <td>2016.09.17-Angiolella.pdf</td>\n",
       "      <td>http://sharkattackfile.net/spreadsheets/pdf_di...</td>\n",
       "    </tr>\n",
       "    <tr>\n",
       "      <th>4</th>\n",
       "      <td>http://sharkattackfile.net/spreadsheets/pdf_di...</td>\n",
       "      <td>2016.09.16-BellsBeach.pdf</td>\n",
       "      <td>http://sharkattackfile.net/spreadsheets/pdf_di...</td>\n",
       "    </tr>\n",
       "    <tr>\n",
       "      <th>...</th>\n",
       "      <td>...</td>\n",
       "      <td>...</td>\n",
       "      <td>...</td>\n",
       "    </tr>\n",
       "    <tr>\n",
       "      <th>5987</th>\n",
       "      <td>http://sharkattackfile.net/spreadsheets/pdf_di...</td>\n",
       "      <td>ND-0005-RoebuckBay.pdf</td>\n",
       "      <td>http://sharkattackfile.net/spreadsheets/pdf_di...</td>\n",
       "    </tr>\n",
       "    <tr>\n",
       "      <th>5988</th>\n",
       "      <td>http://sharkattackfile.net/spreadsheets/pdf_di...</td>\n",
       "      <td>ND-0004-Ahmun.pdf</td>\n",
       "      <td>http://sharkattackfile.net/spreadsheets/pdf_di...</td>\n",
       "    </tr>\n",
       "    <tr>\n",
       "      <th>5989</th>\n",
       "      <td>http://sharkattackfile.net/spreadsheets/pdf_di...</td>\n",
       "      <td>ND-0003-Ocracoke_1900-1905.pdf</td>\n",
       "      <td>http://sharkattackfile.net/spreadsheets/pdf_di...</td>\n",
       "    </tr>\n",
       "    <tr>\n",
       "      <th>5990</th>\n",
       "      <td>http://sharkattackfile.net/spreadsheets/pdf_di...</td>\n",
       "      <td>ND-0002-JulesPatterson.pdf</td>\n",
       "      <td>http://sharkattackfile.net/spreadsheets/pdf_di...</td>\n",
       "    </tr>\n",
       "    <tr>\n",
       "      <th>5991</th>\n",
       "      <td>http://sharkattackfile.net/spreadsheets/pdf_di...</td>\n",
       "      <td>ND-0001-Ceylon.pdf</td>\n",
       "      <td>http://sharkattackfile.net/spreadsheets/pdf_di...</td>\n",
       "    </tr>\n",
       "  </tbody>\n",
       "</table>\n",
       "<p>5992 rows × 3 columns</p>\n",
       "</div>"
      ],
      "text/plain": [
       "                                                   href  \\\n",
       "0     http://sharkattackfile.net/spreadsheets/pdf_di...   \n",
       "1     http://sharkattackfile.net/spreadsheets/pdf_di...   \n",
       "2     http://sharkattackfile.net/spreadsheets/pdf_di...   \n",
       "3     http://sharkattackfile.net/spreadsheets/pdf_di...   \n",
       "4     http://sharkattackfile.net/spreadsheets/pdf_di...   \n",
       "...                                                 ...   \n",
       "5987  http://sharkattackfile.net/spreadsheets/pdf_di...   \n",
       "5988  http://sharkattackfile.net/spreadsheets/pdf_di...   \n",
       "5989  http://sharkattackfile.net/spreadsheets/pdf_di...   \n",
       "5990  http://sharkattackfile.net/spreadsheets/pdf_di...   \n",
       "5991  http://sharkattackfile.net/spreadsheets/pdf_di...   \n",
       "\n",
       "                                 pdf  \\\n",
       "0               2016.09.18.c-NSB.pdf   \n",
       "1           2016.09.18.b-Luciano.pdf   \n",
       "2               2016.09.18.a-NSB.pdf   \n",
       "3          2016.09.17-Angiolella.pdf   \n",
       "4          2016.09.16-BellsBeach.pdf   \n",
       "...                              ...   \n",
       "5987          ND-0005-RoebuckBay.pdf   \n",
       "5988               ND-0004-Ahmun.pdf   \n",
       "5989  ND-0003-Ocracoke_1900-1905.pdf   \n",
       "5990      ND-0002-JulesPatterson.pdf   \n",
       "5991              ND-0001-Ceylon.pdf   \n",
       "\n",
       "                                           href formula  \n",
       "0     http://sharkattackfile.net/spreadsheets/pdf_di...  \n",
       "1     http://sharkattackfile.net/spreadsheets/pdf_di...  \n",
       "2     http://sharkattackfile.net/spreadsheets/pdf_di...  \n",
       "3     http://sharkattackfile.net/spreadsheets/pdf_di...  \n",
       "4     http://sharkattackfile.net/spreadsheets/pdf_di...  \n",
       "...                                                 ...  \n",
       "5987  http://sharkattackfile.net/spreadsheets/pdf_di...  \n",
       "5988  http://sharkattackfile.net/spreadsheets/pdf_di...  \n",
       "5989  http://sharkattackfile.net/spreadsheets/pdf_di...  \n",
       "5990  http://sharkattackfile.net/spreadsheets/pdf_di...  \n",
       "5991  http://sharkattackfile.net/spreadsheets/pdf_di...  \n",
       "\n",
       "[5992 rows x 3 columns]"
      ]
     },
     "execution_count": 71,
     "metadata": {},
     "output_type": "execute_result"
    }
   ],
   "source": [
    "df[[\"href\", \"pdf\", \"href formula\"]]"
   ]
  },
  {
   "cell_type": "code",
   "execution_count": 72,
   "metadata": {},
   "outputs": [],
   "source": [
    "# df[\"href\"].isin(df[\"pdf\"]).value_counts() # X\n",
    "# df[\"href\"].isin(df[\"href formula\"]).value_counts() # 5944 (O)\n",
    "# df[\"pdf\"].isin(df[\"href\"]).value_counts() # X\n",
    "# df[\"pdf\"].isin(df[\"href formula\"]).value_counts() # X\n",
    "# df[\"href formula\"].isin(df[\"href\"]).value_counts() # 5939\n",
    "# df[\"href formula\"].isin(df[\"pdf\"]).value_counts() # X"
   ]
  },
  {
   "cell_type": "code",
   "execution_count": 73,
   "metadata": {},
   "outputs": [
    {
     "data": {
      "text/plain": [
       "True     5938\n",
       "False      54\n",
       "dtype: int64"
      ]
     },
     "execution_count": 73,
     "metadata": {},
     "output_type": "execute_result"
    }
   ],
   "source": [
    "# df.eq(df[\"href\"], df[\"href formula\"])\n",
    "# pd.Series.eq(df[\"href\"], df[\"pdf\"]).value_counts() # X\n",
    "pd.Series.eq(df[\"href\"], df[\"href formula\"]).value_counts() # 5938\n",
    "# pd.Series.eq(df[\"pdf\"], df[\"href formula\"]).value_counts() # X"
   ]
  },
  {
   "cell_type": "code",
   "execution_count": 74,
   "metadata": {},
   "outputs": [],
   "source": [
    "# df = df.drop([\"Date\", \"Year\", \"Case Number.1\", \"Case Number.2\"], 1)\n",
    "df = df.drop([\"href\"], 1)"
   ]
  },
  {
   "cell_type": "code",
   "execution_count": 75,
   "metadata": {},
   "outputs": [
    {
     "data": {
      "text/html": [
       "<div>\n",
       "<style scoped>\n",
       "    .dataframe tbody tr th:only-of-type {\n",
       "        vertical-align: middle;\n",
       "    }\n",
       "\n",
       "    .dataframe tbody tr th {\n",
       "        vertical-align: top;\n",
       "    }\n",
       "\n",
       "    .dataframe thead th {\n",
       "        text-align: right;\n",
       "    }\n",
       "</style>\n",
       "<table border=\"1\" class=\"dataframe\">\n",
       "  <thead>\n",
       "    <tr style=\"text-align: right;\">\n",
       "      <th></th>\n",
       "      <th>original order</th>\n",
       "      <th>Case Number</th>\n",
       "      <th>Location</th>\n",
       "      <th>Area</th>\n",
       "      <th>Country</th>\n",
       "      <th>Time</th>\n",
       "      <th>Sex</th>\n",
       "      <th>Age</th>\n",
       "      <th>Activity</th>\n",
       "      <th>Species</th>\n",
       "      <th>Type</th>\n",
       "      <th>Injury</th>\n",
       "      <th>Fatal (Y/N)</th>\n",
       "      <th>Investigator or Source</th>\n",
       "      <th>pdf</th>\n",
       "      <th>href formula</th>\n",
       "    </tr>\n",
       "  </thead>\n",
       "  <tbody>\n",
       "    <tr>\n",
       "      <th>0</th>\n",
       "      <td>5993</td>\n",
       "      <td>2016.09.18.c</td>\n",
       "      <td>New Smyrna Beach, Volusia County</td>\n",
       "      <td>Florida</td>\n",
       "      <td>USA</td>\n",
       "      <td>13h00</td>\n",
       "      <td>M</td>\n",
       "      <td>16</td>\n",
       "      <td>Surfing</td>\n",
       "      <td>unknown</td>\n",
       "      <td>Unprovoked</td>\n",
       "      <td>Minor injury to thigh</td>\n",
       "      <td>N</td>\n",
       "      <td>Orlando Sentinel, 9/19/2016</td>\n",
       "      <td>2016.09.18.c-NSB.pdf</td>\n",
       "      <td>http://sharkattackfile.net/spreadsheets/pdf_di...</td>\n",
       "    </tr>\n",
       "    <tr>\n",
       "      <th>1</th>\n",
       "      <td>5992</td>\n",
       "      <td>2016.09.18.b</td>\n",
       "      <td>New Smyrna Beach, Volusia County</td>\n",
       "      <td>Florida</td>\n",
       "      <td>USA</td>\n",
       "      <td>11h00</td>\n",
       "      <td>M</td>\n",
       "      <td>36</td>\n",
       "      <td>Surfing</td>\n",
       "      <td>unknown</td>\n",
       "      <td>Unprovoked</td>\n",
       "      <td>Lacerations to hands</td>\n",
       "      <td>N</td>\n",
       "      <td>Orlando Sentinel, 9/19/2016</td>\n",
       "      <td>2016.09.18.b-Luciano.pdf</td>\n",
       "      <td>http://sharkattackfile.net/spreadsheets/pdf_di...</td>\n",
       "    </tr>\n",
       "    <tr>\n",
       "      <th>2</th>\n",
       "      <td>5991</td>\n",
       "      <td>2016.09.18.a</td>\n",
       "      <td>New Smyrna Beach, Volusia County</td>\n",
       "      <td>Florida</td>\n",
       "      <td>USA</td>\n",
       "      <td>10h43</td>\n",
       "      <td>M</td>\n",
       "      <td>43</td>\n",
       "      <td>Surfing</td>\n",
       "      <td>unknown</td>\n",
       "      <td>Unprovoked</td>\n",
       "      <td>Lacerations to lower leg</td>\n",
       "      <td>N</td>\n",
       "      <td>Orlando Sentinel, 9/19/2016</td>\n",
       "      <td>2016.09.18.a-NSB.pdf</td>\n",
       "      <td>http://sharkattackfile.net/spreadsheets/pdf_di...</td>\n",
       "    </tr>\n",
       "  </tbody>\n",
       "</table>\n",
       "</div>"
      ],
      "text/plain": [
       "   original order   Case Number                          Location     Area  \\\n",
       "0            5993  2016.09.18.c  New Smyrna Beach, Volusia County  Florida   \n",
       "1            5992  2016.09.18.b  New Smyrna Beach, Volusia County  Florida   \n",
       "2            5991  2016.09.18.a  New Smyrna Beach, Volusia County  Florida   \n",
       "\n",
       "  Country   Time Sex  Age Activity Species         Type  \\\n",
       "0     USA  13h00    M  16  Surfing  unknown  Unprovoked   \n",
       "1     USA  11h00    M  36  Surfing  unknown  Unprovoked   \n",
       "2     USA  10h43    M  43  Surfing  unknown  Unprovoked   \n",
       "\n",
       "                     Injury Fatal (Y/N)       Investigator or Source  \\\n",
       "0     Minor injury to thigh           N  Orlando Sentinel, 9/19/2016   \n",
       "1      Lacerations to hands           N  Orlando Sentinel, 9/19/2016   \n",
       "2  Lacerations to lower leg           N  Orlando Sentinel, 9/19/2016   \n",
       "\n",
       "                        pdf                                       href formula  \n",
       "0      2016.09.18.c-NSB.pdf  http://sharkattackfile.net/spreadsheets/pdf_di...  \n",
       "1  2016.09.18.b-Luciano.pdf  http://sharkattackfile.net/spreadsheets/pdf_di...  \n",
       "2      2016.09.18.a-NSB.pdf  http://sharkattackfile.net/spreadsheets/pdf_di...  "
      ]
     },
     "execution_count": 75,
     "metadata": {},
     "output_type": "execute_result"
    }
   ],
   "source": [
    "df.head(3)"
   ]
  },
  {
   "cell_type": "code",
   "execution_count": 76,
   "metadata": {},
   "outputs": [
    {
     "data": {
      "text/plain": [
       "False    5992\n",
       "Name: pdf, dtype: int64"
      ]
     },
     "execution_count": 76,
     "metadata": {},
     "output_type": "execute_result"
    }
   ],
   "source": [
    "# df[\"pdf\"].value_counts()\n",
    "# print(df[\"pdf\"].unique().tolist())\n",
    "# df[\"pdf\"] = df[\"pdf\"].str[:16]\n",
    "df[\"pdf\"].isna().value_counts()\n",
    "# df[\"pdf\"] = df[\"pdf\"].fillna(\"unknown\")\n"
   ]
  },
  {
   "cell_type": "code",
   "execution_count": 79,
   "metadata": {},
   "outputs": [
    {
     "data": {
      "text/plain": [
       "False    5992\n",
       "Name: href formula, dtype: int64"
      ]
     },
     "execution_count": 79,
     "metadata": {},
     "output_type": "execute_result"
    }
   ],
   "source": [
    "# df[\"href formula\"].value_counts()\n",
    "# print(df[\"href formula\"].unique().tolist())\n",
    "# df[\"href formula\"] = df[\"href formula\"].str[:16]\n",
    "df[\"href formula\"].isna().value_counts()\n",
    "# df[\"href formula\"] = df[\"href formula\"].fillna(\"unknown\")"
   ]
  },
  {
   "cell_type": "code",
   "execution_count": 80,
   "metadata": {
    "scrolled": false
   },
   "outputs": [
    {
     "data": {
      "text/plain": [
       "original order             int64\n",
       "Case Number               object\n",
       "Location                  object\n",
       "Area                      object\n",
       "Country                   object\n",
       "Time                      object\n",
       "Sex                       object\n",
       "Age                       object\n",
       "Activity                  object\n",
       "Species                   object\n",
       "Type                      object\n",
       "Injury                    object\n",
       "Fatal (Y/N)               object\n",
       "Investigator or Source    object\n",
       "pdf                       object\n",
       "href formula              object\n",
       "dtype: object"
      ]
     },
     "execution_count": 80,
     "metadata": {},
     "output_type": "execute_result"
    }
   ],
   "source": [
    "df.dtypes"
   ]
  },
  {
   "cell_type": "code",
   "execution_count": 81,
   "metadata": {},
   "outputs": [],
   "source": [
    "df.to_csv(\"shark_attack.csv\")"
   ]
  },
  {
   "cell_type": "code",
   "execution_count": null,
   "metadata": {},
   "outputs": [],
   "source": [
    "# to_replace = {\"Automatic\": \"Auto\",\n",
    "#               \"Auto\\(\": \"Auto \",\n",
    "#               \"Manual\\(\": \"Manual \",\n",
    "#               \"-\": \"\",\n",
    "#               \"(\": \"\",\n",
    "#               \")\": \"\"}\n",
    "\n",
    "# for pat, repl in to_replace.items():\n",
    "#     df[\"trany\"] = df[\"trany\"].str.replace(pat, repl)\n",
    "    \n",
    "# df[\"trany\"].value_counts()"
   ]
  },
  {
   "cell_type": "code",
   "execution_count": null,
   "metadata": {},
   "outputs": [],
   "source": [
    "# df[\"Location\"] = pd.concat(df[\"Location\", \"Area\", \"Country\"], axis = 1, join = \"outer\")\n"
   ]
  },
  {
   "cell_type": "code",
   "execution_count": null,
   "metadata": {},
   "outputs": [],
   "source": [
    "# df[\"Case Number\"] = df[\"Case Number\"].str.replace(\"replace\", df[\"Date\"].index())\n",
    "# df['Start date'].update(pd.Series(dct))\n",
    "# df[\"Case Number\"].update(pd.Series(date_dict))\n",
    "\n",
    "# df[\"Case Number\"] = df[\"Case Number\"].str.replace(\"replace\", )"
   ]
  },
  {
   "cell_type": "code",
   "execution_count": null,
   "metadata": {},
   "outputs": [],
   "source": [
    "# df[\"Case Number\"] = df[\"Case Number\"].str.replace(\"replace\", value = date_dict)\n",
    "# df = pd.DataFrame(values, columns=['max_speed', 'shield'], index=index)\n",
    "# index = df[\"original order\"]\n",
    "# pd.DataFrame(date_list, columns = [\"Case Number\", \"Date\"], index = index)"
   ]
  },
  {
   "cell_type": "code",
   "execution_count": null,
   "metadata": {},
   "outputs": [],
   "source": [
    "# def from_date(df):\n",
    "#     df[\"Case Number\"] = np.where(df[\"Case\"])\n",
    "\n",
    "# df[\"Case Number\"].str.replace()\n",
    "\n",
    "# for i in df[\"Case Number\"]:\n",
    "#     if df[\"Case Number\"].str.contains(\"ND\"):\n",
    "#         df[\"Case Number\"].empty\n",
    "#     else:\n",
    "#         pass"
   ]
  },
  {
   "cell_type": "code",
   "execution_count": null,
   "metadata": {},
   "outputs": [],
   "source": [
    "# date_list = np.array(df[\"Date\"])"
   ]
  },
  {
   "cell_type": "code",
   "execution_count": null,
   "metadata": {},
   "outputs": [],
   "source": [
    "# df[\"Case Number\"].str.contains(to_replace = \"ND\", value = list(date_list))\n"
   ]
  },
  {
   "cell_type": "code",
   "execution_count": null,
   "metadata": {},
   "outputs": [],
   "source": [
    "# case_number = list(df[\"Case Number\"])\n",
    "# nd_replace = []\n",
    "\n",
    "# if \"ND\" not in case_number:\n",
    "#     pass\n",
    "# else:\n",
    "#     return df[\"Date\"].index\n",
    "        "
   ]
  },
  {
   "cell_type": "code",
   "execution_count": null,
   "metadata": {
    "scrolled": false
   },
   "outputs": [],
   "source": [
    "# pd.unique(df[[\"Case Number\", \"Case Number.1\"]])\n",
    "# pd.Index.unique(df[[\"Case Number\", \"Case Number.1\"]])\n",
    "# list(np.unique(df[[\"Case Number\", \"Case Number.1\"]]))"
   ]
  },
  {
   "cell_type": "code",
   "execution_count": null,
   "metadata": {},
   "outputs": [],
   "source": [
    "# df.groupby([\"Case Number\", \"Case Number.1\"])\n",
    "# df.groupby([\"Case Number.1\", \"Case Number.2\"])"
   ]
  },
  {
   "cell_type": "code",
   "execution_count": null,
   "metadata": {},
   "outputs": [],
   "source": [
    "# null_cols = df.isnull().sum()"
   ]
  },
  {
   "cell_type": "code",
   "execution_count": null,
   "metadata": {
    "scrolled": true
   },
   "outputs": [],
   "source": [
    "# null_cols[null_cols > 0]"
   ]
  },
  {
   "cell_type": "code",
   "execution_count": null,
   "metadata": {
    "scrolled": true
   },
   "outputs": [],
   "source": [
    "# df.empty"
   ]
  },
  {
   "cell_type": "code",
   "execution_count": null,
   "metadata": {},
   "outputs": [],
   "source": [
    "# ccam = compare_columns_and_merge\n",
    "\n",
    "# def ccam (col_1, col_2):\n",
    "    "
   ]
  },
  {
   "cell_type": "code",
   "execution_count": null,
   "metadata": {
    "scrolled": true
   },
   "outputs": [],
   "source": [
    "# df[[\"Country\"]][df[\"Country\"].isnull()].head()\n",
    "# df[[\"Country\"]][df[\"Country\"].isnull()]"
   ]
  },
  {
   "cell_type": "code",
   "execution_count": null,
   "metadata": {},
   "outputs": [],
   "source": [
    "# null_cols[null_cols > 0]"
   ]
  },
  {
   "cell_type": "code",
   "execution_count": null,
   "metadata": {},
   "outputs": [],
   "source": [
    "# len(df)"
   ]
  },
  {
   "cell_type": "code",
   "execution_count": null,
   "metadata": {
    "scrolled": true
   },
   "outputs": [],
   "source": [
    "# null_cols[null_cols > 0] / len(df)"
   ]
  },
  {
   "cell_type": "code",
   "execution_count": null,
   "metadata": {},
   "outputs": [],
   "source": [
    "# null_perc = null_cols[null_cols > 0] / len(df)\n",
    "# to_drop = null_perc[null_perc > .6].index\n",
    "# to_drop"
   ]
  },
  {
   "cell_type": "code",
   "execution_count": null,
   "metadata": {},
   "outputs": [],
   "source": [
    "# df = df.drop(to_drop, axis = 1)"
   ]
  },
  {
   "cell_type": "code",
   "execution_count": null,
   "metadata": {},
   "outputs": [],
   "source": [
    "# df.isnull().sum()[(df.isnull().sum()) > 0]"
   ]
  },
  {
   "cell_type": "code",
   "execution_count": null,
   "metadata": {},
   "outputs": [],
   "source": [
    "# df.mean()"
   ]
  },
  {
   "cell_type": "code",
   "execution_count": null,
   "metadata": {
    "scrolled": true
   },
   "outputs": [],
   "source": [
    "# df.isna()"
   ]
  },
  {
   "cell_type": "code",
   "execution_count": null,
   "metadata": {
    "scrolled": false
   },
   "outputs": [],
   "source": [
    "# df.isna().sum()"
   ]
  },
  {
   "cell_type": "code",
   "execution_count": null,
   "metadata": {
    "scrolled": false
   },
   "outputs": [],
   "source": [
    "# df.info()"
   ]
  },
  {
   "cell_type": "code",
   "execution_count": null,
   "metadata": {
    "scrolled": false
   },
   "outputs": [],
   "source": [
    "# df.apply(pd.Series.value_counts)"
   ]
  },
  {
   "cell_type": "code",
   "execution_count": null,
   "metadata": {},
   "outputs": [],
   "source": [
    "# df.tail()"
   ]
  },
  {
   "cell_type": "code",
   "execution_count": null,
   "metadata": {},
   "outputs": [],
   "source": [
    "# df = df.dropna()"
   ]
  },
  {
   "cell_type": "code",
   "execution_count": null,
   "metadata": {
    "scrolled": true
   },
   "outputs": [],
   "source": [
    "# df.columns"
   ]
  }
 ],
 "metadata": {
  "kernelspec": {
   "display_name": "Python 3",
   "language": "python",
   "name": "python3"
  },
  "language_info": {
   "codemirror_mode": {
    "name": "ipython",
    "version": 3
   },
   "file_extension": ".py",
   "mimetype": "text/x-python",
   "name": "python",
   "nbconvert_exporter": "python",
   "pygments_lexer": "ipython3",
   "version": "3.7.4"
  }
 },
 "nbformat": 4,
 "nbformat_minor": 2
}
