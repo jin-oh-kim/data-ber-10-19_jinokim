{
 "cells": [
  {
   "cell_type": "code",
   "execution_count": 1,
   "metadata": {},
   "outputs": [],
   "source": [
    "import pandas as pd\n",
    "import numpy as np"
   ]
  },
  {
   "cell_type": "code",
   "execution_count": 2,
   "metadata": {},
   "outputs": [],
   "source": [
    "# pd.read_csv(\"GSAF5.csv\", encoding = 'utf-8', errors = 'ignore')\n",
    "# pd.read_csv(\"GSAF5.csv\", sep = \"\\t\", encoding = 'utf-8', errors = 'ignore')\n",
    "# df = pd.read_csv('GSAF5.csv', sep = \"\\t\", encoding = 'CP949', errors = 'ignore')\n",
    "# pd.read_csv('GSAF5.csv', sep = '\\t', encoding = 'utf-8')\n",
    "\n",
    "\n",
    "df = pd.read_csv(\"GSAF5.csv\", encoding = \"ISO-8859-1\")\n"
   ]
  },
  {
   "cell_type": "code",
   "execution_count": 3,
   "metadata": {
    "scrolled": true
   },
   "outputs": [
    {
     "data": {
      "text/plain": [
       "(5992, 24)"
      ]
     },
     "execution_count": 3,
     "metadata": {},
     "output_type": "execute_result"
    }
   ],
   "source": [
    "df.shape"
   ]
  },
  {
   "cell_type": "code",
   "execution_count": 31,
   "metadata": {},
   "outputs": [
    {
     "data": {
      "text/plain": [
       "Index(['original order', 'Case Number', 'Time', 'Location', 'Name', 'Sex ',\n",
       "       'Age', 'Activity', 'Species ', 'Injury', 'Fatal (Y/N)',\n",
       "       'Investigator or Source', 'href', 'Date', 'Year', 'Country', 'Area',\n",
       "       'pdf', 'Type', 'href formula', 'Case Number.1', 'Case Number.2'],\n",
       "      dtype='object')"
      ]
     },
     "execution_count": 31,
     "metadata": {},
     "output_type": "execute_result"
    }
   ],
   "source": [
    "df.columns"
   ]
  },
  {
   "cell_type": "code",
   "execution_count": 32,
   "metadata": {},
   "outputs": [
    {
     "data": {
      "text/html": [
       "<div>\n",
       "<style scoped>\n",
       "    .dataframe tbody tr th:only-of-type {\n",
       "        vertical-align: middle;\n",
       "    }\n",
       "\n",
       "    .dataframe tbody tr th {\n",
       "        vertical-align: top;\n",
       "    }\n",
       "\n",
       "    .dataframe thead th {\n",
       "        text-align: right;\n",
       "    }\n",
       "</style>\n",
       "<table border=\"1\" class=\"dataframe\">\n",
       "  <thead>\n",
       "    <tr style=\"text-align: right;\">\n",
       "      <th></th>\n",
       "      <th>original order</th>\n",
       "      <th>Case Number</th>\n",
       "      <th>Time</th>\n",
       "      <th>Location</th>\n",
       "      <th>Name</th>\n",
       "      <th>Sex</th>\n",
       "      <th>Age</th>\n",
       "      <th>Activity</th>\n",
       "      <th>Species</th>\n",
       "      <th>Injury</th>\n",
       "      <th>...</th>\n",
       "      <th>href</th>\n",
       "      <th>Date</th>\n",
       "      <th>Year</th>\n",
       "      <th>Country</th>\n",
       "      <th>Area</th>\n",
       "      <th>pdf</th>\n",
       "      <th>Type</th>\n",
       "      <th>href formula</th>\n",
       "      <th>Case Number.1</th>\n",
       "      <th>Case Number.2</th>\n",
       "    </tr>\n",
       "  </thead>\n",
       "  <tbody>\n",
       "    <tr>\n",
       "      <th>0</th>\n",
       "      <td>5993</td>\n",
       "      <td>2016.09.18.c</td>\n",
       "      <td>13h00</td>\n",
       "      <td>New Smyrna Beach, Volusia County</td>\n",
       "      <td>male</td>\n",
       "      <td>M</td>\n",
       "      <td>16</td>\n",
       "      <td>Surfing</td>\n",
       "      <td>NaN</td>\n",
       "      <td>Minor injury to thigh</td>\n",
       "      <td>...</td>\n",
       "      <td>http://sharkattackfile.net/spreadsheets/pdf_di...</td>\n",
       "      <td>18-Sep-16</td>\n",
       "      <td>2016</td>\n",
       "      <td>USA</td>\n",
       "      <td>Florida</td>\n",
       "      <td>2016.09.18.c-NSB.pdf</td>\n",
       "      <td>Unprovoked</td>\n",
       "      <td>http://sharkattackfile.net/spreadsheets/pdf_di...</td>\n",
       "      <td>2016.09.18.c</td>\n",
       "      <td>2016.09.18.c</td>\n",
       "    </tr>\n",
       "    <tr>\n",
       "      <th>1</th>\n",
       "      <td>5992</td>\n",
       "      <td>2016.09.18.b</td>\n",
       "      <td>11h00</td>\n",
       "      <td>New Smyrna Beach, Volusia County</td>\n",
       "      <td>Chucky Luciano</td>\n",
       "      <td>M</td>\n",
       "      <td>36</td>\n",
       "      <td>Surfing</td>\n",
       "      <td>NaN</td>\n",
       "      <td>Lacerations to hands</td>\n",
       "      <td>...</td>\n",
       "      <td>http://sharkattackfile.net/spreadsheets/pdf_di...</td>\n",
       "      <td>18-Sep-16</td>\n",
       "      <td>2016</td>\n",
       "      <td>USA</td>\n",
       "      <td>Florida</td>\n",
       "      <td>2016.09.18.b-Luciano.pdf</td>\n",
       "      <td>Unprovoked</td>\n",
       "      <td>http://sharkattackfile.net/spreadsheets/pdf_di...</td>\n",
       "      <td>2016.09.18.b</td>\n",
       "      <td>2016.09.18.b</td>\n",
       "    </tr>\n",
       "    <tr>\n",
       "      <th>2</th>\n",
       "      <td>5991</td>\n",
       "      <td>2016.09.18.a</td>\n",
       "      <td>10h43</td>\n",
       "      <td>New Smyrna Beach, Volusia County</td>\n",
       "      <td>male</td>\n",
       "      <td>M</td>\n",
       "      <td>43</td>\n",
       "      <td>Surfing</td>\n",
       "      <td>NaN</td>\n",
       "      <td>Lacerations to lower leg</td>\n",
       "      <td>...</td>\n",
       "      <td>http://sharkattackfile.net/spreadsheets/pdf_di...</td>\n",
       "      <td>18-Sep-16</td>\n",
       "      <td>2016</td>\n",
       "      <td>USA</td>\n",
       "      <td>Florida</td>\n",
       "      <td>2016.09.18.a-NSB.pdf</td>\n",
       "      <td>Unprovoked</td>\n",
       "      <td>http://sharkattackfile.net/spreadsheets/pdf_di...</td>\n",
       "      <td>2016.09.18.a</td>\n",
       "      <td>2016.09.18.a</td>\n",
       "    </tr>\n",
       "  </tbody>\n",
       "</table>\n",
       "<p>3 rows × 22 columns</p>\n",
       "</div>"
      ],
      "text/plain": [
       "   original order   Case Number   Time                          Location  \\\n",
       "0            5993  2016.09.18.c  13h00  New Smyrna Beach, Volusia County   \n",
       "1            5992  2016.09.18.b  11h00  New Smyrna Beach, Volusia County   \n",
       "2            5991  2016.09.18.a  10h43  New Smyrna Beach, Volusia County   \n",
       "\n",
       "             Name Sex  Age Activity Species                     Injury  ...  \\\n",
       "0            male    M  16  Surfing      NaN     Minor injury to thigh  ...   \n",
       "1  Chucky Luciano    M  36  Surfing      NaN      Lacerations to hands  ...   \n",
       "2            male    M  43  Surfing      NaN  Lacerations to lower leg  ...   \n",
       "\n",
       "                                                href       Date  Year Country  \\\n",
       "0  http://sharkattackfile.net/spreadsheets/pdf_di...  18-Sep-16  2016     USA   \n",
       "1  http://sharkattackfile.net/spreadsheets/pdf_di...  18-Sep-16  2016     USA   \n",
       "2  http://sharkattackfile.net/spreadsheets/pdf_di...  18-Sep-16  2016     USA   \n",
       "\n",
       "      Area                       pdf        Type  \\\n",
       "0  Florida      2016.09.18.c-NSB.pdf  Unprovoked   \n",
       "1  Florida  2016.09.18.b-Luciano.pdf  Unprovoked   \n",
       "2  Florida      2016.09.18.a-NSB.pdf  Unprovoked   \n",
       "\n",
       "                                        href formula Case Number.1  \\\n",
       "0  http://sharkattackfile.net/spreadsheets/pdf_di...  2016.09.18.c   \n",
       "1  http://sharkattackfile.net/spreadsheets/pdf_di...  2016.09.18.b   \n",
       "2  http://sharkattackfile.net/spreadsheets/pdf_di...  2016.09.18.a   \n",
       "\n",
       "  Case Number.2  \n",
       "0  2016.09.18.c  \n",
       "1  2016.09.18.b  \n",
       "2  2016.09.18.a  \n",
       "\n",
       "[3 rows x 22 columns]"
      ]
     },
     "execution_count": 32,
     "metadata": {},
     "output_type": "execute_result"
    }
   ],
   "source": [
    "# df.head()\n",
    "df.head(3)"
   ]
  },
  {
   "cell_type": "code",
   "execution_count": 5,
   "metadata": {},
   "outputs": [],
   "source": [
    "# df.head().transpose()"
   ]
  },
  {
   "cell_type": "code",
   "execution_count": 6,
   "metadata": {
    "scrolled": false
   },
   "outputs": [],
   "source": [
    "# df.describe(include = 'all')\n",
    "# df.describe()"
   ]
  },
  {
   "cell_type": "code",
   "execution_count": 7,
   "metadata": {
    "scrolled": false
   },
   "outputs": [],
   "source": [
    "# df.isnull()"
   ]
  },
  {
   "cell_type": "code",
   "execution_count": 34,
   "metadata": {
    "scrolled": false
   },
   "outputs": [],
   "source": [
    "# df.dtypes"
   ]
  },
  {
   "cell_type": "code",
   "execution_count": 33,
   "metadata": {},
   "outputs": [
    {
     "name": "stdout",
     "output_type": "stream",
     "text": [
      "<class 'pandas.core.frame.DataFrame'>\n",
      "RangeIndex: 5992 entries, 0 to 5991\n",
      "Data columns (total 22 columns):\n",
      "original order            5992 non-null int64\n",
      "Case Number               5992 non-null object\n",
      "Time                      2779 non-null object\n",
      "Location                  5496 non-null object\n",
      "Name                      5792 non-null object\n",
      "Sex                       5425 non-null object\n",
      "Age                       3311 non-null object\n",
      "Activity                  5465 non-null object\n",
      "Species                   3058 non-null object\n",
      "Injury                    5965 non-null object\n",
      "Fatal (Y/N)               5973 non-null object\n",
      "Investigator or Source    5977 non-null object\n",
      "href                      5989 non-null object\n",
      "Date                      5992 non-null object\n",
      "Year                      5992 non-null int64\n",
      "Country                   5949 non-null object\n",
      "Area                      5590 non-null object\n",
      "pdf                       5992 non-null object\n",
      "Type                      5992 non-null object\n",
      "href formula              5991 non-null object\n",
      "Case Number.1             5992 non-null object\n",
      "Case Number.2             5992 non-null object\n",
      "dtypes: int64(2), object(20)\n",
      "memory usage: 1.0+ MB\n"
     ]
    }
   ],
   "source": [
    "df.info()"
   ]
  },
  {
   "cell_type": "code",
   "execution_count": 35,
   "metadata": {
    "scrolled": false
   },
   "outputs": [],
   "source": [
    "# df.isnull().sum()"
   ]
  },
  {
   "cell_type": "code",
   "execution_count": 10,
   "metadata": {},
   "outputs": [],
   "source": [
    "null_cols = df.isnull().sum()"
   ]
  },
  {
   "cell_type": "code",
   "execution_count": 36,
   "metadata": {
    "scrolled": false
   },
   "outputs": [
    {
     "data": {
      "text/plain": [
       "Country                     43\n",
       "Area                       402\n",
       "Location                   496\n",
       "Activity                   527\n",
       "Name                       200\n",
       "Sex                        567\n",
       "Age                       2681\n",
       "Injury                      27\n",
       "Fatal (Y/N)                 19\n",
       "Time                      3213\n",
       "Species                   2934\n",
       "Investigator or Source      15\n",
       "href formula                 1\n",
       "href                         3\n",
       "Unnamed: 22               5991\n",
       "Unnamed: 23               5990\n",
       "dtype: int64"
      ]
     },
     "execution_count": 36,
     "metadata": {},
     "output_type": "execute_result"
    }
   ],
   "source": [
    "null_cols[null_cols > 0]"
   ]
  },
  {
   "cell_type": "code",
   "execution_count": 12,
   "metadata": {
    "scrolled": false
   },
   "outputs": [
    {
     "data": {
      "text/plain": [
       "change filename    1\n",
       "Teramo             1\n",
       "Name: Unnamed: 23, dtype: int64"
      ]
     },
     "execution_count": 12,
     "metadata": {},
     "output_type": "execute_result"
    }
   ],
   "source": [
    "# df[\"Case Number\"].value_counts()\n",
    "# df[\"Date\"].value_counts()\n",
    "# df[\"Year\"].value_counts()\n",
    "# df[\"Type\"].value_counts()\n",
    "# df[\"Country\"].value_counts()\n",
    "# df[\"Area\"].value_counts()\n",
    "# df[\"Location\"].value_counts()\n",
    "# df[\"Activity\"].value_counts()\n",
    "# df[\"Name\"].value_counts()\n",
    "# df[\"Sex \"].value_counts()\n",
    "# df[\"Age\"].value_counts()\n",
    "# df[\"Injury\"].value_counts()\n",
    "# df[\"Fatal (Y/N)\"].value_counts()\n",
    "# df[\"Time\"].value_counts()\n",
    "# df[\"Species \"].value_counts()\n",
    "# df[\"Investigator or Source\"].value_counts()\n",
    "# df[\"pdf\"].value_counts()\n",
    "# df[\"href formula\"].value_counts()\n",
    "# df[\"href\"].value_counts()\n",
    "# df[\"Case Number.1\"].value_counts()\n",
    "# df[\"Case Number.2\"].value_counts()\n",
    "# df[\"original order\"].value_counts()\n",
    "# df[\"Unnamed: 22\"].value_counts()\n",
    "df[\"Unnamed: 23\"].value_counts()"
   ]
  },
  {
   "cell_type": "code",
   "execution_count": 13,
   "metadata": {
    "scrolled": true
   },
   "outputs": [
    {
     "data": {
      "text/plain": [
       "Index(['Case Number', 'Date', 'Year', 'Type', 'Country', 'Area', 'Location',\n",
       "       'Activity', 'Name', 'Sex ', 'Age', 'Injury', 'Fatal (Y/N)', 'Time',\n",
       "       'Species ', 'Investigator or Source', 'pdf', 'href formula', 'href',\n",
       "       'Case Number.1', 'Case Number.2', 'original order', 'Unnamed: 22',\n",
       "       'Unnamed: 23'],\n",
       "      dtype='object')"
      ]
     },
     "execution_count": 13,
     "metadata": {},
     "output_type": "execute_result"
    }
   ],
   "source": [
    "df.columns"
   ]
  },
  {
   "cell_type": "code",
   "execution_count": 14,
   "metadata": {},
   "outputs": [],
   "source": [
    "df = df[['original order', 'Case Number', 'Time', 'Location', 'Name', 'Sex ', 'Age', 'Activity', 'Species ', 'Injury', 'Fatal (Y/N)', 'Investigator or Source', 'href', 'Date', 'Year', 'Country', 'Area', 'pdf', 'Type', 'href formula', 'Case Number.1', 'Case Number.2', 'Unnamed: 22', 'Unnamed: 23']]"
   ]
  },
  {
   "cell_type": "code",
   "execution_count": 15,
   "metadata": {},
   "outputs": [],
   "source": [
    "drop_cols = list(null_cols[null_cols > 5000].index)\n",
    "df = df.drop(drop_cols, axis = 1)"
   ]
  },
  {
   "cell_type": "code",
   "execution_count": 16,
   "metadata": {
    "scrolled": false
   },
   "outputs": [
    {
     "data": {
      "text/html": [
       "<div>\n",
       "<style scoped>\n",
       "    .dataframe tbody tr th:only-of-type {\n",
       "        vertical-align: middle;\n",
       "    }\n",
       "\n",
       "    .dataframe tbody tr th {\n",
       "        vertical-align: top;\n",
       "    }\n",
       "\n",
       "    .dataframe thead th {\n",
       "        text-align: right;\n",
       "    }\n",
       "</style>\n",
       "<table border=\"1\" class=\"dataframe\">\n",
       "  <thead>\n",
       "    <tr style=\"text-align: right;\">\n",
       "      <th></th>\n",
       "      <th>original order</th>\n",
       "      <th>Case Number</th>\n",
       "      <th>Time</th>\n",
       "      <th>Location</th>\n",
       "      <th>Name</th>\n",
       "      <th>Sex</th>\n",
       "      <th>Age</th>\n",
       "      <th>Activity</th>\n",
       "      <th>Species</th>\n",
       "      <th>Injury</th>\n",
       "      <th>...</th>\n",
       "      <th>href</th>\n",
       "      <th>Date</th>\n",
       "      <th>Year</th>\n",
       "      <th>Country</th>\n",
       "      <th>Area</th>\n",
       "      <th>pdf</th>\n",
       "      <th>Type</th>\n",
       "      <th>href formula</th>\n",
       "      <th>Case Number.1</th>\n",
       "      <th>Case Number.2</th>\n",
       "    </tr>\n",
       "  </thead>\n",
       "  <tbody>\n",
       "    <tr>\n",
       "      <th>0</th>\n",
       "      <td>5993</td>\n",
       "      <td>2016.09.18.c</td>\n",
       "      <td>13h00</td>\n",
       "      <td>New Smyrna Beach, Volusia County</td>\n",
       "      <td>male</td>\n",
       "      <td>M</td>\n",
       "      <td>16</td>\n",
       "      <td>Surfing</td>\n",
       "      <td>NaN</td>\n",
       "      <td>Minor injury to thigh</td>\n",
       "      <td>...</td>\n",
       "      <td>http://sharkattackfile.net/spreadsheets/pdf_di...</td>\n",
       "      <td>18-Sep-16</td>\n",
       "      <td>2016</td>\n",
       "      <td>USA</td>\n",
       "      <td>Florida</td>\n",
       "      <td>2016.09.18.c-NSB.pdf</td>\n",
       "      <td>Unprovoked</td>\n",
       "      <td>http://sharkattackfile.net/spreadsheets/pdf_di...</td>\n",
       "      <td>2016.09.18.c</td>\n",
       "      <td>2016.09.18.c</td>\n",
       "    </tr>\n",
       "    <tr>\n",
       "      <th>1</th>\n",
       "      <td>5992</td>\n",
       "      <td>2016.09.18.b</td>\n",
       "      <td>11h00</td>\n",
       "      <td>New Smyrna Beach, Volusia County</td>\n",
       "      <td>Chucky Luciano</td>\n",
       "      <td>M</td>\n",
       "      <td>36</td>\n",
       "      <td>Surfing</td>\n",
       "      <td>NaN</td>\n",
       "      <td>Lacerations to hands</td>\n",
       "      <td>...</td>\n",
       "      <td>http://sharkattackfile.net/spreadsheets/pdf_di...</td>\n",
       "      <td>18-Sep-16</td>\n",
       "      <td>2016</td>\n",
       "      <td>USA</td>\n",
       "      <td>Florida</td>\n",
       "      <td>2016.09.18.b-Luciano.pdf</td>\n",
       "      <td>Unprovoked</td>\n",
       "      <td>http://sharkattackfile.net/spreadsheets/pdf_di...</td>\n",
       "      <td>2016.09.18.b</td>\n",
       "      <td>2016.09.18.b</td>\n",
       "    </tr>\n",
       "    <tr>\n",
       "      <th>2</th>\n",
       "      <td>5991</td>\n",
       "      <td>2016.09.18.a</td>\n",
       "      <td>10h43</td>\n",
       "      <td>New Smyrna Beach, Volusia County</td>\n",
       "      <td>male</td>\n",
       "      <td>M</td>\n",
       "      <td>43</td>\n",
       "      <td>Surfing</td>\n",
       "      <td>NaN</td>\n",
       "      <td>Lacerations to lower leg</td>\n",
       "      <td>...</td>\n",
       "      <td>http://sharkattackfile.net/spreadsheets/pdf_di...</td>\n",
       "      <td>18-Sep-16</td>\n",
       "      <td>2016</td>\n",
       "      <td>USA</td>\n",
       "      <td>Florida</td>\n",
       "      <td>2016.09.18.a-NSB.pdf</td>\n",
       "      <td>Unprovoked</td>\n",
       "      <td>http://sharkattackfile.net/spreadsheets/pdf_di...</td>\n",
       "      <td>2016.09.18.a</td>\n",
       "      <td>2016.09.18.a</td>\n",
       "    </tr>\n",
       "    <tr>\n",
       "      <th>3</th>\n",
       "      <td>5990</td>\n",
       "      <td>2016.09.17</td>\n",
       "      <td>NaN</td>\n",
       "      <td>Thirteenth Beach</td>\n",
       "      <td>Rory Angiolella</td>\n",
       "      <td>M</td>\n",
       "      <td>NaN</td>\n",
       "      <td>Surfing</td>\n",
       "      <td>NaN</td>\n",
       "      <td>Struck by fin on chest &amp; leg</td>\n",
       "      <td>...</td>\n",
       "      <td>http://sharkattackfile.net/spreadsheets/pdf_di...</td>\n",
       "      <td>17-Sep-16</td>\n",
       "      <td>2016</td>\n",
       "      <td>AUSTRALIA</td>\n",
       "      <td>Victoria</td>\n",
       "      <td>2016.09.17-Angiolella.pdf</td>\n",
       "      <td>Unprovoked</td>\n",
       "      <td>http://sharkattackfile.net/spreadsheets/pdf_di...</td>\n",
       "      <td>2016.09.17</td>\n",
       "      <td>2016.09.17</td>\n",
       "    </tr>\n",
       "    <tr>\n",
       "      <th>4</th>\n",
       "      <td>5989</td>\n",
       "      <td>2016.09.15</td>\n",
       "      <td>NaN</td>\n",
       "      <td>Bells Beach</td>\n",
       "      <td>male</td>\n",
       "      <td>M</td>\n",
       "      <td>NaN</td>\n",
       "      <td>Surfing</td>\n",
       "      <td>2 m shark</td>\n",
       "      <td>No injury: Knocked off board by shark</td>\n",
       "      <td>...</td>\n",
       "      <td>http://sharkattackfile.net/spreadsheets/pdf_di...</td>\n",
       "      <td>16-Sep-16</td>\n",
       "      <td>2016</td>\n",
       "      <td>AUSTRALIA</td>\n",
       "      <td>Victoria</td>\n",
       "      <td>2016.09.16-BellsBeach.pdf</td>\n",
       "      <td>Unprovoked</td>\n",
       "      <td>http://sharkattackfile.net/spreadsheets/pdf_di...</td>\n",
       "      <td>2016.09.16</td>\n",
       "      <td>2016.09.15</td>\n",
       "    </tr>\n",
       "  </tbody>\n",
       "</table>\n",
       "<p>5 rows × 22 columns</p>\n",
       "</div>"
      ],
      "text/plain": [
       "   original order   Case Number   Time                          Location  \\\n",
       "0            5993  2016.09.18.c  13h00  New Smyrna Beach, Volusia County   \n",
       "1            5992  2016.09.18.b  11h00  New Smyrna Beach, Volusia County   \n",
       "2            5991  2016.09.18.a  10h43  New Smyrna Beach, Volusia County   \n",
       "3            5990    2016.09.17    NaN                  Thirteenth Beach   \n",
       "4            5989    2016.09.15    NaN                       Bells Beach   \n",
       "\n",
       "              Name Sex   Age Activity   Species   \\\n",
       "0             male    M   16  Surfing        NaN   \n",
       "1   Chucky Luciano    M   36  Surfing        NaN   \n",
       "2             male    M   43  Surfing        NaN   \n",
       "3  Rory Angiolella    M  NaN  Surfing        NaN   \n",
       "4             male    M  NaN  Surfing  2 m shark   \n",
       "\n",
       "                                  Injury  ...  \\\n",
       "0                  Minor injury to thigh  ...   \n",
       "1                   Lacerations to hands  ...   \n",
       "2               Lacerations to lower leg  ...   \n",
       "3           Struck by fin on chest & leg  ...   \n",
       "4  No injury: Knocked off board by shark  ...   \n",
       "\n",
       "                                                href       Date  Year  \\\n",
       "0  http://sharkattackfile.net/spreadsheets/pdf_di...  18-Sep-16  2016   \n",
       "1  http://sharkattackfile.net/spreadsheets/pdf_di...  18-Sep-16  2016   \n",
       "2  http://sharkattackfile.net/spreadsheets/pdf_di...  18-Sep-16  2016   \n",
       "3  http://sharkattackfile.net/spreadsheets/pdf_di...  17-Sep-16  2016   \n",
       "4  http://sharkattackfile.net/spreadsheets/pdf_di...  16-Sep-16  2016   \n",
       "\n",
       "     Country      Area                        pdf        Type  \\\n",
       "0        USA   Florida       2016.09.18.c-NSB.pdf  Unprovoked   \n",
       "1        USA   Florida   2016.09.18.b-Luciano.pdf  Unprovoked   \n",
       "2        USA   Florida       2016.09.18.a-NSB.pdf  Unprovoked   \n",
       "3  AUSTRALIA  Victoria  2016.09.17-Angiolella.pdf  Unprovoked   \n",
       "4  AUSTRALIA  Victoria  2016.09.16-BellsBeach.pdf  Unprovoked   \n",
       "\n",
       "                                        href formula Case Number.1  \\\n",
       "0  http://sharkattackfile.net/spreadsheets/pdf_di...  2016.09.18.c   \n",
       "1  http://sharkattackfile.net/spreadsheets/pdf_di...  2016.09.18.b   \n",
       "2  http://sharkattackfile.net/spreadsheets/pdf_di...  2016.09.18.a   \n",
       "3  http://sharkattackfile.net/spreadsheets/pdf_di...    2016.09.17   \n",
       "4  http://sharkattackfile.net/spreadsheets/pdf_di...    2016.09.16   \n",
       "\n",
       "  Case Number.2  \n",
       "0  2016.09.18.c  \n",
       "1  2016.09.18.b  \n",
       "2  2016.09.18.a  \n",
       "3    2016.09.17  \n",
       "4    2016.09.15  \n",
       "\n",
       "[5 rows x 22 columns]"
      ]
     },
     "execution_count": 16,
     "metadata": {},
     "output_type": "execute_result"
    }
   ],
   "source": [
    "df.head()"
   ]
  },
  {
   "cell_type": "code",
   "execution_count": 17,
   "metadata": {},
   "outputs": [],
   "source": [
    "# df.fillna(\"unknown\")"
   ]
  },
  {
   "cell_type": "code",
   "execution_count": 61,
   "metadata": {},
   "outputs": [
    {
     "data": {
      "text/plain": [
       "0       False\n",
       "1       False\n",
       "2       False\n",
       "3       False\n",
       "4       False\n",
       "        ...  \n",
       "5987    False\n",
       "5988    False\n",
       "5989    False\n",
       "5990    False\n",
       "5991    False\n",
       "Name: Case Number, Length: 5992, dtype: bool"
      ]
     },
     "execution_count": 61,
     "metadata": {},
     "output_type": "execute_result"
    }
   ],
   "source": [
    "# df[\"Case Number\"].isin(df[\"Case Number.1\"])\n",
    "# df[\"Case Number\"].isin(df[\"Case Number.2\"])\n",
    "df[\"Case Number\"].isin(df[\"Date\"])\n",
    "# df[\"Case Number\"].isin(df[\"Year\"])"
   ]
  },
  {
   "cell_type": "code",
   "execution_count": 62,
   "metadata": {},
   "outputs": [
    {
     "data": {
      "text/html": [
       "<div>\n",
       "<style scoped>\n",
       "    .dataframe tbody tr th:only-of-type {\n",
       "        vertical-align: middle;\n",
       "    }\n",
       "\n",
       "    .dataframe tbody tr th {\n",
       "        vertical-align: top;\n",
       "    }\n",
       "\n",
       "    .dataframe thead th {\n",
       "        text-align: right;\n",
       "    }\n",
       "</style>\n",
       "<table border=\"1\" class=\"dataframe\">\n",
       "  <thead>\n",
       "    <tr style=\"text-align: right;\">\n",
       "      <th></th>\n",
       "      <th>Case Number</th>\n",
       "      <th>Date</th>\n",
       "    </tr>\n",
       "  </thead>\n",
       "  <tbody>\n",
       "    <tr>\n",
       "      <th>0</th>\n",
       "      <td>2016.09.18.c</td>\n",
       "      <td>18-Sep-16</td>\n",
       "    </tr>\n",
       "    <tr>\n",
       "      <th>1</th>\n",
       "      <td>2016.09.18.b</td>\n",
       "      <td>18-Sep-16</td>\n",
       "    </tr>\n",
       "    <tr>\n",
       "      <th>2</th>\n",
       "      <td>2016.09.18.a</td>\n",
       "      <td>18-Sep-16</td>\n",
       "    </tr>\n",
       "    <tr>\n",
       "      <th>3</th>\n",
       "      <td>2016.09.17</td>\n",
       "      <td>17-Sep-16</td>\n",
       "    </tr>\n",
       "    <tr>\n",
       "      <th>4</th>\n",
       "      <td>2016.09.15</td>\n",
       "      <td>16-Sep-16</td>\n",
       "    </tr>\n",
       "    <tr>\n",
       "      <th>...</th>\n",
       "      <td>...</td>\n",
       "      <td>...</td>\n",
       "    </tr>\n",
       "    <tr>\n",
       "      <th>5987</th>\n",
       "      <td>ND.0005</td>\n",
       "      <td>Before 1903</td>\n",
       "    </tr>\n",
       "    <tr>\n",
       "      <th>5988</th>\n",
       "      <td>ND.0004</td>\n",
       "      <td>Before 1903</td>\n",
       "    </tr>\n",
       "    <tr>\n",
       "      <th>5989</th>\n",
       "      <td>ND.0003</td>\n",
       "      <td>1900-1905</td>\n",
       "    </tr>\n",
       "    <tr>\n",
       "      <th>5990</th>\n",
       "      <td>ND.0002</td>\n",
       "      <td>1883-1889</td>\n",
       "    </tr>\n",
       "    <tr>\n",
       "      <th>5991</th>\n",
       "      <td>ND.0001</td>\n",
       "      <td>1845-1853</td>\n",
       "    </tr>\n",
       "  </tbody>\n",
       "</table>\n",
       "<p>5992 rows × 2 columns</p>\n",
       "</div>"
      ],
      "text/plain": [
       "       Case Number         Date\n",
       "0     2016.09.18.c    18-Sep-16\n",
       "1     2016.09.18.b    18-Sep-16\n",
       "2     2016.09.18.a    18-Sep-16\n",
       "3       2016.09.17    17-Sep-16\n",
       "4       2016.09.15    16-Sep-16\n",
       "...            ...          ...\n",
       "5987       ND.0005  Before 1903\n",
       "5988       ND.0004  Before 1903\n",
       "5989       ND.0003    1900-1905\n",
       "5990       ND.0002    1883-1889\n",
       "5991       ND.0001    1845-1853\n",
       "\n",
       "[5992 rows x 2 columns]"
      ]
     },
     "execution_count": 62,
     "metadata": {},
     "output_type": "execute_result"
    }
   ],
   "source": [
    "# Check the date with related columns\n",
    "\n",
    "# df[[\"Case Number\", \"Case Number.1\"]] # remove Case Number.1 column\n",
    "# df[[\"Case Number\", \"Case Number.2\"]] # remove Case Number.2 column\n",
    "df[[\"Case Number\", \"Date\"]] # get value for none date from Date column\n",
    "# df[[\"Case Number\", \"Year\"]] # remove year column"
   ]
  },
  {
   "cell_type": "code",
   "execution_count": null,
   "metadata": {},
   "outputs": [],
   "source": [
    "df.str.contains(\"ND\")"
   ]
  },
  {
   "cell_type": "code",
   "execution_count": 37,
   "metadata": {
    "scrolled": false
   },
   "outputs": [],
   "source": [
    "# pd.unique(df[[\"Case Number\", \"Case Number.1\"]])\n",
    "# pd.Index.unique(df[[\"Case Number\", \"Case Number.1\"]])\n",
    "# list(np.unique(df[[\"Case Number\", \"Case Number.1\"]]))"
   ]
  },
  {
   "cell_type": "code",
   "execution_count": 38,
   "metadata": {},
   "outputs": [],
   "source": [
    "# df.groupby([\"Case Number\", \"Case Number.1\"])\n",
    "# df.groupby([\"Case Number.1\", \"Case Number.2\"])"
   ]
  },
  {
   "cell_type": "code",
   "execution_count": 39,
   "metadata": {},
   "outputs": [],
   "source": [
    "# null_cols = df.isnull().sum()"
   ]
  },
  {
   "cell_type": "code",
   "execution_count": 40,
   "metadata": {
    "scrolled": true
   },
   "outputs": [],
   "source": [
    "# null_cols[null_cols > 0]"
   ]
  },
  {
   "cell_type": "code",
   "execution_count": 42,
   "metadata": {
    "scrolled": true
   },
   "outputs": [],
   "source": [
    "# df.empty"
   ]
  },
  {
   "cell_type": "code",
   "execution_count": 50,
   "metadata": {},
   "outputs": [],
   "source": [
    "# ccam = compare_columns_and_merge\n",
    "\n",
    "# def ccam (col_1, col_2):\n",
    "    "
   ]
  },
  {
   "cell_type": "code",
   "execution_count": null,
   "metadata": {
    "scrolled": true
   },
   "outputs": [],
   "source": [
    "# df[[\"Country\"]][df[\"Country\"].isnull()].head()\n",
    "# df[[\"Country\"]][df[\"Country\"].isnull()]"
   ]
  },
  {
   "cell_type": "code",
   "execution_count": null,
   "metadata": {},
   "outputs": [],
   "source": [
    "# null_cols[null_cols > 0]"
   ]
  },
  {
   "cell_type": "code",
   "execution_count": null,
   "metadata": {},
   "outputs": [],
   "source": [
    "# len(df)"
   ]
  },
  {
   "cell_type": "code",
   "execution_count": null,
   "metadata": {
    "scrolled": true
   },
   "outputs": [],
   "source": [
    "# null_cols[null_cols > 0] / len(df)"
   ]
  },
  {
   "cell_type": "code",
   "execution_count": 43,
   "metadata": {},
   "outputs": [],
   "source": [
    "# null_perc = null_cols[null_cols > 0] / len(df)\n",
    "# to_drop = null_perc[null_perc > .6].index\n",
    "# to_drop"
   ]
  },
  {
   "cell_type": "code",
   "execution_count": null,
   "metadata": {},
   "outputs": [],
   "source": [
    "# df = df.drop(to_drop, axis = 1)"
   ]
  },
  {
   "cell_type": "code",
   "execution_count": null,
   "metadata": {},
   "outputs": [],
   "source": [
    "# df.isnull().sum()[(df.isnull().sum()) > 0]"
   ]
  },
  {
   "cell_type": "code",
   "execution_count": null,
   "metadata": {},
   "outputs": [],
   "source": [
    "# df.mean()"
   ]
  },
  {
   "cell_type": "code",
   "execution_count": null,
   "metadata": {
    "scrolled": true
   },
   "outputs": [],
   "source": [
    "# df.isna()"
   ]
  },
  {
   "cell_type": "code",
   "execution_count": null,
   "metadata": {
    "scrolled": false
   },
   "outputs": [],
   "source": [
    "# df.isna().sum()"
   ]
  },
  {
   "cell_type": "code",
   "execution_count": null,
   "metadata": {
    "scrolled": false
   },
   "outputs": [],
   "source": [
    "# df.info()"
   ]
  },
  {
   "cell_type": "code",
   "execution_count": null,
   "metadata": {
    "scrolled": false
   },
   "outputs": [],
   "source": [
    "# df.apply(pd.Series.value_counts)"
   ]
  },
  {
   "cell_type": "code",
   "execution_count": null,
   "metadata": {},
   "outputs": [],
   "source": [
    "# df.tail()"
   ]
  },
  {
   "cell_type": "code",
   "execution_count": null,
   "metadata": {},
   "outputs": [],
   "source": [
    "# df = df.dropna()"
   ]
  },
  {
   "cell_type": "code",
   "execution_count": null,
   "metadata": {
    "scrolled": true
   },
   "outputs": [],
   "source": [
    "# df.columns"
   ]
  }
 ],
 "metadata": {
  "kernelspec": {
   "display_name": "Python 3",
   "language": "python",
   "name": "python3"
  },
  "language_info": {
   "codemirror_mode": {
    "name": "ipython",
    "version": 3
   },
   "file_extension": ".py",
   "mimetype": "text/x-python",
   "name": "python",
   "nbconvert_exporter": "python",
   "pygments_lexer": "ipython3",
   "version": "3.7.4"
  }
 },
 "nbformat": 4,
 "nbformat_minor": 2
}
